{
 "cells": [
  {
   "cell_type": "code",
   "execution_count": 1,
   "id": "ef62f90d",
   "metadata": {},
   "outputs": [],
   "source": [
    "import pandas as pd\n",
    "import numpy as np\n",
    "import matplotlib.pyplot as plt\n",
    "from datetime import datetime\n",
    "import seaborn as sns\n",
    "import pickle\n",
    "import joblib\n",
    "\n",
    "from sklearn.model_selection import train_test_split, cross_validate, RandomizedSearchCV, GridSearchCV\n",
    "from sklearn.preprocessing import StandardScaler, RobustScaler, MaxAbsScaler\n",
    "from sklearn.feature_selection import SelectKBest, f_regression\n",
    "\n",
    "from sklearn.pipeline import make_pipeline\n",
    "from sklearn.metrics import r2_score, mean_squared_error, mean_absolute_error\n",
    "\n",
    "import os"
   ]
  },
  {
   "cell_type": "code",
   "execution_count": 2,
   "id": "d0fc82e1",
   "metadata": {},
   "outputs": [],
   "source": [
    "pd.options.display.float_format = '{:20,.2f}'.format"
   ]
  },
  {
   "cell_type": "code",
   "execution_count": 3,
   "id": "ca2f25f5",
   "metadata": {},
   "outputs": [],
   "source": [
    "steam_data3 = pd.read_csv('../data/steam_clean3.csv', parse_dates=['release_date'], index_col=0)"
   ]
  },
  {
   "cell_type": "code",
   "execution_count": 4,
   "id": "995fca09",
   "metadata": {},
   "outputs": [
    {
     "data": {
      "text/plain": [
       "(26355, 43)"
      ]
     },
     "execution_count": 4,
     "metadata": {},
     "output_type": "execute_result"
    }
   ],
   "source": [
    "steam_data3.shape"
   ]
  },
  {
   "cell_type": "code",
   "execution_count": 5,
   "id": "ead91d01",
   "metadata": {},
   "outputs": [
    {
     "name": "stdout",
     "output_type": "stream",
     "text": [
      "<class 'pandas.core.frame.DataFrame'>\n",
      "Int64Index: 26355 entries, 0 to 27074\n",
      "Data columns (total 43 columns):\n",
      " #   Column            Non-Null Count  Dtype         \n",
      "---  ------            --------------  -----         \n",
      " 0   appid             26355 non-null  int64         \n",
      " 1   name              26355 non-null  object        \n",
      " 2   release_date      26355 non-null  datetime64[ns]\n",
      " 3   yrs_released      26355 non-null  int64         \n",
      " 4   winter            26355 non-null  int64         \n",
      " 5   spring            26355 non-null  int64         \n",
      " 6   summer            26355 non-null  int64         \n",
      " 7   fall              26355 non-null  int64         \n",
      " 8   achievements      26355 non-null  int64         \n",
      " 9   average_playtime  26355 non-null  int64         \n",
      " 10  median_playtime   26355 non-null  int64         \n",
      " 11  price             26355 non-null  float64       \n",
      " 12  avg_owners        26355 non-null  float64       \n",
      " 13  revenue           26355 non-null  float64       \n",
      " 14  total_ratings     26355 non-null  int64         \n",
      " 15  perc_pos_ratings  26355 non-null  float64       \n",
      " 16  tags_per_game     26355 non-null  int64         \n",
      " 17  multi             26355 non-null  int64         \n",
      " 18  co-op             26355 non-null  int64         \n",
      " 19  cont_supp         26355 non-null  int64         \n",
      " 20  steam_achiev      26355 non-null  int64         \n",
      " 21  steam_tc          26355 non-null  int64         \n",
      " 22  steam_cloud       26355 non-null  int64         \n",
      " 23  indie             26355 non-null  int64         \n",
      " 24  action            26355 non-null  int64         \n",
      " 25  adventure         26355 non-null  int64         \n",
      " 26  casual            26355 non-null  int64         \n",
      " 27  strategy          26355 non-null  int64         \n",
      " 28  simulation        26355 non-null  int64         \n",
      " 29  rpg               26355 non-null  int64         \n",
      " 30  puzzle            26355 non-null  int64         \n",
      " 31  2d                26355 non-null  int64         \n",
      " 32  great_soundtrack  26355 non-null  int64         \n",
      " 33  atmospheric       26355 non-null  int64         \n",
      " 34  vr                26355 non-null  int64         \n",
      " 35  difficult         26355 non-null  int64         \n",
      " 36  story_rich        26355 non-null  int64         \n",
      " 37  free_to_play      26355 non-null  int64         \n",
      " 38  anime             26355 non-null  int64         \n",
      " 39  horror            26355 non-null  int64         \n",
      " 40  platformer        26355 non-null  int64         \n",
      " 41  pixel_graphics    26355 non-null  int64         \n",
      " 42  violent           26355 non-null  int64         \n",
      "dtypes: datetime64[ns](1), float64(4), int64(37), object(1)\n",
      "memory usage: 8.8+ MB\n"
     ]
    }
   ],
   "source": [
    "steam_data3.info()"
   ]
  },
  {
   "cell_type": "markdown",
   "id": "30d6ef86",
   "metadata": {},
   "source": [
    "# I. Predicting Revenue"
   ]
  },
  {
   "cell_type": "markdown",
   "id": "7c1bc022",
   "metadata": {},
   "source": [
    "### Preprocessing"
   ]
  },
  {
   "cell_type": "markdown",
   "id": "ae84328a",
   "metadata": {},
   "source": [
    "#### a. Split into Train/Test"
   ]
  },
  {
   "cell_type": "code",
   "execution_count": 6,
   "id": "1b580c58",
   "metadata": {},
   "outputs": [],
   "source": [
    "# Remove free games from the dataset\n",
    "paid_games = steam_data3.loc[steam_data3['free_to_play']==0]\n",
    "free_games = steam_data3.loc[steam_data3['free_to_play']==1]\n",
    "\n",
    "# Define X and y\n",
    "cols_to_drop = ['price', 'avg_owners', 'revenue', 'appid', 'name', 'release_date', 'free_to_play']\n",
    "X = paid_games.drop(columns=cols_to_drop)\n",
    "y = paid_games.revenue"
   ]
  },
  {
   "cell_type": "code",
   "execution_count": 7,
   "id": "9ed95e60",
   "metadata": {},
   "outputs": [
    {
     "data": {
      "text/plain": [
       "((24514, 36), (24514,))"
      ]
     },
     "execution_count": 7,
     "metadata": {},
     "output_type": "execute_result"
    }
   ],
   "source": [
    "X.shape, y.shape"
   ]
  },
  {
   "cell_type": "code",
   "execution_count": 8,
   "id": "40de7d34",
   "metadata": {},
   "outputs": [],
   "source": [
    "# Split into train/test\n",
    "X_train, X_test, y_train, y_test = train_test_split(X, y, test_size=0.3)"
   ]
  },
  {
   "cell_type": "code",
   "execution_count": 9,
   "id": "22c7f413",
   "metadata": {
    "scrolled": true
   },
   "outputs": [
    {
     "data": {
      "text/plain": [
       "((17159, 36), (7355, 36))"
      ]
     },
     "execution_count": 9,
     "metadata": {},
     "output_type": "execute_result"
    }
   ],
   "source": [
    "X_train.shape, X_test.shape"
   ]
  },
  {
   "cell_type": "markdown",
   "id": "3d670fce",
   "metadata": {},
   "source": [
    "#### b. Scale Data"
   ]
  },
  {
   "cell_type": "code",
   "execution_count": 10,
   "id": "27025055",
   "metadata": {},
   "outputs": [],
   "source": [
    "# Initialize scaler\n",
    "scaler = StandardScaler()\n",
    "\n",
    "# Fit to training data\n",
    "scaler.fit(X_train)\n",
    "# Transform train and test data\n",
    "X_train_scaled = scaler.transform(X_train)\n",
    "X_test_scaled = scaler.transform(X_test)"
   ]
  },
  {
   "cell_type": "code",
   "execution_count": 11,
   "id": "9f7acacb",
   "metadata": {},
   "outputs": [],
   "source": [
    "# Function to quickly assess different models\n",
    "\n",
    "def print_eval(model, X_tr, X_te, y_tr, y_te):\n",
    "    \"\"\"Quickly evaluate different models\"\"\"\n",
    "    model.fit(X_tr, y_tr)\n",
    "    y_tr_pred = model.predict(X_tr)\n",
    "    y_te_pred = model.predict(X_te)\n",
    "    r2_tr, r2_te = r2_score(y_tr, y_tr_pred), r2_score(y_te, y_te_pred)\n",
    "    rmse_tr, rmse_te = np.sqrt(mean_squared_error(y_tr, y_tr_pred)), np.sqrt(mean_squared_error(y_te, y_te_pred))\n",
    "    mae_tr, mae_te = mean_absolute_error(y_tr, y_tr_pred), mean_absolute_error(y_te, y_te_pred)\n",
    "    print(f\"Train R2: {r2_tr:.2f}  |  Test R2: {r2_te:.2f} \\n\"\n",
    "         f\"Train RMSE: {rmse_tr:,.2f}  |  Test RMSE: {rmse_te:,.2f} \\n\"\n",
    "         f\"Train MAE: {mae_tr:,.2f}  |  Test MAE: {mae_te:,.2f}\")"
   ]
  },
  {
   "cell_type": "markdown",
   "id": "961324a2",
   "metadata": {},
   "source": [
    "## Model 1: Linear Regression"
   ]
  },
  {
   "cell_type": "code",
   "execution_count": 12,
   "id": "a4bb6bd1",
   "metadata": {},
   "outputs": [],
   "source": [
    "from sklearn.linear_model import LinearRegression"
   ]
  },
  {
   "cell_type": "markdown",
   "id": "ad9c4c24",
   "metadata": {},
   "source": [
    "### a. Baseline Model"
   ]
  },
  {
   "cell_type": "code",
   "execution_count": 13,
   "id": "5c3aec95",
   "metadata": {},
   "outputs": [
    {
     "name": "stdout",
     "output_type": "stream",
     "text": [
      "Train R2: 0.62  |  Test R2: 0.48 \n",
      "Train RMSE: 5,103,819.43  |  Test RMSE: 6,309,810.50 \n",
      "Train MAE: 1,338,356.61  |  Test MAE: 1,393,800.33\n"
     ]
    }
   ],
   "source": [
    "# Initialize model\n",
    "lm = LinearRegression()\n",
    "\n",
    "# Fit, predict, and evaluate\n",
    "print_eval(lm, X_train_scaled, X_test_scaled, y_train, y_test)"
   ]
  },
  {
   "cell_type": "markdown",
   "id": "e8e4b495",
   "metadata": {},
   "source": [
    "As expected, the baseline LR model doesn't perform well. We'll see if adjusting k and type of scaler affects performance in any way."
   ]
  },
  {
   "cell_type": "markdown",
   "id": "25c7a3a7",
   "metadata": {},
   "source": [
    "### b. Cross-Validation"
   ]
  },
  {
   "cell_type": "code",
   "execution_count": 14,
   "id": "8cbddc36",
   "metadata": {},
   "outputs": [
    {
     "data": {
      "text/plain": [
       "dict_keys(['memory', 'steps', 'verbose', 'standardscaler', 'selectkbest', 'linearregression', 'standardscaler__copy', 'standardscaler__with_mean', 'standardscaler__with_std', 'selectkbest__k', 'selectkbest__score_func', 'linearregression__copy_X', 'linearregression__fit_intercept', 'linearregression__n_jobs', 'linearregression__normalize', 'linearregression__positive'])"
      ]
     },
     "execution_count": 14,
     "metadata": {},
     "output_type": "execute_result"
    }
   ],
   "source": [
    "# Set parameters\n",
    "k_range = [k+1 for k in range(9, len(X_train.columns))]\n",
    "\n",
    "param_grid_LR = {'standardscaler': [StandardScaler(), RobustScaler(), MaxAbsScaler(), None], 'selectkbest__k': k_range}\n",
    "\n",
    "# Create Pipeline\n",
    "pipe_LR = make_pipeline(StandardScaler(), SelectKBest(f_regression), lm)\n",
    "pipe_LR.get_params().keys()"
   ]
  },
  {
   "cell_type": "code",
   "execution_count": 15,
   "id": "61d96ff6",
   "metadata": {},
   "outputs": [
    {
     "data": {
      "text/plain": [
       "GridSearchCV(cv=5,\n",
       "             estimator=Pipeline(steps=[('standardscaler', StandardScaler()),\n",
       "                                       ('selectkbest',\n",
       "                                        SelectKBest(score_func=<function f_regression at 0x000002902F7BA0D0>)),\n",
       "                                       ('linearregression',\n",
       "                                        LinearRegression())]),\n",
       "             n_jobs=-1,\n",
       "             param_grid={'selectkbest__k': [10, 11, 12, 13, 14, 15, 16, 17, 18,\n",
       "                                            19, 20, 21, 22, 23, 24, 25, 26, 27,\n",
       "                                            28, 29, 30, 31, 32, 33, 34, 35,\n",
       "                                            36],\n",
       "                         'standardscaler': [StandardScaler(), RobustScaler(),\n",
       "                                            MaxAbsScaler(), None]},\n",
       "             refit='r2',\n",
       "             scoring=['r2', 'neg_root_mean_squared_error',\n",
       "                      'neg_mean_absolute_error'])"
      ]
     },
     "execution_count": 15,
     "metadata": {},
     "output_type": "execute_result"
    }
   ],
   "source": [
    "# Grid Search CV\n",
    "\n",
    "gridcv_LR = GridSearchCV(pipe_LR, param_grid=param_grid_LR, cv=5, \n",
    "                         scoring=['r2','neg_root_mean_squared_error','neg_mean_absolute_error'],\n",
    "                         refit='r2', n_jobs=-1)\n",
    "gridcv_LR.fit(X_train, y_train)"
   ]
  },
  {
   "cell_type": "code",
   "execution_count": 16,
   "id": "9dff6efe",
   "metadata": {
    "scrolled": false
   },
   "outputs": [
    {
     "data": {
      "text/plain": [
       "(Pipeline(steps=[('standardscaler', MaxAbsScaler()),\n",
       "                 ('selectkbest',\n",
       "                  SelectKBest(k=36,\n",
       "                              score_func=<function f_regression at 0x000002902F7BA0D0>)),\n",
       "                 ('linearregression', LinearRegression())]),\n",
       " {'selectkbest__k': 36, 'standardscaler': MaxAbsScaler()},\n",
       " 0.5883218383741177)"
      ]
     },
     "execution_count": 16,
     "metadata": {},
     "output_type": "execute_result"
    }
   ],
   "source": [
    "gridcv_LR.best_estimator_, gridcv_LR.best_params_, gridcv_LR.best_score_"
   ]
  },
  {
   "cell_type": "code",
   "execution_count": 17,
   "id": "6c98f863",
   "metadata": {},
   "outputs": [
    {
     "name": "stdout",
     "output_type": "stream",
     "text": [
      "Train R2: 0.62  |  Test R2: 0.48 \n",
      "Train RMSE: 5,103,818.41  |  Test RMSE: 6,309,893.85 \n",
      "Train MAE: 1,338,569.55  |  Test MAE: 1,394,090.14\n"
     ]
    }
   ],
   "source": [
    "# Using the best model \n",
    "\n",
    "print_eval(gridcv_LR.best_estimator_, X_train_scaled, X_test_scaled, y_train, y_test)"
   ]
  },
  {
   "cell_type": "markdown",
   "id": "b414f259",
   "metadata": {},
   "source": [
    "Based on Grid Search CV, the best model has k = 16. Performance is still not that great, and doesn't even out-perform the baseline LR model."
   ]
  },
  {
   "cell_type": "code",
   "execution_count": 18,
   "id": "130c004d",
   "metadata": {
    "scrolled": true
   },
   "outputs": [
    {
     "data": {
      "image/png": "[encoded data removed]",
      "text/plain": [
       "<Figure size 720x360 with 1 Axes>"
      ]
     },
     "metadata": {
      "needs_background": "light"
     },
     "output_type": "display_data"
    }
   ],
   "source": [
    "# Plotting performance at different levels of k\n",
    "\n",
    "score_mean = gridcv_LR.cv_results_['mean_test_r2']\n",
    "score_std = gridcv_LR.cv_results_['std_test_r2']\n",
    "cv_k = [k for k in gridcv_LR.cv_results_['param_selectkbest__k']]\n",
    "\n",
    "best_k = gridcv_LR.best_params_['selectkbest__k']\n",
    "plt.subplots(figsize=(10, 5))\n",
    "plt.errorbar(cv_k, score_mean, yerr=score_std)\n",
    "plt.axvline(x=best_k, c='r', ls='--', alpha=.5)\n",
    "plt.xlabel('k')\n",
    "plt.ylabel('CV score (r-squared)')\n",
    "plt.title('Pipeline mean CV score (error bars +/- 1 sd)');"
   ]
  },
  {
   "cell_type": "markdown",
   "id": "45af7843",
   "metadata": {},
   "source": [
    "Adjusting the value of k doesn't seem to affect model performance very much"
   ]
  },
  {
   "cell_type": "markdown",
   "id": "cf6b2c44",
   "metadata": {},
   "source": [
    "## Model 1.5: Linear Regression with Regularization"
   ]
  },
  {
   "cell_type": "markdown",
   "id": "112e28c2",
   "metadata": {},
   "source": [
    "#### a. Lasso Regression"
   ]
  },
  {
   "cell_type": "code",
   "execution_count": 19,
   "id": "0e35740e",
   "metadata": {},
   "outputs": [],
   "source": [
    "from sklearn.linear_model import Lasso"
   ]
  },
  {
   "cell_type": "code",
   "execution_count": 20,
   "id": "a1dc4bb7",
   "metadata": {},
   "outputs": [
    {
     "name": "stdout",
     "output_type": "stream",
     "text": [
      "Train R2: 0.62  |  Test R2: 0.48 \n",
      "Train RMSE: 5,103,818.34  |  Test RMSE: 6,309,894.10 \n",
      "Train MAE: 1,338,451.28  |  Test MAE: 1,393,953.24\n"
     ]
    }
   ],
   "source": [
    "# Initialize Model\n",
    "lasso = Lasso(random_state=1)\n",
    "\n",
    "# Fit and evaluate\n",
    "print_eval(lasso, X_train_scaled, X_test_scaled, y_train, y_test)"
   ]
  },
  {
   "cell_type": "markdown",
   "id": "dc07d834",
   "metadata": {},
   "source": [
    "#### b. Ridge Regression"
   ]
  },
  {
   "cell_type": "code",
   "execution_count": 21,
   "id": "e95737c3",
   "metadata": {},
   "outputs": [],
   "source": [
    "from sklearn.linear_model import Ridge"
   ]
  },
  {
   "cell_type": "code",
   "execution_count": 22,
   "id": "26cf4869",
   "metadata": {},
   "outputs": [
    {
     "name": "stdout",
     "output_type": "stream",
     "text": [
      "Train R2: 0.62  |  Test R2: 0.48 \n",
      "Train RMSE: 5,103,818.36  |  Test RMSE: 6,309,936.36 \n",
      "Train MAE: 1,338,456.16  |  Test MAE: 1,393,958.35\n"
     ]
    }
   ],
   "source": [
    "# Initialize Model\n",
    "ridge = Ridge(random_state=1)\n",
    "\n",
    "# Fit and evaluate\n",
    "print_eval(ridge, X_train_scaled, X_test_scaled, y_train, y_test)"
   ]
  },
  {
   "cell_type": "markdown",
   "id": "2833584c",
   "metadata": {},
   "source": [
    "Neither of these regularization techniques show a significant improvement to our baseline LR model, or the LR model with optimized k. The next model to test will be the random forest regressor."
   ]
  },
  {
   "cell_type": "markdown",
   "id": "b58fd78a",
   "metadata": {},
   "source": [
    "## Model 2: Random Forest Regressor"
   ]
  },
  {
   "cell_type": "code",
   "execution_count": 23,
   "id": "3fb43eaa",
   "metadata": {},
   "outputs": [],
   "source": [
    "from sklearn.ensemble import RandomForestRegressor"
   ]
  },
  {
   "cell_type": "markdown",
   "id": "6c645b2e",
   "metadata": {},
   "source": [
    "### a. Baseline Model"
   ]
  },
  {
   "cell_type": "code",
   "execution_count": 24,
   "id": "6d090c0c",
   "metadata": {
    "scrolled": false
   },
   "outputs": [
    {
     "name": "stdout",
     "output_type": "stream",
     "text": [
      "Train R2: 0.95  |  Test R2: 0.57 \n",
      "Train RMSE: 1,805,859.59  |  Test RMSE: 5,757,382.84 \n",
      "Train MAE: 250,642.24  |  Test MAE: 705,303.19\n"
     ]
    }
   ],
   "source": [
    "# Initialize model\n",
    "RFreg = RandomForestRegressor(random_state=1)\n",
    "\n",
    "# Fit and evaluate model\n",
    "print_eval(RFreg, X_train_scaled, X_test_scaled, y_train, y_test)"
   ]
  },
  {
   "cell_type": "code",
   "execution_count": 25,
   "id": "0107c6a2",
   "metadata": {},
   "outputs": [
    {
     "data": {
      "image/png": "[encoded data removed]",
      "text/plain": [
       "<Figure size 1080x360 with 1 Axes>"
      ]
     },
     "metadata": {
      "needs_background": "light"
     },
     "output_type": "display_data"
    }
   ],
   "source": [
    "# Viewing feature importances\n",
    "\n",
    "importances = RFreg.feature_importances_\n",
    "std = np.std([tree.feature_importances_ for tree in RFreg.estimators_], axis=0)\n",
    "\n",
    "# Plot\n",
    "forest_importances = pd.Series(importances, index=X_train.columns).sort_values(ascending=False)\n",
    "\n",
    "fig, ax = plt.subplots(figsize=(15,5))\n",
    "forest_importances.plot.bar(yerr=std, ax=ax)\n",
    "ax.set_title(\"Feature importances\")\n",
    "ax.set_ylabel(\"Mean decrease in impurity\")\n",
    "fig.tight_layout()"
   ]
  },
  {
   "cell_type": "markdown",
   "id": "f31b78b1",
   "metadata": {},
   "source": [
    "The baseline random forest model shows a noticeable improvement to all the linear regression models in regard to all 3 metrics. Now, I'll test out different hyperparameters to see if the RF model can be improved further."
   ]
  },
  {
   "cell_type": "markdown",
   "id": "39dd6d0d",
   "metadata": {},
   "source": [
    "### b. Tuning Hyperparameters"
   ]
  },
  {
   "cell_type": "code",
   "execution_count": 26,
   "id": "b766fb79",
   "metadata": {},
   "outputs": [
    {
     "data": {
      "text/plain": [
       "dict_keys(['memory', 'steps', 'verbose', 'standardscaler', 'selectkbest', 'randomforestregressor', 'standardscaler__copy', 'standardscaler__with_mean', 'standardscaler__with_std', 'selectkbest__k', 'selectkbest__score_func', 'randomforestregressor__bootstrap', 'randomforestregressor__ccp_alpha', 'randomforestregressor__criterion', 'randomforestregressor__max_depth', 'randomforestregressor__max_features', 'randomforestregressor__max_leaf_nodes', 'randomforestregressor__max_samples', 'randomforestregressor__min_impurity_decrease', 'randomforestregressor__min_impurity_split', 'randomforestregressor__min_samples_leaf', 'randomforestregressor__min_samples_split', 'randomforestregressor__min_weight_fraction_leaf', 'randomforestregressor__n_estimators', 'randomforestregressor__n_jobs', 'randomforestregressor__oob_score', 'randomforestregressor__random_state', 'randomforestregressor__verbose', 'randomforestregressor__warm_start'])"
      ]
     },
     "execution_count": 26,
     "metadata": {},
     "output_type": "execute_result"
    }
   ],
   "source": [
    "# Create Pipeline\n",
    "pipe_RF = make_pipeline(StandardScaler(), SelectKBest(f_regression), RFreg)\n",
    "pipe_RF.get_params().keys()"
   ]
  },
  {
   "cell_type": "code",
   "execution_count": 27,
   "id": "2942c9d6",
   "metadata": {},
   "outputs": [],
   "source": [
    "# Set hyperparameters to search over\n",
    "\n",
    "n_est = [int(x) for x in np.linspace(start=100,stop=1000,num=10)]\n",
    "max_depth = [int(x) for x in np.linspace(start=10,stop=100,num=10)]\n",
    "k_range = [k+1 for k in range(9,len(X_train.columns))]\n",
    "\n",
    "param_grid_RF = [\n",
    "    {'standardscaler': [StandardScaler(), RobustScaler(), MaxAbsScaler(), None], 'selectkbest__k': k_range, \n",
    "     'randomforestregressor__n_estimators':n_est, 'randomforestregressor__max_depth':max_depth}]"
   ]
  },
  {
   "cell_type": "code",
   "execution_count": 28,
   "id": "295b92cf",
   "metadata": {},
   "outputs": [
    {
     "data": {
      "text/plain": [
       "RandomizedSearchCV(cv=5,\n",
       "                   estimator=Pipeline(steps=[('standardscaler',\n",
       "                                              StandardScaler()),\n",
       "                                             ('selectkbest',\n",
       "                                              SelectKBest(score_func=<function f_regression at 0x000002902F7BA0D0>)),\n",
       "                                             ('randomforestregressor',\n",
       "                                              RandomForestRegressor(random_state=1))]),\n",
       "                   n_iter=75, n_jobs=-1,\n",
       "                   param_distributions=[{'randomforestregressor__max_depth': [10,\n",
       "                                                                              20,\n",
       "                                                                              30,\n",
       "                                                                              40,\n",
       "                                                                              50,\n",
       "                                                                              60,\n",
       "                                                                              70,\n",
       "                                                                              80,\n",
       "                                                                              90,\n",
       "                                                                              100],\n",
       "                                         'randomforestregressor__n_estimators': [100,\n",
       "                                                                                 200,\n",
       "                                                                                 300,\n",
       "                                                                                 400,\n",
       "                                                                                 500,\n",
       "                                                                                 600,\n",
       "                                                                                 700,\n",
       "                                                                                 800,\n",
       "                                                                                 900,\n",
       "                                                                                 1000],\n",
       "                                         'selectkbest__k': [10, 11, 12, 13, 14,\n",
       "                                                            15, 16, 17, 18, 19,\n",
       "                                                            20, 21, 22, 23, 24,\n",
       "                                                            25, 26, 27, 28, 29,\n",
       "                                                            30, 31, 32, 33, 34,\n",
       "                                                            35, 36],\n",
       "                                         'standardscaler': [StandardScaler(),\n",
       "                                                            RobustScaler(),\n",
       "                                                            MaxAbsScaler(),\n",
       "                                                            None]}],\n",
       "                   refit='r2',\n",
       "                   scoring=['r2', 'neg_root_mean_squared_error',\n",
       "                            'neg_mean_absolute_error'])"
      ]
     },
     "execution_count": 28,
     "metadata": {},
     "output_type": "execute_result"
    }
   ],
   "source": [
    "# Randomized Search CV\n",
    "\n",
    "randomcv_rf = RandomizedSearchCV(pipe_RF, param_distributions=param_grid_RF, cv=5,\n",
    "                                 scoring=['r2','neg_root_mean_squared_error','neg_mean_absolute_error'],\n",
    "                                 refit='r2', n_iter=75, n_jobs=-1)\n",
    "\n",
    "randomcv_rf.fit(X_train, y_train)"
   ]
  },
  {
   "cell_type": "code",
   "execution_count": 29,
   "id": "23519d3b",
   "metadata": {},
   "outputs": [
    {
     "data": {
      "text/plain": [
       "(Pipeline(steps=[('standardscaler', None),\n",
       "                 ('selectkbest',\n",
       "                  SelectKBest(k=23,\n",
       "                              score_func=<function f_regression at 0x000002902F7BA0D0>)),\n",
       "                 ('randomforestregressor',\n",
       "                  RandomForestRegressor(max_depth=60, n_estimators=200,\n",
       "                                        random_state=1))]),\n",
       " {'standardscaler': None,\n",
       "  'selectkbest__k': 23,\n",
       "  'randomforestregressor__n_estimators': 200,\n",
       "  'randomforestregressor__max_depth': 60},\n",
       " 0.6950323784609648)"
      ]
     },
     "execution_count": 29,
     "metadata": {},
     "output_type": "execute_result"
    }
   ],
   "source": [
    "# Best estimator properties\n",
    "\n",
    "randomcv_rf.best_estimator_, randomcv_rf.best_params_, randomcv_rf.best_score_"
   ]
  },
  {
   "cell_type": "markdown",
   "id": "67b26ac4",
   "metadata": {},
   "source": [
    "It seems the best RF model has a depth of 100 and 700 estimators. The best value of k here is 17."
   ]
  },
  {
   "cell_type": "code",
   "execution_count": 30,
   "id": "a93a2adf",
   "metadata": {
    "scrolled": true
   },
   "outputs": [
    {
     "name": "stdout",
     "output_type": "stream",
     "text": [
      "Train R2: 0.96  |  Test R2: 0.55 \n",
      "Train RMSE: 1,741,741.97  |  Test RMSE: 5,854,312.84 \n",
      "Train MAE: 246,382.88  |  Test MAE: 710,652.17\n"
     ]
    }
   ],
   "source": [
    "print_eval(randomcv_rf.best_estimator_, X_train, X_test, y_train, y_test)"
   ]
  },
  {
   "cell_type": "markdown",
   "id": "387114aa",
   "metadata": {},
   "source": [
    "The best model based on randomized search CV performs similarly to the baseline RF model. Let's explore this further"
   ]
  },
  {
   "cell_type": "code",
   "execution_count": 31,
   "id": "b601a4d2",
   "metadata": {},
   "outputs": [
    {
     "data": {
      "image/png": "[encoded data removed]",
      "text/plain": [
       "<Figure size 1080x360 with 1 Axes>"
      ]
     },
     "metadata": {
      "needs_background": "light"
     },
     "output_type": "display_data"
    }
   ],
   "source": [
    "# Viewing feature importances\n",
    "\n",
    "RFbest = randomcv_rf.best_estimator_.named_steps.randomforestregressor\n",
    "importances = RFbest.feature_importances_\n",
    "cols = randomcv_rf.best_estimator_.named_steps.selectkbest.get_support(indices=True)\n",
    "feature_cols = X_train.iloc[:,cols]\n",
    "\n",
    "std = np.std([tree.feature_importances_ for tree in RFbest.estimators_], axis=0)\n",
    "\n",
    "# Plot\n",
    "forest_importances = pd.Series(importances, index=feature_cols.columns).sort_values(ascending=False)\n",
    "\n",
    "fig, ax = plt.subplots(figsize=(15,5))\n",
    "forest_importances.plot.bar(yerr=std, ax=ax)\n",
    "ax.set_title(\"Feature importances\")\n",
    "ax.set_ylabel(\"Mean decrease in impurity\")\n",
    "fig.tight_layout()"
   ]
  },
  {
   "cell_type": "code",
   "execution_count": 32,
   "id": "7640ad16",
   "metadata": {},
   "outputs": [
    {
     "data": {
      "image/png": "[encoded data removed]",
      "text/plain": [
       "<Figure size 720x360 with 1 Axes>"
      ]
     },
     "metadata": {
      "needs_background": "light"
     },
     "output_type": "display_data"
    }
   ],
   "source": [
    "# Plotting performance at different levels of k\n",
    "\n",
    "score_mean = randomcv_rf.cv_results_['mean_test_r2']\n",
    "score_std = randomcv_rf.cv_results_['std_test_r2']\n",
    "cv_k = [k for k in randomcv_rf.cv_results_['param_selectkbest__k']]\n",
    "\n",
    "best_k = randomcv_rf.best_params_['selectkbest__k']\n",
    "plt.subplots(figsize=(10, 5))\n",
    "plt.errorbar(cv_k, score_mean, yerr=score_std)\n",
    "plt.axvline(x=best_k, c='r', ls='--', alpha=.5)\n",
    "plt.xlabel('k')\n",
    "plt.ylabel('CV score (r-squared)')\n",
    "plt.title('RF mean CV score (error bars +/- 1 sd)');"
   ]
  },
  {
   "cell_type": "markdown",
   "id": "f40d51c9",
   "metadata": {},
   "source": [
    "## Model 3: Gradient Boosting Regression"
   ]
  },
  {
   "cell_type": "code",
   "execution_count": 33,
   "id": "bef4de50",
   "metadata": {},
   "outputs": [],
   "source": [
    "from sklearn.ensemble import GradientBoostingRegressor"
   ]
  },
  {
   "cell_type": "markdown",
   "id": "3b4fb087",
   "metadata": {},
   "source": [
    "### a. Baseline Model"
   ]
  },
  {
   "cell_type": "code",
   "execution_count": 34,
   "id": "c117adae",
   "metadata": {},
   "outputs": [
    {
     "name": "stdout",
     "output_type": "stream",
     "text": [
      "Train R2: 0.93  |  Test R2: 0.51 \n",
      "Train RMSE: 2,253,473.41  |  Test RMSE: 6,152,578.98 \n",
      "Train MAE: 470,257.80  |  Test MAE: 745,456.75\n"
     ]
    }
   ],
   "source": [
    "# Initialize model\n",
    "GBreg = GradientBoostingRegressor(random_state=1)\n",
    "\n",
    "# Fit, predict, and evaluate\n",
    "print_eval(GBreg, X_train_scaled, X_test_scaled, y_train, y_test)"
   ]
  },
  {
   "cell_type": "markdown",
   "id": "83eeb5b2",
   "metadata": {},
   "source": [
    "The baseline GB model seems to perform somewhere between the RF and LR models. Again, I'll test out different hyperparameters to identify an optimal GB model."
   ]
  },
  {
   "cell_type": "markdown",
   "id": "8a4e63ab",
   "metadata": {},
   "source": [
    "### b. Tuning Hyperparameters"
   ]
  },
  {
   "cell_type": "code",
   "execution_count": 35,
   "id": "ca575dd1",
   "metadata": {},
   "outputs": [
    {
     "data": {
      "text/plain": [
       "dict_keys(['memory', 'steps', 'verbose', 'standardscaler', 'selectkbest', 'gradientboostingregressor', 'standardscaler__copy', 'standardscaler__with_mean', 'standardscaler__with_std', 'selectkbest__k', 'selectkbest__score_func', 'gradientboostingregressor__alpha', 'gradientboostingregressor__ccp_alpha', 'gradientboostingregressor__criterion', 'gradientboostingregressor__init', 'gradientboostingregressor__learning_rate', 'gradientboostingregressor__loss', 'gradientboostingregressor__max_depth', 'gradientboostingregressor__max_features', 'gradientboostingregressor__max_leaf_nodes', 'gradientboostingregressor__min_impurity_decrease', 'gradientboostingregressor__min_impurity_split', 'gradientboostingregressor__min_samples_leaf', 'gradientboostingregressor__min_samples_split', 'gradientboostingregressor__min_weight_fraction_leaf', 'gradientboostingregressor__n_estimators', 'gradientboostingregressor__n_iter_no_change', 'gradientboostingregressor__random_state', 'gradientboostingregressor__subsample', 'gradientboostingregressor__tol', 'gradientboostingregressor__validation_fraction', 'gradientboostingregressor__verbose', 'gradientboostingregressor__warm_start'])"
      ]
     },
     "execution_count": 35,
     "metadata": {},
     "output_type": "execute_result"
    }
   ],
   "source": [
    "# Create Pipeline\n",
    "pipe_GB = make_pipeline(StandardScaler(), SelectKBest(f_regression), GBreg)\n",
    "pipe_GB.get_params().keys()"
   ]
  },
  {
   "cell_type": "code",
   "execution_count": 36,
   "id": "506c19c5",
   "metadata": {},
   "outputs": [],
   "source": [
    "# Define hyperparameters to search over\n",
    "\n",
    "n_est = [int(x) for x in np.linspace(start=100,stop=1000,num=10)]\n",
    "max_feat = ['auto','sqrt','log2',None]\n",
    "max_depth = [int(x) for x in np.linspace(start=10,stop=100,num=10)]\n",
    "learning_rate = [0.001, 0.01, 0.1, 0.2, 0.3, 0.4]\n",
    "k_range = [k+1 for k in range(9,len(X_train.columns))]\n",
    "\n",
    "param_grid_GB = [\n",
    "    {'standardscaler': [StandardScaler(), RobustScaler(), MaxAbsScaler(), None], 'selectkbest__k': k_range, \n",
    "     'gradientboostingregressor__n_estimators':n_est, 'gradientboostingregressor__max_depth':max_depth,\n",
    "     'gradientboostingregressor__max_features':max_feat, 'gradientboostingregressor__learning_rate':learning_rate}]"
   ]
  },
  {
   "cell_type": "code",
   "execution_count": 37,
   "id": "b87c6acf",
   "metadata": {},
   "outputs": [
    {
     "data": {
      "text/plain": [
       "RandomizedSearchCV(cv=5,\n",
       "                   estimator=Pipeline(steps=[('standardscaler',\n",
       "                                              StandardScaler()),\n",
       "                                             ('selectkbest',\n",
       "                                              SelectKBest(score_func=<function f_regression at 0x000002902F7BA0D0>)),\n",
       "                                             ('gradientboostingregressor',\n",
       "                                              GradientBoostingRegressor(random_state=1))]),\n",
       "                   n_iter=75, n_jobs=-1,\n",
       "                   param_distributions=[{'gradientboostingregressor__learning_rate': [0.001,\n",
       "                                                                                      0.01,\n",
       "                                                                                      0.1,\n",
       "                                                                                      0.2,\n",
       "                                                                                      0....\n",
       "                                         'gradientboostingregressor__max_features': ['auto',\n",
       "                                                                                     'sqrt',\n",
       "                                                                                     'log2',\n",
       "                                                                                     None],\n",
       "                                         'gradientboostingregressor__n_estimators': [100,\n",
       "                                                                                     200,\n",
       "                                                                                     300,\n",
       "                                                                                     400,\n",
       "                                                                                     500,\n",
       "                                                                                     600,\n",
       "                                                                                     700,\n",
       "                                                                                     800,\n",
       "                                                                                     900,\n",
       "                                                                                     1000],\n",
       "                                         'selectkbest__k': [10, 11, 12, 13, 14,\n",
       "                                                            15, 16, 17, 18, 19,\n",
       "                                                            20, 21, 22, 23, 24,\n",
       "                                                            25, 26, 27, 28, 29,\n",
       "                                                            30, 31, 32, 33, 34,\n",
       "                                                            35, 36],\n",
       "                                         'standardscaler': [StandardScaler(),\n",
       "                                                            RobustScaler(),\n",
       "                                                            MaxAbsScaler(),\n",
       "                                                            None]}],\n",
       "                   refit='r2', scoring=['r2', 'neg_root_mean_squared_error'])"
      ]
     },
     "execution_count": 37,
     "metadata": {},
     "output_type": "execute_result"
    }
   ],
   "source": [
    "# Randomized Search CV\n",
    "\n",
    "randomcv_gb = RandomizedSearchCV(pipe_GB, param_distributions=param_grid_GB, cv=5, \n",
    "                                 scoring=['r2','neg_root_mean_squared_error'],\n",
    "                                 refit='r2', n_iter=75, n_jobs=-1)\n",
    "randomcv_gb.fit(X_train, y_train)"
   ]
  },
  {
   "cell_type": "code",
   "execution_count": 38,
   "id": "09d47a58",
   "metadata": {
    "scrolled": true
   },
   "outputs": [
    {
     "data": {
      "text/plain": [
       "(Pipeline(steps=[('standardscaler', StandardScaler()),\n",
       "                 ('selectkbest',\n",
       "                  SelectKBest(k=20,\n",
       "                              score_func=<function f_regression at 0x000002902F7BA0D0>)),\n",
       "                 ('gradientboostingregressor',\n",
       "                  GradientBoostingRegressor(learning_rate=0.01, max_depth=60,\n",
       "                                            max_features='log2',\n",
       "                                            n_estimators=600, random_state=1))]),\n",
       " {'standardscaler': StandardScaler(),\n",
       "  'selectkbest__k': 20,\n",
       "  'gradientboostingregressor__n_estimators': 600,\n",
       "  'gradientboostingregressor__max_features': 'log2',\n",
       "  'gradientboostingregressor__max_depth': 60,\n",
       "  'gradientboostingregressor__learning_rate': 0.01},\n",
       " 0.6856868567515958)"
      ]
     },
     "execution_count": 38,
     "metadata": {},
     "output_type": "execute_result"
    }
   ],
   "source": [
    "# Best estimator properties\n",
    "\n",
    "randomcv_gb.best_estimator_, randomcv_gb.best_params_, randomcv_gb.best_score_"
   ]
  },
  {
   "cell_type": "markdown",
   "id": "8ccae5b6",
   "metadata": {},
   "source": [
    "The best GB model has 600 estimators, a max depth of 60, and a learning rate of 0.001"
   ]
  },
  {
   "cell_type": "code",
   "execution_count": 39,
   "id": "e582c08f",
   "metadata": {
    "scrolled": false
   },
   "outputs": [
    {
     "name": "stdout",
     "output_type": "stream",
     "text": [
      "Train R2: 1.00  |  Test R2: 0.56 \n",
      "Train RMSE: 20,637.32  |  Test RMSE: 5,801,019.85 \n",
      "Train MAE: 5,232.61  |  Test MAE: 729,518.32\n"
     ]
    }
   ],
   "source": [
    "print_eval(randomcv_gb.best_estimator_, X_train, X_test, y_train, y_test)"
   ]
  },
  {
   "cell_type": "markdown",
   "id": "fa7d2911",
   "metadata": {},
   "source": [
    "Strangely, hyperparameter tuning has resulted in a weaker model."
   ]
  },
  {
   "cell_type": "markdown",
   "id": "22cdcc92",
   "metadata": {},
   "source": [
    "# III. Compare All Models"
   ]
  },
  {
   "cell_type": "code",
   "execution_count": 40,
   "id": "168df663",
   "metadata": {},
   "outputs": [],
   "source": [
    "models = [('lin_reg', lm), ('lin_reg_bestk', gridcv_LR.best_estimator_), \n",
    "          ('RandomForest', RFreg), ('RandomForest_RandomCV', randomcv_rf.best_estimator_),\n",
    "          ('GradientBoost', GBreg), ('GradientBoost_RandomCV', randomcv_gb.best_estimator_)]\n",
    "scoring = ['r2', 'neg_mean_squared_error', 'neg_mean_absolute_error']\n",
    "\n",
    "results= {}\n",
    "for name, model in models:\n",
    "    results[name] = {}\n",
    "    for i in scoring:        \n",
    "        scores = cross_validate(model, X_train, y_train, scoring=i, cv=5, return_train_score=True)\n",
    "        results[name][i] = scores"
   ]
  },
  {
   "cell_type": "code",
   "execution_count": 41,
   "id": "b3b7103f",
   "metadata": {},
   "outputs": [],
   "source": [
    "R2_mean_train = []\n",
    "R2_std_train = []\n",
    "R2_mean_test = []\n",
    "R2_std_test = []\n",
    "RMSE_mean_train = []\n",
    "RMSE_std_train = []\n",
    "RMSE_mean_test = []\n",
    "RMSE_std_test = []\n",
    "MAE_mean_train = []\n",
    "MAE_std_train = []\n",
    "MAE_mean_test = []\n",
    "MAE_std_test = []\n",
    "\n",
    "for model in results:\n",
    "    # Append R2\n",
    "    R2_mean_train.append(results[model]['r2']['train_score'].mean())\n",
    "    R2_std_train.append(results[model]['r2']['train_score'].std())\n",
    "    R2_mean_test.append(results[model]['r2']['test_score'].mean())\n",
    "    R2_std_test.append(results[model]['r2']['test_score'].std())\n",
    "    # Append RMSE\n",
    "    RMSE_mean_train.append(np.sqrt(-results[model]['neg_mean_squared_error']['train_score']).mean())\n",
    "    RMSE_std_train.append(results[model]['neg_mean_squared_error']['train_score'].std())\n",
    "    RMSE_mean_test.append(np.sqrt(-results[model]['neg_mean_squared_error']['test_score']).mean())\n",
    "    RMSE_std_test.append(results[model]['neg_mean_squared_error']['test_score'].std())\n",
    "    # Append MAE\n",
    "    MAE_mean_train.append(-results[model]['neg_mean_absolute_error']['train_score'].mean())\n",
    "    MAE_std_train.append(results[model]['neg_mean_absolute_error']['train_score'].std())\n",
    "    MAE_mean_test.append(-results[model]['neg_mean_absolute_error']['test_score'].mean())\n",
    "    MAE_std_test.append(results[model]['neg_mean_absolute_error']['test_score'].std())"
   ]
  },
  {
   "cell_type": "code",
   "execution_count": 42,
   "id": "f0fab8bb",
   "metadata": {
    "scrolled": true
   },
   "outputs": [
    {
     "data": {
      "text/html": [
       "<div>\n",
       "<style scoped>\n",
       "    .dataframe tbody tr th:only-of-type {\n",
       "        vertical-align: middle;\n",
       "    }\n",
       "\n",
       "    .dataframe tbody tr th {\n",
       "        vertical-align: top;\n",
       "    }\n",
       "\n",
       "    .dataframe thead th {\n",
       "        text-align: right;\n",
       "    }\n",
       "</style>\n",
       "<table border=\"1\" class=\"dataframe\">\n",
       "  <thead>\n",
       "    <tr style=\"text-align: right;\">\n",
       "      <th></th>\n",
       "      <th>Model</th>\n",
       "      <th>R2_mean: Train</th>\n",
       "      <th>R2_std: Train</th>\n",
       "      <th>R2_mean: Test</th>\n",
       "      <th>R2_std: Test</th>\n",
       "      <th>RMSE_mean: Train</th>\n",
       "      <th>RMSE_std: Train</th>\n",
       "      <th>RMSE_mean: Test</th>\n",
       "      <th>RMSE_std: Test</th>\n",
       "      <th>MAE_mean: Train</th>\n",
       "      <th>MAE_std: Train</th>\n",
       "      <th>MAE_mean: Test</th>\n",
       "      <th>MAE_std: Test</th>\n",
       "    </tr>\n",
       "  </thead>\n",
       "  <tbody>\n",
       "    <tr>\n",
       "      <th>0</th>\n",
       "      <td>LinearRegression</td>\n",
       "      <td>0.62</td>\n",
       "      <td>0.03</td>\n",
       "      <td>0.59</td>\n",
       "      <td>0.12</td>\n",
       "      <td>5,088,548.47</td>\n",
       "      <td>2,361,001,615,340.60</td>\n",
       "      <td>5,120,554.93</td>\n",
       "      <td>9,701,305,275,629.10</td>\n",
       "      <td>1,341,226.83</td>\n",
       "      <td>12,371.49</td>\n",
       "      <td>1,346,849.32</td>\n",
       "      <td>63,623.06</td>\n",
       "    </tr>\n",
       "    <tr>\n",
       "      <th>1</th>\n",
       "      <td>LinearRegression (Best k)</td>\n",
       "      <td>0.62</td>\n",
       "      <td>0.03</td>\n",
       "      <td>0.59</td>\n",
       "      <td>0.12</td>\n",
       "      <td>5,088,660.12</td>\n",
       "      <td>2,362,246,626,722.79</td>\n",
       "      <td>5,120,426.48</td>\n",
       "      <td>9,705,340,191,902.25</td>\n",
       "      <td>1,340,431.83</td>\n",
       "      <td>11,672.87</td>\n",
       "      <td>1,346,077.71</td>\n",
       "      <td>64,043.35</td>\n",
       "    </tr>\n",
       "    <tr>\n",
       "      <th>2</th>\n",
       "      <td>RandomForest</td>\n",
       "      <td>0.95</td>\n",
       "      <td>0.01</td>\n",
       "      <td>0.69</td>\n",
       "      <td>0.06</td>\n",
       "      <td>1,866,374.95</td>\n",
       "      <td>541,647,099,368.25</td>\n",
       "      <td>4,584,785.71</td>\n",
       "      <td>10,234,068,108,244.39</td>\n",
       "      <td>255,448.75</td>\n",
       "      <td>9,128.40</td>\n",
       "      <td>668,006.01</td>\n",
       "      <td>64,348.82</td>\n",
       "    </tr>\n",
       "    <tr>\n",
       "      <th>3</th>\n",
       "      <td>RandomForest (Randomized CV)</td>\n",
       "      <td>0.95</td>\n",
       "      <td>0.00</td>\n",
       "      <td>0.70</td>\n",
       "      <td>0.06</td>\n",
       "      <td>1,811,904.00</td>\n",
       "      <td>406,648,009,459.43</td>\n",
       "      <td>4,514,966.70</td>\n",
       "      <td>10,061,283,971,457.33</td>\n",
       "      <td>250,893.93</td>\n",
       "      <td>8,270.13</td>\n",
       "      <td>663,370.89</td>\n",
       "      <td>65,248.06</td>\n",
       "    </tr>\n",
       "    <tr>\n",
       "      <th>4</th>\n",
       "      <td>GradientBoost</td>\n",
       "      <td>0.94</td>\n",
       "      <td>0.00</td>\n",
       "      <td>0.65</td>\n",
       "      <td>0.10</td>\n",
       "      <td>2,063,257.57</td>\n",
       "      <td>270,627,339,558.34</td>\n",
       "      <td>4,852,255.74</td>\n",
       "      <td>14,537,878,952,107.99</td>\n",
       "      <td>445,485.39</td>\n",
       "      <td>9,089.67</td>\n",
       "      <td>669,171.97</td>\n",
       "      <td>72,215.89</td>\n",
       "    </tr>\n",
       "    <tr>\n",
       "      <th>5</th>\n",
       "      <td>GradientBoost (Randomized CV)</td>\n",
       "      <td>1.00</td>\n",
       "      <td>0.00</td>\n",
       "      <td>0.69</td>\n",
       "      <td>0.06</td>\n",
       "      <td>20,508.61</td>\n",
       "      <td>34,302,749.33</td>\n",
       "      <td>4,617,868.91</td>\n",
       "      <td>11,113,810,871,431.10</td>\n",
       "      <td>5,125.57</td>\n",
       "      <td>99.96</td>\n",
       "      <td>678,656.50</td>\n",
       "      <td>65,955.86</td>\n",
       "    </tr>\n",
       "  </tbody>\n",
       "</table>\n",
       "</div>"
      ],
      "text/plain": [
       "                           Model       R2_mean: Train        R2_std: Train  \\\n",
       "0               LinearRegression                 0.62                 0.03   \n",
       "1      LinearRegression (Best k)                 0.62                 0.03   \n",
       "2                   RandomForest                 0.95                 0.01   \n",
       "3   RandomForest (Randomized CV)                 0.95                 0.00   \n",
       "4                  GradientBoost                 0.94                 0.00   \n",
       "5  GradientBoost (Randomized CV)                 1.00                 0.00   \n",
       "\n",
       "         R2_mean: Test         R2_std: Test     RMSE_mean: Train  \\\n",
       "0                 0.59                 0.12         5,088,548.47   \n",
       "1                 0.59                 0.12         5,088,660.12   \n",
       "2                 0.69                 0.06         1,866,374.95   \n",
       "3                 0.70                 0.06         1,811,904.00   \n",
       "4                 0.65                 0.10         2,063,257.57   \n",
       "5                 0.69                 0.06            20,508.61   \n",
       "\n",
       "       RMSE_std: Train      RMSE_mean: Test        RMSE_std: Test  \\\n",
       "0 2,361,001,615,340.60         5,120,554.93  9,701,305,275,629.10   \n",
       "1 2,362,246,626,722.79         5,120,426.48  9,705,340,191,902.25   \n",
       "2   541,647,099,368.25         4,584,785.71 10,234,068,108,244.39   \n",
       "3   406,648,009,459.43         4,514,966.70 10,061,283,971,457.33   \n",
       "4   270,627,339,558.34         4,852,255.74 14,537,878,952,107.99   \n",
       "5        34,302,749.33         4,617,868.91 11,113,810,871,431.10   \n",
       "\n",
       "       MAE_mean: Train       MAE_std: Train       MAE_mean: Test  \\\n",
       "0         1,341,226.83            12,371.49         1,346,849.32   \n",
       "1         1,340,431.83            11,672.87         1,346,077.71   \n",
       "2           255,448.75             9,128.40           668,006.01   \n",
       "3           250,893.93             8,270.13           663,370.89   \n",
       "4           445,485.39             9,089.67           669,171.97   \n",
       "5             5,125.57                99.96           678,656.50   \n",
       "\n",
       "         MAE_std: Test  \n",
       "0            63,623.06  \n",
       "1            64,043.35  \n",
       "2            64,348.82  \n",
       "3            65,248.06  \n",
       "4            72,215.89  \n",
       "5            65,955.86  "
      ]
     },
     "execution_count": 42,
     "metadata": {},
     "output_type": "execute_result"
    }
   ],
   "source": [
    "model_df = pd.DataFrame({\n",
    "    'Model': ['LinearRegression', 'LinearRegression (Best k)', 'RandomForest', 'RandomForest (Randomized CV)',\n",
    "              'GradientBoost', 'GradientBoost (Randomized CV)'],\n",
    "    'R2_mean: Train': R2_mean_train,\n",
    "    'R2_std: Train': R2_std_train,\n",
    "    'R2_mean: Test': R2_mean_test,\n",
    "    'R2_std: Test': R2_std_test,\n",
    "    'RMSE_mean: Train': RMSE_mean_train,\n",
    "    'RMSE_std: Train': RMSE_std_train,\n",
    "    'RMSE_mean: Test': RMSE_mean_test,\n",
    "    'RMSE_std: Test': RMSE_std_test,\n",
    "    'MAE_mean: Train': MAE_mean_train,\n",
    "    'MAE_std: Train': MAE_std_train,\n",
    "    'MAE_mean: Test': MAE_mean_test,\n",
    "    'MAE_std: Test': MAE_std_test\n",
    "})\n",
    "\n",
    "model_df"
   ]
  },
  {
   "cell_type": "markdown",
   "id": "db29774e",
   "metadata": {},
   "source": [
    "Using test MAE as our metric, the RandomForest model selected with randomized CV seems to be the best performing."
   ]
  },
  {
   "cell_type": "markdown",
   "id": "b35cb63c",
   "metadata": {},
   "source": [
    "# IV. Save Best Model"
   ]
  },
  {
   "cell_type": "code",
   "execution_count": 47,
   "id": "cfd807c0",
   "metadata": {
    "scrolled": true
   },
   "outputs": [
    {
     "data": {
      "text/plain": [
       "['../models/best_model_revenue.pkl']"
      ]
     },
     "execution_count": 47,
     "metadata": {},
     "output_type": "execute_result"
    }
   ],
   "source": [
    "joblib.dump(randomcv_rf.best_estimator_, '../models/best_model_revenue.pkl')"
   ]
  },
  {
   "cell_type": "markdown",
   "id": "6fb141b0",
   "metadata": {},
   "source": [
    "# V. Predict Revenue of Free-To-Play Games"
   ]
  },
  {
   "cell_type": "code",
   "execution_count": 44,
   "id": "e3bf294e",
   "metadata": {},
   "outputs": [],
   "source": [
    "RFreg.fit(X_train, y_train)\n",
    "y_pred = RFreg.predict(free_games.drop(columns=cols_to_drop))"
   ]
  },
  {
   "cell_type": "code",
   "execution_count": 45,
   "id": "ecdaf53a",
   "metadata": {
    "scrolled": false
   },
   "outputs": [
    {
     "name": "stderr",
     "output_type": "stream",
     "text": [
      "C:\\Users\\divzu\\AppData\\Local\\Temp/ipykernel_17876/1729482468.py:1: SettingWithCopyWarning: \n",
      "A value is trying to be set on a copy of a slice from a DataFrame.\n",
      "Try using .loc[row_indexer,col_indexer] = value instead\n",
      "\n",
      "See the caveats in the documentation: https://pandas.pydata.org/pandas-docs/stable/user_guide/indexing.html#returning-a-view-versus-a-copy\n",
      "  free_games['pred_revenue'] = y_pred\n",
      "C:\\Users\\divzu\\AppData\\Local\\Temp/ipykernel_17876/1729482468.py:2: SettingWithCopyWarning: \n",
      "A value is trying to be set on a copy of a slice from a DataFrame.\n",
      "Try using .loc[row_indexer,col_indexer] = value instead\n",
      "\n",
      "See the caveats in the documentation: https://pandas.pydata.org/pandas-docs/stable/user_guide/indexing.html#returning-a-view-versus-a-copy\n",
      "  free_games['pred_price'] = free_games['pred_revenue']/free_games['avg_owners']\n"
     ]
    },
    {
     "data": {
      "text/html": [
       "<div>\n",
       "<style scoped>\n",
       "    .dataframe tbody tr th:only-of-type {\n",
       "        vertical-align: middle;\n",
       "    }\n",
       "\n",
       "    .dataframe tbody tr th {\n",
       "        vertical-align: top;\n",
       "    }\n",
       "\n",
       "    .dataframe thead th {\n",
       "        text-align: right;\n",
       "    }\n",
       "</style>\n",
       "<table border=\"1\" class=\"dataframe\">\n",
       "  <thead>\n",
       "    <tr style=\"text-align: right;\">\n",
       "      <th></th>\n",
       "      <th>appid</th>\n",
       "      <th>name</th>\n",
       "      <th>release_date</th>\n",
       "      <th>yrs_released</th>\n",
       "      <th>winter</th>\n",
       "      <th>spring</th>\n",
       "      <th>summer</th>\n",
       "      <th>fall</th>\n",
       "      <th>achievements</th>\n",
       "      <th>average_playtime</th>\n",
       "      <th>...</th>\n",
       "      <th>difficult</th>\n",
       "      <th>story_rich</th>\n",
       "      <th>free_to_play</th>\n",
       "      <th>anime</th>\n",
       "      <th>horror</th>\n",
       "      <th>platformer</th>\n",
       "      <th>pixel_graphics</th>\n",
       "      <th>violent</th>\n",
       "      <th>pred_revenue</th>\n",
       "      <th>pred_price</th>\n",
       "    </tr>\n",
       "  </thead>\n",
       "  <tbody>\n",
       "    <tr>\n",
       "      <th>14</th>\n",
       "      <td>340</td>\n",
       "      <td>Half-Life 2: Lost Coast</td>\n",
       "      <td>2005-10-27</td>\n",
       "      <td>14</td>\n",
       "      <td>0</td>\n",
       "      <td>0</td>\n",
       "      <td>0</td>\n",
       "      <td>1</td>\n",
       "      <td>0</td>\n",
       "      <td>46</td>\n",
       "      <td>...</td>\n",
       "      <td>0</td>\n",
       "      <td>1</td>\n",
       "      <td>1</td>\n",
       "      <td>0</td>\n",
       "      <td>0</td>\n",
       "      <td>0</td>\n",
       "      <td>0</td>\n",
       "      <td>0</td>\n",
       "      <td>37,625,200.00</td>\n",
       "      <td>2.51</td>\n",
       "    </tr>\n",
       "    <tr>\n",
       "      <th>19</th>\n",
       "      <td>440</td>\n",
       "      <td>Team Fortress 2</td>\n",
       "      <td>2007-10-10</td>\n",
       "      <td>12</td>\n",
       "      <td>0</td>\n",
       "      <td>0</td>\n",
       "      <td>0</td>\n",
       "      <td>1</td>\n",
       "      <td>520</td>\n",
       "      <td>8495</td>\n",
       "      <td>...</td>\n",
       "      <td>0</td>\n",
       "      <td>0</td>\n",
       "      <td>1</td>\n",
       "      <td>0</td>\n",
       "      <td>0</td>\n",
       "      <td>0</td>\n",
       "      <td>0</td>\n",
       "      <td>0</td>\n",
       "      <td>148,702,800.00</td>\n",
       "      <td>4.25</td>\n",
       "    </tr>\n",
       "    <tr>\n",
       "      <th>22</th>\n",
       "      <td>570</td>\n",
       "      <td>Dota 2</td>\n",
       "      <td>2013-07-09</td>\n",
       "      <td>6</td>\n",
       "      <td>0</td>\n",
       "      <td>0</td>\n",
       "      <td>1</td>\n",
       "      <td>0</td>\n",
       "      <td>0</td>\n",
       "      <td>23944</td>\n",
       "      <td>...</td>\n",
       "      <td>1</td>\n",
       "      <td>0</td>\n",
       "      <td>1</td>\n",
       "      <td>0</td>\n",
       "      <td>0</td>\n",
       "      <td>0</td>\n",
       "      <td>0</td>\n",
       "      <td>0</td>\n",
       "      <td>168,168,300.00</td>\n",
       "      <td>1.12</td>\n",
       "    </tr>\n",
       "    <tr>\n",
       "      <th>24</th>\n",
       "      <td>630</td>\n",
       "      <td>Alien Swarm</td>\n",
       "      <td>2010-07-19</td>\n",
       "      <td>9</td>\n",
       "      <td>0</td>\n",
       "      <td>0</td>\n",
       "      <td>1</td>\n",
       "      <td>0</td>\n",
       "      <td>66</td>\n",
       "      <td>371</td>\n",
       "      <td>...</td>\n",
       "      <td>0</td>\n",
       "      <td>0</td>\n",
       "      <td>1</td>\n",
       "      <td>0</td>\n",
       "      <td>0</td>\n",
       "      <td>0</td>\n",
       "      <td>0</td>\n",
       "      <td>0</td>\n",
       "      <td>60,802,975.00</td>\n",
       "      <td>17.37</td>\n",
       "    </tr>\n",
       "    <tr>\n",
       "      <th>41</th>\n",
       "      <td>1840</td>\n",
       "      <td>Source Filmmaker</td>\n",
       "      <td>2012-07-10</td>\n",
       "      <td>7</td>\n",
       "      <td>0</td>\n",
       "      <td>0</td>\n",
       "      <td>1</td>\n",
       "      <td>0</td>\n",
       "      <td>0</td>\n",
       "      <td>239</td>\n",
       "      <td>...</td>\n",
       "      <td>1</td>\n",
       "      <td>0</td>\n",
       "      <td>1</td>\n",
       "      <td>1</td>\n",
       "      <td>1</td>\n",
       "      <td>0</td>\n",
       "      <td>0</td>\n",
       "      <td>0</td>\n",
       "      <td>49,480,620.00</td>\n",
       "      <td>32.99</td>\n",
       "    </tr>\n",
       "    <tr>\n",
       "      <th>93</th>\n",
       "      <td>3483</td>\n",
       "      <td>Peggle Extreme</td>\n",
       "      <td>2007-09-11</td>\n",
       "      <td>12</td>\n",
       "      <td>0</td>\n",
       "      <td>0</td>\n",
       "      <td>0</td>\n",
       "      <td>1</td>\n",
       "      <td>0</td>\n",
       "      <td>1</td>\n",
       "      <td>...</td>\n",
       "      <td>0</td>\n",
       "      <td>0</td>\n",
       "      <td>1</td>\n",
       "      <td>0</td>\n",
       "      <td>0</td>\n",
       "      <td>0</td>\n",
       "      <td>0</td>\n",
       "      <td>0</td>\n",
       "      <td>5,840,752.50</td>\n",
       "      <td>16.69</td>\n",
       "    </tr>\n",
       "    <tr>\n",
       "      <th>163</th>\n",
       "      <td>6370</td>\n",
       "      <td>Bloodline Champions</td>\n",
       "      <td>2011-10-28</td>\n",
       "      <td>8</td>\n",
       "      <td>0</td>\n",
       "      <td>0</td>\n",
       "      <td>0</td>\n",
       "      <td>1</td>\n",
       "      <td>0</td>\n",
       "      <td>70</td>\n",
       "      <td>...</td>\n",
       "      <td>0</td>\n",
       "      <td>0</td>\n",
       "      <td>1</td>\n",
       "      <td>0</td>\n",
       "      <td>0</td>\n",
       "      <td>0</td>\n",
       "      <td>0</td>\n",
       "      <td>0</td>\n",
       "      <td>6,362,947.50</td>\n",
       "      <td>8.48</td>\n",
       "    </tr>\n",
       "    <tr>\n",
       "      <th>215</th>\n",
       "      <td>8500</td>\n",
       "      <td>EVE Online</td>\n",
       "      <td>2010-12-15</td>\n",
       "      <td>9</td>\n",
       "      <td>1</td>\n",
       "      <td>0</td>\n",
       "      <td>0</td>\n",
       "      <td>0</td>\n",
       "      <td>0</td>\n",
       "      <td>5123</td>\n",
       "      <td>...</td>\n",
       "      <td>1</td>\n",
       "      <td>0</td>\n",
       "      <td>1</td>\n",
       "      <td>0</td>\n",
       "      <td>0</td>\n",
       "      <td>0</td>\n",
       "      <td>0</td>\n",
       "      <td>0</td>\n",
       "      <td>40,136,670.00</td>\n",
       "      <td>26.76</td>\n",
       "    </tr>\n",
       "    <tr>\n",
       "      <th>245</th>\n",
       "      <td>9880</td>\n",
       "      <td>Champions Online</td>\n",
       "      <td>2011-06-14</td>\n",
       "      <td>8</td>\n",
       "      <td>0</td>\n",
       "      <td>0</td>\n",
       "      <td>1</td>\n",
       "      <td>0</td>\n",
       "      <td>709</td>\n",
       "      <td>12952</td>\n",
       "      <td>...</td>\n",
       "      <td>0</td>\n",
       "      <td>0</td>\n",
       "      <td>1</td>\n",
       "      <td>0</td>\n",
       "      <td>0</td>\n",
       "      <td>0</td>\n",
       "      <td>0</td>\n",
       "      <td>0</td>\n",
       "      <td>9,820,422.50</td>\n",
       "      <td>6.55</td>\n",
       "    </tr>\n",
       "    <tr>\n",
       "      <th>246</th>\n",
       "      <td>9900</td>\n",
       "      <td>Star Trek Online</td>\n",
       "      <td>2012-01-31</td>\n",
       "      <td>7</td>\n",
       "      <td>1</td>\n",
       "      <td>0</td>\n",
       "      <td>0</td>\n",
       "      <td>0</td>\n",
       "      <td>0</td>\n",
       "      <td>2514</td>\n",
       "      <td>...</td>\n",
       "      <td>0</td>\n",
       "      <td>0</td>\n",
       "      <td>1</td>\n",
       "      <td>0</td>\n",
       "      <td>0</td>\n",
       "      <td>0</td>\n",
       "      <td>0</td>\n",
       "      <td>0</td>\n",
       "      <td>23,213,180.00</td>\n",
       "      <td>15.48</td>\n",
       "    </tr>\n",
       "    <tr>\n",
       "      <th>268</th>\n",
       "      <td>11020</td>\n",
       "      <td>TrackMania Nations Forever</td>\n",
       "      <td>2008-04-16</td>\n",
       "      <td>11</td>\n",
       "      <td>0</td>\n",
       "      <td>1</td>\n",
       "      <td>0</td>\n",
       "      <td>0</td>\n",
       "      <td>0</td>\n",
       "      <td>902</td>\n",
       "      <td>...</td>\n",
       "      <td>1</td>\n",
       "      <td>0</td>\n",
       "      <td>1</td>\n",
       "      <td>0</td>\n",
       "      <td>0</td>\n",
       "      <td>0</td>\n",
       "      <td>0</td>\n",
       "      <td>0</td>\n",
       "      <td>29,050,765.00</td>\n",
       "      <td>8.30</td>\n",
       "    </tr>\n",
       "    <tr>\n",
       "      <th>295</th>\n",
       "      <td>12180</td>\n",
       "      <td>Grand Theft Auto 2</td>\n",
       "      <td>2008-01-04</td>\n",
       "      <td>11</td>\n",
       "      <td>1</td>\n",
       "      <td>0</td>\n",
       "      <td>0</td>\n",
       "      <td>0</td>\n",
       "      <td>0</td>\n",
       "      <td>3</td>\n",
       "      <td>...</td>\n",
       "      <td>0</td>\n",
       "      <td>0</td>\n",
       "      <td>1</td>\n",
       "      <td>0</td>\n",
       "      <td>0</td>\n",
       "      <td>0</td>\n",
       "      <td>0</td>\n",
       "      <td>1</td>\n",
       "      <td>2,452,281.00</td>\n",
       "      <td>3.27</td>\n",
       "    </tr>\n",
       "    <tr>\n",
       "      <th>328</th>\n",
       "      <td>13140</td>\n",
       "      <td>America's Army 3</td>\n",
       "      <td>2009-06-17</td>\n",
       "      <td>10</td>\n",
       "      <td>0</td>\n",
       "      <td>0</td>\n",
       "      <td>1</td>\n",
       "      <td>0</td>\n",
       "      <td>71</td>\n",
       "      <td>12</td>\n",
       "      <td>...</td>\n",
       "      <td>0</td>\n",
       "      <td>0</td>\n",
       "      <td>1</td>\n",
       "      <td>0</td>\n",
       "      <td>0</td>\n",
       "      <td>0</td>\n",
       "      <td>0</td>\n",
       "      <td>0</td>\n",
       "      <td>7,373,244.00</td>\n",
       "      <td>9.83</td>\n",
       "    </tr>\n",
       "    <tr>\n",
       "      <th>396</th>\n",
       "      <td>17080</td>\n",
       "      <td>Tribes: Ascend</td>\n",
       "      <td>2012-06-27</td>\n",
       "      <td>7</td>\n",
       "      <td>0</td>\n",
       "      <td>0</td>\n",
       "      <td>1</td>\n",
       "      <td>0</td>\n",
       "      <td>0</td>\n",
       "      <td>128</td>\n",
       "      <td>...</td>\n",
       "      <td>1</td>\n",
       "      <td>0</td>\n",
       "      <td>1</td>\n",
       "      <td>0</td>\n",
       "      <td>0</td>\n",
       "      <td>0</td>\n",
       "      <td>0</td>\n",
       "      <td>0</td>\n",
       "      <td>25,479,680.00</td>\n",
       "      <td>7.28</td>\n",
       "    </tr>\n",
       "    <tr>\n",
       "      <th>411</th>\n",
       "      <td>17500</td>\n",
       "      <td>Zombie Panic! Source</td>\n",
       "      <td>2008-10-03</td>\n",
       "      <td>11</td>\n",
       "      <td>0</td>\n",
       "      <td>0</td>\n",
       "      <td>0</td>\n",
       "      <td>1</td>\n",
       "      <td>106</td>\n",
       "      <td>948</td>\n",
       "      <td>...</td>\n",
       "      <td>0</td>\n",
       "      <td>0</td>\n",
       "      <td>1</td>\n",
       "      <td>0</td>\n",
       "      <td>1</td>\n",
       "      <td>0</td>\n",
       "      <td>0</td>\n",
       "      <td>0</td>\n",
       "      <td>13,363,980.00</td>\n",
       "      <td>17.82</td>\n",
       "    </tr>\n",
       "    <tr>\n",
       "      <th>412</th>\n",
       "      <td>17570</td>\n",
       "      <td>Pirates, Vikings, and Knights II</td>\n",
       "      <td>2010-02-12</td>\n",
       "      <td>9</td>\n",
       "      <td>1</td>\n",
       "      <td>0</td>\n",
       "      <td>0</td>\n",
       "      <td>0</td>\n",
       "      <td>247</td>\n",
       "      <td>117</td>\n",
       "      <td>...</td>\n",
       "      <td>0</td>\n",
       "      <td>0</td>\n",
       "      <td>1</td>\n",
       "      <td>0</td>\n",
       "      <td>0</td>\n",
       "      <td>0</td>\n",
       "      <td>0</td>\n",
       "      <td>0</td>\n",
       "      <td>7,271,835.00</td>\n",
       "      <td>9.70</td>\n",
       "    </tr>\n",
       "    <tr>\n",
       "      <th>414</th>\n",
       "      <td>17740</td>\n",
       "      <td>Empires Mod</td>\n",
       "      <td>2008-07-28</td>\n",
       "      <td>11</td>\n",
       "      <td>0</td>\n",
       "      <td>0</td>\n",
       "      <td>1</td>\n",
       "      <td>0</td>\n",
       "      <td>8</td>\n",
       "      <td>701</td>\n",
       "      <td>...</td>\n",
       "      <td>0</td>\n",
       "      <td>0</td>\n",
       "      <td>1</td>\n",
       "      <td>0</td>\n",
       "      <td>0</td>\n",
       "      <td>0</td>\n",
       "      <td>0</td>\n",
       "      <td>0</td>\n",
       "      <td>2,481,477.50</td>\n",
       "      <td>16.54</td>\n",
       "    </tr>\n",
       "    <tr>\n",
       "      <th>480</th>\n",
       "      <td>22350</td>\n",
       "      <td>BRINK</td>\n",
       "      <td>2011-05-09</td>\n",
       "      <td>8</td>\n",
       "      <td>0</td>\n",
       "      <td>1</td>\n",
       "      <td>0</td>\n",
       "      <td>0</td>\n",
       "      <td>43</td>\n",
       "      <td>181</td>\n",
       "      <td>...</td>\n",
       "      <td>0</td>\n",
       "      <td>0</td>\n",
       "      <td>1</td>\n",
       "      <td>0</td>\n",
       "      <td>0</td>\n",
       "      <td>0</td>\n",
       "      <td>0</td>\n",
       "      <td>0</td>\n",
       "      <td>16,571,800.00</td>\n",
       "      <td>11.05</td>\n",
       "    </tr>\n",
       "    <tr>\n",
       "      <th>502</th>\n",
       "      <td>24200</td>\n",
       "      <td>DC Universe™ Online</td>\n",
       "      <td>2011-11-02</td>\n",
       "      <td>8</td>\n",
       "      <td>0</td>\n",
       "      <td>0</td>\n",
       "      <td>0</td>\n",
       "      <td>1</td>\n",
       "      <td>169</td>\n",
       "      <td>2990</td>\n",
       "      <td>...</td>\n",
       "      <td>0</td>\n",
       "      <td>0</td>\n",
       "      <td>1</td>\n",
       "      <td>0</td>\n",
       "      <td>0</td>\n",
       "      <td>0</td>\n",
       "      <td>0</td>\n",
       "      <td>0</td>\n",
       "      <td>27,656,710.00</td>\n",
       "      <td>7.90</td>\n",
       "    </tr>\n",
       "    <tr>\n",
       "      <th>737</th>\n",
       "      <td>39000</td>\n",
       "      <td>Moonbase Alpha</td>\n",
       "      <td>2010-07-06</td>\n",
       "      <td>9</td>\n",
       "      <td>0</td>\n",
       "      <td>0</td>\n",
       "      <td>1</td>\n",
       "      <td>0</td>\n",
       "      <td>0</td>\n",
       "      <td>54</td>\n",
       "      <td>...</td>\n",
       "      <td>0</td>\n",
       "      <td>0</td>\n",
       "      <td>1</td>\n",
       "      <td>0</td>\n",
       "      <td>0</td>\n",
       "      <td>0</td>\n",
       "      <td>0</td>\n",
       "      <td>0</td>\n",
       "      <td>38,653,705.00</td>\n",
       "      <td>25.77</td>\n",
       "    </tr>\n",
       "  </tbody>\n",
       "</table>\n",
       "<p>20 rows × 45 columns</p>\n",
       "</div>"
      ],
      "text/plain": [
       "     appid                              name release_date  yrs_released  \\\n",
       "14     340           Half-Life 2: Lost Coast   2005-10-27            14   \n",
       "19     440                   Team Fortress 2   2007-10-10            12   \n",
       "22     570                            Dota 2   2013-07-09             6   \n",
       "24     630                       Alien Swarm   2010-07-19             9   \n",
       "41    1840                  Source Filmmaker   2012-07-10             7   \n",
       "93    3483                    Peggle Extreme   2007-09-11            12   \n",
       "163   6370               Bloodline Champions   2011-10-28             8   \n",
       "215   8500                        EVE Online   2010-12-15             9   \n",
       "245   9880                  Champions Online   2011-06-14             8   \n",
       "246   9900                  Star Trek Online   2012-01-31             7   \n",
       "268  11020        TrackMania Nations Forever   2008-04-16            11   \n",
       "295  12180                Grand Theft Auto 2   2008-01-04            11   \n",
       "328  13140                  America's Army 3   2009-06-17            10   \n",
       "396  17080                    Tribes: Ascend   2012-06-27             7   \n",
       "411  17500              Zombie Panic! Source   2008-10-03            11   \n",
       "412  17570  Pirates, Vikings, and Knights II   2010-02-12             9   \n",
       "414  17740                       Empires Mod   2008-07-28            11   \n",
       "480  22350                             BRINK   2011-05-09             8   \n",
       "502  24200               DC Universe™ Online   2011-11-02             8   \n",
       "737  39000                    Moonbase Alpha   2010-07-06             9   \n",
       "\n",
       "     winter  spring  summer  fall  achievements  average_playtime  ...  \\\n",
       "14        0       0       0     1             0                46  ...   \n",
       "19        0       0       0     1           520              8495  ...   \n",
       "22        0       0       1     0             0             23944  ...   \n",
       "24        0       0       1     0            66               371  ...   \n",
       "41        0       0       1     0             0               239  ...   \n",
       "93        0       0       0     1             0                 1  ...   \n",
       "163       0       0       0     1             0                70  ...   \n",
       "215       1       0       0     0             0              5123  ...   \n",
       "245       0       0       1     0           709             12952  ...   \n",
       "246       1       0       0     0             0              2514  ...   \n",
       "268       0       1       0     0             0               902  ...   \n",
       "295       1       0       0     0             0                 3  ...   \n",
       "328       0       0       1     0            71                12  ...   \n",
       "396       0       0       1     0             0               128  ...   \n",
       "411       0       0       0     1           106               948  ...   \n",
       "412       1       0       0     0           247               117  ...   \n",
       "414       0       0       1     0             8               701  ...   \n",
       "480       0       1       0     0            43               181  ...   \n",
       "502       0       0       0     1           169              2990  ...   \n",
       "737       0       0       1     0             0                54  ...   \n",
       "\n",
       "     difficult  story_rich  free_to_play  anime  horror  platformer  \\\n",
       "14           0           1             1      0       0           0   \n",
       "19           0           0             1      0       0           0   \n",
       "22           1           0             1      0       0           0   \n",
       "24           0           0             1      0       0           0   \n",
       "41           1           0             1      1       1           0   \n",
       "93           0           0             1      0       0           0   \n",
       "163          0           0             1      0       0           0   \n",
       "215          1           0             1      0       0           0   \n",
       "245          0           0             1      0       0           0   \n",
       "246          0           0             1      0       0           0   \n",
       "268          1           0             1      0       0           0   \n",
       "295          0           0             1      0       0           0   \n",
       "328          0           0             1      0       0           0   \n",
       "396          1           0             1      0       0           0   \n",
       "411          0           0             1      0       1           0   \n",
       "412          0           0             1      0       0           0   \n",
       "414          0           0             1      0       0           0   \n",
       "480          0           0             1      0       0           0   \n",
       "502          0           0             1      0       0           0   \n",
       "737          0           0             1      0       0           0   \n",
       "\n",
       "     pixel_graphics  violent         pred_revenue           pred_price  \n",
       "14                0        0        37,625,200.00                 2.51  \n",
       "19                0        0       148,702,800.00                 4.25  \n",
       "22                0        0       168,168,300.00                 1.12  \n",
       "24                0        0        60,802,975.00                17.37  \n",
       "41                0        0        49,480,620.00                32.99  \n",
       "93                0        0         5,840,752.50                16.69  \n",
       "163               0        0         6,362,947.50                 8.48  \n",
       "215               0        0        40,136,670.00                26.76  \n",
       "245               0        0         9,820,422.50                 6.55  \n",
       "246               0        0        23,213,180.00                15.48  \n",
       "268               0        0        29,050,765.00                 8.30  \n",
       "295               0        1         2,452,281.00                 3.27  \n",
       "328               0        0         7,373,244.00                 9.83  \n",
       "396               0        0        25,479,680.00                 7.28  \n",
       "411               0        0        13,363,980.00                17.82  \n",
       "412               0        0         7,271,835.00                 9.70  \n",
       "414               0        0         2,481,477.50                16.54  \n",
       "480               0        0        16,571,800.00                11.05  \n",
       "502               0        0        27,656,710.00                 7.90  \n",
       "737               0        0        38,653,705.00                25.77  \n",
       "\n",
       "[20 rows x 45 columns]"
      ]
     },
     "execution_count": 45,
     "metadata": {},
     "output_type": "execute_result"
    }
   ],
   "source": [
    "free_games['pred_revenue'] = y_pred\n",
    "free_games['pred_price'] = free_games['pred_revenue']/free_games['avg_owners']\n",
    "free_games.head(20)"
   ]
  },
  {
   "cell_type": "code",
   "execution_count": 46,
   "id": "411da094",
   "metadata": {},
   "outputs": [
    {
     "data": {
      "image/png": "[encoded data removed]",
      "text/plain": [
       "<Figure size 432x288 with 1 Axes>"
      ]
     },
     "metadata": {
      "needs_background": "light"
     },
     "output_type": "display_data"
    }
   ],
   "source": [
    "paid_games.plot.scatter(x='revenue', y='yrs_released');"
   ]
  }
 ],
 "metadata": {
  "kernelspec": {
   "display_name": "Python 3 (ipykernel)",
   "language": "python",
   "name": "python3"
  },
  "language_info": {
   "codemirror_mode": {
    "name": "ipython",
    "version": 3
   },
   "file_extension": ".py",
   "mimetype": "text/x-python",
   "name": "python",
   "nbconvert_exporter": "python",
   "pygments_lexer": "ipython3",
   "version": "3.8.12"
  }
 },
 "nbformat": 4,
 "nbformat_minor": 5
}
