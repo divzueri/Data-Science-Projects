{
 "cells": [
  {
   "cell_type": "code",
   "execution_count": 79,
   "id": "097002ea",
   "metadata": {},
   "outputs": [],
   "source": [
    "import pandas as pd\n",
    "import numpy as np\n",
    "import matplotlib.pyplot as plt\n",
    "import seaborn as sns\n",
    "import math"
   ]
  },
  {
   "cell_type": "code",
   "execution_count": 80,
   "id": "16a0dda1",
   "metadata": {
    "scrolled": true
   },
   "outputs": [
    {
     "name": "stdout",
     "output_type": "stream",
     "text": [
      "(19158, 14) (2129, 13)\n"
     ]
    }
   ],
   "source": [
    "# Import train and test set\n",
    "\n",
    "df_train = pd.read_csv('../raw_data/aug_train.csv')\n",
    "df_test = pd.read_csv('../raw_data/aug_test.csv')\n",
    "print(df_train.shape, df_test.shape)"
   ]
  },
  {
   "cell_type": "markdown",
   "id": "53f86602",
   "metadata": {},
   "source": [
    "# I. Basic Info about Dataset"
   ]
  },
  {
   "cell_type": "code",
   "execution_count": 81,
   "id": "d46d2135",
   "metadata": {},
   "outputs": [
    {
     "data": {
      "text/plain": [
       "Index(['enrollee_id', 'city', 'city_development_index', 'gender',\n",
       "       'relevent_experience', 'enrolled_university', 'education_level',\n",
       "       'major_discipline', 'experience', 'company_size', 'company_type',\n",
       "       'last_new_job', 'training_hours', 'target'],\n",
       "      dtype='object')"
      ]
     },
     "execution_count": 81,
     "metadata": {},
     "output_type": "execute_result"
    }
   ],
   "source": [
    "df_train.columns"
   ]
  },
  {
   "cell_type": "code",
   "execution_count": 82,
   "id": "48aabb34",
   "metadata": {},
   "outputs": [],
   "source": [
    "# Create list of ids that belong to each df\n",
    "\n",
    "test_id = df_test.enrollee_id.values.tolist()\n",
    "train_id = df_test.enrollee_id.values.tolist()"
   ]
  },
  {
   "cell_type": "code",
   "execution_count": 83,
   "id": "a6b8ac65",
   "metadata": {},
   "outputs": [
    {
     "data": {
      "text/plain": [
       "(21287, 14)"
      ]
     },
     "execution_count": 83,
     "metadata": {},
     "output_type": "execute_result"
    }
   ],
   "source": [
    "# Merge train and test for cleaning\n",
    "df = df_train.merge(df_test, how='outer', on=['enrollee_id', 'city', 'city_development_index', 'gender', \n",
    "                                              'relevent_experience', 'enrolled_university', 'education_level',\n",
    "                                              'major_discipline', 'experience', 'company_size', 'company_type',\n",
    "                                              'last_new_job', 'training_hours'])\n",
    "df.shape"
   ]
  },
  {
   "cell_type": "code",
   "execution_count": 84,
   "id": "0bd74596",
   "metadata": {
    "scrolled": true
   },
   "outputs": [
    {
     "data": {
      "text/html": [
       "<div>\n",
       "<style scoped>\n",
       "    .dataframe tbody tr th:only-of-type {\n",
       "        vertical-align: middle;\n",
       "    }\n",
       "\n",
       "    .dataframe tbody tr th {\n",
       "        vertical-align: top;\n",
       "    }\n",
       "\n",
       "    .dataframe thead th {\n",
       "        text-align: right;\n",
       "    }\n",
       "</style>\n",
       "<table border=\"1\" class=\"dataframe\">\n",
       "  <thead>\n",
       "    <tr style=\"text-align: right;\">\n",
       "      <th></th>\n",
       "      <th>enrollee_id</th>\n",
       "      <th>city</th>\n",
       "      <th>city_development_index</th>\n",
       "      <th>gender</th>\n",
       "      <th>relevent_experience</th>\n",
       "      <th>enrolled_university</th>\n",
       "      <th>education_level</th>\n",
       "      <th>major_discipline</th>\n",
       "      <th>experience</th>\n",
       "      <th>company_size</th>\n",
       "      <th>company_type</th>\n",
       "      <th>last_new_job</th>\n",
       "      <th>training_hours</th>\n",
       "      <th>target</th>\n",
       "    </tr>\n",
       "  </thead>\n",
       "  <tbody>\n",
       "    <tr>\n",
       "      <th>0</th>\n",
       "      <td>8949</td>\n",
       "      <td>city_103</td>\n",
       "      <td>0.920</td>\n",
       "      <td>Male</td>\n",
       "      <td>Has relevent experience</td>\n",
       "      <td>no_enrollment</td>\n",
       "      <td>Graduate</td>\n",
       "      <td>STEM</td>\n",
       "      <td>&gt;20</td>\n",
       "      <td>NaN</td>\n",
       "      <td>NaN</td>\n",
       "      <td>1</td>\n",
       "      <td>36</td>\n",
       "      <td>1.0</td>\n",
       "    </tr>\n",
       "    <tr>\n",
       "      <th>1</th>\n",
       "      <td>29725</td>\n",
       "      <td>city_40</td>\n",
       "      <td>0.776</td>\n",
       "      <td>Male</td>\n",
       "      <td>No relevent experience</td>\n",
       "      <td>no_enrollment</td>\n",
       "      <td>Graduate</td>\n",
       "      <td>STEM</td>\n",
       "      <td>15</td>\n",
       "      <td>50-99</td>\n",
       "      <td>Pvt Ltd</td>\n",
       "      <td>&gt;4</td>\n",
       "      <td>47</td>\n",
       "      <td>0.0</td>\n",
       "    </tr>\n",
       "    <tr>\n",
       "      <th>2</th>\n",
       "      <td>11561</td>\n",
       "      <td>city_21</td>\n",
       "      <td>0.624</td>\n",
       "      <td>NaN</td>\n",
       "      <td>No relevent experience</td>\n",
       "      <td>Full time course</td>\n",
       "      <td>Graduate</td>\n",
       "      <td>STEM</td>\n",
       "      <td>5</td>\n",
       "      <td>NaN</td>\n",
       "      <td>NaN</td>\n",
       "      <td>never</td>\n",
       "      <td>83</td>\n",
       "      <td>0.0</td>\n",
       "    </tr>\n",
       "    <tr>\n",
       "      <th>3</th>\n",
       "      <td>33241</td>\n",
       "      <td>city_115</td>\n",
       "      <td>0.789</td>\n",
       "      <td>NaN</td>\n",
       "      <td>No relevent experience</td>\n",
       "      <td>NaN</td>\n",
       "      <td>Graduate</td>\n",
       "      <td>Business Degree</td>\n",
       "      <td>&lt;1</td>\n",
       "      <td>NaN</td>\n",
       "      <td>Pvt Ltd</td>\n",
       "      <td>never</td>\n",
       "      <td>52</td>\n",
       "      <td>1.0</td>\n",
       "    </tr>\n",
       "    <tr>\n",
       "      <th>4</th>\n",
       "      <td>666</td>\n",
       "      <td>city_162</td>\n",
       "      <td>0.767</td>\n",
       "      <td>Male</td>\n",
       "      <td>Has relevent experience</td>\n",
       "      <td>no_enrollment</td>\n",
       "      <td>Masters</td>\n",
       "      <td>STEM</td>\n",
       "      <td>&gt;20</td>\n",
       "      <td>50-99</td>\n",
       "      <td>Funded Startup</td>\n",
       "      <td>4</td>\n",
       "      <td>8</td>\n",
       "      <td>0.0</td>\n",
       "    </tr>\n",
       "  </tbody>\n",
       "</table>\n",
       "</div>"
      ],
      "text/plain": [
       "   enrollee_id      city  city_development_index gender  \\\n",
       "0         8949  city_103                   0.920   Male   \n",
       "1        29725   city_40                   0.776   Male   \n",
       "2        11561   city_21                   0.624    NaN   \n",
       "3        33241  city_115                   0.789    NaN   \n",
       "4          666  city_162                   0.767   Male   \n",
       "\n",
       "       relevent_experience enrolled_university education_level  \\\n",
       "0  Has relevent experience       no_enrollment        Graduate   \n",
       "1   No relevent experience       no_enrollment        Graduate   \n",
       "2   No relevent experience    Full time course        Graduate   \n",
       "3   No relevent experience                 NaN        Graduate   \n",
       "4  Has relevent experience       no_enrollment         Masters   \n",
       "\n",
       "  major_discipline experience company_size    company_type last_new_job  \\\n",
       "0             STEM        >20          NaN             NaN            1   \n",
       "1             STEM         15        50-99         Pvt Ltd           >4   \n",
       "2             STEM          5          NaN             NaN        never   \n",
       "3  Business Degree         <1          NaN         Pvt Ltd        never   \n",
       "4             STEM        >20        50-99  Funded Startup            4   \n",
       "\n",
       "   training_hours  target  \n",
       "0              36     1.0  \n",
       "1              47     0.0  \n",
       "2              83     0.0  \n",
       "3              52     1.0  \n",
       "4               8     0.0  "
      ]
     },
     "execution_count": 84,
     "metadata": {},
     "output_type": "execute_result"
    }
   ],
   "source": [
    "df.head()"
   ]
  },
  {
   "cell_type": "code",
   "execution_count": 85,
   "id": "f1122012",
   "metadata": {},
   "outputs": [
    {
     "data": {
      "text/html": [
       "<div>\n",
       "<style scoped>\n",
       "    .dataframe tbody tr th:only-of-type {\n",
       "        vertical-align: middle;\n",
       "    }\n",
       "\n",
       "    .dataframe tbody tr th {\n",
       "        vertical-align: top;\n",
       "    }\n",
       "\n",
       "    .dataframe thead th {\n",
       "        text-align: right;\n",
       "    }\n",
       "</style>\n",
       "<table border=\"1\" class=\"dataframe\">\n",
       "  <thead>\n",
       "    <tr style=\"text-align: right;\">\n",
       "      <th></th>\n",
       "      <th>Total NA</th>\n",
       "      <th>DType</th>\n",
       "      <th>% NA</th>\n",
       "    </tr>\n",
       "  </thead>\n",
       "  <tbody>\n",
       "    <tr>\n",
       "      <th>enrollee_id</th>\n",
       "      <td>0</td>\n",
       "      <td>int64</td>\n",
       "      <td>0.00</td>\n",
       "    </tr>\n",
       "    <tr>\n",
       "      <th>city</th>\n",
       "      <td>0</td>\n",
       "      <td>object</td>\n",
       "      <td>0.00</td>\n",
       "    </tr>\n",
       "    <tr>\n",
       "      <th>city_development_index</th>\n",
       "      <td>0</td>\n",
       "      <td>float64</td>\n",
       "      <td>0.00</td>\n",
       "    </tr>\n",
       "    <tr>\n",
       "      <th>gender</th>\n",
       "      <td>5016</td>\n",
       "      <td>object</td>\n",
       "      <td>23.56</td>\n",
       "    </tr>\n",
       "    <tr>\n",
       "      <th>relevent_experience</th>\n",
       "      <td>0</td>\n",
       "      <td>object</td>\n",
       "      <td>0.00</td>\n",
       "    </tr>\n",
       "    <tr>\n",
       "      <th>enrolled_university</th>\n",
       "      <td>417</td>\n",
       "      <td>object</td>\n",
       "      <td>1.96</td>\n",
       "    </tr>\n",
       "    <tr>\n",
       "      <th>education_level</th>\n",
       "      <td>512</td>\n",
       "      <td>object</td>\n",
       "      <td>2.41</td>\n",
       "    </tr>\n",
       "    <tr>\n",
       "      <th>major_discipline</th>\n",
       "      <td>3125</td>\n",
       "      <td>object</td>\n",
       "      <td>14.68</td>\n",
       "    </tr>\n",
       "    <tr>\n",
       "      <th>experience</th>\n",
       "      <td>70</td>\n",
       "      <td>object</td>\n",
       "      <td>0.33</td>\n",
       "    </tr>\n",
       "    <tr>\n",
       "      <th>company_size</th>\n",
       "      <td>6560</td>\n",
       "      <td>object</td>\n",
       "      <td>30.82</td>\n",
       "    </tr>\n",
       "    <tr>\n",
       "      <th>company_type</th>\n",
       "      <td>6774</td>\n",
       "      <td>object</td>\n",
       "      <td>31.82</td>\n",
       "    </tr>\n",
       "    <tr>\n",
       "      <th>last_new_job</th>\n",
       "      <td>463</td>\n",
       "      <td>object</td>\n",
       "      <td>2.18</td>\n",
       "    </tr>\n",
       "    <tr>\n",
       "      <th>training_hours</th>\n",
       "      <td>0</td>\n",
       "      <td>int64</td>\n",
       "      <td>0.00</td>\n",
       "    </tr>\n",
       "    <tr>\n",
       "      <th>target</th>\n",
       "      <td>2129</td>\n",
       "      <td>float64</td>\n",
       "      <td>10.00</td>\n",
       "    </tr>\n",
       "  </tbody>\n",
       "</table>\n",
       "</div>"
      ],
      "text/plain": [
       "                        Total NA    DType   % NA\n",
       "enrollee_id                    0    int64   0.00\n",
       "city                           0   object   0.00\n",
       "city_development_index         0  float64   0.00\n",
       "gender                      5016   object  23.56\n",
       "relevent_experience            0   object   0.00\n",
       "enrolled_university          417   object   1.96\n",
       "education_level              512   object   2.41\n",
       "major_discipline            3125   object  14.68\n",
       "experience                    70   object   0.33\n",
       "company_size                6560   object  30.82\n",
       "company_type                6774   object  31.82\n",
       "last_new_job                 463   object   2.18\n",
       "training_hours                 0    int64   0.00\n",
       "target                      2129  float64  10.00"
      ]
     },
     "execution_count": 85,
     "metadata": {},
     "output_type": "execute_result"
    }
   ],
   "source": [
    "# Number of NAs in each column\n",
    "\n",
    "perc_na = round(df.isna().sum() * 100 / len(df), 2)\n",
    "\n",
    "pd.DataFrame({'Total NA':df.isna().sum(), 'DType':df.dtypes, '% NA':perc_na})"
   ]
  },
  {
   "cell_type": "markdown",
   "id": "fdf4e219",
   "metadata": {},
   "source": [
    "Gender, company size, and company type all have high % of null values. None of the numeric columns have missing values (with the exception of the test group in target)."
   ]
  },
  {
   "cell_type": "markdown",
   "id": "b151d4fa",
   "metadata": {},
   "source": [
    "# II. Explore each column"
   ]
  },
  {
   "cell_type": "code",
   "execution_count": 86,
   "id": "80b1edca",
   "metadata": {},
   "outputs": [],
   "source": [
    "# To keep track of which columns need to be encoded\n",
    "cat_cols = []\n",
    "ord_cols = []"
   ]
  },
  {
   "cell_type": "markdown",
   "id": "cec31bfd",
   "metadata": {},
   "source": [
    "### 1) Enrollee_id"
   ]
  },
  {
   "cell_type": "code",
   "execution_count": 87,
   "id": "0ac3daf1",
   "metadata": {},
   "outputs": [],
   "source": [
    "# Convert enrollee_id to string\n",
    "df['enrollee_id'] = df['enrollee_id'].astype(str)"
   ]
  },
  {
   "cell_type": "markdown",
   "id": "f389ebe4",
   "metadata": {},
   "source": [
    "### 2) City"
   ]
  },
  {
   "cell_type": "code",
   "execution_count": 88,
   "id": "f6e5d766",
   "metadata": {},
   "outputs": [
    {
     "data": {
      "text/plain": [
       "city\n",
       "city_1      0.847\n",
       "city_10     0.895\n",
       "city_100    0.887\n",
       "city_101    0.558\n",
       "city_102    0.804\n",
       "            ...  \n",
       "city_93     0.865\n",
       "city_94     0.698\n",
       "city_97     0.925\n",
       "city_98     0.949\n",
       "city_99     0.915\n",
       "Name: city_development_index, Length: 123, dtype: float64"
      ]
     },
     "execution_count": 88,
     "metadata": {},
     "output_type": "execute_result"
    }
   ],
   "source": [
    "df.groupby(by='city').mean()['city_development_index']"
   ]
  },
  {
   "cell_type": "code",
   "execution_count": 89,
   "id": "f626c650",
   "metadata": {
    "scrolled": false
   },
   "outputs": [
    {
     "data": {
      "text/html": [
       "<div>\n",
       "<style scoped>\n",
       "    .dataframe tbody tr th:only-of-type {\n",
       "        vertical-align: middle;\n",
       "    }\n",
       "\n",
       "    .dataframe tbody tr th {\n",
       "        vertical-align: top;\n",
       "    }\n",
       "\n",
       "    .dataframe thead th {\n",
       "        text-align: right;\n",
       "    }\n",
       "</style>\n",
       "<table border=\"1\" class=\"dataframe\">\n",
       "  <thead>\n",
       "    <tr style=\"text-align: right;\">\n",
       "      <th></th>\n",
       "      <th>Total</th>\n",
       "      <th>% of Total</th>\n",
       "      <th>City Index</th>\n",
       "    </tr>\n",
       "  </thead>\n",
       "  <tbody>\n",
       "    <tr>\n",
       "      <th>city_103</th>\n",
       "      <td>4828</td>\n",
       "      <td>22.68</td>\n",
       "      <td>0.920</td>\n",
       "    </tr>\n",
       "    <tr>\n",
       "      <th>city_114</th>\n",
       "      <td>1491</td>\n",
       "      <td>7.00</td>\n",
       "      <td>0.926</td>\n",
       "    </tr>\n",
       "    <tr>\n",
       "      <th>city_102</th>\n",
       "      <td>334</td>\n",
       "      <td>1.57</td>\n",
       "      <td>0.804</td>\n",
       "    </tr>\n",
       "    <tr>\n",
       "      <th>city_104</th>\n",
       "      <td>328</td>\n",
       "      <td>1.54</td>\n",
       "      <td>0.924</td>\n",
       "    </tr>\n",
       "    <tr>\n",
       "      <th>city_100</th>\n",
       "      <td>296</td>\n",
       "      <td>1.39</td>\n",
       "      <td>0.887</td>\n",
       "    </tr>\n",
       "    <tr>\n",
       "      <th>city_11</th>\n",
       "      <td>277</td>\n",
       "      <td>1.30</td>\n",
       "      <td>0.550</td>\n",
       "    </tr>\n",
       "    <tr>\n",
       "      <th>city_10</th>\n",
       "      <td>97</td>\n",
       "      <td>0.46</td>\n",
       "      <td>0.895</td>\n",
       "    </tr>\n",
       "    <tr>\n",
       "      <th>city_105</th>\n",
       "      <td>90</td>\n",
       "      <td>0.42</td>\n",
       "      <td>0.794</td>\n",
       "    </tr>\n",
       "    <tr>\n",
       "      <th>city_101</th>\n",
       "      <td>85</td>\n",
       "      <td>0.40</td>\n",
       "      <td>0.558</td>\n",
       "    </tr>\n",
       "    <tr>\n",
       "      <th>city_115</th>\n",
       "      <td>61</td>\n",
       "      <td>0.29</td>\n",
       "      <td>0.789</td>\n",
       "    </tr>\n",
       "    <tr>\n",
       "      <th>city_1</th>\n",
       "      <td>28</td>\n",
       "      <td>0.13</td>\n",
       "      <td>0.847</td>\n",
       "    </tr>\n",
       "    <tr>\n",
       "      <th>city_106</th>\n",
       "      <td>10</td>\n",
       "      <td>0.05</td>\n",
       "      <td>0.698</td>\n",
       "    </tr>\n",
       "    <tr>\n",
       "      <th>city_109</th>\n",
       "      <td>9</td>\n",
       "      <td>0.04</td>\n",
       "      <td>0.701</td>\n",
       "    </tr>\n",
       "    <tr>\n",
       "      <th>city_107</th>\n",
       "      <td>7</td>\n",
       "      <td>0.03</td>\n",
       "      <td>0.518</td>\n",
       "    </tr>\n",
       "    <tr>\n",
       "      <th>city_111</th>\n",
       "      <td>3</td>\n",
       "      <td>0.01</td>\n",
       "      <td>0.698</td>\n",
       "    </tr>\n",
       "  </tbody>\n",
       "</table>\n",
       "</div>"
      ],
      "text/plain": [
       "          Total  % of Total  City Index\n",
       "city_103   4828       22.68       0.920\n",
       "city_114   1491        7.00       0.926\n",
       "city_102    334        1.57       0.804\n",
       "city_104    328        1.54       0.924\n",
       "city_100    296        1.39       0.887\n",
       "city_11     277        1.30       0.550\n",
       "city_10      97        0.46       0.895\n",
       "city_105     90        0.42       0.794\n",
       "city_101     85        0.40       0.558\n",
       "city_115     61        0.29       0.789\n",
       "city_1       28        0.13       0.847\n",
       "city_106     10        0.05       0.698\n",
       "city_109      9        0.04       0.701\n",
       "city_107      7        0.03       0.518\n",
       "city_111      3        0.01       0.698"
      ]
     },
     "execution_count": 89,
     "metadata": {},
     "output_type": "execute_result"
    }
   ],
   "source": [
    "pd.DataFrame(\n",
    "    {'Total':df['city'].value_counts(),\n",
    "     '% of Total':round(df['city'].value_counts() / df['city'].notna().sum() * 100, 2),\n",
    "     'City Index':df.groupby(by='city').mean()['city_development_index']}\n",
    ").head(15).sort_values('Total', ascending=False)"
   ]
  },
  {
   "cell_type": "markdown",
   "id": "7fd4236d",
   "metadata": {},
   "source": [
    "There are 123 different cities total, so encoding might not be possible."
   ]
  },
  {
   "cell_type": "markdown",
   "id": "f475f575",
   "metadata": {},
   "source": [
    "### 3) City development index"
   ]
  },
  {
   "cell_type": "code",
   "execution_count": 90,
   "id": "7fbf174c",
   "metadata": {},
   "outputs": [
    {
     "data": {
      "text/plain": [
       "count    21287.000000\n",
       "mean         0.828462\n",
       "std          0.123537\n",
       "min          0.448000\n",
       "25%          0.739000\n",
       "50%          0.903000\n",
       "75%          0.920000\n",
       "max          0.949000\n",
       "Name: city_development_index, dtype: float64"
      ]
     },
     "execution_count": 90,
     "metadata": {},
     "output_type": "execute_result"
    }
   ],
   "source": [
    "df.city_development_index.describe()"
   ]
  },
  {
   "cell_type": "markdown",
   "id": "be604ddc",
   "metadata": {},
   "source": [
    "### 4) Gender"
   ]
  },
  {
   "cell_type": "code",
   "execution_count": 91,
   "id": "efb8e4b8",
   "metadata": {},
   "outputs": [
    {
     "data": {
      "text/plain": [
       "(21287, 16271)"
      ]
     },
     "execution_count": 91,
     "metadata": {},
     "output_type": "execute_result"
    }
   ],
   "source": [
    "len(df.gender), df.gender.notna().sum()"
   ]
  },
  {
   "cell_type": "code",
   "execution_count": 92,
   "id": "3c071564",
   "metadata": {
    "scrolled": true
   },
   "outputs": [
    {
     "data": {
      "text/html": [
       "<div>\n",
       "<style scoped>\n",
       "    .dataframe tbody tr th:only-of-type {\n",
       "        vertical-align: middle;\n",
       "    }\n",
       "\n",
       "    .dataframe tbody tr th {\n",
       "        vertical-align: top;\n",
       "    }\n",
       "\n",
       "    .dataframe thead th {\n",
       "        text-align: right;\n",
       "    }\n",
       "</style>\n",
       "<table border=\"1\" class=\"dataframe\">\n",
       "  <thead>\n",
       "    <tr style=\"text-align: right;\">\n",
       "      <th></th>\n",
       "      <th>Total</th>\n",
       "      <th>%</th>\n",
       "    </tr>\n",
       "  </thead>\n",
       "  <tbody>\n",
       "    <tr>\n",
       "      <th>Male</th>\n",
       "      <td>14681</td>\n",
       "      <td>90.23</td>\n",
       "    </tr>\n",
       "    <tr>\n",
       "      <th>Female</th>\n",
       "      <td>1375</td>\n",
       "      <td>8.45</td>\n",
       "    </tr>\n",
       "    <tr>\n",
       "      <th>Other</th>\n",
       "      <td>215</td>\n",
       "      <td>1.32</td>\n",
       "    </tr>\n",
       "  </tbody>\n",
       "</table>\n",
       "</div>"
      ],
      "text/plain": [
       "        Total      %\n",
       "Male    14681  90.23\n",
       "Female   1375   8.45\n",
       "Other     215   1.32"
      ]
     },
     "execution_count": 92,
     "metadata": {},
     "output_type": "execute_result"
    }
   ],
   "source": [
    "# Gender distribution (of not null values)\n",
    "pd.DataFrame(\n",
    "    {'Total':df['gender'].value_counts(),\n",
    "     '%':round(df['gender'].value_counts() / df['gender'].notna().sum() * 100, 2)}\n",
    ")"
   ]
  },
  {
   "cell_type": "code",
   "execution_count": 93,
   "id": "734f5897",
   "metadata": {},
   "outputs": [],
   "source": [
    "cat_cols.append('gender')"
   ]
  },
  {
   "cell_type": "markdown",
   "id": "3c595769",
   "metadata": {},
   "source": [
    "### 5) Relevent experience"
   ]
  },
  {
   "cell_type": "code",
   "execution_count": 94,
   "id": "45997e54",
   "metadata": {},
   "outputs": [
    {
     "data": {
      "text/plain": [
       "Has relevent experience    15316\n",
       "No relevent experience      5971\n",
       "Name: relevent_experience, dtype: int64"
      ]
     },
     "execution_count": 94,
     "metadata": {},
     "output_type": "execute_result"
    }
   ],
   "source": [
    "df['relevent_experience'].value_counts()"
   ]
  },
  {
   "cell_type": "code",
   "execution_count": 95,
   "id": "d63b08e4",
   "metadata": {},
   "outputs": [],
   "source": [
    "# Change relevant experience to binary values\n",
    "df['relevent_experience'] = np.where(df['relevent_experience']=='Has relevent experience', 1, 0)"
   ]
  },
  {
   "cell_type": "markdown",
   "id": "c30a968a",
   "metadata": {},
   "source": [
    "### 6) Enrolled university"
   ]
  },
  {
   "cell_type": "code",
   "execution_count": 96,
   "id": "e8e8d50a",
   "metadata": {
    "scrolled": true
   },
   "outputs": [
    {
     "data": {
      "text/plain": [
       "no_enrollment       15336\n",
       "Full time course     4192\n",
       "Part time course     1342\n",
       "Name: enrolled_university, dtype: int64"
      ]
     },
     "execution_count": 96,
     "metadata": {},
     "output_type": "execute_result"
    }
   ],
   "source": [
    "df['enrolled_university'].value_counts()"
   ]
  },
  {
   "cell_type": "code",
   "execution_count": 97,
   "id": "1fb6a4a6",
   "metadata": {
    "scrolled": false
   },
   "outputs": [
    {
     "data": {
      "text/plain": [
       "no_enrollment    15336\n",
       "full_time         4192\n",
       "part_time         1342\n",
       "Name: enrolled_university, dtype: int64"
      ]
     },
     "execution_count": 97,
     "metadata": {},
     "output_type": "execute_result"
    }
   ],
   "source": [
    "# Rename values\n",
    "df['enrolled_university'] = np.where(df['enrolled_university']=='Full time course', 'full_time', df['enrolled_university'])\n",
    "df['enrolled_university'] = np.where(df['enrolled_university']=='Part time course', 'part_time', df['enrolled_university'])\n",
    "\n",
    "df['enrolled_university'].value_counts()"
   ]
  },
  {
   "cell_type": "code",
   "execution_count": 98,
   "id": "10cc7a64",
   "metadata": {},
   "outputs": [],
   "source": [
    "cat_cols.append('enrolled_university')"
   ]
  },
  {
   "cell_type": "markdown",
   "id": "a40b5db0",
   "metadata": {},
   "source": [
    "### 7) Education level"
   ]
  },
  {
   "cell_type": "code",
   "execution_count": 99,
   "id": "701f60b2",
   "metadata": {
    "scrolled": true
   },
   "outputs": [
    {
     "data": {
      "text/plain": [
       "Graduate          12867\n",
       "Masters            4857\n",
       "High School        2239\n",
       "Phd                 468\n",
       "Primary School      344\n",
       "Name: education_level, dtype: int64"
      ]
     },
     "execution_count": 99,
     "metadata": {},
     "output_type": "execute_result"
    }
   ],
   "source": [
    "df['education_level'].value_counts()"
   ]
  },
  {
   "cell_type": "code",
   "execution_count": 100,
   "id": "9d32956f",
   "metadata": {},
   "outputs": [],
   "source": [
    "cat_cols.append('education_level')"
   ]
  },
  {
   "cell_type": "markdown",
   "id": "62fe9437",
   "metadata": {},
   "source": [
    "### 8) Major discipline"
   ]
  },
  {
   "cell_type": "code",
   "execution_count": 101,
   "id": "08b66535",
   "metadata": {},
   "outputs": [],
   "source": [
    "# Rename column\n",
    "df.rename(columns={'major_discipline':'major'}, inplace=True)"
   ]
  },
  {
   "cell_type": "code",
   "execution_count": 102,
   "id": "839a00b6",
   "metadata": {},
   "outputs": [
    {
     "data": {
      "text/plain": [
       "STEM               16113\n",
       "Humanities           749\n",
       "Other                421\n",
       "Business Degree      364\n",
       "Arts                 270\n",
       "No Major             245\n",
       "Name: major, dtype: int64"
      ]
     },
     "execution_count": 102,
     "metadata": {},
     "output_type": "execute_result"
    }
   ],
   "source": [
    "df['major'].value_counts()"
   ]
  },
  {
   "cell_type": "code",
   "execution_count": 103,
   "id": "03261280",
   "metadata": {},
   "outputs": [],
   "source": [
    "cat_cols.append('major')"
   ]
  },
  {
   "cell_type": "markdown",
   "id": "1ca1d926",
   "metadata": {},
   "source": [
    "### 9) Experience"
   ]
  },
  {
   "cell_type": "code",
   "execution_count": 104,
   "id": "70f4458b",
   "metadata": {
    "scrolled": true
   },
   "outputs": [
    {
     "data": {
      "text/html": [
       "<div>\n",
       "<style scoped>\n",
       "    .dataframe tbody tr th:only-of-type {\n",
       "        vertical-align: middle;\n",
       "    }\n",
       "\n",
       "    .dataframe tbody tr th {\n",
       "        vertical-align: top;\n",
       "    }\n",
       "\n",
       "    .dataframe thead th {\n",
       "        text-align: right;\n",
       "    }\n",
       "</style>\n",
       "<table border=\"1\" class=\"dataframe\">\n",
       "  <thead>\n",
       "    <tr style=\"text-align: right;\">\n",
       "      <th></th>\n",
       "      <th>experience</th>\n",
       "    </tr>\n",
       "  </thead>\n",
       "  <tbody>\n",
       "    <tr>\n",
       "      <th>&gt;20</th>\n",
       "      <td>3669</td>\n",
       "    </tr>\n",
       "    <tr>\n",
       "      <th>5</th>\n",
       "      <td>1593</td>\n",
       "    </tr>\n",
       "    <tr>\n",
       "      <th>4</th>\n",
       "      <td>1548</td>\n",
       "    </tr>\n",
       "    <tr>\n",
       "      <th>3</th>\n",
       "      <td>1508</td>\n",
       "    </tr>\n",
       "    <tr>\n",
       "      <th>6</th>\n",
       "      <td>1346</td>\n",
       "    </tr>\n",
       "    <tr>\n",
       "      <th>2</th>\n",
       "      <td>1255</td>\n",
       "    </tr>\n",
       "    <tr>\n",
       "      <th>7</th>\n",
       "      <td>1144</td>\n",
       "    </tr>\n",
       "    <tr>\n",
       "      <th>9</th>\n",
       "      <td>1093</td>\n",
       "    </tr>\n",
       "    <tr>\n",
       "      <th>10</th>\n",
       "      <td>1081</td>\n",
       "    </tr>\n",
       "    <tr>\n",
       "      <th>8</th>\n",
       "      <td>884</td>\n",
       "    </tr>\n",
       "    <tr>\n",
       "      <th>11</th>\n",
       "      <td>750</td>\n",
       "    </tr>\n",
       "    <tr>\n",
       "      <th>15</th>\n",
       "      <td>745</td>\n",
       "    </tr>\n",
       "    <tr>\n",
       "      <th>14</th>\n",
       "      <td>641</td>\n",
       "    </tr>\n",
       "    <tr>\n",
       "      <th>1</th>\n",
       "      <td>605</td>\n",
       "    </tr>\n",
       "    <tr>\n",
       "      <th>&lt;1</th>\n",
       "      <td>596</td>\n",
       "    </tr>\n",
       "    <tr>\n",
       "      <th>16</th>\n",
       "      <td>576</td>\n",
       "    </tr>\n",
       "    <tr>\n",
       "      <th>12</th>\n",
       "      <td>546</td>\n",
       "    </tr>\n",
       "    <tr>\n",
       "      <th>13</th>\n",
       "      <td>453</td>\n",
       "    </tr>\n",
       "    <tr>\n",
       "      <th>17</th>\n",
       "      <td>378</td>\n",
       "    </tr>\n",
       "    <tr>\n",
       "      <th>19</th>\n",
       "      <td>333</td>\n",
       "    </tr>\n",
       "    <tr>\n",
       "      <th>18</th>\n",
       "      <td>306</td>\n",
       "    </tr>\n",
       "    <tr>\n",
       "      <th>20</th>\n",
       "      <td>167</td>\n",
       "    </tr>\n",
       "  </tbody>\n",
       "</table>\n",
       "</div>"
      ],
      "text/plain": [
       "     experience\n",
       ">20        3669\n",
       "5          1593\n",
       "4          1548\n",
       "3          1508\n",
       "6          1346\n",
       "2          1255\n",
       "7          1144\n",
       "9          1093\n",
       "10         1081\n",
       "8           884\n",
       "11          750\n",
       "15          745\n",
       "14          641\n",
       "1           605\n",
       "<1          596\n",
       "16          576\n",
       "12          546\n",
       "13          453\n",
       "17          378\n",
       "19          333\n",
       "18          306\n",
       "20          167"
      ]
     },
     "execution_count": 104,
     "metadata": {},
     "output_type": "execute_result"
    }
   ],
   "source": [
    "pd.DataFrame(df['experience'].value_counts())"
   ]
  },
  {
   "cell_type": "markdown",
   "id": "66fbb163",
   "metadata": {},
   "source": [
    "Years of experience can be binned into smaller groups"
   ]
  },
  {
   "cell_type": "code",
   "execution_count": 105,
   "id": "15cca4ff",
   "metadata": {},
   "outputs": [],
   "source": [
    "def exp_range(exp):\n",
    "    \"\"\"Map to bin years of experience\"\"\"\n",
    "    if exp in ['<1', '1']:\n",
    "        return('<=1')\n",
    "    elif exp in ['2', '3', '4', '5']:\n",
    "        return('2-5')\n",
    "    elif exp in ['6', '7', '8', '9', '10']:\n",
    "        return('6-10')\n",
    "    elif exp in ['11', '12', '13', '14', '15']:\n",
    "        return('11-15')\n",
    "    elif exp in ['16', '17', '18', '19', '20']:\n",
    "        return('16-20')\n",
    "    elif exp in ['>20']:\n",
    "        return('>20')\n",
    "    else:\n",
    "        return(np.nan)"
   ]
  },
  {
   "cell_type": "code",
   "execution_count": 106,
   "id": "bbbfa571",
   "metadata": {},
   "outputs": [
    {
     "data": {
      "text/html": [
       "<div>\n",
       "<style scoped>\n",
       "    .dataframe tbody tr th:only-of-type {\n",
       "        vertical-align: middle;\n",
       "    }\n",
       "\n",
       "    .dataframe tbody tr th {\n",
       "        vertical-align: top;\n",
       "    }\n",
       "\n",
       "    .dataframe thead th {\n",
       "        text-align: right;\n",
       "    }\n",
       "</style>\n",
       "<table border=\"1\" class=\"dataframe\">\n",
       "  <thead>\n",
       "    <tr style=\"text-align: right;\">\n",
       "      <th></th>\n",
       "      <th>experience</th>\n",
       "      <th>exp_range</th>\n",
       "    </tr>\n",
       "  </thead>\n",
       "  <tbody>\n",
       "    <tr>\n",
       "      <th>0</th>\n",
       "      <td>&gt;20</td>\n",
       "      <td>&gt;20</td>\n",
       "    </tr>\n",
       "    <tr>\n",
       "      <th>1</th>\n",
       "      <td>15</td>\n",
       "      <td>11-15</td>\n",
       "    </tr>\n",
       "    <tr>\n",
       "      <th>2</th>\n",
       "      <td>5</td>\n",
       "      <td>2-5</td>\n",
       "    </tr>\n",
       "    <tr>\n",
       "      <th>3</th>\n",
       "      <td>&lt;1</td>\n",
       "      <td>&lt;=1</td>\n",
       "    </tr>\n",
       "    <tr>\n",
       "      <th>4</th>\n",
       "      <td>&gt;20</td>\n",
       "      <td>&gt;20</td>\n",
       "    </tr>\n",
       "    <tr>\n",
       "      <th>5</th>\n",
       "      <td>11</td>\n",
       "      <td>11-15</td>\n",
       "    </tr>\n",
       "    <tr>\n",
       "      <th>6</th>\n",
       "      <td>5</td>\n",
       "      <td>2-5</td>\n",
       "    </tr>\n",
       "    <tr>\n",
       "      <th>7</th>\n",
       "      <td>13</td>\n",
       "      <td>11-15</td>\n",
       "    </tr>\n",
       "    <tr>\n",
       "      <th>8</th>\n",
       "      <td>7</td>\n",
       "      <td>6-10</td>\n",
       "    </tr>\n",
       "    <tr>\n",
       "      <th>9</th>\n",
       "      <td>17</td>\n",
       "      <td>16-20</td>\n",
       "    </tr>\n",
       "  </tbody>\n",
       "</table>\n",
       "</div>"
      ],
      "text/plain": [
       "  experience exp_range\n",
       "0        >20       >20\n",
       "1         15     11-15\n",
       "2          5       2-5\n",
       "3         <1       <=1\n",
       "4        >20       >20\n",
       "5         11     11-15\n",
       "6          5       2-5\n",
       "7         13     11-15\n",
       "8          7      6-10\n",
       "9         17     16-20"
      ]
     },
     "execution_count": 106,
     "metadata": {},
     "output_type": "execute_result"
    }
   ],
   "source": [
    "df['exp_range'] = df['experience'].apply(exp_range)\n",
    "df[['experience', 'exp_range']].head(10)"
   ]
  },
  {
   "cell_type": "code",
   "execution_count": 107,
   "id": "04a35e36",
   "metadata": {},
   "outputs": [
    {
     "data": {
      "text/plain": [
       "2-5      5904\n",
       "6-10     5548\n",
       ">20      3669\n",
       "11-15    3135\n",
       "16-20    1760\n",
       "<=1      1201\n",
       "Name: exp_range, dtype: int64"
      ]
     },
     "execution_count": 107,
     "metadata": {},
     "output_type": "execute_result"
    }
   ],
   "source": [
    "df['exp_range'].value_counts()"
   ]
  },
  {
   "cell_type": "code",
   "execution_count": 108,
   "id": "9f7ca73b",
   "metadata": {},
   "outputs": [],
   "source": [
    "# Add this column to list of columns to be ordinally encoded\n",
    "ord_cols.append('exp_range')"
   ]
  },
  {
   "cell_type": "code",
   "execution_count": 109,
   "id": "6fd90a6c",
   "metadata": {},
   "outputs": [],
   "source": [
    "# Drop the original experience column\n",
    "df.drop(columns='experience', inplace=True)"
   ]
  },
  {
   "cell_type": "markdown",
   "id": "46949bed",
   "metadata": {},
   "source": [
    "### 10) Company size"
   ]
  },
  {
   "cell_type": "code",
   "execution_count": 110,
   "id": "2be24398",
   "metadata": {
    "scrolled": false
   },
   "outputs": [
    {
     "data": {
      "text/plain": [
       "50-99        3421\n",
       "100-500      2889\n",
       "10000+       2236\n",
       "10/49        1643\n",
       "<10          1471\n",
       "1000-4999    1471\n",
       "500-999       965\n",
       "5000-9999     631\n",
       "Name: company_size, dtype: int64"
      ]
     },
     "execution_count": 110,
     "metadata": {},
     "output_type": "execute_result"
    }
   ],
   "source": [
    "df['company_size'].value_counts()"
   ]
  },
  {
   "cell_type": "code",
   "execution_count": 111,
   "id": "b1dbd519",
   "metadata": {
    "scrolled": false
   },
   "outputs": [
    {
     "data": {
      "text/html": [
       "<div>\n",
       "<style scoped>\n",
       "    .dataframe tbody tr th:only-of-type {\n",
       "        vertical-align: middle;\n",
       "    }\n",
       "\n",
       "    .dataframe tbody tr th {\n",
       "        vertical-align: top;\n",
       "    }\n",
       "\n",
       "    .dataframe thead th {\n",
       "        text-align: right;\n",
       "    }\n",
       "</style>\n",
       "<table border=\"1\" class=\"dataframe\">\n",
       "  <thead>\n",
       "    <tr style=\"text-align: right;\">\n",
       "      <th></th>\n",
       "      <th>company_size</th>\n",
       "    </tr>\n",
       "  </thead>\n",
       "  <tbody>\n",
       "    <tr>\n",
       "      <th>15</th>\n",
       "      <td>10-49</td>\n",
       "    </tr>\n",
       "    <tr>\n",
       "      <th>16</th>\n",
       "      <td>50-99</td>\n",
       "    </tr>\n",
       "    <tr>\n",
       "      <th>17</th>\n",
       "      <td>5000-9999</td>\n",
       "    </tr>\n",
       "    <tr>\n",
       "      <th>18</th>\n",
       "      <td>10000+</td>\n",
       "    </tr>\n",
       "    <tr>\n",
       "      <th>19</th>\n",
       "      <td>NaN</td>\n",
       "    </tr>\n",
       "    <tr>\n",
       "      <th>20</th>\n",
       "      <td>100-499</td>\n",
       "    </tr>\n",
       "    <tr>\n",
       "      <th>21</th>\n",
       "      <td>100-499</td>\n",
       "    </tr>\n",
       "    <tr>\n",
       "      <th>22</th>\n",
       "      <td>NaN</td>\n",
       "    </tr>\n",
       "    <tr>\n",
       "      <th>23</th>\n",
       "      <td>1000-4999</td>\n",
       "    </tr>\n",
       "    <tr>\n",
       "      <th>24</th>\n",
       "      <td>1000-4999</td>\n",
       "    </tr>\n",
       "  </tbody>\n",
       "</table>\n",
       "</div>"
      ],
      "text/plain": [
       "   company_size\n",
       "15        10-49\n",
       "16        50-99\n",
       "17    5000-9999\n",
       "18       10000+\n",
       "19          NaN\n",
       "20      100-499\n",
       "21      100-499\n",
       "22          NaN\n",
       "23    1000-4999\n",
       "24    1000-4999"
      ]
     },
     "execution_count": 111,
     "metadata": {},
     "output_type": "execute_result"
    }
   ],
   "source": [
    "# Fix value 10/49 so that it's 10-49\n",
    "df['company_size'] = np.where(df['company_size']=='10/49', '10-49', df['company_size'])\n",
    "\n",
    "# Change 100-500 to 100-499\n",
    "df['company_size'] = np.where(df['company_size']=='100-500', '100-499', df['company_size'])\n",
    "\n",
    "df[['company_size']][15:25]"
   ]
  },
  {
   "cell_type": "code",
   "execution_count": 112,
   "id": "141b13af",
   "metadata": {},
   "outputs": [],
   "source": [
    "ord_cols.append('company_size')"
   ]
  },
  {
   "cell_type": "markdown",
   "id": "e6c96b70",
   "metadata": {},
   "source": [
    "### 11) Company type"
   ]
  },
  {
   "cell_type": "code",
   "execution_count": 113,
   "id": "1f3aecbf",
   "metadata": {
    "scrolled": false
   },
   "outputs": [
    {
     "data": {
      "text/plain": [
       "Pvt Ltd                10958\n",
       "Funded Startup          1098\n",
       "Public Sector           1082\n",
       "Early Stage Startup      668\n",
       "NGO                      574\n",
       "Other                    133\n",
       "Name: company_type, dtype: int64"
      ]
     },
     "execution_count": 113,
     "metadata": {},
     "output_type": "execute_result"
    }
   ],
   "source": [
    "df['company_type'].value_counts()"
   ]
  },
  {
   "cell_type": "code",
   "execution_count": 114,
   "id": "ece8ca2a",
   "metadata": {},
   "outputs": [],
   "source": [
    "#Rename some values\n",
    "\n",
    "df['company_type'] = np.where(df['company_type']=='Pvt Ltd', 'private_limited', df['company_type'])\n",
    "df['company_type'] = np.where(df['company_type']=='Funded Startup', 'startup_funded', df['company_type'])\n",
    "df['company_type'] = np.where(df['company_type']=='Early Stage Startup', 'startup_earlystage', df['company_type'])\n",
    "df['company_type'] = np.where(df['company_type']=='Public Sector', 'public_sector', df['company_type'])"
   ]
  },
  {
   "cell_type": "code",
   "execution_count": 115,
   "id": "ba931a4b",
   "metadata": {},
   "outputs": [],
   "source": [
    "cat_cols.append('company_type')"
   ]
  },
  {
   "cell_type": "markdown",
   "id": "c3f1c9a8",
   "metadata": {},
   "source": [
    "### 12) Last new job"
   ]
  },
  {
   "cell_type": "code",
   "execution_count": 116,
   "id": "2d1ec849",
   "metadata": {
    "scrolled": true
   },
   "outputs": [
    {
     "data": {
      "text/plain": [
       "1        8924\n",
       ">4       3643\n",
       "2        3242\n",
       "never    2710\n",
       "3        1157\n",
       "4        1148\n",
       "Name: last_new_job, dtype: int64"
      ]
     },
     "execution_count": 116,
     "metadata": {},
     "output_type": "execute_result"
    }
   ],
   "source": [
    "df['last_new_job'].value_counts()"
   ]
  },
  {
   "cell_type": "code",
   "execution_count": 117,
   "id": "53541bc9",
   "metadata": {},
   "outputs": [],
   "source": [
    "ord_cols.append('last_new_job')"
   ]
  },
  {
   "cell_type": "markdown",
   "id": "6282cc8b",
   "metadata": {},
   "source": [
    "### 13) Training hours"
   ]
  },
  {
   "cell_type": "code",
   "execution_count": 118,
   "id": "ff31a3f0",
   "metadata": {},
   "outputs": [
    {
     "data": {
      "text/plain": [
       "28     354\n",
       "18     332\n",
       "12     332\n",
       "22     307\n",
       "50     307\n",
       "      ... \n",
       "294      6\n",
       "234      6\n",
       "272      6\n",
       "286      5\n",
       "238      4\n",
       "Name: training_hours, Length: 241, dtype: int64"
      ]
     },
     "execution_count": 118,
     "metadata": {},
     "output_type": "execute_result"
    }
   ],
   "source": [
    "df['training_hours'].value_counts()"
   ]
  },
  {
   "cell_type": "markdown",
   "id": "61af27cd",
   "metadata": {},
   "source": [
    "### 14) Target"
   ]
  },
  {
   "cell_type": "code",
   "execution_count": 119,
   "id": "52f2be4c",
   "metadata": {},
   "outputs": [
    {
     "data": {
      "text/plain": [
       "0.0    14381\n",
       "1.0     4777\n",
       "Name: target, dtype: int64"
      ]
     },
     "execution_count": 119,
     "metadata": {},
     "output_type": "execute_result"
    }
   ],
   "source": [
    "df['target'].value_counts()"
   ]
  },
  {
   "cell_type": "markdown",
   "id": "e21085f2",
   "metadata": {},
   "source": [
    "### 15) Lists for encoding"
   ]
  },
  {
   "cell_type": "code",
   "execution_count": 120,
   "id": "4dcac65b",
   "metadata": {},
   "outputs": [
    {
     "data": {
      "text/plain": [
       "(['gender', 'enrolled_university', 'education_level', 'major', 'company_type'],\n",
       " ['exp_range', 'company_size', 'last_new_job'])"
      ]
     },
     "execution_count": 120,
     "metadata": {},
     "output_type": "execute_result"
    }
   ],
   "source": [
    "# Affirm column names are in appropriate lists\n",
    "cat_cols, ord_cols"
   ]
  },
  {
   "cell_type": "markdown",
   "id": "bab06ea6",
   "metadata": {},
   "source": [
    "# II. Save Clean df"
   ]
  },
  {
   "cell_type": "code",
   "execution_count": 121,
   "id": "2163d475",
   "metadata": {},
   "outputs": [
    {
     "data": {
      "text/plain": [
       "(21287, 14)"
      ]
     },
     "execution_count": 121,
     "metadata": {},
     "output_type": "execute_result"
    }
   ],
   "source": [
    "df.shape"
   ]
  },
  {
   "cell_type": "code",
   "execution_count": 122,
   "id": "a7df3851",
   "metadata": {},
   "outputs": [],
   "source": [
    "df.to_csv('../data/df_clean_nulls.csv')"
   ]
  },
  {
   "cell_type": "code",
   "execution_count": 123,
   "id": "57fd1847",
   "metadata": {},
   "outputs": [
    {
     "data": {
      "text/plain": [
       "enrollee_id                  0\n",
       "city                         0\n",
       "city_development_index       0\n",
       "gender                       0\n",
       "relevent_experience          0\n",
       "enrolled_university          0\n",
       "education_level              0\n",
       "major                        0\n",
       "company_size                 0\n",
       "company_type                 0\n",
       "last_new_job                 0\n",
       "training_hours               0\n",
       "exp_range                    0\n",
       "target                    2129\n",
       "dtype: int64"
      ]
     },
     "execution_count": 123,
     "metadata": {},
     "output_type": "execute_result"
    }
   ],
   "source": [
    "# Create a secondary df where nulls are filled with 'missing' string for EDA\n",
    "\n",
    "df_nonulls = df.drop('target', axis=1).fillna('MISSING')\n",
    "df_nonulls['target'] = df['target']\n",
    "df_nonulls.isna().sum()"
   ]
  },
  {
   "cell_type": "code",
   "execution_count": 124,
   "id": "ec503549",
   "metadata": {},
   "outputs": [
    {
     "data": {
      "text/plain": [
       "(21287, 14)"
      ]
     },
     "execution_count": 124,
     "metadata": {},
     "output_type": "execute_result"
    }
   ],
   "source": [
    "df_nonulls.shape"
   ]
  },
  {
   "cell_type": "code",
   "execution_count": 125,
   "id": "5236a54a",
   "metadata": {},
   "outputs": [],
   "source": [
    "df_nonulls.to_csv('../data/df_clean_nonulls.csv')"
   ]
  }
 ],
 "metadata": {
  "kernelspec": {
   "display_name": "Python 3 (ipykernel)",
   "language": "python",
   "name": "python3"
  },
  "language_info": {
   "codemirror_mode": {
    "name": "ipython",
    "version": 3
   },
   "file_extension": ".py",
   "mimetype": "text/x-python",
   "name": "python",
   "nbconvert_exporter": "python",
   "pygments_lexer": "ipython3",
   "version": "3.8.12"
  }
 },
 "nbformat": 4,
 "nbformat_minor": 5
}
