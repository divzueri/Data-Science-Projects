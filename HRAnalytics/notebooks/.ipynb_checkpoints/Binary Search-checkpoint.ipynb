{
 "cells": [
  {
   "cell_type": "code",
   "execution_count": 9,
   "id": "760220ca",
   "metadata": {},
   "outputs": [],
   "source": [
    "def binary_search(target, array):\n",
    "    n = len(array)\n",
    "    min_n, max_n = 0, n-1\n",
    "        \n",
    "    while max_n >= min_n:\n",
    "        guess = (max_n + min_n) // 2\n",
    "        print('guess = ', array[guess])\n",
    "        \n",
    "        if array[guess]==target:\n",
    "            print(\"You found it!\")\n",
    "            return(guess)\n",
    "        \n",
    "        if array[guess] < target:\n",
    "            print('Too low!')\n",
    "            min_n = guess + 1\n",
    "            \n",
    "        if array[guess] > target:\n",
    "            print('Too high!')\n",
    "            max_n = guess - 1\n",
    "\n",
    "    print(\"Target is not present!\")\n",
    "    return(-1)"
   ]
  },
  {
   "cell_type": "code",
   "execution_count": 2,
   "id": "42e16187",
   "metadata": {},
   "outputs": [
    {
     "data": {
      "text/plain": [
       "10"
      ]
     },
     "execution_count": 2,
     "metadata": {},
     "output_type": "execute_result"
    }
   ],
   "source": [
    "nums = [2,4,6,8,10,12,14,16,18,20]\n",
    "len(nums)"
   ]
  },
  {
   "cell_type": "code",
   "execution_count": 10,
   "id": "17975fee",
   "metadata": {},
   "outputs": [
    {
     "name": "stdout",
     "output_type": "stream",
     "text": [
      "guess =  10\n",
      "Too high!\n",
      "guess =  4\n",
      "Too low!\n",
      "guess =  6\n",
      "Too low!\n",
      "guess =  8\n",
      "You found it!\n"
     ]
    },
    {
     "data": {
      "text/plain": [
       "3"
      ]
     },
     "execution_count": 10,
     "metadata": {},
     "output_type": "execute_result"
    }
   ],
   "source": [
    "binary_search(8, nums)"
   ]
  }
 ],
 "metadata": {
  "kernelspec": {
   "display_name": "Python 3 (ipykernel)",
   "language": "python",
   "name": "python3"
  },
  "language_info": {
   "codemirror_mode": {
    "name": "ipython",
    "version": 3
   },
   "file_extension": ".py",
   "mimetype": "text/x-python",
   "name": "python",
   "nbconvert_exporter": "python",
   "pygments_lexer": "ipython3",
   "version": "3.8.12"
  }
 },
 "nbformat": 4,
 "nbformat_minor": 5
}
