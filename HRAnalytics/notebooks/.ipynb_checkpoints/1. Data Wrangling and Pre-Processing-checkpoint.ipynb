{
 "cells": [
  {
   "cell_type": "code",
   "execution_count": 1,
   "id": "382c02a9",
   "metadata": {},
   "outputs": [],
   "source": [
    "#conda install -c conda-forge category_encoders"
   ]
  },
  {
   "cell_type": "code",
   "execution_count": 2,
   "id": "097002ea",
   "metadata": {},
   "outputs": [],
   "source": [
    "import pandas as pd\n",
    "import numpy as np\n",
    "import matplotlib.pyplot as plt\n",
    "import seaborn as sns\n",
    "import math\n",
    "\n",
    "from sklearn.preprocessing import OrdinalEncoder, OneHotEncoder\n",
    "from sklearn.compose import make_column_transformer, make_column_selector\n",
    "from sklearn.pipeline import make_pipeline\n",
    "from sklearn.impute import KNNImputer\n",
    "\n",
    "import category_encoders as ce"
   ]
  },
  {
   "cell_type": "code",
   "execution_count": 3,
   "id": "16a0dda1",
   "metadata": {
    "scrolled": true
   },
   "outputs": [
    {
     "name": "stdout",
     "output_type": "stream",
     "text": [
      "(19158, 14) (2129, 13)\n"
     ]
    }
   ],
   "source": [
    "# Import train and test set\n",
    "\n",
    "df_train = pd.read_csv('../raw_data/aug_train.csv')\n",
    "df_test = pd.read_csv('../raw_data/aug_test.csv')\n",
    "print(df_train.shape, df_test.shape)"
   ]
  },
  {
   "cell_type": "markdown",
   "id": "94b765c2",
   "metadata": {},
   "source": [
    "# I. Data Wrangling"
   ]
  },
  {
   "cell_type": "code",
   "execution_count": 4,
   "id": "070f62d5",
   "metadata": {
    "scrolled": true
   },
   "outputs": [
    {
     "data": {
      "text/html": [
       "<div>\n",
       "<style scoped>\n",
       "    .dataframe tbody tr th:only-of-type {\n",
       "        vertical-align: middle;\n",
       "    }\n",
       "\n",
       "    .dataframe tbody tr th {\n",
       "        vertical-align: top;\n",
       "    }\n",
       "\n",
       "    .dataframe thead th {\n",
       "        text-align: right;\n",
       "    }\n",
       "</style>\n",
       "<table border=\"1\" class=\"dataframe\">\n",
       "  <thead>\n",
       "    <tr style=\"text-align: right;\">\n",
       "      <th></th>\n",
       "      <th>enrollee_id</th>\n",
       "      <th>city</th>\n",
       "      <th>city_development_index</th>\n",
       "      <th>gender</th>\n",
       "      <th>relevent_experience</th>\n",
       "      <th>enrolled_university</th>\n",
       "      <th>education_level</th>\n",
       "      <th>major_discipline</th>\n",
       "      <th>experience</th>\n",
       "      <th>company_size</th>\n",
       "      <th>company_type</th>\n",
       "      <th>last_new_job</th>\n",
       "      <th>training_hours</th>\n",
       "      <th>target</th>\n",
       "    </tr>\n",
       "  </thead>\n",
       "  <tbody>\n",
       "    <tr>\n",
       "      <th>0</th>\n",
       "      <td>8949</td>\n",
       "      <td>city_103</td>\n",
       "      <td>0.920</td>\n",
       "      <td>Male</td>\n",
       "      <td>Has relevent experience</td>\n",
       "      <td>no_enrollment</td>\n",
       "      <td>Graduate</td>\n",
       "      <td>STEM</td>\n",
       "      <td>&gt;20</td>\n",
       "      <td>NaN</td>\n",
       "      <td>NaN</td>\n",
       "      <td>1</td>\n",
       "      <td>36</td>\n",
       "      <td>1.0</td>\n",
       "    </tr>\n",
       "    <tr>\n",
       "      <th>1</th>\n",
       "      <td>29725</td>\n",
       "      <td>city_40</td>\n",
       "      <td>0.776</td>\n",
       "      <td>Male</td>\n",
       "      <td>No relevent experience</td>\n",
       "      <td>no_enrollment</td>\n",
       "      <td>Graduate</td>\n",
       "      <td>STEM</td>\n",
       "      <td>15</td>\n",
       "      <td>50-99</td>\n",
       "      <td>Pvt Ltd</td>\n",
       "      <td>&gt;4</td>\n",
       "      <td>47</td>\n",
       "      <td>0.0</td>\n",
       "    </tr>\n",
       "    <tr>\n",
       "      <th>2</th>\n",
       "      <td>11561</td>\n",
       "      <td>city_21</td>\n",
       "      <td>0.624</td>\n",
       "      <td>NaN</td>\n",
       "      <td>No relevent experience</td>\n",
       "      <td>Full time course</td>\n",
       "      <td>Graduate</td>\n",
       "      <td>STEM</td>\n",
       "      <td>5</td>\n",
       "      <td>NaN</td>\n",
       "      <td>NaN</td>\n",
       "      <td>never</td>\n",
       "      <td>83</td>\n",
       "      <td>0.0</td>\n",
       "    </tr>\n",
       "    <tr>\n",
       "      <th>3</th>\n",
       "      <td>33241</td>\n",
       "      <td>city_115</td>\n",
       "      <td>0.789</td>\n",
       "      <td>NaN</td>\n",
       "      <td>No relevent experience</td>\n",
       "      <td>NaN</td>\n",
       "      <td>Graduate</td>\n",
       "      <td>Business Degree</td>\n",
       "      <td>&lt;1</td>\n",
       "      <td>NaN</td>\n",
       "      <td>Pvt Ltd</td>\n",
       "      <td>never</td>\n",
       "      <td>52</td>\n",
       "      <td>1.0</td>\n",
       "    </tr>\n",
       "    <tr>\n",
       "      <th>4</th>\n",
       "      <td>666</td>\n",
       "      <td>city_162</td>\n",
       "      <td>0.767</td>\n",
       "      <td>Male</td>\n",
       "      <td>Has relevent experience</td>\n",
       "      <td>no_enrollment</td>\n",
       "      <td>Masters</td>\n",
       "      <td>STEM</td>\n",
       "      <td>&gt;20</td>\n",
       "      <td>50-99</td>\n",
       "      <td>Funded Startup</td>\n",
       "      <td>4</td>\n",
       "      <td>8</td>\n",
       "      <td>0.0</td>\n",
       "    </tr>\n",
       "  </tbody>\n",
       "</table>\n",
       "</div>"
      ],
      "text/plain": [
       "   enrollee_id      city  city_development_index gender  \\\n",
       "0         8949  city_103                   0.920   Male   \n",
       "1        29725   city_40                   0.776   Male   \n",
       "2        11561   city_21                   0.624    NaN   \n",
       "3        33241  city_115                   0.789    NaN   \n",
       "4          666  city_162                   0.767   Male   \n",
       "\n",
       "       relevent_experience enrolled_university education_level  \\\n",
       "0  Has relevent experience       no_enrollment        Graduate   \n",
       "1   No relevent experience       no_enrollment        Graduate   \n",
       "2   No relevent experience    Full time course        Graduate   \n",
       "3   No relevent experience                 NaN        Graduate   \n",
       "4  Has relevent experience       no_enrollment         Masters   \n",
       "\n",
       "  major_discipline experience company_size    company_type last_new_job  \\\n",
       "0             STEM        >20          NaN             NaN            1   \n",
       "1             STEM         15        50-99         Pvt Ltd           >4   \n",
       "2             STEM          5          NaN             NaN        never   \n",
       "3  Business Degree         <1          NaN         Pvt Ltd        never   \n",
       "4             STEM        >20        50-99  Funded Startup            4   \n",
       "\n",
       "   training_hours  target  \n",
       "0              36     1.0  \n",
       "1              47     0.0  \n",
       "2              83     0.0  \n",
       "3              52     1.0  \n",
       "4               8     0.0  "
      ]
     },
     "execution_count": 4,
     "metadata": {},
     "output_type": "execute_result"
    }
   ],
   "source": [
    "df_train.head()"
   ]
  },
  {
   "cell_type": "code",
   "execution_count": 5,
   "id": "d46d2135",
   "metadata": {},
   "outputs": [
    {
     "data": {
      "text/plain": [
       "Index(['enrollee_id', 'city', 'city_development_index', 'gender',\n",
       "       'relevent_experience', 'enrolled_university', 'education_level',\n",
       "       'major_discipline', 'experience', 'company_size', 'company_type',\n",
       "       'last_new_job', 'training_hours', 'target'],\n",
       "      dtype='object')"
      ]
     },
     "execution_count": 5,
     "metadata": {},
     "output_type": "execute_result"
    }
   ],
   "source": [
    "df_train.columns"
   ]
  },
  {
   "cell_type": "code",
   "execution_count": 6,
   "id": "48aabb34",
   "metadata": {},
   "outputs": [],
   "source": [
    "# Create list of ids that belong to each df\n",
    "\n",
    "test_id = df_test.enrollee_id.values.tolist()\n",
    "train_id = df_test.enrollee_id.values.tolist()"
   ]
  },
  {
   "cell_type": "code",
   "execution_count": 7,
   "id": "a6b8ac65",
   "metadata": {},
   "outputs": [
    {
     "data": {
      "text/plain": [
       "(21287, 14)"
      ]
     },
     "execution_count": 7,
     "metadata": {},
     "output_type": "execute_result"
    }
   ],
   "source": [
    "# Merge train and test for cleaning\n",
    "df = df_train.merge(df_test, how='outer', on=['enrollee_id', 'city', 'city_development_index', 'gender', \n",
    "                                              'relevent_experience', 'enrolled_university', 'education_level',\n",
    "                                              'major_discipline', 'experience', 'company_size', 'company_type',\n",
    "                                              'last_new_job', 'training_hours'])\n",
    "df.shape"
   ]
  },
  {
   "cell_type": "code",
   "execution_count": 8,
   "id": "0bd74596",
   "metadata": {
    "scrolled": true
   },
   "outputs": [
    {
     "data": {
      "text/html": [
       "<div>\n",
       "<style scoped>\n",
       "    .dataframe tbody tr th:only-of-type {\n",
       "        vertical-align: middle;\n",
       "    }\n",
       "\n",
       "    .dataframe tbody tr th {\n",
       "        vertical-align: top;\n",
       "    }\n",
       "\n",
       "    .dataframe thead th {\n",
       "        text-align: right;\n",
       "    }\n",
       "</style>\n",
       "<table border=\"1\" class=\"dataframe\">\n",
       "  <thead>\n",
       "    <tr style=\"text-align: right;\">\n",
       "      <th></th>\n",
       "      <th>enrollee_id</th>\n",
       "      <th>city</th>\n",
       "      <th>city_development_index</th>\n",
       "      <th>gender</th>\n",
       "      <th>relevent_experience</th>\n",
       "      <th>enrolled_university</th>\n",
       "      <th>education_level</th>\n",
       "      <th>major_discipline</th>\n",
       "      <th>experience</th>\n",
       "      <th>company_size</th>\n",
       "      <th>company_type</th>\n",
       "      <th>last_new_job</th>\n",
       "      <th>training_hours</th>\n",
       "      <th>target</th>\n",
       "    </tr>\n",
       "  </thead>\n",
       "  <tbody>\n",
       "    <tr>\n",
       "      <th>0</th>\n",
       "      <td>8949</td>\n",
       "      <td>city_103</td>\n",
       "      <td>0.920</td>\n",
       "      <td>Male</td>\n",
       "      <td>Has relevent experience</td>\n",
       "      <td>no_enrollment</td>\n",
       "      <td>Graduate</td>\n",
       "      <td>STEM</td>\n",
       "      <td>&gt;20</td>\n",
       "      <td>NaN</td>\n",
       "      <td>NaN</td>\n",
       "      <td>1</td>\n",
       "      <td>36</td>\n",
       "      <td>1.0</td>\n",
       "    </tr>\n",
       "    <tr>\n",
       "      <th>1</th>\n",
       "      <td>29725</td>\n",
       "      <td>city_40</td>\n",
       "      <td>0.776</td>\n",
       "      <td>Male</td>\n",
       "      <td>No relevent experience</td>\n",
       "      <td>no_enrollment</td>\n",
       "      <td>Graduate</td>\n",
       "      <td>STEM</td>\n",
       "      <td>15</td>\n",
       "      <td>50-99</td>\n",
       "      <td>Pvt Ltd</td>\n",
       "      <td>&gt;4</td>\n",
       "      <td>47</td>\n",
       "      <td>0.0</td>\n",
       "    </tr>\n",
       "    <tr>\n",
       "      <th>2</th>\n",
       "      <td>11561</td>\n",
       "      <td>city_21</td>\n",
       "      <td>0.624</td>\n",
       "      <td>NaN</td>\n",
       "      <td>No relevent experience</td>\n",
       "      <td>Full time course</td>\n",
       "      <td>Graduate</td>\n",
       "      <td>STEM</td>\n",
       "      <td>5</td>\n",
       "      <td>NaN</td>\n",
       "      <td>NaN</td>\n",
       "      <td>never</td>\n",
       "      <td>83</td>\n",
       "      <td>0.0</td>\n",
       "    </tr>\n",
       "    <tr>\n",
       "      <th>3</th>\n",
       "      <td>33241</td>\n",
       "      <td>city_115</td>\n",
       "      <td>0.789</td>\n",
       "      <td>NaN</td>\n",
       "      <td>No relevent experience</td>\n",
       "      <td>NaN</td>\n",
       "      <td>Graduate</td>\n",
       "      <td>Business Degree</td>\n",
       "      <td>&lt;1</td>\n",
       "      <td>NaN</td>\n",
       "      <td>Pvt Ltd</td>\n",
       "      <td>never</td>\n",
       "      <td>52</td>\n",
       "      <td>1.0</td>\n",
       "    </tr>\n",
       "    <tr>\n",
       "      <th>4</th>\n",
       "      <td>666</td>\n",
       "      <td>city_162</td>\n",
       "      <td>0.767</td>\n",
       "      <td>Male</td>\n",
       "      <td>Has relevent experience</td>\n",
       "      <td>no_enrollment</td>\n",
       "      <td>Masters</td>\n",
       "      <td>STEM</td>\n",
       "      <td>&gt;20</td>\n",
       "      <td>50-99</td>\n",
       "      <td>Funded Startup</td>\n",
       "      <td>4</td>\n",
       "      <td>8</td>\n",
       "      <td>0.0</td>\n",
       "    </tr>\n",
       "  </tbody>\n",
       "</table>\n",
       "</div>"
      ],
      "text/plain": [
       "   enrollee_id      city  city_development_index gender  \\\n",
       "0         8949  city_103                   0.920   Male   \n",
       "1        29725   city_40                   0.776   Male   \n",
       "2        11561   city_21                   0.624    NaN   \n",
       "3        33241  city_115                   0.789    NaN   \n",
       "4          666  city_162                   0.767   Male   \n",
       "\n",
       "       relevent_experience enrolled_university education_level  \\\n",
       "0  Has relevent experience       no_enrollment        Graduate   \n",
       "1   No relevent experience       no_enrollment        Graduate   \n",
       "2   No relevent experience    Full time course        Graduate   \n",
       "3   No relevent experience                 NaN        Graduate   \n",
       "4  Has relevent experience       no_enrollment         Masters   \n",
       "\n",
       "  major_discipline experience company_size    company_type last_new_job  \\\n",
       "0             STEM        >20          NaN             NaN            1   \n",
       "1             STEM         15        50-99         Pvt Ltd           >4   \n",
       "2             STEM          5          NaN             NaN        never   \n",
       "3  Business Degree         <1          NaN         Pvt Ltd        never   \n",
       "4             STEM        >20        50-99  Funded Startup            4   \n",
       "\n",
       "   training_hours  target  \n",
       "0              36     1.0  \n",
       "1              47     0.0  \n",
       "2              83     0.0  \n",
       "3              52     1.0  \n",
       "4               8     0.0  "
      ]
     },
     "execution_count": 8,
     "metadata": {},
     "output_type": "execute_result"
    }
   ],
   "source": [
    "df.head()"
   ]
  },
  {
   "cell_type": "code",
   "execution_count": 9,
   "id": "f9a85e5c",
   "metadata": {},
   "outputs": [
    {
     "data": {
      "text/html": [
       "<div>\n",
       "<style scoped>\n",
       "    .dataframe tbody tr th:only-of-type {\n",
       "        vertical-align: middle;\n",
       "    }\n",
       "\n",
       "    .dataframe tbody tr th {\n",
       "        vertical-align: top;\n",
       "    }\n",
       "\n",
       "    .dataframe thead th {\n",
       "        text-align: right;\n",
       "    }\n",
       "</style>\n",
       "<table border=\"1\" class=\"dataframe\">\n",
       "  <thead>\n",
       "    <tr style=\"text-align: right;\">\n",
       "      <th></th>\n",
       "      <th>Total NA</th>\n",
       "      <th>% NA</th>\n",
       "    </tr>\n",
       "  </thead>\n",
       "  <tbody>\n",
       "    <tr>\n",
       "      <th>enrollee_id</th>\n",
       "      <td>0</td>\n",
       "      <td>0.00</td>\n",
       "    </tr>\n",
       "    <tr>\n",
       "      <th>city</th>\n",
       "      <td>0</td>\n",
       "      <td>0.00</td>\n",
       "    </tr>\n",
       "    <tr>\n",
       "      <th>city_development_index</th>\n",
       "      <td>0</td>\n",
       "      <td>0.00</td>\n",
       "    </tr>\n",
       "    <tr>\n",
       "      <th>gender</th>\n",
       "      <td>5016</td>\n",
       "      <td>23.56</td>\n",
       "    </tr>\n",
       "    <tr>\n",
       "      <th>relevent_experience</th>\n",
       "      <td>0</td>\n",
       "      <td>0.00</td>\n",
       "    </tr>\n",
       "    <tr>\n",
       "      <th>enrolled_university</th>\n",
       "      <td>417</td>\n",
       "      <td>1.96</td>\n",
       "    </tr>\n",
       "    <tr>\n",
       "      <th>education_level</th>\n",
       "      <td>512</td>\n",
       "      <td>2.41</td>\n",
       "    </tr>\n",
       "    <tr>\n",
       "      <th>major_discipline</th>\n",
       "      <td>3125</td>\n",
       "      <td>14.68</td>\n",
       "    </tr>\n",
       "    <tr>\n",
       "      <th>experience</th>\n",
       "      <td>70</td>\n",
       "      <td>0.33</td>\n",
       "    </tr>\n",
       "    <tr>\n",
       "      <th>company_size</th>\n",
       "      <td>6560</td>\n",
       "      <td>30.82</td>\n",
       "    </tr>\n",
       "    <tr>\n",
       "      <th>company_type</th>\n",
       "      <td>6774</td>\n",
       "      <td>31.82</td>\n",
       "    </tr>\n",
       "    <tr>\n",
       "      <th>last_new_job</th>\n",
       "      <td>463</td>\n",
       "      <td>2.18</td>\n",
       "    </tr>\n",
       "    <tr>\n",
       "      <th>training_hours</th>\n",
       "      <td>0</td>\n",
       "      <td>0.00</td>\n",
       "    </tr>\n",
       "    <tr>\n",
       "      <th>target</th>\n",
       "      <td>2129</td>\n",
       "      <td>10.00</td>\n",
       "    </tr>\n",
       "  </tbody>\n",
       "</table>\n",
       "</div>"
      ],
      "text/plain": [
       "                        Total NA   % NA\n",
       "enrollee_id                    0   0.00\n",
       "city                           0   0.00\n",
       "city_development_index         0   0.00\n",
       "gender                      5016  23.56\n",
       "relevent_experience            0   0.00\n",
       "enrolled_university          417   1.96\n",
       "education_level              512   2.41\n",
       "major_discipline            3125  14.68\n",
       "experience                    70   0.33\n",
       "company_size                6560  30.82\n",
       "company_type                6774  31.82\n",
       "last_new_job                 463   2.18\n",
       "training_hours                 0   0.00\n",
       "target                      2129  10.00"
      ]
     },
     "execution_count": 9,
     "metadata": {},
     "output_type": "execute_result"
    }
   ],
   "source": [
    "# Number of NAs in each column\n",
    "\n",
    "perc_na = round(df.isna().sum() * 100 / len(df), 2)\n",
    "\n",
    "pd.DataFrame({'Total NA':df.isna().sum(), '% NA':perc_na})"
   ]
  },
  {
   "cell_type": "code",
   "execution_count": 10,
   "id": "289b2f7f",
   "metadata": {
    "scrolled": true
   },
   "outputs": [
    {
     "data": {
      "text/plain": [
       "enrollee_id                 int64\n",
       "city                       object\n",
       "city_development_index    float64\n",
       "gender                     object\n",
       "relevent_experience        object\n",
       "enrolled_university        object\n",
       "education_level            object\n",
       "major_discipline           object\n",
       "experience                 object\n",
       "company_size               object\n",
       "company_type               object\n",
       "last_new_job               object\n",
       "training_hours              int64\n",
       "target                    float64\n",
       "dtype: object"
      ]
     },
     "execution_count": 10,
     "metadata": {},
     "output_type": "execute_result"
    }
   ],
   "source": [
    "df.dtypes"
   ]
  },
  {
   "cell_type": "code",
   "execution_count": 11,
   "id": "fd581847",
   "metadata": {},
   "outputs": [],
   "source": [
    "cat_cols = []\n",
    "ord_cols = []"
   ]
  },
  {
   "cell_type": "markdown",
   "id": "f5efa519",
   "metadata": {},
   "source": [
    "#### 1) Enrollee_id"
   ]
  },
  {
   "cell_type": "code",
   "execution_count": 12,
   "id": "0ac3daf1",
   "metadata": {},
   "outputs": [],
   "source": [
    "# Convert enrollee_id to string\n",
    "df['enrollee_id'] = df['enrollee_id'].astype(str)"
   ]
  },
  {
   "cell_type": "markdown",
   "id": "fe98c657",
   "metadata": {},
   "source": [
    "#### 2) City"
   ]
  },
  {
   "cell_type": "code",
   "execution_count": 13,
   "id": "01202bc9",
   "metadata": {
    "scrolled": false
   },
   "outputs": [
    {
     "data": {
      "text/plain": [
       "city_103    4828\n",
       "city_21     3020\n",
       "city_16     1701\n",
       "city_114    1491\n",
       "city_160     958\n",
       "            ... \n",
       "city_8         4\n",
       "city_111       3\n",
       "city_129       3\n",
       "city_171       2\n",
       "city_140       1\n",
       "Name: city, Length: 123, dtype: int64"
      ]
     },
     "execution_count": 13,
     "metadata": {},
     "output_type": "execute_result"
    }
   ],
   "source": [
    "df['city'].value_counts()"
   ]
  },
  {
   "cell_type": "markdown",
   "id": "06058f09",
   "metadata": {},
   "source": [
    "There are 123 different cities total, so encoding might not be possible."
   ]
  },
  {
   "cell_type": "markdown",
   "id": "ef37a403",
   "metadata": {},
   "source": [
    "#### 3) City development index"
   ]
  },
  {
   "cell_type": "code",
   "execution_count": 14,
   "id": "2727405d",
   "metadata": {},
   "outputs": [
    {
     "data": {
      "text/plain": [
       "count    21287.000000\n",
       "mean         0.828462\n",
       "std          0.123537\n",
       "min          0.448000\n",
       "25%          0.739000\n",
       "50%          0.903000\n",
       "75%          0.920000\n",
       "max          0.949000\n",
       "Name: city_development_index, dtype: float64"
      ]
     },
     "execution_count": 14,
     "metadata": {},
     "output_type": "execute_result"
    }
   ],
   "source": [
    "df.city_development_index.describe()"
   ]
  },
  {
   "cell_type": "markdown",
   "id": "832ba1dd",
   "metadata": {},
   "source": [
    "#### 4) Gender"
   ]
  },
  {
   "cell_type": "code",
   "execution_count": 15,
   "id": "bcea6e8d",
   "metadata": {},
   "outputs": [
    {
     "data": {
      "text/plain": [
       "(21287, 16271)"
      ]
     },
     "execution_count": 15,
     "metadata": {},
     "output_type": "execute_result"
    }
   ],
   "source": [
    "len(df.gender), df.gender.notna().sum()"
   ]
  },
  {
   "cell_type": "code",
   "execution_count": 16,
   "id": "d1a35d57",
   "metadata": {
    "scrolled": true
   },
   "outputs": [
    {
     "data": {
      "text/html": [
       "<div>\n",
       "<style scoped>\n",
       "    .dataframe tbody tr th:only-of-type {\n",
       "        vertical-align: middle;\n",
       "    }\n",
       "\n",
       "    .dataframe tbody tr th {\n",
       "        vertical-align: top;\n",
       "    }\n",
       "\n",
       "    .dataframe thead th {\n",
       "        text-align: right;\n",
       "    }\n",
       "</style>\n",
       "<table border=\"1\" class=\"dataframe\">\n",
       "  <thead>\n",
       "    <tr style=\"text-align: right;\">\n",
       "      <th></th>\n",
       "      <th>Total</th>\n",
       "      <th>%</th>\n",
       "    </tr>\n",
       "  </thead>\n",
       "  <tbody>\n",
       "    <tr>\n",
       "      <th>Male</th>\n",
       "      <td>14681</td>\n",
       "      <td>90.23</td>\n",
       "    </tr>\n",
       "    <tr>\n",
       "      <th>Female</th>\n",
       "      <td>1375</td>\n",
       "      <td>8.45</td>\n",
       "    </tr>\n",
       "    <tr>\n",
       "      <th>Other</th>\n",
       "      <td>215</td>\n",
       "      <td>1.32</td>\n",
       "    </tr>\n",
       "  </tbody>\n",
       "</table>\n",
       "</div>"
      ],
      "text/plain": [
       "        Total      %\n",
       "Male    14681  90.23\n",
       "Female   1375   8.45\n",
       "Other     215   1.32"
      ]
     },
     "execution_count": 16,
     "metadata": {},
     "output_type": "execute_result"
    }
   ],
   "source": [
    "# Gender distribution (of not null values)\n",
    "pd.DataFrame({'Total':df['gender'].value_counts(), '%':round(df['gender'].value_counts() / df['gender'].notna().sum() * 100, 2)})"
   ]
  },
  {
   "cell_type": "code",
   "execution_count": 17,
   "id": "74cd5610",
   "metadata": {},
   "outputs": [],
   "source": [
    "cat_cols.append('gender')"
   ]
  },
  {
   "cell_type": "markdown",
   "id": "be22ee1c",
   "metadata": {},
   "source": [
    "#### 5) Relevent experience"
   ]
  },
  {
   "cell_type": "code",
   "execution_count": 18,
   "id": "45997e54",
   "metadata": {},
   "outputs": [
    {
     "data": {
      "text/plain": [
       "Has relevent experience    15316\n",
       "No relevent experience      5971\n",
       "Name: relevent_experience, dtype: int64"
      ]
     },
     "execution_count": 18,
     "metadata": {},
     "output_type": "execute_result"
    }
   ],
   "source": [
    "df['relevent_experience'].value_counts()"
   ]
  },
  {
   "cell_type": "code",
   "execution_count": 19,
   "id": "d63b08e4",
   "metadata": {},
   "outputs": [],
   "source": [
    "# Change relevant experience to binary values\n",
    "df['relevent_experience'] = np.where(df['relevent_experience']=='Has relevent experience', 1, 0)"
   ]
  },
  {
   "cell_type": "markdown",
   "id": "59f25b88",
   "metadata": {},
   "source": [
    "#### 6) Enrolled university"
   ]
  },
  {
   "cell_type": "code",
   "execution_count": 20,
   "id": "c7821907",
   "metadata": {
    "scrolled": true
   },
   "outputs": [
    {
     "data": {
      "text/plain": [
       "no_enrollment       15336\n",
       "Full time course     4192\n",
       "Part time course     1342\n",
       "Name: enrolled_university, dtype: int64"
      ]
     },
     "execution_count": 20,
     "metadata": {},
     "output_type": "execute_result"
    }
   ],
   "source": [
    "df['enrolled_university'].value_counts()"
   ]
  },
  {
   "cell_type": "code",
   "execution_count": 21,
   "id": "1f71d1da",
   "metadata": {
    "scrolled": false
   },
   "outputs": [
    {
     "data": {
      "text/plain": [
       "no_enrollment    15336\n",
       "full_time         4192\n",
       "part_time         1342\n",
       "Name: enrolled_university, dtype: int64"
      ]
     },
     "execution_count": 21,
     "metadata": {},
     "output_type": "execute_result"
    }
   ],
   "source": [
    "# Rename values\n",
    "df['enrolled_university'] = np.where(df['enrolled_university']=='Full time course', 'full_time', df['enrolled_university'])\n",
    "df['enrolled_university'] = np.where(df['enrolled_university']=='Part time course', 'part_time', df['enrolled_university'])\n",
    "\n",
    "df['enrolled_university'].value_counts()"
   ]
  },
  {
   "cell_type": "code",
   "execution_count": 22,
   "id": "67b7dc2e",
   "metadata": {},
   "outputs": [],
   "source": [
    "cat_cols.append('enrolled_university')"
   ]
  },
  {
   "cell_type": "markdown",
   "id": "2b0b5413",
   "metadata": {},
   "source": [
    "#### 7) Education level"
   ]
  },
  {
   "cell_type": "code",
   "execution_count": 23,
   "id": "7d8901c3",
   "metadata": {
    "scrolled": true
   },
   "outputs": [
    {
     "data": {
      "text/plain": [
       "Graduate          12867\n",
       "Masters            4857\n",
       "High School        2239\n",
       "Phd                 468\n",
       "Primary School      344\n",
       "Name: education_level, dtype: int64"
      ]
     },
     "execution_count": 23,
     "metadata": {},
     "output_type": "execute_result"
    }
   ],
   "source": [
    "df['education_level'].value_counts()"
   ]
  },
  {
   "cell_type": "code",
   "execution_count": 24,
   "id": "baa168fd",
   "metadata": {},
   "outputs": [],
   "source": [
    "cat_cols.append('education_level')"
   ]
  },
  {
   "cell_type": "markdown",
   "id": "0d11b9bf",
   "metadata": {},
   "source": [
    "#### 8) Major discipline"
   ]
  },
  {
   "cell_type": "code",
   "execution_count": 25,
   "id": "09839523",
   "metadata": {},
   "outputs": [],
   "source": [
    "# Rename column\n",
    "df.rename(columns={'major_discipline':'major'}, inplace=True)"
   ]
  },
  {
   "cell_type": "code",
   "execution_count": 26,
   "id": "e2144fc7",
   "metadata": {},
   "outputs": [
    {
     "data": {
      "text/plain": [
       "STEM               16113\n",
       "Humanities           749\n",
       "Other                421\n",
       "Business Degree      364\n",
       "Arts                 270\n",
       "No Major             245\n",
       "Name: major, dtype: int64"
      ]
     },
     "execution_count": 26,
     "metadata": {},
     "output_type": "execute_result"
    }
   ],
   "source": [
    "df['major'].value_counts()"
   ]
  },
  {
   "cell_type": "code",
   "execution_count": 27,
   "id": "847666ad",
   "metadata": {},
   "outputs": [],
   "source": [
    "cat_cols.append('major')"
   ]
  },
  {
   "cell_type": "markdown",
   "id": "6f358300",
   "metadata": {},
   "source": [
    "#### 9) Experience"
   ]
  },
  {
   "cell_type": "code",
   "execution_count": 28,
   "id": "70f4458b",
   "metadata": {
    "scrolled": false
   },
   "outputs": [
    {
     "data": {
      "text/plain": [
       ">20    3669\n",
       "5      1593\n",
       "4      1548\n",
       "3      1508\n",
       "6      1346\n",
       "2      1255\n",
       "7      1144\n",
       "9      1093\n",
       "10     1081\n",
       "8       884\n",
       "11      750\n",
       "15      745\n",
       "14      641\n",
       "1       605\n",
       "<1      596\n",
       "16      576\n",
       "12      546\n",
       "13      453\n",
       "17      378\n",
       "19      333\n",
       "18      306\n",
       "20      167\n",
       "Name: experience, dtype: int64"
      ]
     },
     "execution_count": 28,
     "metadata": {},
     "output_type": "execute_result"
    }
   ],
   "source": [
    "df['experience'].value_counts()"
   ]
  },
  {
   "cell_type": "code",
   "execution_count": 29,
   "id": "5cff47af",
   "metadata": {},
   "outputs": [],
   "source": [
    "ord_cols.append('experience')"
   ]
  },
  {
   "cell_type": "markdown",
   "id": "f003eca5",
   "metadata": {},
   "source": [
    "#### 10) Company size"
   ]
  },
  {
   "cell_type": "code",
   "execution_count": 30,
   "id": "2be24398",
   "metadata": {
    "scrolled": false
   },
   "outputs": [
    {
     "data": {
      "text/plain": [
       "50-99        3421\n",
       "100-500      2889\n",
       "10000+       2236\n",
       "10/49        1643\n",
       "<10          1471\n",
       "1000-4999    1471\n",
       "500-999       965\n",
       "5000-9999     631\n",
       "Name: company_size, dtype: int64"
      ]
     },
     "execution_count": 30,
     "metadata": {},
     "output_type": "execute_result"
    }
   ],
   "source": [
    "df['company_size'].value_counts()"
   ]
  },
  {
   "cell_type": "code",
   "execution_count": 31,
   "id": "2c68ae1b",
   "metadata": {
    "scrolled": false
   },
   "outputs": [
    {
     "data": {
      "text/html": [
       "<div>\n",
       "<style scoped>\n",
       "    .dataframe tbody tr th:only-of-type {\n",
       "        vertical-align: middle;\n",
       "    }\n",
       "\n",
       "    .dataframe tbody tr th {\n",
       "        vertical-align: top;\n",
       "    }\n",
       "\n",
       "    .dataframe thead th {\n",
       "        text-align: right;\n",
       "    }\n",
       "</style>\n",
       "<table border=\"1\" class=\"dataframe\">\n",
       "  <thead>\n",
       "    <tr style=\"text-align: right;\">\n",
       "      <th></th>\n",
       "      <th>company_size</th>\n",
       "    </tr>\n",
       "  </thead>\n",
       "  <tbody>\n",
       "    <tr>\n",
       "      <th>15</th>\n",
       "      <td>10-49</td>\n",
       "    </tr>\n",
       "    <tr>\n",
       "      <th>16</th>\n",
       "      <td>50-99</td>\n",
       "    </tr>\n",
       "    <tr>\n",
       "      <th>17</th>\n",
       "      <td>5000-9999</td>\n",
       "    </tr>\n",
       "    <tr>\n",
       "      <th>18</th>\n",
       "      <td>10000+</td>\n",
       "    </tr>\n",
       "    <tr>\n",
       "      <th>19</th>\n",
       "      <td>NaN</td>\n",
       "    </tr>\n",
       "    <tr>\n",
       "      <th>20</th>\n",
       "      <td>100-499</td>\n",
       "    </tr>\n",
       "    <tr>\n",
       "      <th>21</th>\n",
       "      <td>100-499</td>\n",
       "    </tr>\n",
       "    <tr>\n",
       "      <th>22</th>\n",
       "      <td>NaN</td>\n",
       "    </tr>\n",
       "    <tr>\n",
       "      <th>23</th>\n",
       "      <td>1000-4999</td>\n",
       "    </tr>\n",
       "    <tr>\n",
       "      <th>24</th>\n",
       "      <td>1000-4999</td>\n",
       "    </tr>\n",
       "  </tbody>\n",
       "</table>\n",
       "</div>"
      ],
      "text/plain": [
       "   company_size\n",
       "15        10-49\n",
       "16        50-99\n",
       "17    5000-9999\n",
       "18       10000+\n",
       "19          NaN\n",
       "20      100-499\n",
       "21      100-499\n",
       "22          NaN\n",
       "23    1000-4999\n",
       "24    1000-4999"
      ]
     },
     "execution_count": 31,
     "metadata": {},
     "output_type": "execute_result"
    }
   ],
   "source": [
    "# Fix value 10/49 so that it's 10-49\n",
    "df['company_size'] = np.where(df['company_size']=='10/49', '10-49', df['company_size'])\n",
    "\n",
    "# Change 100-500 to 100-499\n",
    "df['company_size'] = np.where(df['company_size']=='100-500', '100-499', df['company_size'])\n",
    "\n",
    "df[['company_size']][15:25]"
   ]
  },
  {
   "cell_type": "code",
   "execution_count": 32,
   "id": "3dc0d38f",
   "metadata": {},
   "outputs": [],
   "source": [
    "ord_cols.append('company_size')"
   ]
  },
  {
   "cell_type": "markdown",
   "id": "8dcead5f",
   "metadata": {},
   "source": [
    "#### 11) Company type"
   ]
  },
  {
   "cell_type": "code",
   "execution_count": 33,
   "id": "2f530cf1",
   "metadata": {
    "scrolled": false
   },
   "outputs": [
    {
     "data": {
      "text/plain": [
       "Pvt Ltd                10958\n",
       "Funded Startup          1098\n",
       "Public Sector           1082\n",
       "Early Stage Startup      668\n",
       "NGO                      574\n",
       "Other                    133\n",
       "Name: company_type, dtype: int64"
      ]
     },
     "execution_count": 33,
     "metadata": {},
     "output_type": "execute_result"
    }
   ],
   "source": [
    "df['company_type'].value_counts()"
   ]
  },
  {
   "cell_type": "code",
   "execution_count": 34,
   "id": "90d876b9",
   "metadata": {},
   "outputs": [],
   "source": [
    "#Rename some values\n",
    "\n",
    "df['company_type'] = np.where(df['company_type']=='Pvt Ltd', 'private_limited', df['company_type'])\n",
    "df['company_type'] = np.where(df['company_type']=='Funded Startup', 'startup_funded', df['company_type'])\n",
    "df['company_type'] = np.where(df['company_type']=='Early Stage Startup', 'startup_earlystage', df['company_type'])\n",
    "df['company_type'] = np.where(df['company_type']=='Public Sector', 'public_sector', df['company_type'])"
   ]
  },
  {
   "cell_type": "code",
   "execution_count": 35,
   "id": "9b445ee8",
   "metadata": {},
   "outputs": [],
   "source": [
    "cat_cols.append('company_type')"
   ]
  },
  {
   "cell_type": "markdown",
   "id": "9f84baf2",
   "metadata": {},
   "source": [
    "#### 12) Last new job"
   ]
  },
  {
   "cell_type": "code",
   "execution_count": 36,
   "id": "2d1ec849",
   "metadata": {
    "scrolled": true
   },
   "outputs": [
    {
     "data": {
      "text/plain": [
       "1        8924\n",
       ">4       3643\n",
       "2        3242\n",
       "never    2710\n",
       "3        1157\n",
       "4        1148\n",
       "Name: last_new_job, dtype: int64"
      ]
     },
     "execution_count": 36,
     "metadata": {},
     "output_type": "execute_result"
    }
   ],
   "source": [
    "df['last_new_job'].value_counts()"
   ]
  },
  {
   "cell_type": "code",
   "execution_count": 37,
   "id": "5a13570e",
   "metadata": {},
   "outputs": [],
   "source": [
    "ord_cols.append('last_new_job')"
   ]
  },
  {
   "cell_type": "markdown",
   "id": "755bf379",
   "metadata": {},
   "source": [
    "#### 13) Training hours"
   ]
  },
  {
   "cell_type": "code",
   "execution_count": 38,
   "id": "7cddf1b0",
   "metadata": {},
   "outputs": [
    {
     "data": {
      "text/plain": [
       "28     354\n",
       "18     332\n",
       "12     332\n",
       "22     307\n",
       "50     307\n",
       "      ... \n",
       "294      6\n",
       "234      6\n",
       "272      6\n",
       "286      5\n",
       "238      4\n",
       "Name: training_hours, Length: 241, dtype: int64"
      ]
     },
     "execution_count": 38,
     "metadata": {},
     "output_type": "execute_result"
    }
   ],
   "source": [
    "df['training_hours'].value_counts()"
   ]
  },
  {
   "cell_type": "markdown",
   "id": "b7303171",
   "metadata": {},
   "source": [
    "#### 14) Target"
   ]
  },
  {
   "cell_type": "code",
   "execution_count": 39,
   "id": "b8c12b1a",
   "metadata": {},
   "outputs": [
    {
     "data": {
      "text/plain": [
       "0.0    14381\n",
       "1.0     4777\n",
       "Name: target, dtype: int64"
      ]
     },
     "execution_count": 39,
     "metadata": {},
     "output_type": "execute_result"
    }
   ],
   "source": [
    "df['target'].value_counts()"
   ]
  },
  {
   "cell_type": "markdown",
   "id": "1e98d07a",
   "metadata": {},
   "source": [
    "#### 15) Lists for encoding"
   ]
  },
  {
   "cell_type": "code",
   "execution_count": 40,
   "id": "4dcac65b",
   "metadata": {},
   "outputs": [
    {
     "data": {
      "text/plain": [
       "(['gender', 'enrolled_university', 'education_level', 'major', 'company_type'],\n",
       " ['experience', 'company_size', 'last_new_job'])"
      ]
     },
     "execution_count": 40,
     "metadata": {},
     "output_type": "execute_result"
    }
   ],
   "source": [
    "# Affirm column names are in appropriate lists\n",
    "cat_cols, ord_cols"
   ]
  },
  {
   "cell_type": "markdown",
   "id": "dd07e543",
   "metadata": {},
   "source": [
    "# II. Preprocessing"
   ]
  },
  {
   "cell_type": "markdown",
   "id": "1d8cf216",
   "metadata": {},
   "source": [
    "### a) Encode Categorical Columns"
   ]
  },
  {
   "cell_type": "code",
   "execution_count": 41,
   "id": "0268f1bd",
   "metadata": {},
   "outputs": [
    {
     "data": {
      "text/plain": [
       "enrollee_id            object\n",
       "city                   object\n",
       "gender                 object\n",
       "enrolled_university    object\n",
       "education_level        object\n",
       "major                  object\n",
       "experience             object\n",
       "company_size           object\n",
       "company_type           object\n",
       "last_new_job           object\n",
       "dtype: object"
      ]
     },
     "execution_count": 41,
     "metadata": {},
     "output_type": "execute_result"
    }
   ],
   "source": [
    "df.dtypes[df.dtypes=='object']"
   ]
  },
  {
   "cell_type": "markdown",
   "id": "68ecf8dc",
   "metadata": {},
   "source": [
    "#### 1) Ordinal Columns"
   ]
  },
  {
   "cell_type": "code",
   "execution_count": 42,
   "id": "fd86101a",
   "metadata": {},
   "outputs": [
    {
     "data": {
      "text/plain": [
       "['experience', 'company_size', 'last_new_job']"
      ]
     },
     "execution_count": 42,
     "metadata": {},
     "output_type": "execute_result"
    }
   ],
   "source": [
    "ord_cols"
   ]
  },
  {
   "cell_type": "code",
   "execution_count": 43,
   "id": "7bb9ce8e",
   "metadata": {},
   "outputs": [
    {
     "data": {
      "text/html": [
       "<div>\n",
       "<style scoped>\n",
       "    .dataframe tbody tr th:only-of-type {\n",
       "        vertical-align: middle;\n",
       "    }\n",
       "\n",
       "    .dataframe tbody tr th {\n",
       "        vertical-align: top;\n",
       "    }\n",
       "\n",
       "    .dataframe thead th {\n",
       "        text-align: right;\n",
       "    }\n",
       "</style>\n",
       "<table border=\"1\" class=\"dataframe\">\n",
       "  <thead>\n",
       "    <tr style=\"text-align: right;\">\n",
       "      <th></th>\n",
       "      <th>experience</th>\n",
       "      <th>company_size</th>\n",
       "      <th>last_new_job</th>\n",
       "    </tr>\n",
       "  </thead>\n",
       "  <tbody>\n",
       "    <tr>\n",
       "      <th>0</th>\n",
       "      <td>&gt;20</td>\n",
       "      <td>NaN</td>\n",
       "      <td>1</td>\n",
       "    </tr>\n",
       "    <tr>\n",
       "      <th>1</th>\n",
       "      <td>15</td>\n",
       "      <td>50-99</td>\n",
       "      <td>&gt;4</td>\n",
       "    </tr>\n",
       "    <tr>\n",
       "      <th>2</th>\n",
       "      <td>5</td>\n",
       "      <td>NaN</td>\n",
       "      <td>never</td>\n",
       "    </tr>\n",
       "    <tr>\n",
       "      <th>3</th>\n",
       "      <td>&lt;1</td>\n",
       "      <td>NaN</td>\n",
       "      <td>never</td>\n",
       "    </tr>\n",
       "    <tr>\n",
       "      <th>4</th>\n",
       "      <td>&gt;20</td>\n",
       "      <td>50-99</td>\n",
       "      <td>4</td>\n",
       "    </tr>\n",
       "  </tbody>\n",
       "</table>\n",
       "</div>"
      ],
      "text/plain": [
       "  experience company_size last_new_job\n",
       "0        >20          NaN            1\n",
       "1         15        50-99           >4\n",
       "2          5          NaN        never\n",
       "3         <1          NaN        never\n",
       "4        >20        50-99            4"
      ]
     },
     "execution_count": 43,
     "metadata": {},
     "output_type": "execute_result"
    }
   ],
   "source": [
    "df[ord_cols].head()"
   ]
  },
  {
   "cell_type": "code",
   "execution_count": 44,
   "id": "ceff9dfe",
   "metadata": {},
   "outputs": [],
   "source": [
    "ord_map = [\n",
    "    {'col': 'experience', \n",
    "     'mapping': {'<1':0, '1':1, '2':2, '3':3, '4':4, '5':5, '6':6, '7':7, '8':8, '9':9, '10':10, '11':11,\n",
    "                 '12':12,'13':13,'14':14,'15':15,'16':16,'17':17,'18':18,'19':19,'20':20,'>20':21}},\n",
    "    {'col': 'company_size',\n",
    "     'mapping': {'<10': 0, '10-49': 1, '50-99': 2, '100-499':3, '500-999':4, '1000-4999':5, '5000-9999':6, '10000+':7}},\n",
    "    {'col': 'last_new_job',\n",
    "     'mapping': {'never': 0, '1': 1, '2': 2, '3':3, '4':4, '>4':5}}\n",
    "]"
   ]
  },
  {
   "cell_type": "code",
   "execution_count": 45,
   "id": "7069e4df",
   "metadata": {
    "scrolled": true
   },
   "outputs": [],
   "source": [
    "encoder = ce.OrdinalEncoder(cols=ord_cols, mapping=ord_map, return_df=True, handle_unknown='return_nan', handle_missing='return_nan')\n",
    "\n",
    "df = encoder.fit_transform(df)"
   ]
  },
  {
   "cell_type": "code",
   "execution_count": 46,
   "id": "07e7f6bb",
   "metadata": {
    "scrolled": true
   },
   "outputs": [
    {
     "data": {
      "text/html": [
       "<div>\n",
       "<style scoped>\n",
       "    .dataframe tbody tr th:only-of-type {\n",
       "        vertical-align: middle;\n",
       "    }\n",
       "\n",
       "    .dataframe tbody tr th {\n",
       "        vertical-align: top;\n",
       "    }\n",
       "\n",
       "    .dataframe thead th {\n",
       "        text-align: right;\n",
       "    }\n",
       "</style>\n",
       "<table border=\"1\" class=\"dataframe\">\n",
       "  <thead>\n",
       "    <tr style=\"text-align: right;\">\n",
       "      <th></th>\n",
       "      <th>experience</th>\n",
       "      <th>company_size</th>\n",
       "      <th>last_new_job</th>\n",
       "    </tr>\n",
       "  </thead>\n",
       "  <tbody>\n",
       "    <tr>\n",
       "      <th>0</th>\n",
       "      <td>21.0</td>\n",
       "      <td>NaN</td>\n",
       "      <td>1.0</td>\n",
       "    </tr>\n",
       "    <tr>\n",
       "      <th>1</th>\n",
       "      <td>15.0</td>\n",
       "      <td>2.0</td>\n",
       "      <td>5.0</td>\n",
       "    </tr>\n",
       "    <tr>\n",
       "      <th>2</th>\n",
       "      <td>5.0</td>\n",
       "      <td>NaN</td>\n",
       "      <td>0.0</td>\n",
       "    </tr>\n",
       "    <tr>\n",
       "      <th>3</th>\n",
       "      <td>0.0</td>\n",
       "      <td>NaN</td>\n",
       "      <td>0.0</td>\n",
       "    </tr>\n",
       "    <tr>\n",
       "      <th>4</th>\n",
       "      <td>21.0</td>\n",
       "      <td>2.0</td>\n",
       "      <td>4.0</td>\n",
       "    </tr>\n",
       "  </tbody>\n",
       "</table>\n",
       "</div>"
      ],
      "text/plain": [
       "   experience  company_size  last_new_job\n",
       "0        21.0           NaN           1.0\n",
       "1        15.0           2.0           5.0\n",
       "2         5.0           NaN           0.0\n",
       "3         0.0           NaN           0.0\n",
       "4        21.0           2.0           4.0"
      ]
     },
     "execution_count": 46,
     "metadata": {},
     "output_type": "execute_result"
    }
   ],
   "source": [
    "df[ord_cols].head()"
   ]
  },
  {
   "cell_type": "code",
   "execution_count": 47,
   "id": "584660ae",
   "metadata": {
    "scrolled": false
   },
   "outputs": [
    {
     "data": {
      "text/plain": [
       "experience      float64\n",
       "company_size    float64\n",
       "last_new_job    float64\n",
       "dtype: object"
      ]
     },
     "execution_count": 47,
     "metadata": {},
     "output_type": "execute_result"
    }
   ],
   "source": [
    "df[ord_cols].dtypes"
   ]
  },
  {
   "cell_type": "markdown",
   "id": "c7b64bfb",
   "metadata": {},
   "source": [
    "After imputing missing values, these columns will be converted to int"
   ]
  },
  {
   "cell_type": "markdown",
   "id": "8cb92179",
   "metadata": {},
   "source": [
    "#### 2) One-Hot Encoding Columns"
   ]
  },
  {
   "cell_type": "code",
   "execution_count": 50,
   "id": "a8e8befe",
   "metadata": {},
   "outputs": [
    {
     "data": {
      "text/plain": [
       "['gender', 'enrolled_university', 'education_level', 'major', 'company_type']"
      ]
     },
     "execution_count": 50,
     "metadata": {},
     "output_type": "execute_result"
    }
   ],
   "source": [
    "cat_cols"
   ]
  },
  {
   "cell_type": "code",
   "execution_count": 51,
   "id": "5cdbb8d0",
   "metadata": {},
   "outputs": [],
   "source": [
    "encoder = ce.OneHotEncoder(cols=cat_cols, return_df=True, use_cat_names=True,\n",
    "                           handle_unknown='return_nan', handle_missing='return_nan')\n",
    "\n",
    "df = encoder.fit_transform(df)"
   ]
  },
  {
   "cell_type": "code",
   "execution_count": 52,
   "id": "4f57136c",
   "metadata": {},
   "outputs": [
    {
     "data": {
      "text/html": [
       "<div>\n",
       "<style scoped>\n",
       "    .dataframe tbody tr th:only-of-type {\n",
       "        vertical-align: middle;\n",
       "    }\n",
       "\n",
       "    .dataframe tbody tr th {\n",
       "        vertical-align: top;\n",
       "    }\n",
       "\n",
       "    .dataframe thead th {\n",
       "        text-align: right;\n",
       "    }\n",
       "</style>\n",
       "<table border=\"1\" class=\"dataframe\">\n",
       "  <thead>\n",
       "    <tr style=\"text-align: right;\">\n",
       "      <th></th>\n",
       "      <th>gender_Male</th>\n",
       "      <th>gender_nan</th>\n",
       "      <th>gender_Female</th>\n",
       "      <th>gender_Other</th>\n",
       "      <th>enrolled_university_no_enrollment</th>\n",
       "      <th>enrolled_university_full_time</th>\n",
       "      <th>enrolled_university_nan</th>\n",
       "      <th>enrolled_university_part_time</th>\n",
       "      <th>education_level_Graduate</th>\n",
       "      <th>education_level_Masters</th>\n",
       "      <th>...</th>\n",
       "      <th>major_Humanities</th>\n",
       "      <th>major_No Major</th>\n",
       "      <th>major_Other</th>\n",
       "      <th>company_type_nan</th>\n",
       "      <th>company_type_private_limited</th>\n",
       "      <th>company_type_startup_funded</th>\n",
       "      <th>company_type_startup_earlystage</th>\n",
       "      <th>company_type_Other</th>\n",
       "      <th>company_type_public_sector</th>\n",
       "      <th>company_type_NGO</th>\n",
       "    </tr>\n",
       "  </thead>\n",
       "  <tbody>\n",
       "    <tr>\n",
       "      <th>0</th>\n",
       "      <td>1.0</td>\n",
       "      <td>0.0</td>\n",
       "      <td>0.0</td>\n",
       "      <td>0.0</td>\n",
       "      <td>1.0</td>\n",
       "      <td>0.0</td>\n",
       "      <td>0.0</td>\n",
       "      <td>0.0</td>\n",
       "      <td>1.0</td>\n",
       "      <td>0.0</td>\n",
       "      <td>...</td>\n",
       "      <td>0.0</td>\n",
       "      <td>0.0</td>\n",
       "      <td>0.0</td>\n",
       "      <td>NaN</td>\n",
       "      <td>NaN</td>\n",
       "      <td>NaN</td>\n",
       "      <td>NaN</td>\n",
       "      <td>NaN</td>\n",
       "      <td>NaN</td>\n",
       "      <td>NaN</td>\n",
       "    </tr>\n",
       "    <tr>\n",
       "      <th>1</th>\n",
       "      <td>1.0</td>\n",
       "      <td>0.0</td>\n",
       "      <td>0.0</td>\n",
       "      <td>0.0</td>\n",
       "      <td>1.0</td>\n",
       "      <td>0.0</td>\n",
       "      <td>0.0</td>\n",
       "      <td>0.0</td>\n",
       "      <td>1.0</td>\n",
       "      <td>0.0</td>\n",
       "      <td>...</td>\n",
       "      <td>0.0</td>\n",
       "      <td>0.0</td>\n",
       "      <td>0.0</td>\n",
       "      <td>0.0</td>\n",
       "      <td>1.0</td>\n",
       "      <td>0.0</td>\n",
       "      <td>0.0</td>\n",
       "      <td>0.0</td>\n",
       "      <td>0.0</td>\n",
       "      <td>0.0</td>\n",
       "    </tr>\n",
       "    <tr>\n",
       "      <th>2</th>\n",
       "      <td>NaN</td>\n",
       "      <td>NaN</td>\n",
       "      <td>NaN</td>\n",
       "      <td>NaN</td>\n",
       "      <td>0.0</td>\n",
       "      <td>1.0</td>\n",
       "      <td>0.0</td>\n",
       "      <td>0.0</td>\n",
       "      <td>1.0</td>\n",
       "      <td>0.0</td>\n",
       "      <td>...</td>\n",
       "      <td>0.0</td>\n",
       "      <td>0.0</td>\n",
       "      <td>0.0</td>\n",
       "      <td>NaN</td>\n",
       "      <td>NaN</td>\n",
       "      <td>NaN</td>\n",
       "      <td>NaN</td>\n",
       "      <td>NaN</td>\n",
       "      <td>NaN</td>\n",
       "      <td>NaN</td>\n",
       "    </tr>\n",
       "    <tr>\n",
       "      <th>3</th>\n",
       "      <td>NaN</td>\n",
       "      <td>NaN</td>\n",
       "      <td>NaN</td>\n",
       "      <td>NaN</td>\n",
       "      <td>NaN</td>\n",
       "      <td>NaN</td>\n",
       "      <td>NaN</td>\n",
       "      <td>NaN</td>\n",
       "      <td>1.0</td>\n",
       "      <td>0.0</td>\n",
       "      <td>...</td>\n",
       "      <td>0.0</td>\n",
       "      <td>0.0</td>\n",
       "      <td>0.0</td>\n",
       "      <td>0.0</td>\n",
       "      <td>1.0</td>\n",
       "      <td>0.0</td>\n",
       "      <td>0.0</td>\n",
       "      <td>0.0</td>\n",
       "      <td>0.0</td>\n",
       "      <td>0.0</td>\n",
       "    </tr>\n",
       "    <tr>\n",
       "      <th>4</th>\n",
       "      <td>1.0</td>\n",
       "      <td>0.0</td>\n",
       "      <td>0.0</td>\n",
       "      <td>0.0</td>\n",
       "      <td>1.0</td>\n",
       "      <td>0.0</td>\n",
       "      <td>0.0</td>\n",
       "      <td>0.0</td>\n",
       "      <td>0.0</td>\n",
       "      <td>1.0</td>\n",
       "      <td>...</td>\n",
       "      <td>0.0</td>\n",
       "      <td>0.0</td>\n",
       "      <td>0.0</td>\n",
       "      <td>0.0</td>\n",
       "      <td>0.0</td>\n",
       "      <td>1.0</td>\n",
       "      <td>0.0</td>\n",
       "      <td>0.0</td>\n",
       "      <td>0.0</td>\n",
       "      <td>0.0</td>\n",
       "    </tr>\n",
       "  </tbody>\n",
       "</table>\n",
       "<p>5 rows × 28 columns</p>\n",
       "</div>"
      ],
      "text/plain": [
       "   gender_Male  gender_nan  gender_Female  gender_Other  \\\n",
       "0          1.0         0.0            0.0           0.0   \n",
       "1          1.0         0.0            0.0           0.0   \n",
       "2          NaN         NaN            NaN           NaN   \n",
       "3          NaN         NaN            NaN           NaN   \n",
       "4          1.0         0.0            0.0           0.0   \n",
       "\n",
       "   enrolled_university_no_enrollment  enrolled_university_full_time  \\\n",
       "0                                1.0                            0.0   \n",
       "1                                1.0                            0.0   \n",
       "2                                0.0                            1.0   \n",
       "3                                NaN                            NaN   \n",
       "4                                1.0                            0.0   \n",
       "\n",
       "   enrolled_university_nan  enrolled_university_part_time  \\\n",
       "0                      0.0                            0.0   \n",
       "1                      0.0                            0.0   \n",
       "2                      0.0                            0.0   \n",
       "3                      NaN                            NaN   \n",
       "4                      0.0                            0.0   \n",
       "\n",
       "   education_level_Graduate  education_level_Masters  ...  major_Humanities  \\\n",
       "0                       1.0                      0.0  ...               0.0   \n",
       "1                       1.0                      0.0  ...               0.0   \n",
       "2                       1.0                      0.0  ...               0.0   \n",
       "3                       1.0                      0.0  ...               0.0   \n",
       "4                       0.0                      1.0  ...               0.0   \n",
       "\n",
       "   major_No Major  major_Other  company_type_nan  \\\n",
       "0             0.0          0.0               NaN   \n",
       "1             0.0          0.0               0.0   \n",
       "2             0.0          0.0               NaN   \n",
       "3             0.0          0.0               0.0   \n",
       "4             0.0          0.0               0.0   \n",
       "\n",
       "   company_type_private_limited  company_type_startup_funded  \\\n",
       "0                           NaN                          NaN   \n",
       "1                           1.0                          0.0   \n",
       "2                           NaN                          NaN   \n",
       "3                           1.0                          0.0   \n",
       "4                           0.0                          1.0   \n",
       "\n",
       "   company_type_startup_earlystage  company_type_Other  \\\n",
       "0                              NaN                 NaN   \n",
       "1                              0.0                 0.0   \n",
       "2                              NaN                 NaN   \n",
       "3                              0.0                 0.0   \n",
       "4                              0.0                 0.0   \n",
       "\n",
       "   company_type_public_sector  company_type_NGO  \n",
       "0                         NaN               NaN  \n",
       "1                         0.0               0.0  \n",
       "2                         NaN               NaN  \n",
       "3                         0.0               0.0  \n",
       "4                         0.0               0.0  \n",
       "\n",
       "[5 rows x 28 columns]"
      ]
     },
     "execution_count": 52,
     "metadata": {},
     "output_type": "execute_result"
    }
   ],
   "source": [
    "cat_cols2 = []\n",
    "for i in cat_cols:\n",
    "    for col_name in df.columns:\n",
    "        if i in col_name:\n",
    "            cat_cols2.append(col_name)\n",
    "df[cat_cols2].head()"
   ]
  },
  {
   "cell_type": "markdown",
   "id": "232f8670",
   "metadata": {},
   "source": [
    "#### 3) Ensure no more object dtypes (other than identifier)"
   ]
  },
  {
   "cell_type": "code",
   "execution_count": 53,
   "id": "149be75d",
   "metadata": {},
   "outputs": [
    {
     "data": {
      "text/plain": [
       "enrollee_id    object\n",
       "city           object\n",
       "dtype: object"
      ]
     },
     "execution_count": 53,
     "metadata": {},
     "output_type": "execute_result"
    }
   ],
   "source": [
    "df.dtypes[df.dtypes=='object']"
   ]
  },
  {
   "cell_type": "markdown",
   "id": "75561bd6",
   "metadata": {},
   "source": [
    "### b) Impute Missing Values"
   ]
  },
  {
   "cell_type": "markdown",
   "id": "1aaae351",
   "metadata": {},
   "source": [
    "#### 1) Ordinal Columns"
   ]
  },
  {
   "cell_type": "code",
   "execution_count": 54,
   "id": "8ca6c717",
   "metadata": {},
   "outputs": [
    {
     "data": {
      "text/html": [
       "<div>\n",
       "<style scoped>\n",
       "    .dataframe tbody tr th:only-of-type {\n",
       "        vertical-align: middle;\n",
       "    }\n",
       "\n",
       "    .dataframe tbody tr th {\n",
       "        vertical-align: top;\n",
       "    }\n",
       "\n",
       "    .dataframe thead th {\n",
       "        text-align: right;\n",
       "    }\n",
       "</style>\n",
       "<table border=\"1\" class=\"dataframe\">\n",
       "  <thead>\n",
       "    <tr style=\"text-align: right;\">\n",
       "      <th></th>\n",
       "      <th>Total NA</th>\n",
       "      <th>% NA</th>\n",
       "    </tr>\n",
       "  </thead>\n",
       "  <tbody>\n",
       "    <tr>\n",
       "      <th>experience</th>\n",
       "      <td>70</td>\n",
       "      <td>0.33</td>\n",
       "    </tr>\n",
       "    <tr>\n",
       "      <th>company_size</th>\n",
       "      <td>6560</td>\n",
       "      <td>30.82</td>\n",
       "    </tr>\n",
       "    <tr>\n",
       "      <th>last_new_job</th>\n",
       "      <td>463</td>\n",
       "      <td>2.18</td>\n",
       "    </tr>\n",
       "  </tbody>\n",
       "</table>\n",
       "</div>"
      ],
      "text/plain": [
       "              Total NA   % NA\n",
       "experience          70   0.33\n",
       "company_size      6560  30.82\n",
       "last_new_job       463   2.18"
      ]
     },
     "execution_count": 54,
     "metadata": {},
     "output_type": "execute_result"
    }
   ],
   "source": [
    "# Number of NAs in each column\n",
    "\n",
    "perc_na = round(df[ord_cols].isna().sum() * 100 / len(df[ord_cols]), 2)\n",
    "\n",
    "pd.DataFrame({'Total NA':df[ord_cols].isna().sum(), '% NA':perc_na})"
   ]
  },
  {
   "cell_type": "code",
   "execution_count": 55,
   "id": "e48bad70",
   "metadata": {
    "scrolled": true
   },
   "outputs": [
    {
     "data": {
      "text/html": [
       "<div>\n",
       "<style scoped>\n",
       "    .dataframe tbody tr th:only-of-type {\n",
       "        vertical-align: middle;\n",
       "    }\n",
       "\n",
       "    .dataframe tbody tr th {\n",
       "        vertical-align: top;\n",
       "    }\n",
       "\n",
       "    .dataframe thead th {\n",
       "        text-align: right;\n",
       "    }\n",
       "</style>\n",
       "<table border=\"1\" class=\"dataframe\">\n",
       "  <thead>\n",
       "    <tr style=\"text-align: right;\">\n",
       "      <th></th>\n",
       "      <th>experience</th>\n",
       "      <th>company_size</th>\n",
       "      <th>last_new_job</th>\n",
       "    </tr>\n",
       "  </thead>\n",
       "  <tbody>\n",
       "    <tr>\n",
       "      <th>0</th>\n",
       "      <td>21.0</td>\n",
       "      <td>2.6</td>\n",
       "      <td>1.0</td>\n",
       "    </tr>\n",
       "    <tr>\n",
       "      <th>1</th>\n",
       "      <td>15.0</td>\n",
       "      <td>2.0</td>\n",
       "      <td>5.0</td>\n",
       "    </tr>\n",
       "    <tr>\n",
       "      <th>2</th>\n",
       "      <td>5.0</td>\n",
       "      <td>3.0</td>\n",
       "      <td>0.0</td>\n",
       "    </tr>\n",
       "    <tr>\n",
       "      <th>3</th>\n",
       "      <td>0.0</td>\n",
       "      <td>1.0</td>\n",
       "      <td>0.0</td>\n",
       "    </tr>\n",
       "    <tr>\n",
       "      <th>4</th>\n",
       "      <td>21.0</td>\n",
       "      <td>2.0</td>\n",
       "      <td>4.0</td>\n",
       "    </tr>\n",
       "  </tbody>\n",
       "</table>\n",
       "</div>"
      ],
      "text/plain": [
       "   experience  company_size  last_new_job\n",
       "0        21.0           2.6           1.0\n",
       "1        15.0           2.0           5.0\n",
       "2         5.0           3.0           0.0\n",
       "3         0.0           1.0           0.0\n",
       "4        21.0           2.0           4.0"
      ]
     },
     "execution_count": 55,
     "metadata": {},
     "output_type": "execute_result"
    }
   ],
   "source": [
    "KNN_imputer = KNNImputer()\n",
    "\n",
    "df[ord_cols] = KNN_imputer.fit_transform(df[ord_cols])\n",
    "df[ord_cols].head()"
   ]
  },
  {
   "cell_type": "code",
   "execution_count": 56,
   "id": "e9e7fefd",
   "metadata": {
    "scrolled": false
   },
   "outputs": [
    {
     "data": {
      "text/html": [
       "<div>\n",
       "<style scoped>\n",
       "    .dataframe tbody tr th:only-of-type {\n",
       "        vertical-align: middle;\n",
       "    }\n",
       "\n",
       "    .dataframe tbody tr th {\n",
       "        vertical-align: top;\n",
       "    }\n",
       "\n",
       "    .dataframe thead th {\n",
       "        text-align: right;\n",
       "    }\n",
       "</style>\n",
       "<table border=\"1\" class=\"dataframe\">\n",
       "  <thead>\n",
       "    <tr style=\"text-align: right;\">\n",
       "      <th></th>\n",
       "      <th>experience</th>\n",
       "      <th>company_size</th>\n",
       "      <th>last_new_job</th>\n",
       "    </tr>\n",
       "  </thead>\n",
       "  <tbody>\n",
       "    <tr>\n",
       "      <th>0</th>\n",
       "      <td>21.0</td>\n",
       "      <td>3.0</td>\n",
       "      <td>1.0</td>\n",
       "    </tr>\n",
       "    <tr>\n",
       "      <th>1</th>\n",
       "      <td>15.0</td>\n",
       "      <td>2.0</td>\n",
       "      <td>5.0</td>\n",
       "    </tr>\n",
       "    <tr>\n",
       "      <th>2</th>\n",
       "      <td>5.0</td>\n",
       "      <td>3.0</td>\n",
       "      <td>0.0</td>\n",
       "    </tr>\n",
       "    <tr>\n",
       "      <th>3</th>\n",
       "      <td>0.0</td>\n",
       "      <td>1.0</td>\n",
       "      <td>0.0</td>\n",
       "    </tr>\n",
       "    <tr>\n",
       "      <th>4</th>\n",
       "      <td>21.0</td>\n",
       "      <td>2.0</td>\n",
       "      <td>4.0</td>\n",
       "    </tr>\n",
       "  </tbody>\n",
       "</table>\n",
       "</div>"
      ],
      "text/plain": [
       "   experience  company_size  last_new_job\n",
       "0        21.0           3.0           1.0\n",
       "1        15.0           2.0           5.0\n",
       "2         5.0           3.0           0.0\n",
       "3         0.0           1.0           0.0\n",
       "4        21.0           2.0           4.0"
      ]
     },
     "execution_count": 56,
     "metadata": {},
     "output_type": "execute_result"
    }
   ],
   "source": [
    "# Convert ord cols to int\n",
    "df[ord_cols] = round(df[ord_cols], 0)\n",
    "df[ord_cols].head()"
   ]
  },
  {
   "cell_type": "code",
   "execution_count": 57,
   "id": "eda3d91b",
   "metadata": {
    "scrolled": true
   },
   "outputs": [
    {
     "data": {
      "text/plain": [
       "22"
      ]
     },
     "execution_count": 57,
     "metadata": {},
     "output_type": "execute_result"
    }
   ],
   "source": [
    "len(df['experience'].value_counts())"
   ]
  },
  {
   "cell_type": "code",
   "execution_count": 58,
   "id": "ec51494f",
   "metadata": {},
   "outputs": [
    {
     "data": {
      "text/plain": [
       "3.0    6348\n",
       "2.0    4988\n",
       "7.0    2236\n",
       "1.0    1970\n",
       "4.0    1819\n",
       "5.0    1757\n",
       "0.0    1471\n",
       "6.0     698\n",
       "Name: company_size, dtype: int64"
      ]
     },
     "execution_count": 58,
     "metadata": {},
     "output_type": "execute_result"
    }
   ],
   "source": [
    "df['company_size'].value_counts()"
   ]
  },
  {
   "cell_type": "code",
   "execution_count": 59,
   "id": "229ab67b",
   "metadata": {},
   "outputs": [
    {
     "data": {
      "text/plain": [
       "1.0    9098\n",
       "5.0    3643\n",
       "2.0    3385\n",
       "0.0    2789\n",
       "3.0    1198\n",
       "4.0    1174\n",
       "Name: last_new_job, dtype: int64"
      ]
     },
     "execution_count": 59,
     "metadata": {},
     "output_type": "execute_result"
    }
   ],
   "source": [
    "df['last_new_job'].value_counts()"
   ]
  },
  {
   "cell_type": "markdown",
   "id": "efbc1645",
   "metadata": {},
   "source": [
    "Looks good!"
   ]
  },
  {
   "cell_type": "markdown",
   "id": "afd8de1c",
   "metadata": {},
   "source": [
    "#### 2) One-Hot Columns"
   ]
  },
  {
   "cell_type": "code",
   "execution_count": 60,
   "id": "ff2e4a99",
   "metadata": {},
   "outputs": [
    {
     "data": {
      "text/html": [
       "<div>\n",
       "<style scoped>\n",
       "    .dataframe tbody tr th:only-of-type {\n",
       "        vertical-align: middle;\n",
       "    }\n",
       "\n",
       "    .dataframe tbody tr th {\n",
       "        vertical-align: top;\n",
       "    }\n",
       "\n",
       "    .dataframe thead th {\n",
       "        text-align: right;\n",
       "    }\n",
       "</style>\n",
       "<table border=\"1\" class=\"dataframe\">\n",
       "  <thead>\n",
       "    <tr style=\"text-align: right;\">\n",
       "      <th></th>\n",
       "      <th>Total NA</th>\n",
       "      <th>% NA</th>\n",
       "    </tr>\n",
       "  </thead>\n",
       "  <tbody>\n",
       "    <tr>\n",
       "      <th>gender_Male</th>\n",
       "      <td>5016</td>\n",
       "      <td>23.56</td>\n",
       "    </tr>\n",
       "    <tr>\n",
       "      <th>gender_nan</th>\n",
       "      <td>5016</td>\n",
       "      <td>23.56</td>\n",
       "    </tr>\n",
       "    <tr>\n",
       "      <th>gender_Female</th>\n",
       "      <td>5016</td>\n",
       "      <td>23.56</td>\n",
       "    </tr>\n",
       "    <tr>\n",
       "      <th>gender_Other</th>\n",
       "      <td>5016</td>\n",
       "      <td>23.56</td>\n",
       "    </tr>\n",
       "    <tr>\n",
       "      <th>enrolled_university_no_enrollment</th>\n",
       "      <td>417</td>\n",
       "      <td>1.96</td>\n",
       "    </tr>\n",
       "    <tr>\n",
       "      <th>enrolled_university_full_time</th>\n",
       "      <td>417</td>\n",
       "      <td>1.96</td>\n",
       "    </tr>\n",
       "    <tr>\n",
       "      <th>enrolled_university_nan</th>\n",
       "      <td>417</td>\n",
       "      <td>1.96</td>\n",
       "    </tr>\n",
       "    <tr>\n",
       "      <th>enrolled_university_part_time</th>\n",
       "      <td>417</td>\n",
       "      <td>1.96</td>\n",
       "    </tr>\n",
       "    <tr>\n",
       "      <th>education_level_Graduate</th>\n",
       "      <td>512</td>\n",
       "      <td>2.41</td>\n",
       "    </tr>\n",
       "    <tr>\n",
       "      <th>education_level_Masters</th>\n",
       "      <td>512</td>\n",
       "      <td>2.41</td>\n",
       "    </tr>\n",
       "    <tr>\n",
       "      <th>education_level_High School</th>\n",
       "      <td>512</td>\n",
       "      <td>2.41</td>\n",
       "    </tr>\n",
       "    <tr>\n",
       "      <th>education_level_nan</th>\n",
       "      <td>512</td>\n",
       "      <td>2.41</td>\n",
       "    </tr>\n",
       "    <tr>\n",
       "      <th>education_level_Phd</th>\n",
       "      <td>512</td>\n",
       "      <td>2.41</td>\n",
       "    </tr>\n",
       "    <tr>\n",
       "      <th>education_level_Primary School</th>\n",
       "      <td>512</td>\n",
       "      <td>2.41</td>\n",
       "    </tr>\n",
       "    <tr>\n",
       "      <th>major_STEM</th>\n",
       "      <td>3125</td>\n",
       "      <td>14.68</td>\n",
       "    </tr>\n",
       "    <tr>\n",
       "      <th>major_Business Degree</th>\n",
       "      <td>3125</td>\n",
       "      <td>14.68</td>\n",
       "    </tr>\n",
       "    <tr>\n",
       "      <th>major_nan</th>\n",
       "      <td>3125</td>\n",
       "      <td>14.68</td>\n",
       "    </tr>\n",
       "    <tr>\n",
       "      <th>major_Arts</th>\n",
       "      <td>3125</td>\n",
       "      <td>14.68</td>\n",
       "    </tr>\n",
       "    <tr>\n",
       "      <th>major_Humanities</th>\n",
       "      <td>3125</td>\n",
       "      <td>14.68</td>\n",
       "    </tr>\n",
       "    <tr>\n",
       "      <th>major_No Major</th>\n",
       "      <td>3125</td>\n",
       "      <td>14.68</td>\n",
       "    </tr>\n",
       "    <tr>\n",
       "      <th>major_Other</th>\n",
       "      <td>3125</td>\n",
       "      <td>14.68</td>\n",
       "    </tr>\n",
       "    <tr>\n",
       "      <th>company_type_nan</th>\n",
       "      <td>6774</td>\n",
       "      <td>31.82</td>\n",
       "    </tr>\n",
       "    <tr>\n",
       "      <th>company_type_private_limited</th>\n",
       "      <td>6774</td>\n",
       "      <td>31.82</td>\n",
       "    </tr>\n",
       "    <tr>\n",
       "      <th>company_type_startup_funded</th>\n",
       "      <td>6774</td>\n",
       "      <td>31.82</td>\n",
       "    </tr>\n",
       "    <tr>\n",
       "      <th>company_type_startup_earlystage</th>\n",
       "      <td>6774</td>\n",
       "      <td>31.82</td>\n",
       "    </tr>\n",
       "    <tr>\n",
       "      <th>company_type_Other</th>\n",
       "      <td>6774</td>\n",
       "      <td>31.82</td>\n",
       "    </tr>\n",
       "    <tr>\n",
       "      <th>company_type_public_sector</th>\n",
       "      <td>6774</td>\n",
       "      <td>31.82</td>\n",
       "    </tr>\n",
       "    <tr>\n",
       "      <th>company_type_NGO</th>\n",
       "      <td>6774</td>\n",
       "      <td>31.82</td>\n",
       "    </tr>\n",
       "  </tbody>\n",
       "</table>\n",
       "</div>"
      ],
      "text/plain": [
       "                                   Total NA   % NA\n",
       "gender_Male                            5016  23.56\n",
       "gender_nan                             5016  23.56\n",
       "gender_Female                          5016  23.56\n",
       "gender_Other                           5016  23.56\n",
       "enrolled_university_no_enrollment       417   1.96\n",
       "enrolled_university_full_time           417   1.96\n",
       "enrolled_university_nan                 417   1.96\n",
       "enrolled_university_part_time           417   1.96\n",
       "education_level_Graduate                512   2.41\n",
       "education_level_Masters                 512   2.41\n",
       "education_level_High School             512   2.41\n",
       "education_level_nan                     512   2.41\n",
       "education_level_Phd                     512   2.41\n",
       "education_level_Primary School          512   2.41\n",
       "major_STEM                             3125  14.68\n",
       "major_Business Degree                  3125  14.68\n",
       "major_nan                              3125  14.68\n",
       "major_Arts                             3125  14.68\n",
       "major_Humanities                       3125  14.68\n",
       "major_No Major                         3125  14.68\n",
       "major_Other                            3125  14.68\n",
       "company_type_nan                       6774  31.82\n",
       "company_type_private_limited           6774  31.82\n",
       "company_type_startup_funded            6774  31.82\n",
       "company_type_startup_earlystage        6774  31.82\n",
       "company_type_Other                     6774  31.82\n",
       "company_type_public_sector             6774  31.82\n",
       "company_type_NGO                       6774  31.82"
      ]
     },
     "execution_count": 60,
     "metadata": {},
     "output_type": "execute_result"
    }
   ],
   "source": [
    "# Number of NAs in each column\n",
    "\n",
    "perc_na = round(df[cat_cols2].isna().sum() * 100 / len(df[cat_cols2]), 2)\n",
    "\n",
    "pd.DataFrame({'Total NA':df[cat_cols2].isna().sum(), '% NA':perc_na})"
   ]
  },
  {
   "cell_type": "code",
   "execution_count": 61,
   "id": "8a066f15",
   "metadata": {},
   "outputs": [
    {
     "data": {
      "text/html": [
       "<div>\n",
       "<style scoped>\n",
       "    .dataframe tbody tr th:only-of-type {\n",
       "        vertical-align: middle;\n",
       "    }\n",
       "\n",
       "    .dataframe tbody tr th {\n",
       "        vertical-align: top;\n",
       "    }\n",
       "\n",
       "    .dataframe thead th {\n",
       "        text-align: right;\n",
       "    }\n",
       "</style>\n",
       "<table border=\"1\" class=\"dataframe\">\n",
       "  <thead>\n",
       "    <tr style=\"text-align: right;\">\n",
       "      <th></th>\n",
       "      <th>enrollee_id</th>\n",
       "      <th>city</th>\n",
       "      <th>city_development_index</th>\n",
       "      <th>gender_Male</th>\n",
       "      <th>gender_Female</th>\n",
       "      <th>gender_Other</th>\n",
       "      <th>relevent_experience</th>\n",
       "      <th>enrolled_university_no_enrollment</th>\n",
       "      <th>enrolled_university_full_time</th>\n",
       "      <th>enrolled_university_part_time</th>\n",
       "      <th>...</th>\n",
       "      <th>company_size</th>\n",
       "      <th>company_type_private_limited</th>\n",
       "      <th>company_type_startup_funded</th>\n",
       "      <th>company_type_startup_earlystage</th>\n",
       "      <th>company_type_Other</th>\n",
       "      <th>company_type_public_sector</th>\n",
       "      <th>company_type_NGO</th>\n",
       "      <th>last_new_job</th>\n",
       "      <th>training_hours</th>\n",
       "      <th>target</th>\n",
       "    </tr>\n",
       "  </thead>\n",
       "  <tbody>\n",
       "    <tr>\n",
       "      <th>0</th>\n",
       "      <td>8949</td>\n",
       "      <td>city_103</td>\n",
       "      <td>0.920</td>\n",
       "      <td>1.0</td>\n",
       "      <td>0.0</td>\n",
       "      <td>0.0</td>\n",
       "      <td>1</td>\n",
       "      <td>1.0</td>\n",
       "      <td>0.0</td>\n",
       "      <td>0.0</td>\n",
       "      <td>...</td>\n",
       "      <td>3.0</td>\n",
       "      <td>NaN</td>\n",
       "      <td>NaN</td>\n",
       "      <td>NaN</td>\n",
       "      <td>NaN</td>\n",
       "      <td>NaN</td>\n",
       "      <td>NaN</td>\n",
       "      <td>1.0</td>\n",
       "      <td>36</td>\n",
       "      <td>1.0</td>\n",
       "    </tr>\n",
       "    <tr>\n",
       "      <th>1</th>\n",
       "      <td>29725</td>\n",
       "      <td>city_40</td>\n",
       "      <td>0.776</td>\n",
       "      <td>1.0</td>\n",
       "      <td>0.0</td>\n",
       "      <td>0.0</td>\n",
       "      <td>0</td>\n",
       "      <td>1.0</td>\n",
       "      <td>0.0</td>\n",
       "      <td>0.0</td>\n",
       "      <td>...</td>\n",
       "      <td>2.0</td>\n",
       "      <td>1.0</td>\n",
       "      <td>0.0</td>\n",
       "      <td>0.0</td>\n",
       "      <td>0.0</td>\n",
       "      <td>0.0</td>\n",
       "      <td>0.0</td>\n",
       "      <td>5.0</td>\n",
       "      <td>47</td>\n",
       "      <td>0.0</td>\n",
       "    </tr>\n",
       "    <tr>\n",
       "      <th>2</th>\n",
       "      <td>11561</td>\n",
       "      <td>city_21</td>\n",
       "      <td>0.624</td>\n",
       "      <td>NaN</td>\n",
       "      <td>NaN</td>\n",
       "      <td>NaN</td>\n",
       "      <td>0</td>\n",
       "      <td>0.0</td>\n",
       "      <td>1.0</td>\n",
       "      <td>0.0</td>\n",
       "      <td>...</td>\n",
       "      <td>3.0</td>\n",
       "      <td>NaN</td>\n",
       "      <td>NaN</td>\n",
       "      <td>NaN</td>\n",
       "      <td>NaN</td>\n",
       "      <td>NaN</td>\n",
       "      <td>NaN</td>\n",
       "      <td>0.0</td>\n",
       "      <td>83</td>\n",
       "      <td>0.0</td>\n",
       "    </tr>\n",
       "    <tr>\n",
       "      <th>3</th>\n",
       "      <td>33241</td>\n",
       "      <td>city_115</td>\n",
       "      <td>0.789</td>\n",
       "      <td>NaN</td>\n",
       "      <td>NaN</td>\n",
       "      <td>NaN</td>\n",
       "      <td>0</td>\n",
       "      <td>NaN</td>\n",
       "      <td>NaN</td>\n",
       "      <td>NaN</td>\n",
       "      <td>...</td>\n",
       "      <td>1.0</td>\n",
       "      <td>1.0</td>\n",
       "      <td>0.0</td>\n",
       "      <td>0.0</td>\n",
       "      <td>0.0</td>\n",
       "      <td>0.0</td>\n",
       "      <td>0.0</td>\n",
       "      <td>0.0</td>\n",
       "      <td>52</td>\n",
       "      <td>1.0</td>\n",
       "    </tr>\n",
       "    <tr>\n",
       "      <th>4</th>\n",
       "      <td>666</td>\n",
       "      <td>city_162</td>\n",
       "      <td>0.767</td>\n",
       "      <td>1.0</td>\n",
       "      <td>0.0</td>\n",
       "      <td>0.0</td>\n",
       "      <td>1</td>\n",
       "      <td>1.0</td>\n",
       "      <td>0.0</td>\n",
       "      <td>0.0</td>\n",
       "      <td>...</td>\n",
       "      <td>2.0</td>\n",
       "      <td>0.0</td>\n",
       "      <td>1.0</td>\n",
       "      <td>0.0</td>\n",
       "      <td>0.0</td>\n",
       "      <td>0.0</td>\n",
       "      <td>0.0</td>\n",
       "      <td>4.0</td>\n",
       "      <td>8</td>\n",
       "      <td>0.0</td>\n",
       "    </tr>\n",
       "  </tbody>\n",
       "</table>\n",
       "<p>5 rows × 32 columns</p>\n",
       "</div>"
      ],
      "text/plain": [
       "  enrollee_id      city  city_development_index  gender_Male  gender_Female  \\\n",
       "0        8949  city_103                   0.920          1.0            0.0   \n",
       "1       29725   city_40                   0.776          1.0            0.0   \n",
       "2       11561   city_21                   0.624          NaN            NaN   \n",
       "3       33241  city_115                   0.789          NaN            NaN   \n",
       "4         666  city_162                   0.767          1.0            0.0   \n",
       "\n",
       "   gender_Other  relevent_experience  enrolled_university_no_enrollment  \\\n",
       "0           0.0                    1                                1.0   \n",
       "1           0.0                    0                                1.0   \n",
       "2           NaN                    0                                0.0   \n",
       "3           NaN                    0                                NaN   \n",
       "4           0.0                    1                                1.0   \n",
       "\n",
       "   enrolled_university_full_time  enrolled_university_part_time  ...  \\\n",
       "0                            0.0                            0.0  ...   \n",
       "1                            0.0                            0.0  ...   \n",
       "2                            1.0                            0.0  ...   \n",
       "3                            NaN                            NaN  ...   \n",
       "4                            0.0                            0.0  ...   \n",
       "\n",
       "   company_size  company_type_private_limited  company_type_startup_funded  \\\n",
       "0           3.0                           NaN                          NaN   \n",
       "1           2.0                           1.0                          0.0   \n",
       "2           3.0                           NaN                          NaN   \n",
       "3           1.0                           1.0                          0.0   \n",
       "4           2.0                           0.0                          1.0   \n",
       "\n",
       "   company_type_startup_earlystage  company_type_Other  \\\n",
       "0                              NaN                 NaN   \n",
       "1                              0.0                 0.0   \n",
       "2                              NaN                 NaN   \n",
       "3                              0.0                 0.0   \n",
       "4                              0.0                 0.0   \n",
       "\n",
       "   company_type_public_sector  company_type_NGO  last_new_job  training_hours  \\\n",
       "0                         NaN               NaN           1.0              36   \n",
       "1                         0.0               0.0           5.0              47   \n",
       "2                         NaN               NaN           0.0              83   \n",
       "3                         0.0               0.0           0.0              52   \n",
       "4                         0.0               0.0           4.0               8   \n",
       "\n",
       "   target  \n",
       "0     1.0  \n",
       "1     0.0  \n",
       "2     0.0  \n",
       "3     1.0  \n",
       "4     0.0  \n",
       "\n",
       "[5 rows x 32 columns]"
      ]
     },
     "execution_count": 61,
     "metadata": {},
     "output_type": "execute_result"
    }
   ],
   "source": [
    "nan_cols = ['gender_nan', 'enrolled_university_nan', 'education_level_nan', 'major_nan', 'company_type_nan']\n",
    "\n",
    "# Remove NaN cols from df\n",
    "df.drop(columns=nan_cols, inplace=True)\n",
    "df.head()"
   ]
  },
  {
   "cell_type": "code",
   "execution_count": 62,
   "id": "d65ea140",
   "metadata": {
    "scrolled": true
   },
   "outputs": [
    {
     "data": {
      "text/plain": [
       "['gender_Male',\n",
       " 'gender_Female',\n",
       " 'gender_Other',\n",
       " 'enrolled_university_no_enrollment',\n",
       " 'enrolled_university_full_time',\n",
       " 'enrolled_university_part_time',\n",
       " 'education_level_Graduate',\n",
       " 'education_level_Masters',\n",
       " 'education_level_High School',\n",
       " 'education_level_Phd',\n",
       " 'education_level_Primary School',\n",
       " 'major_STEM',\n",
       " 'major_Business Degree',\n",
       " 'major_Arts',\n",
       " 'major_Humanities',\n",
       " 'major_No Major',\n",
       " 'major_Other',\n",
       " 'company_type_private_limited',\n",
       " 'company_type_startup_funded',\n",
       " 'company_type_startup_earlystage',\n",
       " 'company_type_Other',\n",
       " 'company_type_public_sector',\n",
       " 'company_type_NGO']"
      ]
     },
     "execution_count": 62,
     "metadata": {},
     "output_type": "execute_result"
    }
   ],
   "source": [
    "# Remove NaN columns from catcols2\n",
    "[cat_cols2.remove(i) for i in nan_cols]\n",
    "cat_cols2"
   ]
  },
  {
   "cell_type": "code",
   "execution_count": 63,
   "id": "ba5dc83d",
   "metadata": {},
   "outputs": [],
   "source": [
    "gender_cols = ['gender_Male', 'gender_Female', 'gender_Other']\n",
    "enrolled_cols = ['enrolled_university_no_enrollment', 'enrolled_university_full_time', 'enrolled_university_part_time']\n",
    "ed_level_cols = ['education_level_Graduate', 'education_level_Masters', 'education_level_High School',\n",
    "                 'education_level_Phd', 'education_level_Primary School']\n",
    "major_cols = ['major_STEM', 'major_Business Degree', 'major_Arts', 'major_Humanities', 'major_No Major', 'major_Other']\n",
    "company = ['company_type_Pvt Ltd', 'company_type_Funded Startup', 'company_type_Early Stage Startup', 'company_type_Other',\n",
    "           'company_type_Public Sector', 'company_type_NGO']"
   ]
  },
  {
   "cell_type": "code",
   "execution_count": 64,
   "id": "47c631fa",
   "metadata": {},
   "outputs": [
    {
     "data": {
      "text/html": [
       "<div>\n",
       "<style scoped>\n",
       "    .dataframe tbody tr th:only-of-type {\n",
       "        vertical-align: middle;\n",
       "    }\n",
       "\n",
       "    .dataframe tbody tr th {\n",
       "        vertical-align: top;\n",
       "    }\n",
       "\n",
       "    .dataframe thead th {\n",
       "        text-align: right;\n",
       "    }\n",
       "</style>\n",
       "<table border=\"1\" class=\"dataframe\">\n",
       "  <thead>\n",
       "    <tr style=\"text-align: right;\">\n",
       "      <th></th>\n",
       "      <th>gender_Male</th>\n",
       "      <th>gender_Female</th>\n",
       "      <th>gender_Other</th>\n",
       "      <th>enrolled_university_no_enrollment</th>\n",
       "      <th>enrolled_university_full_time</th>\n",
       "      <th>enrolled_university_part_time</th>\n",
       "      <th>education_level_Graduate</th>\n",
       "      <th>education_level_Masters</th>\n",
       "      <th>education_level_High School</th>\n",
       "      <th>education_level_Phd</th>\n",
       "      <th>...</th>\n",
       "      <th>major_Arts</th>\n",
       "      <th>major_Humanities</th>\n",
       "      <th>major_No Major</th>\n",
       "      <th>major_Other</th>\n",
       "      <th>company_type_private_limited</th>\n",
       "      <th>company_type_startup_funded</th>\n",
       "      <th>company_type_startup_earlystage</th>\n",
       "      <th>company_type_Other</th>\n",
       "      <th>company_type_public_sector</th>\n",
       "      <th>company_type_NGO</th>\n",
       "    </tr>\n",
       "  </thead>\n",
       "  <tbody>\n",
       "    <tr>\n",
       "      <th>0</th>\n",
       "      <td>1.0</td>\n",
       "      <td>0.0</td>\n",
       "      <td>0.0</td>\n",
       "      <td>1.0</td>\n",
       "      <td>0.0</td>\n",
       "      <td>0.0</td>\n",
       "      <td>1.0</td>\n",
       "      <td>0.0</td>\n",
       "      <td>0.0</td>\n",
       "      <td>0.0</td>\n",
       "      <td>...</td>\n",
       "      <td>0.0</td>\n",
       "      <td>0.0</td>\n",
       "      <td>0.0</td>\n",
       "      <td>0.0</td>\n",
       "      <td>1.0</td>\n",
       "      <td>0.0</td>\n",
       "      <td>0.0</td>\n",
       "      <td>0.0</td>\n",
       "      <td>0.0</td>\n",
       "      <td>0.0</td>\n",
       "    </tr>\n",
       "    <tr>\n",
       "      <th>1</th>\n",
       "      <td>1.0</td>\n",
       "      <td>0.0</td>\n",
       "      <td>0.0</td>\n",
       "      <td>1.0</td>\n",
       "      <td>0.0</td>\n",
       "      <td>0.0</td>\n",
       "      <td>1.0</td>\n",
       "      <td>0.0</td>\n",
       "      <td>0.0</td>\n",
       "      <td>0.0</td>\n",
       "      <td>...</td>\n",
       "      <td>0.0</td>\n",
       "      <td>0.0</td>\n",
       "      <td>0.0</td>\n",
       "      <td>0.0</td>\n",
       "      <td>1.0</td>\n",
       "      <td>0.0</td>\n",
       "      <td>0.0</td>\n",
       "      <td>0.0</td>\n",
       "      <td>0.0</td>\n",
       "      <td>0.0</td>\n",
       "    </tr>\n",
       "    <tr>\n",
       "      <th>2</th>\n",
       "      <td>0.0</td>\n",
       "      <td>1.0</td>\n",
       "      <td>0.0</td>\n",
       "      <td>0.0</td>\n",
       "      <td>1.0</td>\n",
       "      <td>0.0</td>\n",
       "      <td>1.0</td>\n",
       "      <td>0.0</td>\n",
       "      <td>0.0</td>\n",
       "      <td>0.0</td>\n",
       "      <td>...</td>\n",
       "      <td>0.0</td>\n",
       "      <td>0.0</td>\n",
       "      <td>0.0</td>\n",
       "      <td>0.0</td>\n",
       "      <td>0.0</td>\n",
       "      <td>0.0</td>\n",
       "      <td>1.0</td>\n",
       "      <td>0.0</td>\n",
       "      <td>0.0</td>\n",
       "      <td>0.0</td>\n",
       "    </tr>\n",
       "    <tr>\n",
       "      <th>3</th>\n",
       "      <td>1.0</td>\n",
       "      <td>0.0</td>\n",
       "      <td>0.0</td>\n",
       "      <td>1.0</td>\n",
       "      <td>0.0</td>\n",
       "      <td>0.0</td>\n",
       "      <td>1.0</td>\n",
       "      <td>0.0</td>\n",
       "      <td>0.0</td>\n",
       "      <td>0.0</td>\n",
       "      <td>...</td>\n",
       "      <td>0.0</td>\n",
       "      <td>0.0</td>\n",
       "      <td>0.0</td>\n",
       "      <td>0.0</td>\n",
       "      <td>1.0</td>\n",
       "      <td>0.0</td>\n",
       "      <td>0.0</td>\n",
       "      <td>0.0</td>\n",
       "      <td>0.0</td>\n",
       "      <td>0.0</td>\n",
       "    </tr>\n",
       "    <tr>\n",
       "      <th>4</th>\n",
       "      <td>1.0</td>\n",
       "      <td>0.0</td>\n",
       "      <td>0.0</td>\n",
       "      <td>1.0</td>\n",
       "      <td>0.0</td>\n",
       "      <td>0.0</td>\n",
       "      <td>0.0</td>\n",
       "      <td>1.0</td>\n",
       "      <td>0.0</td>\n",
       "      <td>0.0</td>\n",
       "      <td>...</td>\n",
       "      <td>0.0</td>\n",
       "      <td>0.0</td>\n",
       "      <td>0.0</td>\n",
       "      <td>0.0</td>\n",
       "      <td>0.0</td>\n",
       "      <td>1.0</td>\n",
       "      <td>0.0</td>\n",
       "      <td>0.0</td>\n",
       "      <td>0.0</td>\n",
       "      <td>0.0</td>\n",
       "    </tr>\n",
       "  </tbody>\n",
       "</table>\n",
       "<p>5 rows × 23 columns</p>\n",
       "</div>"
      ],
      "text/plain": [
       "   gender_Male  gender_Female  gender_Other  \\\n",
       "0          1.0            0.0           0.0   \n",
       "1          1.0            0.0           0.0   \n",
       "2          0.0            1.0           0.0   \n",
       "3          1.0            0.0           0.0   \n",
       "4          1.0            0.0           0.0   \n",
       "\n",
       "   enrolled_university_no_enrollment  enrolled_university_full_time  \\\n",
       "0                                1.0                            0.0   \n",
       "1                                1.0                            0.0   \n",
       "2                                0.0                            1.0   \n",
       "3                                1.0                            0.0   \n",
       "4                                1.0                            0.0   \n",
       "\n",
       "   enrolled_university_part_time  education_level_Graduate  \\\n",
       "0                            0.0                       1.0   \n",
       "1                            0.0                       1.0   \n",
       "2                            0.0                       1.0   \n",
       "3                            0.0                       1.0   \n",
       "4                            0.0                       0.0   \n",
       "\n",
       "   education_level_Masters  education_level_High School  education_level_Phd  \\\n",
       "0                      0.0                          0.0                  0.0   \n",
       "1                      0.0                          0.0                  0.0   \n",
       "2                      0.0                          0.0                  0.0   \n",
       "3                      0.0                          0.0                  0.0   \n",
       "4                      1.0                          0.0                  0.0   \n",
       "\n",
       "   ...  major_Arts  major_Humanities  major_No Major  major_Other  \\\n",
       "0  ...         0.0               0.0             0.0          0.0   \n",
       "1  ...         0.0               0.0             0.0          0.0   \n",
       "2  ...         0.0               0.0             0.0          0.0   \n",
       "3  ...         0.0               0.0             0.0          0.0   \n",
       "4  ...         0.0               0.0             0.0          0.0   \n",
       "\n",
       "   company_type_private_limited  company_type_startup_funded  \\\n",
       "0                           1.0                          0.0   \n",
       "1                           1.0                          0.0   \n",
       "2                           0.0                          0.0   \n",
       "3                           1.0                          0.0   \n",
       "4                           0.0                          1.0   \n",
       "\n",
       "   company_type_startup_earlystage  company_type_Other  \\\n",
       "0                              0.0                 0.0   \n",
       "1                              0.0                 0.0   \n",
       "2                              1.0                 0.0   \n",
       "3                              0.0                 0.0   \n",
       "4                              0.0                 0.0   \n",
       "\n",
       "   company_type_public_sector  company_type_NGO  \n",
       "0                         0.0               0.0  \n",
       "1                         0.0               0.0  \n",
       "2                         0.0               0.0  \n",
       "3                         0.0               0.0  \n",
       "4                         0.0               0.0  \n",
       "\n",
       "[5 rows x 23 columns]"
      ]
     },
     "execution_count": 64,
     "metadata": {},
     "output_type": "execute_result"
    }
   ],
   "source": [
    "KNN_imputer = KNNImputer(n_neighbors=1)\n",
    "\n",
    "df[cat_cols2] = KNN_imputer.fit_transform(df[cat_cols2])\n",
    "df[cat_cols2].head()"
   ]
  },
  {
   "cell_type": "code",
   "execution_count": 65,
   "id": "2d610785",
   "metadata": {},
   "outputs": [
    {
     "data": {
      "text/html": [
       "<div>\n",
       "<style scoped>\n",
       "    .dataframe tbody tr th:only-of-type {\n",
       "        vertical-align: middle;\n",
       "    }\n",
       "\n",
       "    .dataframe tbody tr th {\n",
       "        vertical-align: top;\n",
       "    }\n",
       "\n",
       "    .dataframe thead th {\n",
       "        text-align: right;\n",
       "    }\n",
       "</style>\n",
       "<table border=\"1\" class=\"dataframe\">\n",
       "  <thead>\n",
       "    <tr style=\"text-align: right;\">\n",
       "      <th></th>\n",
       "      <th>gender_Male</th>\n",
       "      <th>gender_Female</th>\n",
       "      <th>gender_Other</th>\n",
       "      <th>enrolled_university_no_enrollment</th>\n",
       "      <th>enrolled_university_full_time</th>\n",
       "      <th>enrolled_university_part_time</th>\n",
       "      <th>education_level_Graduate</th>\n",
       "      <th>education_level_Masters</th>\n",
       "      <th>education_level_High School</th>\n",
       "      <th>education_level_Phd</th>\n",
       "      <th>...</th>\n",
       "      <th>major_Arts</th>\n",
       "      <th>major_Humanities</th>\n",
       "      <th>major_No Major</th>\n",
       "      <th>major_Other</th>\n",
       "      <th>company_type_private_limited</th>\n",
       "      <th>company_type_startup_funded</th>\n",
       "      <th>company_type_startup_earlystage</th>\n",
       "      <th>company_type_Other</th>\n",
       "      <th>company_type_public_sector</th>\n",
       "      <th>company_type_NGO</th>\n",
       "    </tr>\n",
       "  </thead>\n",
       "  <tbody>\n",
       "    <tr>\n",
       "      <th>0</th>\n",
       "      <td>1.0</td>\n",
       "      <td>0.0</td>\n",
       "      <td>0.0</td>\n",
       "      <td>1.0</td>\n",
       "      <td>0.0</td>\n",
       "      <td>0.0</td>\n",
       "      <td>1.0</td>\n",
       "      <td>0.0</td>\n",
       "      <td>0.0</td>\n",
       "      <td>0.0</td>\n",
       "      <td>...</td>\n",
       "      <td>0.0</td>\n",
       "      <td>0.0</td>\n",
       "      <td>0.0</td>\n",
       "      <td>0.0</td>\n",
       "      <td>1.0</td>\n",
       "      <td>0.0</td>\n",
       "      <td>0.0</td>\n",
       "      <td>0.0</td>\n",
       "      <td>0.0</td>\n",
       "      <td>0.0</td>\n",
       "    </tr>\n",
       "    <tr>\n",
       "      <th>1</th>\n",
       "      <td>1.0</td>\n",
       "      <td>0.0</td>\n",
       "      <td>0.0</td>\n",
       "      <td>1.0</td>\n",
       "      <td>0.0</td>\n",
       "      <td>0.0</td>\n",
       "      <td>1.0</td>\n",
       "      <td>0.0</td>\n",
       "      <td>0.0</td>\n",
       "      <td>0.0</td>\n",
       "      <td>...</td>\n",
       "      <td>0.0</td>\n",
       "      <td>0.0</td>\n",
       "      <td>0.0</td>\n",
       "      <td>0.0</td>\n",
       "      <td>1.0</td>\n",
       "      <td>0.0</td>\n",
       "      <td>0.0</td>\n",
       "      <td>0.0</td>\n",
       "      <td>0.0</td>\n",
       "      <td>0.0</td>\n",
       "    </tr>\n",
       "    <tr>\n",
       "      <th>2</th>\n",
       "      <td>0.0</td>\n",
       "      <td>1.0</td>\n",
       "      <td>0.0</td>\n",
       "      <td>0.0</td>\n",
       "      <td>1.0</td>\n",
       "      <td>0.0</td>\n",
       "      <td>1.0</td>\n",
       "      <td>0.0</td>\n",
       "      <td>0.0</td>\n",
       "      <td>0.0</td>\n",
       "      <td>...</td>\n",
       "      <td>0.0</td>\n",
       "      <td>0.0</td>\n",
       "      <td>0.0</td>\n",
       "      <td>0.0</td>\n",
       "      <td>0.0</td>\n",
       "      <td>0.0</td>\n",
       "      <td>1.0</td>\n",
       "      <td>0.0</td>\n",
       "      <td>0.0</td>\n",
       "      <td>0.0</td>\n",
       "    </tr>\n",
       "    <tr>\n",
       "      <th>3</th>\n",
       "      <td>1.0</td>\n",
       "      <td>0.0</td>\n",
       "      <td>0.0</td>\n",
       "      <td>1.0</td>\n",
       "      <td>0.0</td>\n",
       "      <td>0.0</td>\n",
       "      <td>1.0</td>\n",
       "      <td>0.0</td>\n",
       "      <td>0.0</td>\n",
       "      <td>0.0</td>\n",
       "      <td>...</td>\n",
       "      <td>0.0</td>\n",
       "      <td>0.0</td>\n",
       "      <td>0.0</td>\n",
       "      <td>0.0</td>\n",
       "      <td>1.0</td>\n",
       "      <td>0.0</td>\n",
       "      <td>0.0</td>\n",
       "      <td>0.0</td>\n",
       "      <td>0.0</td>\n",
       "      <td>0.0</td>\n",
       "    </tr>\n",
       "    <tr>\n",
       "      <th>4</th>\n",
       "      <td>1.0</td>\n",
       "      <td>0.0</td>\n",
       "      <td>0.0</td>\n",
       "      <td>1.0</td>\n",
       "      <td>0.0</td>\n",
       "      <td>0.0</td>\n",
       "      <td>0.0</td>\n",
       "      <td>1.0</td>\n",
       "      <td>0.0</td>\n",
       "      <td>0.0</td>\n",
       "      <td>...</td>\n",
       "      <td>0.0</td>\n",
       "      <td>0.0</td>\n",
       "      <td>0.0</td>\n",
       "      <td>0.0</td>\n",
       "      <td>0.0</td>\n",
       "      <td>1.0</td>\n",
       "      <td>0.0</td>\n",
       "      <td>0.0</td>\n",
       "      <td>0.0</td>\n",
       "      <td>0.0</td>\n",
       "    </tr>\n",
       "  </tbody>\n",
       "</table>\n",
       "<p>5 rows × 23 columns</p>\n",
       "</div>"
      ],
      "text/plain": [
       "   gender_Male  gender_Female  gender_Other  \\\n",
       "0          1.0            0.0           0.0   \n",
       "1          1.0            0.0           0.0   \n",
       "2          0.0            1.0           0.0   \n",
       "3          1.0            0.0           0.0   \n",
       "4          1.0            0.0           0.0   \n",
       "\n",
       "   enrolled_university_no_enrollment  enrolled_university_full_time  \\\n",
       "0                                1.0                            0.0   \n",
       "1                                1.0                            0.0   \n",
       "2                                0.0                            1.0   \n",
       "3                                1.0                            0.0   \n",
       "4                                1.0                            0.0   \n",
       "\n",
       "   enrolled_university_part_time  education_level_Graduate  \\\n",
       "0                            0.0                       1.0   \n",
       "1                            0.0                       1.0   \n",
       "2                            0.0                       1.0   \n",
       "3                            0.0                       1.0   \n",
       "4                            0.0                       0.0   \n",
       "\n",
       "   education_level_Masters  education_level_High School  education_level_Phd  \\\n",
       "0                      0.0                          0.0                  0.0   \n",
       "1                      0.0                          0.0                  0.0   \n",
       "2                      0.0                          0.0                  0.0   \n",
       "3                      0.0                          0.0                  0.0   \n",
       "4                      1.0                          0.0                  0.0   \n",
       "\n",
       "   ...  major_Arts  major_Humanities  major_No Major  major_Other  \\\n",
       "0  ...         0.0               0.0             0.0          0.0   \n",
       "1  ...         0.0               0.0             0.0          0.0   \n",
       "2  ...         0.0               0.0             0.0          0.0   \n",
       "3  ...         0.0               0.0             0.0          0.0   \n",
       "4  ...         0.0               0.0             0.0          0.0   \n",
       "\n",
       "   company_type_private_limited  company_type_startup_funded  \\\n",
       "0                           1.0                          0.0   \n",
       "1                           1.0                          0.0   \n",
       "2                           0.0                          0.0   \n",
       "3                           1.0                          0.0   \n",
       "4                           0.0                          1.0   \n",
       "\n",
       "   company_type_startup_earlystage  company_type_Other  \\\n",
       "0                              0.0                 0.0   \n",
       "1                              0.0                 0.0   \n",
       "2                              1.0                 0.0   \n",
       "3                              0.0                 0.0   \n",
       "4                              0.0                 0.0   \n",
       "\n",
       "   company_type_public_sector  company_type_NGO  \n",
       "0                         0.0               0.0  \n",
       "1                         0.0               0.0  \n",
       "2                         0.0               0.0  \n",
       "3                         0.0               0.0  \n",
       "4                         0.0               0.0  \n",
       "\n",
       "[5 rows x 23 columns]"
      ]
     },
     "execution_count": 65,
     "metadata": {},
     "output_type": "execute_result"
    }
   ],
   "source": [
    "# Convert ord cols to int\n",
    "df[cat_cols2] = round(df[cat_cols2], 0)\n",
    "df[cat_cols2].head()"
   ]
  },
  {
   "cell_type": "code",
   "execution_count": 66,
   "id": "ae5a5fe1",
   "metadata": {},
   "outputs": [
    {
     "data": {
      "text/plain": [
       "gender_Male  gender_Female  gender_Other\n",
       "1.0          0.0            0.0             18635\n",
       "0.0          1.0            0.0              2418\n",
       "             0.0            1.0               234\n",
       "dtype: int64"
      ]
     },
     "execution_count": 66,
     "metadata": {},
     "output_type": "execute_result"
    }
   ],
   "source": [
    "df[gender_cols].value_counts()"
   ]
  },
  {
   "cell_type": "code",
   "execution_count": 67,
   "id": "9ec2731f",
   "metadata": {},
   "outputs": [
    {
     "data": {
      "text/plain": [
       "major_STEM  major_Business Degree  major_Arts  major_Humanities  major_No Major  major_Other\n",
       "1.0         0.0                    0.0         0.0               0.0             0.0            19185\n",
       "0.0         0.0                    0.0         1.0               0.0             0.0              758\n",
       "                                               0.0               0.0             1.0              421\n",
       "            1.0                    0.0         0.0               0.0             0.0              379\n",
       "            0.0                    1.0         0.0               0.0             0.0              286\n",
       "                                   0.0         0.0               1.0             0.0              258\n",
       "dtype: int64"
      ]
     },
     "execution_count": 67,
     "metadata": {},
     "output_type": "execute_result"
    }
   ],
   "source": [
    "df[major_cols].value_counts()"
   ]
  },
  {
   "cell_type": "markdown",
   "id": "55596834",
   "metadata": {},
   "source": [
    "Also looks okay for now."
   ]
  },
  {
   "cell_type": "code",
   "execution_count": 70,
   "id": "91fe5949",
   "metadata": {},
   "outputs": [
    {
     "data": {
      "text/html": [
       "<div>\n",
       "<style scoped>\n",
       "    .dataframe tbody tr th:only-of-type {\n",
       "        vertical-align: middle;\n",
       "    }\n",
       "\n",
       "    .dataframe tbody tr th {\n",
       "        vertical-align: top;\n",
       "    }\n",
       "\n",
       "    .dataframe thead th {\n",
       "        text-align: right;\n",
       "    }\n",
       "</style>\n",
       "<table border=\"1\" class=\"dataframe\">\n",
       "  <thead>\n",
       "    <tr style=\"text-align: right;\">\n",
       "      <th></th>\n",
       "      <th>count</th>\n",
       "      <th>mean</th>\n",
       "      <th>std</th>\n",
       "      <th>min</th>\n",
       "      <th>25%</th>\n",
       "      <th>50%</th>\n",
       "      <th>75%</th>\n",
       "      <th>max</th>\n",
       "    </tr>\n",
       "  </thead>\n",
       "  <tbody>\n",
       "    <tr>\n",
       "      <th>city_development_index</th>\n",
       "      <td>21287.0</td>\n",
       "      <td>0.828462</td>\n",
       "      <td>0.123537</td>\n",
       "      <td>0.448</td>\n",
       "      <td>0.739</td>\n",
       "      <td>0.903</td>\n",
       "      <td>0.92</td>\n",
       "      <td>0.949</td>\n",
       "    </tr>\n",
       "    <tr>\n",
       "      <th>gender_Male</th>\n",
       "      <td>21287.0</td>\n",
       "      <td>0.875417</td>\n",
       "      <td>0.330253</td>\n",
       "      <td>0.000</td>\n",
       "      <td>1.000</td>\n",
       "      <td>1.000</td>\n",
       "      <td>1.00</td>\n",
       "      <td>1.000</td>\n",
       "    </tr>\n",
       "    <tr>\n",
       "      <th>gender_Female</th>\n",
       "      <td>21287.0</td>\n",
       "      <td>0.113590</td>\n",
       "      <td>0.317321</td>\n",
       "      <td>0.000</td>\n",
       "      <td>0.000</td>\n",
       "      <td>0.000</td>\n",
       "      <td>0.00</td>\n",
       "      <td>1.000</td>\n",
       "    </tr>\n",
       "    <tr>\n",
       "      <th>gender_Other</th>\n",
       "      <td>21287.0</td>\n",
       "      <td>0.010993</td>\n",
       "      <td>0.104270</td>\n",
       "      <td>0.000</td>\n",
       "      <td>0.000</td>\n",
       "      <td>0.000</td>\n",
       "      <td>0.00</td>\n",
       "      <td>1.000</td>\n",
       "    </tr>\n",
       "    <tr>\n",
       "      <th>relevent_experience</th>\n",
       "      <td>21287.0</td>\n",
       "      <td>0.719500</td>\n",
       "      <td>0.449254</td>\n",
       "      <td>0.000</td>\n",
       "      <td>0.000</td>\n",
       "      <td>1.000</td>\n",
       "      <td>1.00</td>\n",
       "      <td>1.000</td>\n",
       "    </tr>\n",
       "    <tr>\n",
       "      <th>enrolled_university_no_enrollment</th>\n",
       "      <td>21287.0</td>\n",
       "      <td>0.738526</td>\n",
       "      <td>0.439448</td>\n",
       "      <td>0.000</td>\n",
       "      <td>0.000</td>\n",
       "      <td>1.000</td>\n",
       "      <td>1.00</td>\n",
       "      <td>1.000</td>\n",
       "    </tr>\n",
       "    <tr>\n",
       "      <th>enrolled_university_full_time</th>\n",
       "      <td>21287.0</td>\n",
       "      <td>0.198431</td>\n",
       "      <td>0.398828</td>\n",
       "      <td>0.000</td>\n",
       "      <td>0.000</td>\n",
       "      <td>0.000</td>\n",
       "      <td>0.00</td>\n",
       "      <td>1.000</td>\n",
       "    </tr>\n",
       "    <tr>\n",
       "      <th>enrolled_university_part_time</th>\n",
       "      <td>21287.0</td>\n",
       "      <td>0.063043</td>\n",
       "      <td>0.243046</td>\n",
       "      <td>0.000</td>\n",
       "      <td>0.000</td>\n",
       "      <td>0.000</td>\n",
       "      <td>0.00</td>\n",
       "      <td>1.000</td>\n",
       "    </tr>\n",
       "    <tr>\n",
       "      <th>education_level_Graduate</th>\n",
       "      <td>21287.0</td>\n",
       "      <td>0.628412</td>\n",
       "      <td>0.483241</td>\n",
       "      <td>0.000</td>\n",
       "      <td>0.000</td>\n",
       "      <td>1.000</td>\n",
       "      <td>1.00</td>\n",
       "      <td>1.000</td>\n",
       "    </tr>\n",
       "    <tr>\n",
       "      <th>education_level_Masters</th>\n",
       "      <td>21287.0</td>\n",
       "      <td>0.228261</td>\n",
       "      <td>0.419722</td>\n",
       "      <td>0.000</td>\n",
       "      <td>0.000</td>\n",
       "      <td>0.000</td>\n",
       "      <td>0.00</td>\n",
       "      <td>1.000</td>\n",
       "    </tr>\n",
       "    <tr>\n",
       "      <th>education_level_High School</th>\n",
       "      <td>21287.0</td>\n",
       "      <td>0.105182</td>\n",
       "      <td>0.306794</td>\n",
       "      <td>0.000</td>\n",
       "      <td>0.000</td>\n",
       "      <td>0.000</td>\n",
       "      <td>0.00</td>\n",
       "      <td>1.000</td>\n",
       "    </tr>\n",
       "    <tr>\n",
       "      <th>education_level_Phd</th>\n",
       "      <td>21287.0</td>\n",
       "      <td>0.021985</td>\n",
       "      <td>0.146639</td>\n",
       "      <td>0.000</td>\n",
       "      <td>0.000</td>\n",
       "      <td>0.000</td>\n",
       "      <td>0.00</td>\n",
       "      <td>1.000</td>\n",
       "    </tr>\n",
       "    <tr>\n",
       "      <th>education_level_Primary School</th>\n",
       "      <td>21287.0</td>\n",
       "      <td>0.016160</td>\n",
       "      <td>0.126094</td>\n",
       "      <td>0.000</td>\n",
       "      <td>0.000</td>\n",
       "      <td>0.000</td>\n",
       "      <td>0.00</td>\n",
       "      <td>1.000</td>\n",
       "    </tr>\n",
       "    <tr>\n",
       "      <th>major_STEM</th>\n",
       "      <td>21287.0</td>\n",
       "      <td>0.901254</td>\n",
       "      <td>0.298327</td>\n",
       "      <td>0.000</td>\n",
       "      <td>1.000</td>\n",
       "      <td>1.000</td>\n",
       "      <td>1.00</td>\n",
       "      <td>1.000</td>\n",
       "    </tr>\n",
       "    <tr>\n",
       "      <th>major_Business Degree</th>\n",
       "      <td>21287.0</td>\n",
       "      <td>0.017804</td>\n",
       "      <td>0.132243</td>\n",
       "      <td>0.000</td>\n",
       "      <td>0.000</td>\n",
       "      <td>0.000</td>\n",
       "      <td>0.00</td>\n",
       "      <td>1.000</td>\n",
       "    </tr>\n",
       "    <tr>\n",
       "      <th>major_Arts</th>\n",
       "      <td>21287.0</td>\n",
       "      <td>0.013435</td>\n",
       "      <td>0.115133</td>\n",
       "      <td>0.000</td>\n",
       "      <td>0.000</td>\n",
       "      <td>0.000</td>\n",
       "      <td>0.00</td>\n",
       "      <td>1.000</td>\n",
       "    </tr>\n",
       "    <tr>\n",
       "      <th>major_Humanities</th>\n",
       "      <td>21287.0</td>\n",
       "      <td>0.035609</td>\n",
       "      <td>0.185317</td>\n",
       "      <td>0.000</td>\n",
       "      <td>0.000</td>\n",
       "      <td>0.000</td>\n",
       "      <td>0.00</td>\n",
       "      <td>1.000</td>\n",
       "    </tr>\n",
       "    <tr>\n",
       "      <th>major_No Major</th>\n",
       "      <td>21287.0</td>\n",
       "      <td>0.012120</td>\n",
       "      <td>0.109425</td>\n",
       "      <td>0.000</td>\n",
       "      <td>0.000</td>\n",
       "      <td>0.000</td>\n",
       "      <td>0.00</td>\n",
       "      <td>1.000</td>\n",
       "    </tr>\n",
       "    <tr>\n",
       "      <th>major_Other</th>\n",
       "      <td>21287.0</td>\n",
       "      <td>0.019777</td>\n",
       "      <td>0.139238</td>\n",
       "      <td>0.000</td>\n",
       "      <td>0.000</td>\n",
       "      <td>0.000</td>\n",
       "      <td>0.00</td>\n",
       "      <td>1.000</td>\n",
       "    </tr>\n",
       "    <tr>\n",
       "      <th>experience</th>\n",
       "      <td>21287.0</td>\n",
       "      <td>10.100766</td>\n",
       "      <td>6.778751</td>\n",
       "      <td>0.000</td>\n",
       "      <td>4.000</td>\n",
       "      <td>9.000</td>\n",
       "      <td>16.00</td>\n",
       "      <td>21.000</td>\n",
       "    </tr>\n",
       "    <tr>\n",
       "      <th>company_size</th>\n",
       "      <td>21287.0</td>\n",
       "      <td>3.142340</td>\n",
       "      <td>1.896761</td>\n",
       "      <td>0.000</td>\n",
       "      <td>2.000</td>\n",
       "      <td>3.000</td>\n",
       "      <td>4.00</td>\n",
       "      <td>7.000</td>\n",
       "    </tr>\n",
       "    <tr>\n",
       "      <th>company_type_private_limited</th>\n",
       "      <td>21287.0</td>\n",
       "      <td>0.701696</td>\n",
       "      <td>0.457524</td>\n",
       "      <td>0.000</td>\n",
       "      <td>0.000</td>\n",
       "      <td>1.000</td>\n",
       "      <td>1.00</td>\n",
       "      <td>1.000</td>\n",
       "    </tr>\n",
       "    <tr>\n",
       "      <th>company_type_startup_funded</th>\n",
       "      <td>21287.0</td>\n",
       "      <td>0.112510</td>\n",
       "      <td>0.316000</td>\n",
       "      <td>0.000</td>\n",
       "      <td>0.000</td>\n",
       "      <td>0.000</td>\n",
       "      <td>0.00</td>\n",
       "      <td>1.000</td>\n",
       "    </tr>\n",
       "    <tr>\n",
       "      <th>company_type_startup_earlystage</th>\n",
       "      <td>21287.0</td>\n",
       "      <td>0.085404</td>\n",
       "      <td>0.279489</td>\n",
       "      <td>0.000</td>\n",
       "      <td>0.000</td>\n",
       "      <td>0.000</td>\n",
       "      <td>0.00</td>\n",
       "      <td>1.000</td>\n",
       "    </tr>\n",
       "    <tr>\n",
       "      <th>company_type_Other</th>\n",
       "      <td>21287.0</td>\n",
       "      <td>0.009020</td>\n",
       "      <td>0.094544</td>\n",
       "      <td>0.000</td>\n",
       "      <td>0.000</td>\n",
       "      <td>0.000</td>\n",
       "      <td>0.00</td>\n",
       "      <td>1.000</td>\n",
       "    </tr>\n",
       "    <tr>\n",
       "      <th>company_type_public_sector</th>\n",
       "      <td>21287.0</td>\n",
       "      <td>0.063372</td>\n",
       "      <td>0.243637</td>\n",
       "      <td>0.000</td>\n",
       "      <td>0.000</td>\n",
       "      <td>0.000</td>\n",
       "      <td>0.00</td>\n",
       "      <td>1.000</td>\n",
       "    </tr>\n",
       "    <tr>\n",
       "      <th>company_type_NGO</th>\n",
       "      <td>21287.0</td>\n",
       "      <td>0.027998</td>\n",
       "      <td>0.164972</td>\n",
       "      <td>0.000</td>\n",
       "      <td>0.000</td>\n",
       "      <td>0.000</td>\n",
       "      <td>0.00</td>\n",
       "      <td>1.000</td>\n",
       "    </tr>\n",
       "    <tr>\n",
       "      <th>last_new_job</th>\n",
       "      <td>21287.0</td>\n",
       "      <td>1.990558</td>\n",
       "      <td>1.663921</td>\n",
       "      <td>0.000</td>\n",
       "      <td>1.000</td>\n",
       "      <td>1.000</td>\n",
       "      <td>3.00</td>\n",
       "      <td>5.000</td>\n",
       "    </tr>\n",
       "    <tr>\n",
       "      <th>training_hours</th>\n",
       "      <td>21287.0</td>\n",
       "      <td>65.328510</td>\n",
       "      <td>60.075201</td>\n",
       "      <td>1.000</td>\n",
       "      <td>23.000</td>\n",
       "      <td>47.000</td>\n",
       "      <td>88.00</td>\n",
       "      <td>336.000</td>\n",
       "    </tr>\n",
       "    <tr>\n",
       "      <th>target</th>\n",
       "      <td>19158.0</td>\n",
       "      <td>0.249348</td>\n",
       "      <td>0.432647</td>\n",
       "      <td>0.000</td>\n",
       "      <td>0.000</td>\n",
       "      <td>0.000</td>\n",
       "      <td>0.00</td>\n",
       "      <td>1.000</td>\n",
       "    </tr>\n",
       "  </tbody>\n",
       "</table>\n",
       "</div>"
      ],
      "text/plain": [
       "                                     count       mean        std    min  \\\n",
       "city_development_index             21287.0   0.828462   0.123537  0.448   \n",
       "gender_Male                        21287.0   0.875417   0.330253  0.000   \n",
       "gender_Female                      21287.0   0.113590   0.317321  0.000   \n",
       "gender_Other                       21287.0   0.010993   0.104270  0.000   \n",
       "relevent_experience                21287.0   0.719500   0.449254  0.000   \n",
       "enrolled_university_no_enrollment  21287.0   0.738526   0.439448  0.000   \n",
       "enrolled_university_full_time      21287.0   0.198431   0.398828  0.000   \n",
       "enrolled_university_part_time      21287.0   0.063043   0.243046  0.000   \n",
       "education_level_Graduate           21287.0   0.628412   0.483241  0.000   \n",
       "education_level_Masters            21287.0   0.228261   0.419722  0.000   \n",
       "education_level_High School        21287.0   0.105182   0.306794  0.000   \n",
       "education_level_Phd                21287.0   0.021985   0.146639  0.000   \n",
       "education_level_Primary School     21287.0   0.016160   0.126094  0.000   \n",
       "major_STEM                         21287.0   0.901254   0.298327  0.000   \n",
       "major_Business Degree              21287.0   0.017804   0.132243  0.000   \n",
       "major_Arts                         21287.0   0.013435   0.115133  0.000   \n",
       "major_Humanities                   21287.0   0.035609   0.185317  0.000   \n",
       "major_No Major                     21287.0   0.012120   0.109425  0.000   \n",
       "major_Other                        21287.0   0.019777   0.139238  0.000   \n",
       "experience                         21287.0  10.100766   6.778751  0.000   \n",
       "company_size                       21287.0   3.142340   1.896761  0.000   \n",
       "company_type_private_limited       21287.0   0.701696   0.457524  0.000   \n",
       "company_type_startup_funded        21287.0   0.112510   0.316000  0.000   \n",
       "company_type_startup_earlystage    21287.0   0.085404   0.279489  0.000   \n",
       "company_type_Other                 21287.0   0.009020   0.094544  0.000   \n",
       "company_type_public_sector         21287.0   0.063372   0.243637  0.000   \n",
       "company_type_NGO                   21287.0   0.027998   0.164972  0.000   \n",
       "last_new_job                       21287.0   1.990558   1.663921  0.000   \n",
       "training_hours                     21287.0  65.328510  60.075201  1.000   \n",
       "target                             19158.0   0.249348   0.432647  0.000   \n",
       "\n",
       "                                      25%     50%    75%      max  \n",
       "city_development_index              0.739   0.903   0.92    0.949  \n",
       "gender_Male                         1.000   1.000   1.00    1.000  \n",
       "gender_Female                       0.000   0.000   0.00    1.000  \n",
       "gender_Other                        0.000   0.000   0.00    1.000  \n",
       "relevent_experience                 0.000   1.000   1.00    1.000  \n",
       "enrolled_university_no_enrollment   0.000   1.000   1.00    1.000  \n",
       "enrolled_university_full_time       0.000   0.000   0.00    1.000  \n",
       "enrolled_university_part_time       0.000   0.000   0.00    1.000  \n",
       "education_level_Graduate            0.000   1.000   1.00    1.000  \n",
       "education_level_Masters             0.000   0.000   0.00    1.000  \n",
       "education_level_High School         0.000   0.000   0.00    1.000  \n",
       "education_level_Phd                 0.000   0.000   0.00    1.000  \n",
       "education_level_Primary School      0.000   0.000   0.00    1.000  \n",
       "major_STEM                          1.000   1.000   1.00    1.000  \n",
       "major_Business Degree               0.000   0.000   0.00    1.000  \n",
       "major_Arts                          0.000   0.000   0.00    1.000  \n",
       "major_Humanities                    0.000   0.000   0.00    1.000  \n",
       "major_No Major                      0.000   0.000   0.00    1.000  \n",
       "major_Other                         0.000   0.000   0.00    1.000  \n",
       "experience                          4.000   9.000  16.00   21.000  \n",
       "company_size                        2.000   3.000   4.00    7.000  \n",
       "company_type_private_limited        0.000   1.000   1.00    1.000  \n",
       "company_type_startup_funded         0.000   0.000   0.00    1.000  \n",
       "company_type_startup_earlystage     0.000   0.000   0.00    1.000  \n",
       "company_type_Other                  0.000   0.000   0.00    1.000  \n",
       "company_type_public_sector          0.000   0.000   0.00    1.000  \n",
       "company_type_NGO                    0.000   0.000   0.00    1.000  \n",
       "last_new_job                        1.000   1.000   3.00    5.000  \n",
       "training_hours                     23.000  47.000  88.00  336.000  \n",
       "target                              0.000   0.000   0.00    1.000  "
      ]
     },
     "execution_count": 70,
     "metadata": {},
     "output_type": "execute_result"
    }
   ],
   "source": [
    "df.describe().T"
   ]
  },
  {
   "cell_type": "markdown",
   "id": "3514ae03",
   "metadata": {},
   "source": [
    "# III. Save Clean df"
   ]
  },
  {
   "cell_type": "code",
   "execution_count": 68,
   "id": "e8c11eb1",
   "metadata": {},
   "outputs": [],
   "source": [
    "df.to_csv('../data/HRAnalytics_clean.csv')"
   ]
  }
 ],
 "metadata": {
  "kernelspec": {
   "display_name": "Python 3 (ipykernel)",
   "language": "python",
   "name": "python3"
  },
  "language_info": {
   "codemirror_mode": {
    "name": "ipython",
    "version": 3
   },
   "file_extension": ".py",
   "mimetype": "text/x-python",
   "name": "python",
   "nbconvert_exporter": "python",
   "pygments_lexer": "ipython3",
   "version": "3.8.12"
  }
 },
 "nbformat": 4,
 "nbformat_minor": 5
}
