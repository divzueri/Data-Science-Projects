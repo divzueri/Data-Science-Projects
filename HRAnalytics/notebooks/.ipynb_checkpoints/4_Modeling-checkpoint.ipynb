{
 "cells": [
  {
   "cell_type": "code",
   "execution_count": 1,
   "id": "a4ec8b26",
   "metadata": {},
   "outputs": [],
   "source": [
    "#conda install xgboost"
   ]
  },
  {
   "cell_type": "code",
   "execution_count": 49,
   "id": "3f657561",
   "metadata": {},
   "outputs": [],
   "source": [
    "import pandas as pd\n",
    "import numpy as np\n",
    "import matplotlib.pyplot as plt\n",
    "\n",
    "from sklearn.model_selection import cross_validate, RandomizedSearchCV, GridSearchCV\n",
    "from sklearn.preprocessing import StandardScaler\n",
    "from sklearn.pipeline import Pipeline\n",
    "\n",
    "from sklearn.model_selection import cross_val_score\n",
    "\n",
    "from sklearn.metrics import accuracy_score, f1_score, precision_recall_curve, auc, log_loss\n",
    "from sklearn.metrics import classification_report, confusion_matrix, plot_confusion_matrix, roc_curve"
   ]
  },
  {
   "cell_type": "markdown",
   "id": "c9b8503a",
   "metadata": {},
   "source": [
    "Since the pre-designated test dataset does not have include values for the target feature, the train dataset will be split further into a train/test set."
   ]
  },
  {
   "cell_type": "code",
   "execution_count": 3,
   "id": "b0d289fd",
   "metadata": {},
   "outputs": [
    {
     "data": {
      "text/plain": [
       "((14181, 29), (4727, 29))"
      ]
     },
     "execution_count": 3,
     "metadata": {},
     "output_type": "execute_result"
    }
   ],
   "source": [
    "train = pd.read_csv('../data/Train.csv', index_col=0)\n",
    "test = pd.read_csv('../data/Test.csv', index_col=0)\n",
    "\n",
    "train.shape, test.shape"
   ]
  },
  {
   "cell_type": "code",
   "execution_count": 4,
   "id": "cfb92b6d",
   "metadata": {
    "scrolled": false
   },
   "outputs": [
    {
     "data": {
      "text/plain": [
       "enrollee_id                          int64\n",
       "city_development_index             float64\n",
       "gender_Female                        int64\n",
       "gender_Other                         int64\n",
       "relevent_experience                  int64\n",
       "enrolled_university_full_time        int64\n",
       "enrolled_university_part_time        int64\n",
       "education_level                      int64\n",
       "major_Other                          int64\n",
       "major_Humanities                     int64\n",
       "major_Arts                           int64\n",
       "major_No Major                       int64\n",
       "major_Business Degree                int64\n",
       "company_size                         int64\n",
       "company_type_private_limited         int64\n",
       "company_type_startup_earlystage      int64\n",
       "company_type_public_sector           int64\n",
       "company_type_startup_funded          int64\n",
       "company_type_NGO                     int64\n",
       "company_type_Other                   int64\n",
       "last_new_job                         int64\n",
       "training_hours                       int64\n",
       "target                             float64\n",
       "exp_range                            int64\n",
       "city_group_city_114                  int64\n",
       "city_group_city_21                   int64\n",
       "city_group_city_other                int64\n",
       "city_group_city_103                  int64\n",
       "city_group_city_16                   int64\n",
       "dtype: object"
      ]
     },
     "execution_count": 4,
     "metadata": {},
     "output_type": "execute_result"
    }
   ],
   "source": [
    "train.dtypes"
   ]
  },
  {
   "cell_type": "code",
   "execution_count": 5,
   "id": "185c23ef",
   "metadata": {},
   "outputs": [],
   "source": [
    "train['target'] = train['target'].astype('int64')\n",
    "test['target'] = test['target'].astype('int64')"
   ]
  },
  {
   "cell_type": "code",
   "execution_count": 33,
   "id": "7dbef4f4",
   "metadata": {},
   "outputs": [
    {
     "data": {
      "text/plain": [
       "((14181, 27), (14181,), (4727, 27), (4727,))"
      ]
     },
     "execution_count": 33,
     "metadata": {},
     "output_type": "execute_result"
    }
   ],
   "source": [
    "# Split into test/train\n",
    "\n",
    "X_train, y_train = train.drop(columns=['target', 'enrollee_id']), train.target\n",
    "X_test, y_test = test.drop(columns=['target', 'enrollee_id']), test.target\n",
    "\n",
    "X_train.shape, y_train.shape, X_test.shape, y_test.shape"
   ]
  },
  {
   "cell_type": "code",
   "execution_count": 34,
   "id": "2867f103",
   "metadata": {},
   "outputs": [],
   "source": [
    "# Scale Data\n",
    "\n",
    "scaler = StandardScaler()\n",
    "\n",
    "scaler.fit(X_train)\n",
    "\n",
    "X_train_scaled = scaler.transform(X_train)\n",
    "X_test_scaled = scaler.transform(X_test)"
   ]
  },
  {
   "cell_type": "code",
   "execution_count": 55,
   "id": "fa393c41",
   "metadata": {},
   "outputs": [
    {
     "data": {
      "text/plain": [
       "array([[ 0.78743303, -0.32675153, -0.10512329, ..., -0.96132823,\n",
       "        -0.54668479, -0.2898423 ],\n",
       "       [-1.661485  , -0.32675153, -0.10512329, ..., -0.96132823,\n",
       "        -0.54668479, -0.2898423 ],\n",
       "       [-1.661485  , -0.32675153, -0.10512329, ..., -0.96132823,\n",
       "        -0.54668479, -0.2898423 ],\n",
       "       ...,\n",
       "       [ 0.77932403, -0.32675153, -0.10512329, ...,  1.04022744,\n",
       "        -0.54668479, -0.2898423 ],\n",
       "       [-0.28295498, -0.32675153, -0.10512329, ...,  1.04022744,\n",
       "        -0.54668479, -0.2898423 ],\n",
       "       [ 0.77121503, -0.32675153, -0.10512329, ...,  1.04022744,\n",
       "        -0.54668479, -0.2898423 ]])"
      ]
     },
     "execution_count": 55,
     "metadata": {},
     "output_type": "execute_result"
    }
   ],
   "source": [
    "X_train_scaled"
   ]
  },
  {
   "cell_type": "markdown",
   "id": "29c0a83f",
   "metadata": {},
   "source": [
    "# 0. Baseline Model"
   ]
  },
  {
   "cell_type": "code",
   "execution_count": 35,
   "id": "1ca8c4e7",
   "metadata": {},
   "outputs": [
    {
     "data": {
      "text/plain": [
       "0    10663\n",
       "1     3518\n",
       "Name: target, dtype: int64"
      ]
     },
     "execution_count": 35,
     "metadata": {},
     "output_type": "execute_result"
    }
   ],
   "source": [
    "y_train.value_counts()"
   ]
  },
  {
   "cell_type": "markdown",
   "id": "6e1e1389",
   "metadata": {},
   "source": [
    "As the majority response is 0 (most candidates are not looking for a job change), a baseline ZeroR classifier will be used as a basis of comparison for other models."
   ]
  },
  {
   "cell_type": "code",
   "execution_count": 56,
   "id": "c7910fa6",
   "metadata": {
    "scrolled": true
   },
   "outputs": [
    {
     "name": "stdout",
     "output_type": "stream",
     "text": [
      "              precision    recall  f1-score   support\n",
      "\n",
      "           0    1.00000   0.74614   0.85462      4727\n",
      "           1    0.00000   0.00000   0.00000         0\n",
      "\n",
      "    accuracy                        0.74614      4727\n",
      "   macro avg    0.50000   0.37307   0.42731      4727\n",
      "weighted avg    1.00000   0.74614   0.85462      4727\n",
      "\n"
     ]
    }
   ],
   "source": [
    "# Create a y_pred that is a series of 0s\n",
    "\n",
    "from sklearn.dummy import DummyClassifier\n",
    "\n",
    "dummy = DummyClassifier(strategy='most_frequent')\n",
    "dummy.fit(X_train_scaled, y_train)\n",
    "y_pred = dummy.predict(X_test_scaled)\n",
    "\n",
    "print(classification_report(y_pred, y_test, zero_division=0, digits=5))"
   ]
  },
  {
   "cell_type": "code",
   "execution_count": 10,
   "id": "5b97b725",
   "metadata": {},
   "outputs": [
    {
     "data": {
      "image/png": "[encoded data removed]",
      "text/plain": [
       "<Figure size 432x288 with 2 Axes>"
      ]
     },
     "metadata": {
      "needs_background": "light"
     },
     "output_type": "display_data"
    }
   ],
   "source": [
    "plot_confusion_matrix(dummy, X_test_scaled, y_test);"
   ]
  },
  {
   "cell_type": "markdown",
   "id": "db51a0a0",
   "metadata": {},
   "source": [
    "Baseline accuracy is 0.7527"
   ]
  },
  {
   "cell_type": "markdown",
   "id": "210c3dc3",
   "metadata": {},
   "source": [
    "# I. Logistic Regression"
   ]
  },
  {
   "cell_type": "code",
   "execution_count": 58,
   "id": "dc538bc7",
   "metadata": {},
   "outputs": [
    {
     "name": "stdout",
     "output_type": "stream",
     "text": [
      "              precision    recall  f1-score   support\n",
      "\n",
      "           0     0.8038    0.9198    0.8579      3527\n",
      "           1     0.5904    0.3400    0.4315      1200\n",
      "\n",
      "    accuracy                         0.7726      4727\n",
      "   macro avg     0.6971    0.6299    0.6447      4727\n",
      "weighted avg     0.7496    0.7726    0.7496      4727\n",
      "\n"
     ]
    }
   ],
   "source": [
    "from sklearn.linear_model import LogisticRegression\n",
    "\n",
    "LR = LogisticRegression(random_state=0)\n",
    "\n",
    "LR.fit(X_train_scaled, y_train)\n",
    "y_pred = LR.predict(X_test_scaled)\n",
    "\n",
    "print(classification_report(y_test, y_pred, digits=4))"
   ]
  },
  {
   "cell_type": "code",
   "execution_count": 12,
   "id": "fb14cb90",
   "metadata": {
    "scrolled": true
   },
   "outputs": [
    {
     "data": {
      "image/png": "[encoded data removed]",
      "text/plain": [
       "<Figure size 432x288 with 2 Axes>"
      ]
     },
     "metadata": {
      "needs_background": "light"
     },
     "output_type": "display_data"
    }
   ],
   "source": [
    "plot_confusion_matrix(LR, X_test_scaled, y_test);"
   ]
  },
  {
   "cell_type": "markdown",
   "id": "b0e35910",
   "metadata": {},
   "source": [
    "This model performs somewhat better than the baseline. Next, I'll try to optimize performance with Grid Search cross validation"
   ]
  },
  {
   "cell_type": "code",
   "execution_count": 13,
   "id": "493caa59",
   "metadata": {},
   "outputs": [],
   "source": [
    "# Make pipeline\n",
    "LR_pipeline = Pipeline([('scaler', StandardScaler()), ('LR', LogisticRegression())])\n",
    "\n",
    "# Define parameters\n",
    "params_LR = {\n",
    "    'LR__C': [0.001, 0.1, 1, 10, 100],\n",
    "    'LR__penalty': ['l2', 'l1'],\n",
    "    'LR__solver': ['liblinear'],\n",
    "    'LR__class_weight': [None, 'balanced']\n",
    "}"
   ]
  },
  {
   "cell_type": "code",
   "execution_count": 38,
   "id": "0fbdf8d4",
   "metadata": {},
   "outputs": [
    {
     "name": "stdout",
     "output_type": "stream",
     "text": [
      "Wall time: 9.7 s\n"
     ]
    },
    {
     "data": {
      "text/plain": [
       "GridSearchCV(cv=5,\n",
       "             estimator=Pipeline(steps=[('scaler', StandardScaler()),\n",
       "                                       ('LR', LogisticRegression())]),\n",
       "             n_jobs=-1,\n",
       "             param_grid={'LR__C': [0.001, 0.1, 1, 10, 100],\n",
       "                         'LR__class_weight': [None, 'balanced'],\n",
       "                         'LR__penalty': ['l2', 'l1'],\n",
       "                         'LR__solver': ['liblinear']},\n",
       "             refit='accuracy', scoring=['accuracy', 'roc_auc', 'neg_log_loss'])"
      ]
     },
     "execution_count": 38,
     "metadata": {},
     "output_type": "execute_result"
    }
   ],
   "source": [
    "%%time\n",
    "\n",
    "scoring= ['accuracy', 'roc_auc', 'neg_log_loss']\n",
    "\n",
    "gridcv_LR = GridSearchCV(LR_pipeline, param_grid=params_LR, cv=10, scoring=scoring, refit='accuracy', n_jobs=-1)\n",
    "gridcv_LR.fit(X_train, y_train)"
   ]
  },
  {
   "cell_type": "code",
   "execution_count": 39,
   "id": "cb3d4408",
   "metadata": {},
   "outputs": [
    {
     "data": {
      "text/plain": [
       "(Pipeline(steps=[('scaler', StandardScaler()),\n",
       "                 ('LR', LogisticRegression(C=0.001, solver='liblinear'))]),\n",
       " {'LR__C': 0.001,\n",
       "  'LR__class_weight': None,\n",
       "  'LR__penalty': 'l2',\n",
       "  'LR__solver': 'liblinear'},\n",
       " 0.7797757867152423)"
      ]
     },
     "execution_count": 39,
     "metadata": {},
     "output_type": "execute_result"
    }
   ],
   "source": [
    "gridcv_LR.best_estimator_, gridcv_LR.best_params_, gridcv_LR.best_score_"
   ]
  },
  {
   "cell_type": "code",
   "execution_count": 40,
   "id": "9a9dd9a1",
   "metadata": {},
   "outputs": [
    {
     "name": "stdout",
     "output_type": "stream",
     "text": [
      "              precision    recall  f1-score   support\n",
      "\n",
      "           0     0.8085    0.9155    0.8587      3527\n",
      "           1     0.5935    0.3625    0.4501      1200\n",
      "\n",
      "    accuracy                         0.7751      4727\n",
      "   macro avg     0.7010    0.6390    0.6544      4727\n",
      "weighted avg     0.7539    0.7751    0.7549      4727\n",
      "\n"
     ]
    }
   ],
   "source": [
    "LR_best = gridcv_LR.best_estimator_\n",
    "\n",
    "y_pred = LR_best.predict(X_test)\n",
    "\n",
    "print(classification_report(y_test, y_pred, digits=4))"
   ]
  },
  {
   "cell_type": "code",
   "execution_count": 51,
   "id": "52b6654f",
   "metadata": {},
   "outputs": [
    {
     "data": {
      "text/plain": [
       "0.7799869492312173"
      ]
     },
     "execution_count": 51,
     "metadata": {},
     "output_type": "execute_result"
    }
   ],
   "source": [
    "cross_val_score(LR_best, X_train, y_train, scoring='accuracy', cv=10).mean()"
   ]
  },
  {
   "cell_type": "markdown",
   "id": "a4f5fdc8",
   "metadata": {},
   "source": [
    "The optimized logistic regression model performs about the same as the one with default settings."
   ]
  },
  {
   "cell_type": "code",
   "execution_count": 41,
   "id": "3b4b28f3",
   "metadata": {},
   "outputs": [
    {
     "data": {
      "image/png": "[encoded data removed]",
      "text/plain": [
       "<Figure size 1080x360 with 1 Axes>"
      ]
     },
     "metadata": {
      "needs_background": "light"
     },
     "output_type": "display_data"
    }
   ],
   "source": [
    "# Plot feature importance\n",
    "\n",
    "importance = LR_best.named_steps.LR.coef_[0]\n",
    "feat_imp = pd.Series(importance, index=X_train.columns).sort_values(ascending=False)\n",
    "\n",
    "fig, ax = plt.subplots(figsize=(15,5))\n",
    "feat_imp.plot.bar(ax=ax)\n",
    "\n",
    "ax.set_title(\"Feature importances\")\n",
    "ax.set_ylabel(\"Coefficient of features in decision function\")\n",
    "plt.xticks(rotation=90);"
   ]
  },
  {
   "cell_type": "code",
   "execution_count": 42,
   "id": "6c7f9655",
   "metadata": {},
   "outputs": [
    {
     "name": "stdout",
     "output_type": "stream",
     "text": [
      "city_group_city_21 : 0.221\n",
      "enrolled_university_full_time : 0.106\n",
      "city_group_city_103 : 0.056\n",
      "education_level : 0.056\n",
      "company_type_startup_funded : 0.041\n",
      "enrolled_university_part_time : 0.029\n",
      "last_new_job : 0.018\n",
      "major_Business Degree : 0.016\n",
      "major_Humanities : 0.016\n",
      "major_Other : 0.011\n",
      "company_size : 0.011\n",
      "company_type_Other : 0.01\n",
      "gender_Other : 0.009\n",
      "major_No Major : 0.004\n",
      "gender_Female : 0.004\n",
      "major_Arts : 0.003\n",
      "company_type_private_limited : -0.004\n",
      "company_type_public_sector : -0.007\n",
      "company_type_startup_earlystage : -0.015\n",
      "training_hours : -0.037\n",
      "company_type_NGO : -0.045\n",
      "city_group_city_16 : -0.081\n",
      "exp_range : -0.101\n",
      "city_group_city_other : -0.104\n",
      "city_group_city_114 : -0.104\n",
      "relevent_experience : -0.15\n",
      "city_development_index : -0.354\n"
     ]
    }
   ],
   "source": [
    "for i,v in zip(feat_imp.index, feat_imp):\n",
    "    print(i,':', round(v, 3))"
   ]
  },
  {
   "cell_type": "markdown",
   "id": "96bd0d9b",
   "metadata": {},
   "source": [
    "It seems nearly a third of the features have close to 0 impact in the model."
   ]
  },
  {
   "cell_type": "markdown",
   "id": "f7120381",
   "metadata": {},
   "source": [
    "# II. Random Forest Classifier"
   ]
  },
  {
   "cell_type": "code",
   "execution_count": 43,
   "id": "581943e3",
   "metadata": {},
   "outputs": [
    {
     "name": "stdout",
     "output_type": "stream",
     "text": [
      "              precision    recall  f1-score   support\n",
      "\n",
      "           0     0.8084    0.8826    0.8439      3527\n",
      "           1     0.5274    0.3850    0.4451      1200\n",
      "\n",
      "    accuracy                         0.7563      4727\n",
      "   macro avg     0.6679    0.6338    0.6445      4727\n",
      "weighted avg     0.7370    0.7563    0.7426      4727\n",
      "\n"
     ]
    }
   ],
   "source": [
    "from sklearn.ensemble import RandomForestClassifier\n",
    "\n",
    "RF = RandomForestClassifier(random_state=0)\n",
    "\n",
    "RF.fit(X_train_scaled, y_train)\n",
    "y_pred = RF.predict(X_test_scaled)\n",
    "\n",
    "print(classification_report(y_test, y_pred, digits=4))"
   ]
  },
  {
   "cell_type": "code",
   "execution_count": 20,
   "id": "ab210a5f",
   "metadata": {},
   "outputs": [
    {
     "data": {
      "image/png": "[encoded data removed]",
      "text/plain": [
       "<Figure size 432x288 with 2 Axes>"
      ]
     },
     "metadata": {
      "needs_background": "light"
     },
     "output_type": "display_data"
    }
   ],
   "source": [
    "plot_confusion_matrix(RF, X_test_scaled, y_test);"
   ]
  },
  {
   "cell_type": "markdown",
   "id": "26158cf5",
   "metadata": {},
   "source": []
  },
  {
   "cell_type": "code",
   "execution_count": 25,
   "id": "fa3ab9e6",
   "metadata": {},
   "outputs": [],
   "source": [
    "# Make pipeline\n",
    "RF_pipeline = Pipeline([('scaler', StandardScaler()), ('RF', RandomForestClassifier())])\n",
    "\n",
    "# Define param grid\n",
    "params_RF = {\n",
    "    'RF__n_estimators': [int(x) for x in np.linspace(start=100,stop=1000,num=10)],\n",
    "    'RF__max_depth': [int(x) for x in np.linspace(start=10,stop=100,num=10)], \n",
    "    'RF__max_features': ['sqrt', 'log2', None], \n",
    "    'RF__criterion': ['gini', 'entropy']\n",
    "}"
   ]
  },
  {
   "cell_type": "code",
   "execution_count": 44,
   "id": "b26c7b44",
   "metadata": {},
   "outputs": [
    {
     "name": "stdout",
     "output_type": "stream",
     "text": [
      "Wall time: 14min 12s\n"
     ]
    },
    {
     "data": {
      "text/plain": [
       "RandomizedSearchCV(cv=5,\n",
       "                   estimator=Pipeline(steps=[('scaler', StandardScaler()),\n",
       "                                             ('RF', RandomForestClassifier())]),\n",
       "                   n_iter=75, n_jobs=-1,\n",
       "                   param_distributions={'RF__criterion': ['gini', 'entropy'],\n",
       "                                        'RF__max_depth': [10, 20, 30, 40, 50,\n",
       "                                                          60, 70, 80, 90, 100],\n",
       "                                        'RF__max_features': ['sqrt', 'log2',\n",
       "                                                             None],\n",
       "                                        'RF__n_estimators': [100, 200, 300, 400,\n",
       "                                                             500, 600, 700, 800,\n",
       "                                                             900, 1000]},\n",
       "                   scoring='accuracy')"
      ]
     },
     "execution_count": 44,
     "metadata": {},
     "output_type": "execute_result"
    }
   ],
   "source": [
    "%%time\n",
    "\n",
    "scoring= ['accuracy', 'roc_auc', 'neg_log_loss']\n",
    "\n",
    "RF_randcv = RandomizedSearchCV(RF_pipeline, params_RF, cv=5, scoring='accuracy', n_iter=75, n_jobs=-1)\n",
    "RF_randcv.fit(X_train, y_train)"
   ]
  },
  {
   "cell_type": "code",
   "execution_count": 45,
   "id": "65f92852",
   "metadata": {},
   "outputs": [
    {
     "data": {
      "text/plain": [
       "(Pipeline(steps=[('scaler', StandardScaler()),\n",
       "                 ('RF',\n",
       "                  RandomForestClassifier(max_depth=10, max_features=None,\n",
       "                                         n_estimators=300))]),\n",
       " {'RF__n_estimators': 300,\n",
       "  'RF__max_features': None,\n",
       "  'RF__max_depth': 10,\n",
       "  'RF__criterion': 'gini'},\n",
       " 0.7821028590064895)"
      ]
     },
     "execution_count": 45,
     "metadata": {},
     "output_type": "execute_result"
    }
   ],
   "source": [
    "RF_randcv.best_estimator_, RF_randcv.best_params_, RF_randcv.best_score_"
   ]
  },
  {
   "cell_type": "code",
   "execution_count": 46,
   "id": "b2a0ab58",
   "metadata": {},
   "outputs": [
    {
     "name": "stdout",
     "output_type": "stream",
     "text": [
      "              precision    recall  f1-score   support\n",
      "\n",
      "           0     0.8210    0.8937    0.8558      3527\n",
      "           1     0.5777    0.4275    0.4914      1200\n",
      "\n",
      "    accuracy                         0.7753      4727\n",
      "   macro avg     0.6994    0.6606    0.6736      4727\n",
      "weighted avg     0.7593    0.7753    0.7633      4727\n",
      "\n"
     ]
    }
   ],
   "source": [
    "RF_best = RF_randcv.best_estimator_\n",
    "\n",
    "y_pred = RF_best.predict(X_test)\n",
    "\n",
    "print(classification_report(y_test, y_pred, digits=4))"
   ]
  },
  {
   "cell_type": "code",
   "execution_count": 53,
   "id": "17b6bb72",
   "metadata": {},
   "outputs": [
    {
     "name": "stdout",
     "output_type": "stream",
     "text": [
      "Wall time: 1min 6s\n"
     ]
    },
    {
     "data": {
      "text/plain": [
       "0.78287804737439"
      ]
     },
     "execution_count": 53,
     "metadata": {},
     "output_type": "execute_result"
    }
   ],
   "source": [
    "%%time\n",
    "cross_val_score(RF_best, X_train, y_train, scoring='accuracy', cv=10).mean()"
   ]
  },
  {
   "cell_type": "code",
   "execution_count": 48,
   "id": "72f18af6",
   "metadata": {},
   "outputs": [
    {
     "data": {
      "image/png": "[encoded data removed]",
      "text/plain": [
       "<Figure size 432x288 with 2 Axes>"
      ]
     },
     "metadata": {
      "needs_background": "light"
     },
     "output_type": "display_data"
    }
   ],
   "source": [
    "plot_confusion_matrix(RF_best, X_test, y_test);"
   ]
  },
  {
   "cell_type": "markdown",
   "id": "0caf1cb8",
   "metadata": {},
   "source": []
  },
  {
   "cell_type": "code",
   "execution_count": 47,
   "id": "3a64afb5",
   "metadata": {},
   "outputs": [
    {
     "data": {
      "image/png": "[encoded data removed]",
      "text/plain": [
       "<Figure size 1080x360 with 1 Axes>"
      ]
     },
     "metadata": {
      "needs_background": "light"
     },
     "output_type": "display_data"
    }
   ],
   "source": [
    "# Viewing feature importances\n",
    "\n",
    "importance = RF_best.named_steps.RF.feature_importances_\n",
    "forest_imp = pd.Series(importance, index=X_train.columns).sort_values(ascending=False)\n",
    "std = np.std([tree.feature_importances_ for tree in RF_best.named_steps.RF.estimators_], axis=0)\n",
    "\n",
    "# Plot\n",
    "fig, ax = plt.subplots(figsize=(15,5))\n",
    "\n",
    "forest_imp.plot.bar(yerr=std, ax=ax)\n",
    "\n",
    "ax.set_title(\"Feature importances\")\n",
    "ax.set_ylabel(\"Mean decrease in impurity\")\n",
    "plt.xticks(rotation=90);"
   ]
  },
  {
   "cell_type": "markdown",
   "id": "3d196649",
   "metadata": {},
   "source": []
  },
  {
   "cell_type": "markdown",
   "id": "f4dfd783",
   "metadata": {},
   "source": [
    "# III. Support Vector Machine"
   ]
  },
  {
   "cell_type": "code",
   "execution_count": 79,
   "id": "49a45e1a",
   "metadata": {},
   "outputs": [
    {
     "name": "stdout",
     "output_type": "stream",
     "text": [
      "              precision    recall  f1-score   support\n",
      "\n",
      "           0     0.8104    0.9124    0.8584      3527\n",
      "           1     0.5913    0.3725    0.4571      1200\n",
      "\n",
      "    accuracy                         0.7753      4727\n",
      "   macro avg     0.7008    0.6424    0.6577      4727\n",
      "weighted avg     0.7548    0.7753    0.7565      4727\n",
      "\n"
     ]
    }
   ],
   "source": [
    "from sklearn.svm import SVC\n",
    "\n",
    "svc = SVC(random_state=0)\n",
    "\n",
    "svc.fit(X_train_scaled, y_train)\n",
    "y_pred = svc.predict(X_test_scaled)\n",
    "\n",
    "print(classification_report(y_test, y_pred, digits=4))"
   ]
  },
  {
   "cell_type": "code",
   "execution_count": 81,
   "id": "a1ceea81",
   "metadata": {},
   "outputs": [
    {
     "data": {
      "image/png": "[encoded data removed]",
      "text/plain": [
       "<Figure size 432x288 with 2 Axes>"
      ]
     },
     "metadata": {
      "needs_background": "light"
     },
     "output_type": "display_data"
    }
   ],
   "source": [
    "plot_confusion_matrix(svc, X_test_scaled, y_test);"
   ]
  },
  {
   "cell_type": "markdown",
   "id": "cf0f572a",
   "metadata": {},
   "source": []
  },
  {
   "cell_type": "code",
   "execution_count": null,
   "id": "776ea56a",
   "metadata": {},
   "outputs": [],
   "source": [
    "# Make pipeline\n",
    "SVC_pipeline = Pipeline([('scaler', StandardScaler()), ('SVC', SVC(random_state=0))])\n",
    "\n",
    "# Define param grid\n",
    "#params_SVC = {\n",
    "#    'SVC__C': [],\n",
    "#    'SVC__gamma': [], \n",
    "#    'SVC__max_features': ['sqrt', 'log2', None], \n",
    "#    'SVC__criterion': ['gini', 'entropy']\n",
    "#}"
   ]
  },
  {
   "cell_type": "code",
   "execution_count": null,
   "id": "daa7e46c",
   "metadata": {},
   "outputs": [],
   "source": [
    "%%time\n",
    "\n",
    "scoring= ['accuracy', 'roc_auc', 'neg_log_loss']\n",
    "\n",
    "#SVC_randcv = RandomizedSearchCV(SVC_pipeline, params_SVC, cv=5, scoring='accuracy', n_iter=75, n_jobs=-1)\n",
    "#SVC_randcv.fit(X_train, y_train)"
   ]
  },
  {
   "cell_type": "code",
   "execution_count": null,
   "id": "d55d175f",
   "metadata": {},
   "outputs": [],
   "source": [
    "#SVC_randcv.best_estimator_, SVC_randcv.best_params_, SVC_randcv.best_score_"
   ]
  },
  {
   "cell_type": "code",
   "execution_count": null,
   "id": "087e168f",
   "metadata": {},
   "outputs": [],
   "source": [
    "#SVC_best = SVC_randcv.best_estimator_\n",
    "\n",
    "#y_pred = SVC_best.predict(X_test)\n",
    "\n",
    "#print(classification_report(y_test, y_pred, digits=4))"
   ]
  },
  {
   "cell_type": "code",
   "execution_count": null,
   "id": "9f1745ee",
   "metadata": {},
   "outputs": [],
   "source": [
    "# Plot feature importance\n",
    "\n",
    "#importance = SVC_best.named_steps.svc.coef_[0]\n",
    "#feat_imp = pd.Series(importance, index=X_train.columns).sort_values(ascending=False)\n",
    "\n",
    "#fig, ax = plt.subplots(figsize=(15,5))\n",
    "#feat_imp.plot.bar(ax=ax)\n",
    "\n",
    "#ax.set_title(\"Feature importances\")\n",
    "#ax.set_ylabel(\"Coefficient of features in decision function\")\n",
    "#plt.xticks(rotation=90);"
   ]
  },
  {
   "cell_type": "code",
   "execution_count": null,
   "id": "ac0943f2",
   "metadata": {},
   "outputs": [],
   "source": []
  },
  {
   "cell_type": "code",
   "execution_count": null,
   "id": "909ce50a",
   "metadata": {},
   "outputs": [],
   "source": []
  },
  {
   "cell_type": "markdown",
   "id": "571d4025",
   "metadata": {},
   "source": [
    "# IV. XGBoost Model"
   ]
  },
  {
   "cell_type": "code",
   "execution_count": 62,
   "id": "49eacb19",
   "metadata": {},
   "outputs": [
    {
     "name": "stdout",
     "output_type": "stream",
     "text": [
      "[13:37:10] WARNING: ..\\src\\learner.cc:1115: Starting in XGBoost 1.3.0, the default evaluation metric used with the objective 'binary:logistic' was changed from 'error' to 'logloss'. Explicitly set eval_metric if you'd like to restore the old behavior.\n",
      "              precision    recall  f1-score   support\n",
      "\n",
      "           0     0.8111    0.8900    0.8487      3527\n",
      "           1     0.5473    0.3908    0.4560      1200\n",
      "\n",
      "    accuracy                         0.7633      4727\n",
      "   macro avg     0.6792    0.6404    0.6524      4727\n",
      "weighted avg     0.7441    0.7633    0.7490      4727\n",
      "\n"
     ]
    }
   ],
   "source": [
    "import xgboost as xgb\n",
    "\n",
    "XGB = xgb.XGBClassifier(objective='binary:logistic', use_label_encoder=False, random_state=0)\n",
    "\n",
    "XGB.fit(X_train_scaled, y_train)\n",
    "y_pred = XGB.predict(X_test_scaled)\n",
    "\n",
    "print(classification_report(y_test, y_pred, digits=4))"
   ]
  },
  {
   "cell_type": "code",
   "execution_count": 64,
   "id": "deb740f2",
   "metadata": {
    "scrolled": true
   },
   "outputs": [
    {
     "data": {
      "image/png": "[encoded data removed]",
      "text/plain": [
       "<Figure size 432x288 with 2 Axes>"
      ]
     },
     "metadata": {
      "needs_background": "light"
     },
     "output_type": "display_data"
    }
   ],
   "source": [
    "plot_confusion_matrix(XGB, X_test_scaled, y_test);"
   ]
  },
  {
   "cell_type": "code",
   "execution_count": null,
   "id": "d1c4e7e1",
   "metadata": {},
   "outputs": [],
   "source": []
  },
  {
   "cell_type": "code",
   "execution_count": null,
   "id": "0799cb58",
   "metadata": {},
   "outputs": [],
   "source": []
  },
  {
   "cell_type": "code",
   "execution_count": null,
   "id": "848fd535",
   "metadata": {},
   "outputs": [],
   "source": []
  },
  {
   "cell_type": "code",
   "execution_count": null,
   "id": "81ad6995",
   "metadata": {},
   "outputs": [],
   "source": []
  },
  {
   "cell_type": "code",
   "execution_count": null,
   "id": "4e05396a",
   "metadata": {},
   "outputs": [],
   "source": []
  },
  {
   "cell_type": "code",
   "execution_count": null,
   "id": "3a255530",
   "metadata": {},
   "outputs": [],
   "source": []
  },
  {
   "cell_type": "code",
   "execution_count": null,
   "id": "38a0eddb",
   "metadata": {},
   "outputs": [],
   "source": []
  },
  {
   "cell_type": "markdown",
   "id": "9859cbc5",
   "metadata": {},
   "source": [
    "# V. Select Best Model"
   ]
  },
  {
   "cell_type": "code",
   "execution_count": 66,
   "id": "a8767155",
   "metadata": {},
   "outputs": [],
   "source": [
    "models = [\n",
    "    ('Dummy (Baseline)', dummy),\n",
    "    ('LogReg_best', LR_best), \n",
    "    ('RF_best', RF_best),\n",
    "    #('SVC_best', svc_best),\n",
    "    #('GB_best', GB_best)\n",
    "]\n",
    "\n",
    "scoring = ['accuracy', 'f1', 'roc_auc']"
   ]
  },
  {
   "cell_type": "code",
   "execution_count": 67,
   "id": "8d33f618",
   "metadata": {},
   "outputs": [
    {
     "name": "stdout",
     "output_type": "stream",
     "text": [
      "Wall time: 1min 32s\n"
     ]
    }
   ],
   "source": [
    "%%time\n",
    "%%capture --no-display\n",
    "\n",
    "results= {}\n",
    "for name, model in models:\n",
    "    results[name] = {}\n",
    "    for i in scoring:        \n",
    "        scores = cross_validate(model, X_train, y_train, scoring=i, cv=5, return_train_score=True)\n",
    "        results[name][i] = scores"
   ]
  },
  {
   "cell_type": "code",
   "execution_count": 68,
   "id": "4e1d24b7",
   "metadata": {},
   "outputs": [],
   "source": [
    "Accuracy_Train = []\n",
    "Accuracy_Test = []\n",
    "F1_Train = []\n",
    "F1_Test = []\n",
    "ROC_AUC_Train = []\n",
    "ROC_AUC_Test = []\n",
    "\n",
    "for model in results.keys():\n",
    "    # Accuracy\n",
    "    acc_train_mean = results[model]['accuracy']['train_score'].mean()*100\n",
    "    acc_test_mean = results[model]['accuracy']['test_score'].mean()*100\n",
    "    Accuracy_Train.append(round(acc_train_mean, 2))\n",
    "    Accuracy_Test.append(round(acc_test_mean, 2))\n",
    "    \n",
    "    # F1\n",
    "    f1_train_mean = results[model]['f1']['train_score'].mean()*100\n",
    "    f1_test_mean = results[model]['f1']['test_score'].mean()*100\n",
    "    F1_Train.append(round(f1_train_mean, 2))\n",
    "    F1_Test.append(round(f1_test_mean, 2))\n",
    "    \n",
    "    # ROC AUC\n",
    "    auc_train_mean = results[model]['roc_auc']['train_score'].mean()*100\n",
    "    auc_test_mean = results[model]['roc_auc']['test_score'].mean()*100\n",
    "    ROC_AUC_Train.append(round(auc_train_mean, 2))\n",
    "    ROC_AUC_Test.append(round(auc_test_mean, 2))"
   ]
  },
  {
   "cell_type": "code",
   "execution_count": 77,
   "id": "ce095c2d",
   "metadata": {},
   "outputs": [],
   "source": [
    "# Save model names and parameters as list\n",
    "\n",
    "names = []\n",
    "steps = []\n",
    "for name, model in models:\n",
    "    names.append(str(name))\n",
    "    steps.append(str(model))"
   ]
  },
  {
   "cell_type": "code",
   "execution_count": 78,
   "id": "a2fde901",
   "metadata": {},
   "outputs": [
    {
     "data": {
      "text/html": [
       "<div>\n",
       "<style scoped>\n",
       "    .dataframe tbody tr th:only-of-type {\n",
       "        vertical-align: middle;\n",
       "    }\n",
       "\n",
       "    .dataframe tbody tr th {\n",
       "        vertical-align: top;\n",
       "    }\n",
       "\n",
       "    .dataframe thead th {\n",
       "        text-align: right;\n",
       "    }\n",
       "</style>\n",
       "<table border=\"1\" class=\"dataframe\">\n",
       "  <thead>\n",
       "    <tr style=\"text-align: right;\">\n",
       "      <th></th>\n",
       "      <th>Model</th>\n",
       "      <th>Accuracy_Train</th>\n",
       "      <th>Accuracy_Test</th>\n",
       "      <th>F1_Train</th>\n",
       "      <th>F1_Test</th>\n",
       "      <th>ROC_AUC_Train</th>\n",
       "      <th>ROC_AUC_Test</th>\n",
       "      <th>Parameters</th>\n",
       "    </tr>\n",
       "  </thead>\n",
       "  <tbody>\n",
       "    <tr>\n",
       "      <th>0</th>\n",
       "      <td>Dummy (Baseline)</td>\n",
       "      <td>75.19</td>\n",
       "      <td>75.19</td>\n",
       "      <td>0.00</td>\n",
       "      <td>0.00</td>\n",
       "      <td>50.00</td>\n",
       "      <td>50.00</td>\n",
       "      <td>DummyClassifier(strategy='most_frequent')</td>\n",
       "    </tr>\n",
       "    <tr>\n",
       "      <th>1</th>\n",
       "      <td>LogReg_best</td>\n",
       "      <td>78.06</td>\n",
       "      <td>77.98</td>\n",
       "      <td>45.75</td>\n",
       "      <td>45.54</td>\n",
       "      <td>74.73</td>\n",
       "      <td>74.40</td>\n",
       "      <td>Pipeline(steps=[('scaler', StandardScaler()),\\n                ('LR', LogisticRegression(C=0.001...</td>\n",
       "    </tr>\n",
       "    <tr>\n",
       "      <th>2</th>\n",
       "      <td>RF_best</td>\n",
       "      <td>84.05</td>\n",
       "      <td>78.25</td>\n",
       "      <td>62.53</td>\n",
       "      <td>49.39</td>\n",
       "      <td>88.91</td>\n",
       "      <td>77.23</td>\n",
       "      <td>Pipeline(steps=[('scaler', StandardScaler()),\\n                ('RF',\\n                 RandomFo...</td>\n",
       "    </tr>\n",
       "  </tbody>\n",
       "</table>\n",
       "</div>"
      ],
      "text/plain": [
       "              Model  Accuracy_Train  Accuracy_Test  F1_Train  F1_Test  \\\n",
       "0  Dummy (Baseline)           75.19          75.19      0.00     0.00   \n",
       "1       LogReg_best           78.06          77.98     45.75    45.54   \n",
       "2           RF_best           84.05          78.25     62.53    49.39   \n",
       "\n",
       "   ROC_AUC_Train  ROC_AUC_Test  \\\n",
       "0          50.00         50.00   \n",
       "1          74.73         74.40   \n",
       "2          88.91         77.23   \n",
       "\n",
       "                                                                                            Parameters  \n",
       "0                                                            DummyClassifier(strategy='most_frequent')  \n",
       "1  Pipeline(steps=[('scaler', StandardScaler()),\\n                ('LR', LogisticRegression(C=0.001...  \n",
       "2  Pipeline(steps=[('scaler', StandardScaler()),\\n                ('RF',\\n                 RandomFo...  "
      ]
     },
     "execution_count": 78,
     "metadata": {},
     "output_type": "execute_result"
    }
   ],
   "source": [
    "pd.options.display.max_colwidth = 100\n",
    "\n",
    "model_compare = pd.DataFrame(\n",
    "    {'Model': names,\n",
    "     'Accuracy_Train': Accuracy_Train,\n",
    "     'Accuracy_Test': Accuracy_Test,\n",
    "     'F1_Train': F1_Train,\n",
    "     'F1_Test': F1_Test,\n",
    "     'ROC_AUC_Train': ROC_AUC_Train,\n",
    "     'ROC_AUC_Test': ROC_AUC_Test,\n",
    "     'Parameters': steps,\n",
    "    }\n",
    ")\n",
    "\n",
    "model_compare"
   ]
  },
  {
   "cell_type": "code",
   "execution_count": null,
   "id": "40f6889e",
   "metadata": {},
   "outputs": [],
   "source": []
  }
 ],
 "metadata": {
  "kernelspec": {
   "display_name": "Python 3 (ipykernel)",
   "language": "python",
   "name": "python3"
  },
  "language_info": {
   "codemirror_mode": {
    "name": "ipython",
    "version": 3
   },
   "file_extension": ".py",
   "mimetype": "text/x-python",
   "name": "python",
   "nbconvert_exporter": "python",
   "pygments_lexer": "ipython3",
   "version": "3.8.12"
  }
 },
 "nbformat": 4,
 "nbformat_minor": 5
}
