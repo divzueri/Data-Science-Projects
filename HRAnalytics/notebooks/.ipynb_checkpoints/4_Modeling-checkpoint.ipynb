{
 "cells": [
  {
   "cell_type": "code",
   "execution_count": 1,
   "id": "a4ec8b26",
   "metadata": {},
   "outputs": [],
   "source": [
    "#conda install xgboost"
   ]
  },
  {
   "cell_type": "code",
   "execution_count": 28,
   "id": "3f657561",
   "metadata": {},
   "outputs": [],
   "source": [
    "import pandas as pd\n",
    "import numpy as np\n",
    "import matplotlib.pyplot as plt\n",
    "\n",
    "from sklearn.model_selection import train_test_split, cross_validate, RandomizedSearchCV, GridSearchCV\n",
    "from sklearn.preprocessing import StandardScaler\n",
    "from sklearn.pipeline import Pipeline\n",
    "\n",
    "from sklearn.ensemble import RandomForestClassifier, GradientBoostingClassifier\n",
    "import xgboost as xgb\n",
    "\n",
    "from sklearn.metrics import accuracy_score, f1_score, precision_recall_curve, auc, log_loss\n",
    "from sklearn.metrics import classification_report, confusion_matrix, plot_confusion_matrix, roc_curve"
   ]
  },
  {
   "cell_type": "markdown",
   "id": "c9b8503a",
   "metadata": {},
   "source": [
    "Since the pre-designated test dataset does not have include values for the target feature, the train dataset will be split further into a train/test set."
   ]
  },
  {
   "cell_type": "code",
   "execution_count": 46,
   "id": "b0d289fd",
   "metadata": {},
   "outputs": [
    {
     "data": {
      "text/plain": [
       "((14181, 29), (4727, 29))"
      ]
     },
     "execution_count": 46,
     "metadata": {},
     "output_type": "execute_result"
    }
   ],
   "source": [
    "train = pd.read_csv('../data/Train.csv', index_col=0)\n",
    "test = pd.read_csv('../data/Test.csv', index_col=0)\n",
    "\n",
    "train.shape, test.shape"
   ]
  },
  {
   "cell_type": "code",
   "execution_count": 47,
   "id": "cfb92b6d",
   "metadata": {
    "scrolled": false
   },
   "outputs": [
    {
     "data": {
      "text/plain": [
       "enrollee_id                          int64\n",
       "city_development_index             float64\n",
       "gender_Female                        int64\n",
       "gender_Other                         int64\n",
       "relevent_experience                  int64\n",
       "enrolled_university_full_time        int64\n",
       "enrolled_university_part_time        int64\n",
       "education_level                      int64\n",
       "major_Other                          int64\n",
       "major_Humanities                     int64\n",
       "major_Arts                           int64\n",
       "major_No Major                       int64\n",
       "major_Business Degree                int64\n",
       "company_size                         int64\n",
       "company_type_private_limited         int64\n",
       "company_type_startup_earlystage      int64\n",
       "company_type_public_sector           int64\n",
       "company_type_startup_funded          int64\n",
       "company_type_NGO                     int64\n",
       "company_type_Other                   int64\n",
       "last_new_job                         int64\n",
       "training_hours                       int64\n",
       "target                             float64\n",
       "exp_range                            int64\n",
       "city_group_city_114                  int64\n",
       "city_group_city_21                   int64\n",
       "city_group_city_other                int64\n",
       "city_group_city_103                  int64\n",
       "city_group_city_16                   int64\n",
       "dtype: object"
      ]
     },
     "execution_count": 47,
     "metadata": {},
     "output_type": "execute_result"
    }
   ],
   "source": [
    "train.dtypes"
   ]
  },
  {
   "cell_type": "code",
   "execution_count": 42,
   "id": "185c23ef",
   "metadata": {},
   "outputs": [],
   "source": [
    "train['target'] = train['target'].astype('int64')\n",
    "test['target'] = test['target'].astype('int64')"
   ]
  },
  {
   "cell_type": "code",
   "execution_count": 43,
   "id": "7dbef4f4",
   "metadata": {},
   "outputs": [
    {
     "data": {
      "text/plain": [
       "((14181, 28), (14181,), (4727, 28), (4727,))"
      ]
     },
     "execution_count": 43,
     "metadata": {},
     "output_type": "execute_result"
    }
   ],
   "source": [
    "# Split into test/train\n",
    "\n",
    "X_train, y_train = train.drop(columns='target'), train.target\n",
    "X_test, y_test = test.drop(columns='target'), test.target\n",
    "\n",
    "X_train.shape, y_train.shape, X_test.shape, y_test.shape"
   ]
  },
  {
   "cell_type": "code",
   "execution_count": 48,
   "id": "2867f103",
   "metadata": {},
   "outputs": [],
   "source": [
    "# Scale Data\n",
    "\n",
    "scaler = StandardScaler()\n",
    "\n",
    "scaler.fit(X_train)\n",
    "\n",
    "X_train_scaled = scaler.transform(X_train)\n",
    "X_test_scaled = scaler.transform(X_test)"
   ]
  },
  {
   "cell_type": "markdown",
   "id": "29c0a83f",
   "metadata": {},
   "source": [
    "# 0. Baseline Model"
   ]
  },
  {
   "cell_type": "code",
   "execution_count": 49,
   "id": "1ca8c4e7",
   "metadata": {},
   "outputs": [
    {
     "data": {
      "text/plain": [
       "0    10663\n",
       "1     3518\n",
       "Name: target, dtype: int64"
      ]
     },
     "execution_count": 49,
     "metadata": {},
     "output_type": "execute_result"
    }
   ],
   "source": [
    "y_train.value_counts()"
   ]
  },
  {
   "cell_type": "markdown",
   "id": "6e1e1389",
   "metadata": {},
   "source": [
    "As the majority response is 0 (most candidates are not looking for a job change), a baseline ZeroR classifier will be used as a basis of comparison for other models."
   ]
  },
  {
   "cell_type": "code",
   "execution_count": 50,
   "id": "c7910fa6",
   "metadata": {
    "scrolled": true
   },
   "outputs": [
    {
     "name": "stdout",
     "output_type": "stream",
     "text": [
      "              precision    recall  f1-score   support\n",
      "\n",
      "           0     1.0000    0.7461    0.8546      4727\n",
      "           1     0.0000    0.0000    0.0000         0\n",
      "\n",
      "    accuracy                         0.7461      4727\n",
      "   macro avg     0.5000    0.3731    0.4273      4727\n",
      "weighted avg     1.0000    0.7461    0.8546      4727\n",
      "\n"
     ]
    }
   ],
   "source": [
    "# Create a y_pred that is a series of 0s\n",
    "\n",
    "from sklearn.dummy import DummyClassifier\n",
    "\n",
    "dummy = DummyClassifier(strategy='most_frequent')\n",
    "dummy.fit(X_train_scaled, y_train)\n",
    "y_pred = dummy.predict(X_test_scaled)\n",
    "\n",
    "print(classification_report(y_pred, y_test, zero_division=0, digits=4))"
   ]
  },
  {
   "cell_type": "code",
   "execution_count": 9,
   "id": "5b97b725",
   "metadata": {},
   "outputs": [
    {
     "data": {
      "image/png": "[encoded data removed]",
      "text/plain": [
       "<Figure size 432x288 with 2 Axes>"
      ]
     },
     "metadata": {
      "needs_background": "light"
     },
     "output_type": "display_data"
    }
   ],
   "source": [
    "plot_confusion_matrix(dummy, X_test_scaled, y_test);"
   ]
  },
  {
   "cell_type": "markdown",
   "id": "db51a0a0",
   "metadata": {},
   "source": [
    "Baseline accuracy is 0.746"
   ]
  },
  {
   "cell_type": "markdown",
   "id": "210c3dc3",
   "metadata": {},
   "source": [
    "# I. Logistic Regression"
   ]
  },
  {
   "cell_type": "code",
   "execution_count": 51,
   "id": "dc538bc7",
   "metadata": {},
   "outputs": [
    {
     "name": "stdout",
     "output_type": "stream",
     "text": [
      "              precision    recall  f1-score   support\n",
      "\n",
      "           0     0.8022    0.9198    0.8570      3527\n",
      "           1     0.5857    0.3333    0.4249      1200\n",
      "\n",
      "    accuracy                         0.7709      4727\n",
      "   macro avg     0.6939    0.6265    0.6409      4727\n",
      "weighted avg     0.7472    0.7709    0.7473      4727\n",
      "\n"
     ]
    }
   ],
   "source": [
    "from sklearn.linear_model import LogisticRegression\n",
    "\n",
    "LR = LogisticRegression(random_state=0)\n",
    "\n",
    "LR.fit(X_train_scaled, y_train)\n",
    "y_pred = LR.predict(X_test_scaled)\n",
    "\n",
    "print(classification_report(y_test, y_pred, digits=4))"
   ]
  },
  {
   "cell_type": "code",
   "execution_count": 11,
   "id": "fb14cb90",
   "metadata": {
    "scrolled": true
   },
   "outputs": [
    {
     "data": {
      "image/png": "[encoded data removed]",
      "text/plain": [
       "<Figure size 432x288 with 2 Axes>"
      ]
     },
     "metadata": {
      "needs_background": "light"
     },
     "output_type": "display_data"
    }
   ],
   "source": [
    "plot_confusion_matrix(LR, X_test_scaled, y_test);"
   ]
  },
  {
   "cell_type": "markdown",
   "id": "b0e35910",
   "metadata": {},
   "source": [
    "This model performs somewhat better than the baseline. Next, I'll try to optimize performance with Grid Search cross validation"
   ]
  },
  {
   "cell_type": "code",
   "execution_count": 21,
   "id": "a7e79a9d",
   "metadata": {},
   "outputs": [],
   "source": [
    "# Make pipeline\n",
    "LR_pipeline = Pipeline([('scaler', StandardScaler()), ('LR', LogisticRegression())])\n",
    "\n",
    "# Define parameters\n",
    "params_LR = {\n",
    "    'LR__C': [0.001, 0.1, 1, 10, 100],\n",
    "    'LR__penalty': ['l2', 'l1'],\n",
    "    'LR__solver': ['liblinear'],\n",
    "    'LR__class_weight': [None, 'balanced']\n",
    "}"
   ]
  },
  {
   "cell_type": "code",
   "execution_count": 52,
   "id": "0fbdf8d4",
   "metadata": {},
   "outputs": [
    {
     "name": "stdout",
     "output_type": "stream",
     "text": [
      "Wall time: 9.65 s\n"
     ]
    },
    {
     "data": {
      "text/plain": [
       "GridSearchCV(cv=5,\n",
       "             estimator=Pipeline(steps=[('scaler', StandardScaler()),\n",
       "                                       ('LR', LogisticRegression())]),\n",
       "             n_jobs=-1,\n",
       "             param_grid={'LR__C': [0.001, 0.1, 1, 10, 100],\n",
       "                         'LR__class_weight': [None, 'balanced'],\n",
       "                         'LR__penalty': ['l2', 'l1'],\n",
       "                         'LR__solver': ['liblinear']},\n",
       "             refit='accuracy', scoring=['accuracy', 'roc_auc', 'neg_log_loss'])"
      ]
     },
     "execution_count": 52,
     "metadata": {},
     "output_type": "execute_result"
    }
   ],
   "source": [
    "%%time\n",
    "\n",
    "scoring= ['accuracy', 'roc_auc', 'neg_log_loss']\n",
    "\n",
    "gridcv_LR = GridSearchCV(LR_pipeline, param_grid=params_LR, cv=5, scoring=scoring, refit='accuracy', n_jobs=-1)\n",
    "gridcv_LR.fit(X_train, y_train)"
   ]
  },
  {
   "cell_type": "code",
   "execution_count": 53,
   "id": "cb3d4408",
   "metadata": {},
   "outputs": [
    {
     "data": {
      "text/plain": [
       "(Pipeline(steps=[('scaler', StandardScaler()),\n",
       "                 ('LR', LogisticRegression(C=0.001, solver='liblinear'))]),\n",
       " {'LR__C': 0.001,\n",
       "  'LR__class_weight': None,\n",
       "  'LR__penalty': 'l2',\n",
       "  'LR__solver': 'liblinear'},\n",
       " 0.7806219993407686)"
      ]
     },
     "execution_count": 53,
     "metadata": {},
     "output_type": "execute_result"
    }
   ],
   "source": [
    "gridcv_LR.best_estimator_, gridcv_LR.best_params_, gridcv_LR.best_score_"
   ]
  },
  {
   "cell_type": "code",
   "execution_count": 54,
   "id": "2c30a97e",
   "metadata": {},
   "outputs": [
    {
     "name": "stdout",
     "output_type": "stream",
     "text": [
      "              precision    recall  f1-score   support\n",
      "\n",
      "           0     0.8078    0.9152    0.8582      3527\n",
      "           1     0.5910    0.3600    0.4474      1200\n",
      "\n",
      "    accuracy                         0.7743      4727\n",
      "   macro avg     0.6994    0.6376    0.6528      4727\n",
      "weighted avg     0.7528    0.7743    0.7539      4727\n",
      "\n"
     ]
    }
   ],
   "source": [
    "LR_best = gridcv_LR.best_estimator_\n",
    "\n",
    "y_pred = LR_best.predict(X_test)\n",
    "\n",
    "print(classification_report(y_test, y_pred, digits=4))"
   ]
  },
  {
   "cell_type": "markdown",
   "id": "9bb28665",
   "metadata": {},
   "source": [
    "The optimized logistic regression model performs about the same as the one with default settings."
   ]
  },
  {
   "cell_type": "code",
   "execution_count": 55,
   "id": "c211ee6b",
   "metadata": {},
   "outputs": [
    {
     "data": {
      "image/png": "[encoded data removed]",
      "text/plain": [
       "<Figure size 1080x360 with 1 Axes>"
      ]
     },
     "metadata": {
      "needs_background": "light"
     },
     "output_type": "display_data"
    }
   ],
   "source": [
    "# Plot feature importance\n",
    "\n",
    "importance = LR_best.named_steps.LR.coef_[0]\n",
    "feat_imp = pd.Series(importance, index=X_train.columns).sort_values(ascending=False)\n",
    "\n",
    "fig, ax = plt.subplots(figsize=(15,5))\n",
    "feat_imp.plot.bar(ax=ax)\n",
    "\n",
    "ax.set_title(\"Feature importances\")\n",
    "ax.set_ylabel(\"Coefficient of features in decision function\")\n",
    "plt.xticks(rotation=90);"
   ]
  },
  {
   "cell_type": "code",
   "execution_count": 58,
   "id": "df2bd6f2",
   "metadata": {},
   "outputs": [
    {
     "name": "stdout",
     "output_type": "stream",
     "text": [
      "city_group_city_21 : 0.22\n",
      "enrolled_university_full_time : 0.106\n",
      "education_level : 0.056\n",
      "city_group_city_103 : 0.055\n",
      "company_type_startup_funded : 0.041\n",
      "enrollee_id : 0.038\n",
      "enrolled_university_part_time : 0.028\n",
      "last_new_job : 0.019\n",
      "major_Business Degree : 0.016\n",
      "major_Humanities : 0.015\n",
      "major_Other : 0.011\n",
      "company_type_Other : 0.01\n",
      "company_size : 0.01\n",
      "gender_Other : 0.009\n",
      "major_No Major : 0.004\n",
      "gender_Female : 0.004\n",
      "major_Arts : 0.003\n",
      "company_type_private_limited : -0.004\n",
      "company_type_public_sector : -0.007\n",
      "company_type_startup_earlystage : -0.015\n",
      "training_hours : -0.037\n",
      "company_type_NGO : -0.045\n",
      "city_group_city_16 : -0.081\n",
      "exp_range : -0.1\n",
      "city_group_city_other : -0.103\n",
      "city_group_city_114 : -0.104\n",
      "relevent_experience : -0.149\n",
      "city_development_index : -0.353\n"
     ]
    }
   ],
   "source": [
    "for i,v in zip(feat_imp.index, feat_imp):\n",
    "    print(i,':', round(v, 3))"
   ]
  },
  {
   "cell_type": "markdown",
   "id": "99848f5f",
   "metadata": {},
   "source": [
    "It seems nearly a third of the features have close to 0 impact in the model."
   ]
  },
  {
   "cell_type": "markdown",
   "id": "f7120381",
   "metadata": {},
   "source": [
    "# II. Random Forest Classifier"
   ]
  },
  {
   "cell_type": "code",
   "execution_count": 15,
   "id": "581943e3",
   "metadata": {},
   "outputs": [
    {
     "name": "stdout",
     "output_type": "stream",
     "text": [
      "              precision    recall  f1-score   support\n",
      "\n",
      "           0       0.81      0.90      0.85      3527\n",
      "           1       0.56      0.37      0.45      1200\n",
      "\n",
      "    accuracy                           0.77      4727\n",
      "   macro avg       0.69      0.64      0.65      4727\n",
      "weighted avg       0.75      0.77      0.75      4727\n",
      "\n"
     ]
    }
   ],
   "source": [
    "RF = RandomForestClassifier(random_state=0)\n",
    "\n",
    "RF.fit(X_train_scaled, y_train)\n",
    "y_pred = RF.predict(X_test_scaled)\n",
    "\n",
    "print(classification_report(y_test, y_pred))"
   ]
  },
  {
   "cell_type": "code",
   "execution_count": 17,
   "id": "ab210a5f",
   "metadata": {},
   "outputs": [
    {
     "data": {
      "image/png": "[encoded data removed]",
      "text/plain": [
       "<Figure size 432x288 with 2 Axes>"
      ]
     },
     "metadata": {
      "needs_background": "light"
     },
     "output_type": "display_data"
    }
   ],
   "source": [
    "plot_confusion_matrix(RF, X_test_scaled, y_test);"
   ]
  },
  {
   "cell_type": "markdown",
   "id": "f4dfd783",
   "metadata": {},
   "source": [
    "# III. Gradient Boost Classifier"
   ]
  },
  {
   "cell_type": "code",
   "execution_count": 18,
   "id": "49a45e1a",
   "metadata": {},
   "outputs": [
    {
     "name": "stdout",
     "output_type": "stream",
     "text": [
      "              precision    recall  f1-score   support\n",
      "\n",
      "           0       0.82      0.90      0.86      3527\n",
      "           1       0.58      0.42      0.49      1200\n",
      "\n",
      "    accuracy                           0.78      4727\n",
      "   macro avg       0.70      0.66      0.67      4727\n",
      "weighted avg       0.76      0.78      0.76      4727\n",
      "\n"
     ]
    }
   ],
   "source": [
    "GB = GradientBoostingClassifier(random_state=0)\n",
    "\n",
    "GB.fit(X_train_scaled, y_train)\n",
    "y_pred = GB.predict(X_test_scaled)\n",
    "\n",
    "print(classification_report(y_test, y_pred))"
   ]
  },
  {
   "cell_type": "code",
   "execution_count": 19,
   "id": "a1ceea81",
   "metadata": {},
   "outputs": [
    {
     "data": {
      "image/png": "[encoded data removed]",
      "text/plain": [
       "<Figure size 432x288 with 2 Axes>"
      ]
     },
     "metadata": {
      "needs_background": "light"
     },
     "output_type": "display_data"
    }
   ],
   "source": [
    "plot_confusion_matrix(GB, X_test_scaled, y_test);"
   ]
  },
  {
   "cell_type": "markdown",
   "id": "571d4025",
   "metadata": {},
   "source": [
    "# IV. XGBoost Model"
   ]
  },
  {
   "cell_type": "code",
   "execution_count": 29,
   "id": "49eacb19",
   "metadata": {},
   "outputs": [
    {
     "name": "stderr",
     "output_type": "stream",
     "text": [
      "C:\\Users\\divzu\\anaconda3\\lib\\site-packages\\xgboost\\sklearn.py:1224: UserWarning: The use of label encoder in XGBClassifier is deprecated and will be removed in a future release. To remove this warning, do the following: 1) Pass option use_label_encoder=False when constructing XGBClassifier object; and 2) Encode your labels (y) as integers starting with 0, i.e. 0, 1, 2, ..., [num_class - 1].\n",
      "  warnings.warn(label_encoder_deprecation_msg, UserWarning)\n"
     ]
    },
    {
     "name": "stdout",
     "output_type": "stream",
     "text": [
      "[20:16:21] WARNING: ..\\src\\learner.cc:1115: Starting in XGBoost 1.3.0, the default evaluation metric used with the objective 'binary:logistic' was changed from 'error' to 'logloss'. Explicitly set eval_metric if you'd like to restore the old behavior.\n",
      "              precision    recall  f1-score   support\n",
      "\n",
      "           0       0.81      0.90      0.85      3527\n",
      "           1       0.57      0.39      0.46      1200\n",
      "\n",
      "    accuracy                           0.77      4727\n",
      "   macro avg       0.69      0.64      0.66      4727\n",
      "weighted avg       0.75      0.77      0.75      4727\n",
      "\n"
     ]
    }
   ],
   "source": [
    "XGB = xgb.XGBClassifier(objective='binary:logistic', random_state=0)\n",
    "\n",
    "XGB.fit(X_train_scaled, y_train)\n",
    "y_pred = XGB.predict(X_test_scaled)\n",
    "\n",
    "print(classification_report(y_test, y_pred))"
   ]
  },
  {
   "cell_type": "code",
   "execution_count": 30,
   "id": "deb740f2",
   "metadata": {},
   "outputs": [
    {
     "data": {
      "image/png": "[encoded data removed]",
      "text/plain": [
       "<Figure size 432x288 with 2 Axes>"
      ]
     },
     "metadata": {
      "needs_background": "light"
     },
     "output_type": "display_data"
    }
   ],
   "source": [
    "plot_confusion_matrix(XGB, X_test_scaled, y_test);"
   ]
  }
 ],
 "metadata": {
  "kernelspec": {
   "display_name": "Python 3 (ipykernel)",
   "language": "python",
   "name": "python3"
  },
  "language_info": {
   "codemirror_mode": {
    "name": "ipython",
    "version": 3
   },
   "file_extension": ".py",
   "mimetype": "text/x-python",
   "name": "python",
   "nbconvert_exporter": "python",
   "pygments_lexer": "ipython3",
   "version": "3.8.12"
  }
 },
 "nbformat": 4,
 "nbformat_minor": 5
}
