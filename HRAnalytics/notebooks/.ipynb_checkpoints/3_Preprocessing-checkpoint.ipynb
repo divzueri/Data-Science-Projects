{
 "cells": [
  {
   "cell_type": "code",
   "execution_count": 12,
   "id": "54a44609",
   "metadata": {},
   "outputs": [],
   "source": [
    "import pandas as pd\n",
    "import numpy as np\n",
    "\n",
    "import matplotlib.pyplot as plt\n",
    "import seaborn as sns\n",
    "\n",
    "from sklearn.model_selection import train_test_split\n",
    "from sklearn.preprocessing import OrdinalEncoder, OneHotEncoder, StandardScaler\n",
    "from sklearn.compose import ColumnTransformer, make_column_selector\n",
    "from sklearn.pipeline import make_pipeline\n",
    "from sklearn.impute import KNNImputer\n",
    "\n",
    "import category_encoders as ce"
   ]
  },
  {
   "cell_type": "code",
   "execution_count": 2,
   "id": "d5fc98b7",
   "metadata": {},
   "outputs": [
    {
     "data": {
      "text/html": [
       "<div>\n",
       "<style scoped>\n",
       "    .dataframe tbody tr th:only-of-type {\n",
       "        vertical-align: middle;\n",
       "    }\n",
       "\n",
       "    .dataframe tbody tr th {\n",
       "        vertical-align: top;\n",
       "    }\n",
       "\n",
       "    .dataframe thead th {\n",
       "        text-align: right;\n",
       "    }\n",
       "</style>\n",
       "<table border=\"1\" class=\"dataframe\">\n",
       "  <thead>\n",
       "    <tr style=\"text-align: right;\">\n",
       "      <th></th>\n",
       "      <th>enrollee_id</th>\n",
       "      <th>city_development_index</th>\n",
       "      <th>gender</th>\n",
       "      <th>relevent_experience</th>\n",
       "      <th>enrolled_university</th>\n",
       "      <th>education_level</th>\n",
       "      <th>major</th>\n",
       "      <th>company_size</th>\n",
       "      <th>company_type</th>\n",
       "      <th>last_new_job</th>\n",
       "      <th>training_hours</th>\n",
       "      <th>target</th>\n",
       "      <th>exp_range</th>\n",
       "      <th>city_group</th>\n",
       "    </tr>\n",
       "  </thead>\n",
       "  <tbody>\n",
       "    <tr>\n",
       "      <th>0</th>\n",
       "      <td>8949</td>\n",
       "      <td>0.920</td>\n",
       "      <td>Male</td>\n",
       "      <td>1</td>\n",
       "      <td>no_enrollment</td>\n",
       "      <td>Graduate</td>\n",
       "      <td>STEM</td>\n",
       "      <td>NaN</td>\n",
       "      <td>NaN</td>\n",
       "      <td>1</td>\n",
       "      <td>36</td>\n",
       "      <td>1.0</td>\n",
       "      <td>&gt;20</td>\n",
       "      <td>0</td>\n",
       "    </tr>\n",
       "    <tr>\n",
       "      <th>1</th>\n",
       "      <td>29725</td>\n",
       "      <td>0.776</td>\n",
       "      <td>Male</td>\n",
       "      <td>0</td>\n",
       "      <td>no_enrollment</td>\n",
       "      <td>Graduate</td>\n",
       "      <td>STEM</td>\n",
       "      <td>50-99</td>\n",
       "      <td>private_limited</td>\n",
       "      <td>&gt;4</td>\n",
       "      <td>47</td>\n",
       "      <td>0.0</td>\n",
       "      <td>11-15</td>\n",
       "      <td>3</td>\n",
       "    </tr>\n",
       "    <tr>\n",
       "      <th>2</th>\n",
       "      <td>11561</td>\n",
       "      <td>0.624</td>\n",
       "      <td>NaN</td>\n",
       "      <td>0</td>\n",
       "      <td>full_time</td>\n",
       "      <td>Graduate</td>\n",
       "      <td>STEM</td>\n",
       "      <td>NaN</td>\n",
       "      <td>NaN</td>\n",
       "      <td>never</td>\n",
       "      <td>83</td>\n",
       "      <td>0.0</td>\n",
       "      <td>2-5</td>\n",
       "      <td>1</td>\n",
       "    </tr>\n",
       "    <tr>\n",
       "      <th>3</th>\n",
       "      <td>33241</td>\n",
       "      <td>0.789</td>\n",
       "      <td>NaN</td>\n",
       "      <td>0</td>\n",
       "      <td>NaN</td>\n",
       "      <td>Graduate</td>\n",
       "      <td>Business Degree</td>\n",
       "      <td>NaN</td>\n",
       "      <td>private_limited</td>\n",
       "      <td>never</td>\n",
       "      <td>52</td>\n",
       "      <td>1.0</td>\n",
       "      <td>&lt;=1</td>\n",
       "      <td>3</td>\n",
       "    </tr>\n",
       "    <tr>\n",
       "      <th>4</th>\n",
       "      <td>666</td>\n",
       "      <td>0.767</td>\n",
       "      <td>Male</td>\n",
       "      <td>1</td>\n",
       "      <td>no_enrollment</td>\n",
       "      <td>Masters</td>\n",
       "      <td>STEM</td>\n",
       "      <td>50-99</td>\n",
       "      <td>startup_funded</td>\n",
       "      <td>4</td>\n",
       "      <td>8</td>\n",
       "      <td>0.0</td>\n",
       "      <td>&gt;20</td>\n",
       "      <td>3</td>\n",
       "    </tr>\n",
       "  </tbody>\n",
       "</table>\n",
       "</div>"
      ],
      "text/plain": [
       "   enrollee_id  city_development_index gender  relevent_experience  \\\n",
       "0         8949                   0.920   Male                    1   \n",
       "1        29725                   0.776   Male                    0   \n",
       "2        11561                   0.624    NaN                    0   \n",
       "3        33241                   0.789    NaN                    0   \n",
       "4          666                   0.767   Male                    1   \n",
       "\n",
       "  enrolled_university education_level            major company_size  \\\n",
       "0       no_enrollment        Graduate             STEM          NaN   \n",
       "1       no_enrollment        Graduate             STEM        50-99   \n",
       "2           full_time        Graduate             STEM          NaN   \n",
       "3                 NaN        Graduate  Business Degree          NaN   \n",
       "4       no_enrollment         Masters             STEM        50-99   \n",
       "\n",
       "      company_type last_new_job  training_hours  target exp_range  city_group  \n",
       "0              NaN            1              36     1.0       >20           0  \n",
       "1  private_limited           >4              47     0.0     11-15           3  \n",
       "2              NaN        never              83     0.0       2-5           1  \n",
       "3  private_limited        never              52     1.0       <=1           3  \n",
       "4   startup_funded            4               8     0.0       >20           3  "
      ]
     },
     "execution_count": 2,
     "metadata": {},
     "output_type": "execute_result"
    }
   ],
   "source": [
    "df = pd.read_csv('../data/df_clean_nulls2.csv', index_col=0).drop(columns='city')\n",
    "df.head()"
   ]
  },
  {
   "cell_type": "code",
   "execution_count": 3,
   "id": "28ed346a",
   "metadata": {},
   "outputs": [
    {
     "data": {
      "text/plain": [
       "(21037, 14)"
      ]
     },
     "execution_count": 3,
     "metadata": {},
     "output_type": "execute_result"
    }
   ],
   "source": [
    "df.shape"
   ]
  },
  {
   "cell_type": "markdown",
   "id": "0e3a7702",
   "metadata": {},
   "source": [
    "# I. Separate Train and Test Sets"
   ]
  },
  {
   "cell_type": "markdown",
   "id": "66f4b2b1",
   "metadata": {},
   "source": [
    "First, I'll separate the pre-defined train and test sets. This test set does not include the target feature, and therefore cannot be used for training or validation."
   ]
  },
  {
   "cell_type": "code",
   "execution_count": 5,
   "id": "95a87453",
   "metadata": {
    "scrolled": true
   },
   "outputs": [
    {
     "data": {
      "text/plain": [
       "((18908, 14), (2129, 14))"
      ]
     },
     "execution_count": 5,
     "metadata": {},
     "output_type": "execute_result"
    }
   ],
   "source": [
    "train_df = df.loc[df['target'].notna()]\n",
    "test_df = df.loc[df['target'].isna()]\n",
    "\n",
    "train_df.shape, test_df.shape"
   ]
  },
  {
   "cell_type": "markdown",
   "id": "362eddda",
   "metadata": {},
   "source": [
    "The train_df will now be split into its own train/test set for encoding/imputing."
   ]
  },
  {
   "cell_type": "code",
   "execution_count": 27,
   "id": "9d3b8a2a",
   "metadata": {},
   "outputs": [
    {
     "data": {
      "text/plain": [
       "((14181, 14), (4727, 14))"
      ]
     },
     "execution_count": 27,
     "metadata": {},
     "output_type": "execute_result"
    }
   ],
   "source": [
    "# Split into test/train\n",
    "\n",
    "#X = train_df.drop(columns='target')\n",
    "#y = train_df.target\n",
    "\n",
    "train, test = train_test_split(train_df, random_state=0)\n",
    "\n",
    "#X_train.shape, y_train.shape, X_test.shape, y_test.shape\n",
    "train.shape, test.shape"
   ]
  },
  {
   "cell_type": "markdown",
   "id": "23c9cc72",
   "metadata": {},
   "source": [
    "# I. Encoding Categorical Columns"
   ]
  },
  {
   "cell_type": "code",
   "execution_count": 22,
   "id": "2b045c6b",
   "metadata": {},
   "outputs": [],
   "source": [
    "#preprocess_ord = make_pipeline(\n",
    "#    ce.OrdinalEncoder(\n",
    "#        cols=ord_cols, mapping=ord_map, return_df=True, handle_unknown='return_nan', handle_missing='return_nan'),\n",
    "#    KNNImputer()\n",
    "#)\n",
    "\n",
    "#preprocess_cat = make_pipeline(\n",
    "#    ce.OneHotEncoder(\n",
    "#        cols=cat_cols, return_df=True, use_cat_names=True, handle_unknown='return_nan', handle_missing='return_nan'),\n",
    "#    KNNImputer(n_neighbors=1)\n",
    "#)"
   ]
  },
  {
   "cell_type": "code",
   "execution_count": 28,
   "id": "bb9eed9e",
   "metadata": {},
   "outputs": [],
   "source": [
    "#preprocessor = ColumnTransformer(\n",
    "#    transformers = [\n",
    "#        ('ord', preprocess_ord, ord_cols),\n",
    "#        ('cat', preprocess_cat, cat_cols)\n",
    "#    ],\n",
    "#    remainder='passthrough', n_jobs=-1, \n",
    "#)"
   ]
  },
  {
   "cell_type": "code",
   "execution_count": 10,
   "id": "b01209be",
   "metadata": {},
   "outputs": [
    {
     "data": {
      "text/plain": [
       "gender                 object\n",
       "enrolled_university    object\n",
       "education_level        object\n",
       "major                  object\n",
       "company_size           object\n",
       "company_type           object\n",
       "last_new_job           object\n",
       "exp_range              object\n",
       "dtype: object"
      ]
     },
     "execution_count": 10,
     "metadata": {},
     "output_type": "execute_result"
    }
   ],
   "source": [
    "train.dtypes[train.dtypes=='object']"
   ]
  },
  {
   "cell_type": "markdown",
   "id": "61029932",
   "metadata": {},
   "source": [
    "### a) Ordinal Columns"
   ]
  },
  {
   "cell_type": "code",
   "execution_count": 17,
   "id": "829d3806",
   "metadata": {},
   "outputs": [],
   "source": [
    "ord_cols = ['education_level', 'company_size', 'last_new_job', 'exp_range']"
   ]
  },
  {
   "cell_type": "code",
   "execution_count": 11,
   "id": "2893b88f",
   "metadata": {},
   "outputs": [
    {
     "data": {
      "text/plain": [
       "Graduate          8731\n",
       "Masters           3267\n",
       "High School       1458\n",
       "Phd                297\n",
       "Primary School     228\n",
       "Name: education_level, dtype: int64"
      ]
     },
     "execution_count": 11,
     "metadata": {},
     "output_type": "execute_result"
    }
   ],
   "source": [
    "train['education_level'].value_counts()"
   ]
  },
  {
   "cell_type": "code",
   "execution_count": 20,
   "id": "9fada081",
   "metadata": {},
   "outputs": [],
   "source": [
    "ord_map = [\n",
    "    {'col': 'education_level',\n",
    "    'mapping': {'Primary School':0, 'High School':1, 'Graduate':2, 'Masters':3, 'Phd':4}},\n",
    "    {'col': 'company_size',\n",
    "     'mapping': {'<10': 0, '10-49': 1, '50-99': 2, '100-499':3, '500-999':4, '1000-4999':5, '5000-9999':6, '10000+':7}},\n",
    "    {'col': 'last_new_job',\n",
    "     'mapping': {'never': 0, '1': 1, '2': 2, '3':3, '4':4, '>4':5}},\n",
    "    {'col': 'exp_range', \n",
    "     'mapping': {'<=1':0, '2-5':1, '6-10':2, '11-15':3, '16-20':4,'>20':5}}\n",
    "]"
   ]
  },
  {
   "cell_type": "code",
   "execution_count": 10,
   "id": "2c5b63fd",
   "metadata": {},
   "outputs": [],
   "source": [
    "ord_encoder = ce.OrdinalEncoder(\n",
    "    cols=ord_cols, mapping=ord_map, return_df=True,\n",
    "    handle_unknown='return_nan', handle_missing='return_nan'\n",
    ")\n",
    "\n",
    "ord_encoder.fit(train)\n",
    "\n",
    "train = ord_encoder.transform(train)\n",
    "test = ord_encoder.transform(test)"
   ]
  },
  {
   "cell_type": "code",
   "execution_count": 11,
   "id": "95a8da9d",
   "metadata": {},
   "outputs": [
    {
     "data": {
      "text/plain": [
       "((18908, 14), (2129, 14))"
      ]
     },
     "execution_count": 11,
     "metadata": {},
     "output_type": "execute_result"
    }
   ],
   "source": [
    "train.shape, test.shape"
   ]
  },
  {
   "cell_type": "code",
   "execution_count": 12,
   "id": "27a3a5bb",
   "metadata": {},
   "outputs": [
    {
     "data": {
      "text/html": [
       "<div>\n",
       "<style scoped>\n",
       "    .dataframe tbody tr th:only-of-type {\n",
       "        vertical-align: middle;\n",
       "    }\n",
       "\n",
       "    .dataframe tbody tr th {\n",
       "        vertical-align: top;\n",
       "    }\n",
       "\n",
       "    .dataframe thead th {\n",
       "        text-align: right;\n",
       "    }\n",
       "</style>\n",
       "<table border=\"1\" class=\"dataframe\">\n",
       "  <thead>\n",
       "    <tr style=\"text-align: right;\">\n",
       "      <th></th>\n",
       "      <th>education_level</th>\n",
       "      <th>company_size</th>\n",
       "      <th>last_new_job</th>\n",
       "      <th>exp_range</th>\n",
       "    </tr>\n",
       "  </thead>\n",
       "  <tbody>\n",
       "    <tr>\n",
       "      <th>0</th>\n",
       "      <td>Graduate</td>\n",
       "      <td>NaN</td>\n",
       "      <td>1</td>\n",
       "      <td>&gt;20</td>\n",
       "    </tr>\n",
       "    <tr>\n",
       "      <th>1</th>\n",
       "      <td>Graduate</td>\n",
       "      <td>50-99</td>\n",
       "      <td>&gt;4</td>\n",
       "      <td>11-15</td>\n",
       "    </tr>\n",
       "    <tr>\n",
       "      <th>2</th>\n",
       "      <td>Graduate</td>\n",
       "      <td>NaN</td>\n",
       "      <td>never</td>\n",
       "      <td>2-5</td>\n",
       "    </tr>\n",
       "    <tr>\n",
       "      <th>3</th>\n",
       "      <td>Graduate</td>\n",
       "      <td>NaN</td>\n",
       "      <td>never</td>\n",
       "      <td>&lt;=1</td>\n",
       "    </tr>\n",
       "    <tr>\n",
       "      <th>4</th>\n",
       "      <td>Masters</td>\n",
       "      <td>50-99</td>\n",
       "      <td>4</td>\n",
       "      <td>&gt;20</td>\n",
       "    </tr>\n",
       "  </tbody>\n",
       "</table>\n",
       "</div>"
      ],
      "text/plain": [
       "  education_level company_size last_new_job exp_range\n",
       "0        Graduate          NaN            1       >20\n",
       "1        Graduate        50-99           >4     11-15\n",
       "2        Graduate          NaN        never       2-5\n",
       "3        Graduate          NaN        never       <=1\n",
       "4         Masters        50-99            4       >20"
      ]
     },
     "execution_count": 12,
     "metadata": {},
     "output_type": "execute_result"
    }
   ],
   "source": [
    "# Original df\n",
    "\n",
    "df[ord_cols].head()"
   ]
  },
  {
   "cell_type": "code",
   "execution_count": 13,
   "id": "8043e5df",
   "metadata": {
    "scrolled": true
   },
   "outputs": [
    {
     "data": {
      "text/html": [
       "<div>\n",
       "<style scoped>\n",
       "    .dataframe tbody tr th:only-of-type {\n",
       "        vertical-align: middle;\n",
       "    }\n",
       "\n",
       "    .dataframe tbody tr th {\n",
       "        vertical-align: top;\n",
       "    }\n",
       "\n",
       "    .dataframe thead th {\n",
       "        text-align: right;\n",
       "    }\n",
       "</style>\n",
       "<table border=\"1\" class=\"dataframe\">\n",
       "  <thead>\n",
       "    <tr style=\"text-align: right;\">\n",
       "      <th></th>\n",
       "      <th>education_level</th>\n",
       "      <th>company_size</th>\n",
       "      <th>last_new_job</th>\n",
       "      <th>exp_range</th>\n",
       "    </tr>\n",
       "  </thead>\n",
       "  <tbody>\n",
       "    <tr>\n",
       "      <th>0</th>\n",
       "      <td>2.0</td>\n",
       "      <td>NaN</td>\n",
       "      <td>1.0</td>\n",
       "      <td>5.0</td>\n",
       "    </tr>\n",
       "    <tr>\n",
       "      <th>1</th>\n",
       "      <td>2.0</td>\n",
       "      <td>2.0</td>\n",
       "      <td>5.0</td>\n",
       "      <td>3.0</td>\n",
       "    </tr>\n",
       "    <tr>\n",
       "      <th>2</th>\n",
       "      <td>2.0</td>\n",
       "      <td>NaN</td>\n",
       "      <td>0.0</td>\n",
       "      <td>1.0</td>\n",
       "    </tr>\n",
       "    <tr>\n",
       "      <th>3</th>\n",
       "      <td>2.0</td>\n",
       "      <td>NaN</td>\n",
       "      <td>0.0</td>\n",
       "      <td>0.0</td>\n",
       "    </tr>\n",
       "    <tr>\n",
       "      <th>4</th>\n",
       "      <td>3.0</td>\n",
       "      <td>2.0</td>\n",
       "      <td>4.0</td>\n",
       "      <td>5.0</td>\n",
       "    </tr>\n",
       "  </tbody>\n",
       "</table>\n",
       "</div>"
      ],
      "text/plain": [
       "   education_level  company_size  last_new_job  exp_range\n",
       "0              2.0           NaN           1.0        5.0\n",
       "1              2.0           2.0           5.0        3.0\n",
       "2              2.0           NaN           0.0        1.0\n",
       "3              2.0           NaN           0.0        0.0\n",
       "4              3.0           2.0           4.0        5.0"
      ]
     },
     "execution_count": 13,
     "metadata": {},
     "output_type": "execute_result"
    }
   ],
   "source": [
    "# Encoded df\n",
    "\n",
    "train[ord_cols].head()"
   ]
  },
  {
   "cell_type": "code",
   "execution_count": 14,
   "id": "3cd76460",
   "metadata": {
    "scrolled": true
   },
   "outputs": [
    {
     "data": {
      "text/plain": [
       "education_level    float64\n",
       "company_size       float64\n",
       "last_new_job       float64\n",
       "exp_range          float64\n",
       "dtype: object"
      ]
     },
     "execution_count": 14,
     "metadata": {},
     "output_type": "execute_result"
    }
   ],
   "source": [
    "train[ord_cols].dtypes"
   ]
  },
  {
   "cell_type": "markdown",
   "id": "0e851e43",
   "metadata": {},
   "source": [
    "Looks good. After imputing missing values, these columns will be converted to int."
   ]
  },
  {
   "cell_type": "markdown",
   "id": "212d474d",
   "metadata": {},
   "source": [
    "### b) One-Hot Encode Columns"
   ]
  },
  {
   "cell_type": "code",
   "execution_count": 18,
   "id": "c770b150",
   "metadata": {},
   "outputs": [],
   "source": [
    "cat_cols = ['gender', 'enrolled_university', 'major', 'company_type']"
   ]
  },
  {
   "cell_type": "code",
   "execution_count": 16,
   "id": "26d94e86",
   "metadata": {},
   "outputs": [],
   "source": [
    "oh_encoder = ce.OneHotEncoder(cols=cat_cols, return_df=True, use_cat_names=True,\n",
    "                           handle_unknown='return_nan', handle_missing='return_nan')\n",
    "\n",
    "oh_encoder.fit(train)\n",
    "\n",
    "train = oh_encoder.transform(train)\n",
    "test = oh_encoder.transform(test)"
   ]
  },
  {
   "cell_type": "code",
   "execution_count": 17,
   "id": "9a9a7976",
   "metadata": {},
   "outputs": [
    {
     "data": {
      "text/plain": [
       "((18908, 32), (2129, 32))"
      ]
     },
     "execution_count": 17,
     "metadata": {},
     "output_type": "execute_result"
    }
   ],
   "source": [
    "train_df.shape, test_df.shape"
   ]
  },
  {
   "cell_type": "code",
   "execution_count": 18,
   "id": "b2ba1d5f",
   "metadata": {},
   "outputs": [
    {
     "data": {
      "text/plain": [
       "['gender_Male',\n",
       " 'gender_nan',\n",
       " 'gender_Female',\n",
       " 'gender_Other',\n",
       " 'enrolled_university_no_enrollment',\n",
       " 'enrolled_university_full_time',\n",
       " 'enrolled_university_nan',\n",
       " 'enrolled_university_part_time',\n",
       " 'major_STEM',\n",
       " 'major_Business Degree',\n",
       " 'major_nan',\n",
       " 'major_Arts',\n",
       " 'major_Humanities',\n",
       " 'major_No Major',\n",
       " 'major_Other',\n",
       " 'company_type_nan',\n",
       " 'company_type_private_limited',\n",
       " 'company_type_startup_funded',\n",
       " 'company_type_startup_earlystage',\n",
       " 'company_type_Other',\n",
       " 'company_type_public_sector',\n",
       " 'company_type_NGO']"
      ]
     },
     "execution_count": 18,
     "metadata": {},
     "output_type": "execute_result"
    }
   ],
   "source": [
    "# Create new list of cat_cols\n",
    "\n",
    "cat_cols2 = []\n",
    "for i in cat_cols:\n",
    "    for col_name in train.columns:\n",
    "        if i in col_name:\n",
    "            cat_cols2.append(col_name)\n",
    "cat_cols2"
   ]
  },
  {
   "cell_type": "code",
   "execution_count": 19,
   "id": "ca426610",
   "metadata": {},
   "outputs": [
    {
     "data": {
      "text/html": [
       "<div>\n",
       "<style scoped>\n",
       "    .dataframe tbody tr th:only-of-type {\n",
       "        vertical-align: middle;\n",
       "    }\n",
       "\n",
       "    .dataframe tbody tr th {\n",
       "        vertical-align: top;\n",
       "    }\n",
       "\n",
       "    .dataframe thead th {\n",
       "        text-align: right;\n",
       "    }\n",
       "</style>\n",
       "<table border=\"1\" class=\"dataframe\">\n",
       "  <thead>\n",
       "    <tr style=\"text-align: right;\">\n",
       "      <th></th>\n",
       "      <th>gender</th>\n",
       "      <th>enrolled_university</th>\n",
       "      <th>major</th>\n",
       "      <th>company_type</th>\n",
       "    </tr>\n",
       "  </thead>\n",
       "  <tbody>\n",
       "    <tr>\n",
       "      <th>0</th>\n",
       "      <td>Male</td>\n",
       "      <td>no_enrollment</td>\n",
       "      <td>STEM</td>\n",
       "      <td>NaN</td>\n",
       "    </tr>\n",
       "    <tr>\n",
       "      <th>1</th>\n",
       "      <td>Male</td>\n",
       "      <td>no_enrollment</td>\n",
       "      <td>STEM</td>\n",
       "      <td>private_limited</td>\n",
       "    </tr>\n",
       "    <tr>\n",
       "      <th>2</th>\n",
       "      <td>NaN</td>\n",
       "      <td>full_time</td>\n",
       "      <td>STEM</td>\n",
       "      <td>NaN</td>\n",
       "    </tr>\n",
       "    <tr>\n",
       "      <th>3</th>\n",
       "      <td>NaN</td>\n",
       "      <td>NaN</td>\n",
       "      <td>Business Degree</td>\n",
       "      <td>private_limited</td>\n",
       "    </tr>\n",
       "    <tr>\n",
       "      <th>4</th>\n",
       "      <td>Male</td>\n",
       "      <td>no_enrollment</td>\n",
       "      <td>STEM</td>\n",
       "      <td>startup_funded</td>\n",
       "    </tr>\n",
       "  </tbody>\n",
       "</table>\n",
       "</div>"
      ],
      "text/plain": [
       "  gender enrolled_university            major     company_type\n",
       "0   Male       no_enrollment             STEM              NaN\n",
       "1   Male       no_enrollment             STEM  private_limited\n",
       "2    NaN           full_time             STEM              NaN\n",
       "3    NaN                 NaN  Business Degree  private_limited\n",
       "4   Male       no_enrollment             STEM   startup_funded"
      ]
     },
     "execution_count": 19,
     "metadata": {},
     "output_type": "execute_result"
    }
   ],
   "source": [
    "# Original df\n",
    "\n",
    "df[cat_cols].head()"
   ]
  },
  {
   "cell_type": "code",
   "execution_count": 20,
   "id": "28594042",
   "metadata": {
    "scrolled": true
   },
   "outputs": [
    {
     "data": {
      "text/html": [
       "<div>\n",
       "<style scoped>\n",
       "    .dataframe tbody tr th:only-of-type {\n",
       "        vertical-align: middle;\n",
       "    }\n",
       "\n",
       "    .dataframe tbody tr th {\n",
       "        vertical-align: top;\n",
       "    }\n",
       "\n",
       "    .dataframe thead th {\n",
       "        text-align: right;\n",
       "    }\n",
       "</style>\n",
       "<table border=\"1\" class=\"dataframe\">\n",
       "  <thead>\n",
       "    <tr style=\"text-align: right;\">\n",
       "      <th></th>\n",
       "      <th>gender_Male</th>\n",
       "      <th>gender_nan</th>\n",
       "      <th>gender_Female</th>\n",
       "      <th>gender_Other</th>\n",
       "      <th>enrolled_university_no_enrollment</th>\n",
       "      <th>enrolled_university_full_time</th>\n",
       "      <th>enrolled_university_nan</th>\n",
       "      <th>enrolled_university_part_time</th>\n",
       "      <th>major_STEM</th>\n",
       "      <th>major_Business Degree</th>\n",
       "      <th>...</th>\n",
       "      <th>major_Humanities</th>\n",
       "      <th>major_No Major</th>\n",
       "      <th>major_Other</th>\n",
       "      <th>company_type_nan</th>\n",
       "      <th>company_type_private_limited</th>\n",
       "      <th>company_type_startup_funded</th>\n",
       "      <th>company_type_startup_earlystage</th>\n",
       "      <th>company_type_Other</th>\n",
       "      <th>company_type_public_sector</th>\n",
       "      <th>company_type_NGO</th>\n",
       "    </tr>\n",
       "  </thead>\n",
       "  <tbody>\n",
       "    <tr>\n",
       "      <th>0</th>\n",
       "      <td>1.0</td>\n",
       "      <td>0.0</td>\n",
       "      <td>0.0</td>\n",
       "      <td>0.0</td>\n",
       "      <td>1.0</td>\n",
       "      <td>0.0</td>\n",
       "      <td>0.0</td>\n",
       "      <td>0.0</td>\n",
       "      <td>1.0</td>\n",
       "      <td>0.0</td>\n",
       "      <td>...</td>\n",
       "      <td>0.0</td>\n",
       "      <td>0.0</td>\n",
       "      <td>0.0</td>\n",
       "      <td>NaN</td>\n",
       "      <td>NaN</td>\n",
       "      <td>NaN</td>\n",
       "      <td>NaN</td>\n",
       "      <td>NaN</td>\n",
       "      <td>NaN</td>\n",
       "      <td>NaN</td>\n",
       "    </tr>\n",
       "    <tr>\n",
       "      <th>1</th>\n",
       "      <td>1.0</td>\n",
       "      <td>0.0</td>\n",
       "      <td>0.0</td>\n",
       "      <td>0.0</td>\n",
       "      <td>1.0</td>\n",
       "      <td>0.0</td>\n",
       "      <td>0.0</td>\n",
       "      <td>0.0</td>\n",
       "      <td>1.0</td>\n",
       "      <td>0.0</td>\n",
       "      <td>...</td>\n",
       "      <td>0.0</td>\n",
       "      <td>0.0</td>\n",
       "      <td>0.0</td>\n",
       "      <td>0.0</td>\n",
       "      <td>1.0</td>\n",
       "      <td>0.0</td>\n",
       "      <td>0.0</td>\n",
       "      <td>0.0</td>\n",
       "      <td>0.0</td>\n",
       "      <td>0.0</td>\n",
       "    </tr>\n",
       "    <tr>\n",
       "      <th>2</th>\n",
       "      <td>NaN</td>\n",
       "      <td>NaN</td>\n",
       "      <td>NaN</td>\n",
       "      <td>NaN</td>\n",
       "      <td>0.0</td>\n",
       "      <td>1.0</td>\n",
       "      <td>0.0</td>\n",
       "      <td>0.0</td>\n",
       "      <td>1.0</td>\n",
       "      <td>0.0</td>\n",
       "      <td>...</td>\n",
       "      <td>0.0</td>\n",
       "      <td>0.0</td>\n",
       "      <td>0.0</td>\n",
       "      <td>NaN</td>\n",
       "      <td>NaN</td>\n",
       "      <td>NaN</td>\n",
       "      <td>NaN</td>\n",
       "      <td>NaN</td>\n",
       "      <td>NaN</td>\n",
       "      <td>NaN</td>\n",
       "    </tr>\n",
       "    <tr>\n",
       "      <th>3</th>\n",
       "      <td>NaN</td>\n",
       "      <td>NaN</td>\n",
       "      <td>NaN</td>\n",
       "      <td>NaN</td>\n",
       "      <td>NaN</td>\n",
       "      <td>NaN</td>\n",
       "      <td>NaN</td>\n",
       "      <td>NaN</td>\n",
       "      <td>0.0</td>\n",
       "      <td>1.0</td>\n",
       "      <td>...</td>\n",
       "      <td>0.0</td>\n",
       "      <td>0.0</td>\n",
       "      <td>0.0</td>\n",
       "      <td>0.0</td>\n",
       "      <td>1.0</td>\n",
       "      <td>0.0</td>\n",
       "      <td>0.0</td>\n",
       "      <td>0.0</td>\n",
       "      <td>0.0</td>\n",
       "      <td>0.0</td>\n",
       "    </tr>\n",
       "    <tr>\n",
       "      <th>4</th>\n",
       "      <td>1.0</td>\n",
       "      <td>0.0</td>\n",
       "      <td>0.0</td>\n",
       "      <td>0.0</td>\n",
       "      <td>1.0</td>\n",
       "      <td>0.0</td>\n",
       "      <td>0.0</td>\n",
       "      <td>0.0</td>\n",
       "      <td>1.0</td>\n",
       "      <td>0.0</td>\n",
       "      <td>...</td>\n",
       "      <td>0.0</td>\n",
       "      <td>0.0</td>\n",
       "      <td>0.0</td>\n",
       "      <td>0.0</td>\n",
       "      <td>0.0</td>\n",
       "      <td>1.0</td>\n",
       "      <td>0.0</td>\n",
       "      <td>0.0</td>\n",
       "      <td>0.0</td>\n",
       "      <td>0.0</td>\n",
       "    </tr>\n",
       "  </tbody>\n",
       "</table>\n",
       "<p>5 rows × 22 columns</p>\n",
       "</div>"
      ],
      "text/plain": [
       "   gender_Male  gender_nan  gender_Female  gender_Other  \\\n",
       "0          1.0         0.0            0.0           0.0   \n",
       "1          1.0         0.0            0.0           0.0   \n",
       "2          NaN         NaN            NaN           NaN   \n",
       "3          NaN         NaN            NaN           NaN   \n",
       "4          1.0         0.0            0.0           0.0   \n",
       "\n",
       "   enrolled_university_no_enrollment  enrolled_university_full_time  \\\n",
       "0                                1.0                            0.0   \n",
       "1                                1.0                            0.0   \n",
       "2                                0.0                            1.0   \n",
       "3                                NaN                            NaN   \n",
       "4                                1.0                            0.0   \n",
       "\n",
       "   enrolled_university_nan  enrolled_university_part_time  major_STEM  \\\n",
       "0                      0.0                            0.0         1.0   \n",
       "1                      0.0                            0.0         1.0   \n",
       "2                      0.0                            0.0         1.0   \n",
       "3                      NaN                            NaN         0.0   \n",
       "4                      0.0                            0.0         1.0   \n",
       "\n",
       "   major_Business Degree  ...  major_Humanities  major_No Major  major_Other  \\\n",
       "0                    0.0  ...               0.0             0.0          0.0   \n",
       "1                    0.0  ...               0.0             0.0          0.0   \n",
       "2                    0.0  ...               0.0             0.0          0.0   \n",
       "3                    1.0  ...               0.0             0.0          0.0   \n",
       "4                    0.0  ...               0.0             0.0          0.0   \n",
       "\n",
       "   company_type_nan  company_type_private_limited  \\\n",
       "0               NaN                           NaN   \n",
       "1               0.0                           1.0   \n",
       "2               NaN                           NaN   \n",
       "3               0.0                           1.0   \n",
       "4               0.0                           0.0   \n",
       "\n",
       "   company_type_startup_funded  company_type_startup_earlystage  \\\n",
       "0                          NaN                              NaN   \n",
       "1                          0.0                              0.0   \n",
       "2                          NaN                              NaN   \n",
       "3                          0.0                              0.0   \n",
       "4                          1.0                              0.0   \n",
       "\n",
       "   company_type_Other  company_type_public_sector  company_type_NGO  \n",
       "0                 NaN                         NaN               NaN  \n",
       "1                 0.0                         0.0               0.0  \n",
       "2                 NaN                         NaN               NaN  \n",
       "3                 0.0                         0.0               0.0  \n",
       "4                 0.0                         0.0               0.0  \n",
       "\n",
       "[5 rows x 22 columns]"
      ]
     },
     "execution_count": 20,
     "metadata": {},
     "output_type": "execute_result"
    }
   ],
   "source": [
    "# After encoding\n",
    "\n",
    "train[cat_cols2].head()"
   ]
  },
  {
   "cell_type": "markdown",
   "id": "69c33c83",
   "metadata": {},
   "source": [
    "### c) Ensure all column dtypes are correct"
   ]
  },
  {
   "cell_type": "code",
   "execution_count": 21,
   "id": "fa44d8db",
   "metadata": {},
   "outputs": [
    {
     "data": {
      "text/plain": [
       "enrollee_id                            int64\n",
       "city_development_index               float64\n",
       "gender_Male                          float64\n",
       "gender_nan                           float64\n",
       "gender_Female                        float64\n",
       "gender_Other                         float64\n",
       "relevent_experience                    int64\n",
       "enrolled_university_no_enrollment    float64\n",
       "enrolled_university_full_time        float64\n",
       "enrolled_university_nan              float64\n",
       "enrolled_university_part_time        float64\n",
       "education_level                      float64\n",
       "major_STEM                           float64\n",
       "major_Business Degree                float64\n",
       "major_nan                            float64\n",
       "major_Arts                           float64\n",
       "major_Humanities                     float64\n",
       "major_No Major                       float64\n",
       "major_Other                          float64\n",
       "company_size                         float64\n",
       "company_type_nan                     float64\n",
       "company_type_private_limited         float64\n",
       "company_type_startup_funded          float64\n",
       "company_type_startup_earlystage      float64\n",
       "company_type_Other                   float64\n",
       "company_type_public_sector           float64\n",
       "company_type_NGO                     float64\n",
       "last_new_job                         float64\n",
       "training_hours                         int64\n",
       "target                               float64\n",
       "exp_range                            float64\n",
       "city_group                             int64\n",
       "dtype: object"
      ]
     },
     "execution_count": 21,
     "metadata": {},
     "output_type": "execute_result"
    }
   ],
   "source": [
    "train.dtypes"
   ]
  },
  {
   "cell_type": "markdown",
   "id": "b6ed72ec",
   "metadata": {},
   "source": [
    "# II. Imputing Missing Values"
   ]
  },
  {
   "cell_type": "markdown",
   "id": "3b76a40c",
   "metadata": {},
   "source": [
    "### a) Ordinal Columns"
   ]
  },
  {
   "cell_type": "code",
   "execution_count": 22,
   "id": "816a4e26",
   "metadata": {},
   "outputs": [
    {
     "data": {
      "text/html": [
       "<div>\n",
       "<style scoped>\n",
       "    .dataframe tbody tr th:only-of-type {\n",
       "        vertical-align: middle;\n",
       "    }\n",
       "\n",
       "    .dataframe tbody tr th {\n",
       "        vertical-align: top;\n",
       "    }\n",
       "\n",
       "    .dataframe thead th {\n",
       "        text-align: right;\n",
       "    }\n",
       "</style>\n",
       "<table border=\"1\" class=\"dataframe\">\n",
       "  <thead>\n",
       "    <tr style=\"text-align: right;\">\n",
       "      <th></th>\n",
       "      <th>Total NA</th>\n",
       "      <th>% NA</th>\n",
       "    </tr>\n",
       "  </thead>\n",
       "  <tbody>\n",
       "    <tr>\n",
       "      <th>education_level</th>\n",
       "      <td>284</td>\n",
       "      <td>1.50</td>\n",
       "    </tr>\n",
       "    <tr>\n",
       "      <th>company_size</th>\n",
       "      <td>5695</td>\n",
       "      <td>30.12</td>\n",
       "    </tr>\n",
       "    <tr>\n",
       "      <th>last_new_job</th>\n",
       "      <td>335</td>\n",
       "      <td>1.77</td>\n",
       "    </tr>\n",
       "    <tr>\n",
       "      <th>exp_range</th>\n",
       "      <td>46</td>\n",
       "      <td>0.24</td>\n",
       "    </tr>\n",
       "  </tbody>\n",
       "</table>\n",
       "</div>"
      ],
      "text/plain": [
       "                 Total NA   % NA\n",
       "education_level       284   1.50\n",
       "company_size         5695  30.12\n",
       "last_new_job          335   1.77\n",
       "exp_range              46   0.24"
      ]
     },
     "execution_count": 22,
     "metadata": {},
     "output_type": "execute_result"
    }
   ],
   "source": [
    "# Number of NAs in each column\n",
    "\n",
    "perc_na = round(train_df[ord_cols].isna().sum() * 100 / len(train_df[ord_cols]), 2)\n",
    "\n",
    "pd.DataFrame({'Total NA':train_df[ord_cols].isna().sum(), '% NA':perc_na})"
   ]
  },
  {
   "cell_type": "code",
   "execution_count": 23,
   "id": "3cac03c9",
   "metadata": {},
   "outputs": [
    {
     "data": {
      "text/html": [
       "<div>\n",
       "<style scoped>\n",
       "    .dataframe tbody tr th:only-of-type {\n",
       "        vertical-align: middle;\n",
       "    }\n",
       "\n",
       "    .dataframe tbody tr th {\n",
       "        vertical-align: top;\n",
       "    }\n",
       "\n",
       "    .dataframe thead th {\n",
       "        text-align: right;\n",
       "    }\n",
       "</style>\n",
       "<table border=\"1\" class=\"dataframe\">\n",
       "  <thead>\n",
       "    <tr style=\"text-align: right;\">\n",
       "      <th></th>\n",
       "      <th>Total NA</th>\n",
       "      <th>% NA</th>\n",
       "    </tr>\n",
       "  </thead>\n",
       "  <tbody>\n",
       "    <tr>\n",
       "      <th>education_level</th>\n",
       "      <td>52</td>\n",
       "      <td>2.44</td>\n",
       "    </tr>\n",
       "    <tr>\n",
       "      <th>company_size</th>\n",
       "      <td>622</td>\n",
       "      <td>29.22</td>\n",
       "    </tr>\n",
       "    <tr>\n",
       "      <th>last_new_job</th>\n",
       "      <td>40</td>\n",
       "      <td>1.88</td>\n",
       "    </tr>\n",
       "    <tr>\n",
       "      <th>exp_range</th>\n",
       "      <td>5</td>\n",
       "      <td>0.23</td>\n",
       "    </tr>\n",
       "  </tbody>\n",
       "</table>\n",
       "</div>"
      ],
      "text/plain": [
       "                 Total NA   % NA\n",
       "education_level        52   2.44\n",
       "company_size          622  29.22\n",
       "last_new_job           40   1.88\n",
       "exp_range               5   0.23"
      ]
     },
     "execution_count": 23,
     "metadata": {},
     "output_type": "execute_result"
    }
   ],
   "source": [
    "# Number of NAs in each column\n",
    "\n",
    "perc_na = round(test_df[ord_cols].isna().sum() * 100 / len(test_df[ord_cols]), 2)\n",
    "\n",
    "pd.DataFrame({'Total NA':test_df[ord_cols].isna().sum(), '% NA':perc_na})"
   ]
  },
  {
   "cell_type": "code",
   "execution_count": 24,
   "id": "dfdb96f5",
   "metadata": {},
   "outputs": [],
   "source": [
    "KNN_imputer = KNNImputer()\n",
    "\n",
    "KNN_imputer.fit(train_df[ord_cols])\n",
    "\n",
    "train_df[ord_cols] = KNN_imputer.transform(train_df[ord_cols])\n",
    "test_df[ord_cols] = KNN_imputer.transform(test_df[ord_cols])"
   ]
  },
  {
   "cell_type": "code",
   "execution_count": 25,
   "id": "b3c517aa",
   "metadata": {},
   "outputs": [
    {
     "data": {
      "text/plain": [
       "education_level    0\n",
       "company_size       0\n",
       "last_new_job       0\n",
       "exp_range          0\n",
       "dtype: int64"
      ]
     },
     "execution_count": 25,
     "metadata": {},
     "output_type": "execute_result"
    }
   ],
   "source": [
    "train_df[ord_cols].isna().sum()"
   ]
  },
  {
   "cell_type": "code",
   "execution_count": 26,
   "id": "bffa15ca",
   "metadata": {},
   "outputs": [
    {
     "data": {
      "text/html": [
       "<div>\n",
       "<style scoped>\n",
       "    .dataframe tbody tr th:only-of-type {\n",
       "        vertical-align: middle;\n",
       "    }\n",
       "\n",
       "    .dataframe tbody tr th {\n",
       "        vertical-align: top;\n",
       "    }\n",
       "\n",
       "    .dataframe thead th {\n",
       "        text-align: right;\n",
       "    }\n",
       "</style>\n",
       "<table border=\"1\" class=\"dataframe\">\n",
       "  <thead>\n",
       "    <tr style=\"text-align: right;\">\n",
       "      <th></th>\n",
       "      <th>education_level</th>\n",
       "      <th>company_size</th>\n",
       "      <th>last_new_job</th>\n",
       "      <th>exp_range</th>\n",
       "    </tr>\n",
       "  </thead>\n",
       "  <tbody>\n",
       "    <tr>\n",
       "      <th>0</th>\n",
       "      <td>2.0</td>\n",
       "      <td>4.0</td>\n",
       "      <td>1.0</td>\n",
       "      <td>5.0</td>\n",
       "    </tr>\n",
       "    <tr>\n",
       "      <th>1</th>\n",
       "      <td>2.0</td>\n",
       "      <td>2.0</td>\n",
       "      <td>5.0</td>\n",
       "      <td>3.0</td>\n",
       "    </tr>\n",
       "    <tr>\n",
       "      <th>2</th>\n",
       "      <td>2.0</td>\n",
       "      <td>5.0</td>\n",
       "      <td>0.0</td>\n",
       "      <td>1.0</td>\n",
       "    </tr>\n",
       "    <tr>\n",
       "      <th>3</th>\n",
       "      <td>2.0</td>\n",
       "      <td>2.0</td>\n",
       "      <td>0.0</td>\n",
       "      <td>0.0</td>\n",
       "    </tr>\n",
       "    <tr>\n",
       "      <th>4</th>\n",
       "      <td>3.0</td>\n",
       "      <td>2.0</td>\n",
       "      <td>4.0</td>\n",
       "      <td>5.0</td>\n",
       "    </tr>\n",
       "  </tbody>\n",
       "</table>\n",
       "</div>"
      ],
      "text/plain": [
       "   education_level  company_size  last_new_job  exp_range\n",
       "0              2.0           4.0           1.0        5.0\n",
       "1              2.0           2.0           5.0        3.0\n",
       "2              2.0           5.0           0.0        1.0\n",
       "3              2.0           2.0           0.0        0.0\n",
       "4              3.0           2.0           4.0        5.0"
      ]
     },
     "execution_count": 26,
     "metadata": {},
     "output_type": "execute_result"
    }
   ],
   "source": [
    "# Convert ord cols to int\n",
    "\n",
    "train_df[ord_cols] = round(train_df[ord_cols], 0)\n",
    "test_df[ord_cols] = round(test_df[ord_cols], 0)\n",
    "\n",
    "train_df[ord_cols].head()"
   ]
  },
  {
   "cell_type": "code",
   "execution_count": 27,
   "id": "5cb23afa",
   "metadata": {},
   "outputs": [
    {
     "data": {
      "text/plain": [
       "(2.0    11786\n",
       " 3.0     4382\n",
       " 1.0     2027\n",
       " 4.0      413\n",
       " 0.0      300\n",
       " Name: education_level, dtype: int64,\n",
       " 2.0    1302\n",
       " 3.0     504\n",
       " 1.0     233\n",
       " 4.0      54\n",
       " 0.0      36\n",
       " Name: education_level, dtype: int64)"
      ]
     },
     "execution_count": 27,
     "metadata": {},
     "output_type": "execute_result"
    }
   ],
   "source": [
    "train_df['education_level'].value_counts(), test_df['education_level'].value_counts()"
   ]
  },
  {
   "cell_type": "code",
   "execution_count": 28,
   "id": "8d898f8c",
   "metadata": {},
   "outputs": [
    {
     "data": {
      "text/plain": [
       "2.0    4506\n",
       "3.0    3626\n",
       "5.0    2462\n",
       "4.0    2453\n",
       "7.0    2018\n",
       "1.0    1936\n",
       "0.0    1307\n",
       "6.0     600\n",
       "Name: company_size, dtype: int64"
      ]
     },
     "execution_count": 28,
     "metadata": {},
     "output_type": "execute_result"
    }
   ],
   "source": [
    "train_df['company_size'].value_counts()"
   ]
  },
  {
   "cell_type": "code",
   "execution_count": 29,
   "id": "8c34e7d3",
   "metadata": {},
   "outputs": [
    {
     "data": {
      "text/plain": [
       "1.0    8185\n",
       "5.0    3280\n",
       "2.0    2983\n",
       "0.0    2369\n",
       "3.0    1058\n",
       "4.0    1033\n",
       "Name: last_new_job, dtype: int64"
      ]
     },
     "execution_count": 29,
     "metadata": {},
     "output_type": "execute_result"
    }
   ],
   "source": [
    "train_df['last_new_job'].value_counts()"
   ]
  },
  {
   "cell_type": "code",
   "execution_count": 30,
   "id": "e3020811",
   "metadata": {},
   "outputs": [
    {
     "data": {
      "text/plain": [
       "1.0    5199\n",
       "2.0    5004\n",
       "5.0    3269\n",
       "3.0    2835\n",
       "4.0    1577\n",
       "0.0    1024\n",
       "Name: exp_range, dtype: int64"
      ]
     },
     "execution_count": 30,
     "metadata": {},
     "output_type": "execute_result"
    }
   ],
   "source": [
    "train_df['exp_range'].value_counts()"
   ]
  },
  {
   "cell_type": "markdown",
   "id": "715e6110",
   "metadata": {},
   "source": [
    "The distributions don't seem to have changed."
   ]
  },
  {
   "cell_type": "code",
   "execution_count": 31,
   "id": "392d620a",
   "metadata": {},
   "outputs": [],
   "source": [
    "# Convert ord cols to int\n",
    "\n",
    "train_df[ord_cols] = train_df[ord_cols].astype('int64')\n",
    "test_df[ord_cols] = test_df[ord_cols].astype('int64')"
   ]
  },
  {
   "cell_type": "code",
   "execution_count": 32,
   "id": "90412dd6",
   "metadata": {},
   "outputs": [
    {
     "data": {
      "text/plain": [
       "(education_level    int64\n",
       " company_size       int64\n",
       " last_new_job       int64\n",
       " exp_range          int64\n",
       " dtype: object,\n",
       " education_level    int64\n",
       " company_size       int64\n",
       " last_new_job       int64\n",
       " exp_range          int64\n",
       " dtype: object)"
      ]
     },
     "execution_count": 32,
     "metadata": {},
     "output_type": "execute_result"
    }
   ],
   "source": [
    "train_df[ord_cols].dtypes, test_df[ord_cols].dtypes"
   ]
  },
  {
   "cell_type": "markdown",
   "id": "f0c8d730",
   "metadata": {},
   "source": [
    "### b) One-Hot Columns"
   ]
  },
  {
   "cell_type": "code",
   "execution_count": 33,
   "id": "315447a9",
   "metadata": {
    "scrolled": false
   },
   "outputs": [
    {
     "data": {
      "text/html": [
       "<div>\n",
       "<style scoped>\n",
       "    .dataframe tbody tr th:only-of-type {\n",
       "        vertical-align: middle;\n",
       "    }\n",
       "\n",
       "    .dataframe tbody tr th {\n",
       "        vertical-align: top;\n",
       "    }\n",
       "\n",
       "    .dataframe thead th {\n",
       "        text-align: right;\n",
       "    }\n",
       "</style>\n",
       "<table border=\"1\" class=\"dataframe\">\n",
       "  <thead>\n",
       "    <tr style=\"text-align: right;\">\n",
       "      <th></th>\n",
       "      <th>Total NA</th>\n",
       "      <th>% NA</th>\n",
       "    </tr>\n",
       "  </thead>\n",
       "  <tbody>\n",
       "    <tr>\n",
       "      <th>gender_Male</th>\n",
       "      <td>4300</td>\n",
       "      <td>22.74</td>\n",
       "    </tr>\n",
       "    <tr>\n",
       "      <th>gender_nan</th>\n",
       "      <td>4300</td>\n",
       "      <td>22.74</td>\n",
       "    </tr>\n",
       "    <tr>\n",
       "      <th>gender_Female</th>\n",
       "      <td>4300</td>\n",
       "      <td>22.74</td>\n",
       "    </tr>\n",
       "    <tr>\n",
       "      <th>gender_Other</th>\n",
       "      <td>4300</td>\n",
       "      <td>22.74</td>\n",
       "    </tr>\n",
       "    <tr>\n",
       "      <th>enrolled_university_no_enrollment</th>\n",
       "      <td>271</td>\n",
       "      <td>1.43</td>\n",
       "    </tr>\n",
       "    <tr>\n",
       "      <th>enrolled_university_full_time</th>\n",
       "      <td>271</td>\n",
       "      <td>1.43</td>\n",
       "    </tr>\n",
       "    <tr>\n",
       "      <th>enrolled_university_nan</th>\n",
       "      <td>271</td>\n",
       "      <td>1.43</td>\n",
       "    </tr>\n",
       "    <tr>\n",
       "      <th>enrolled_university_part_time</th>\n",
       "      <td>271</td>\n",
       "      <td>1.43</td>\n",
       "    </tr>\n",
       "    <tr>\n",
       "      <th>major_STEM</th>\n",
       "      <td>2572</td>\n",
       "      <td>13.60</td>\n",
       "    </tr>\n",
       "    <tr>\n",
       "      <th>major_Business Degree</th>\n",
       "      <td>2572</td>\n",
       "      <td>13.60</td>\n",
       "    </tr>\n",
       "    <tr>\n",
       "      <th>major_nan</th>\n",
       "      <td>2572</td>\n",
       "      <td>13.60</td>\n",
       "    </tr>\n",
       "    <tr>\n",
       "      <th>major_Arts</th>\n",
       "      <td>2572</td>\n",
       "      <td>13.60</td>\n",
       "    </tr>\n",
       "    <tr>\n",
       "      <th>major_Humanities</th>\n",
       "      <td>2572</td>\n",
       "      <td>13.60</td>\n",
       "    </tr>\n",
       "    <tr>\n",
       "      <th>major_No Major</th>\n",
       "      <td>2572</td>\n",
       "      <td>13.60</td>\n",
       "    </tr>\n",
       "    <tr>\n",
       "      <th>major_Other</th>\n",
       "      <td>2572</td>\n",
       "      <td>13.60</td>\n",
       "    </tr>\n",
       "    <tr>\n",
       "      <th>company_type_nan</th>\n",
       "      <td>5894</td>\n",
       "      <td>31.17</td>\n",
       "    </tr>\n",
       "    <tr>\n",
       "      <th>company_type_private_limited</th>\n",
       "      <td>5894</td>\n",
       "      <td>31.17</td>\n",
       "    </tr>\n",
       "    <tr>\n",
       "      <th>company_type_startup_funded</th>\n",
       "      <td>5894</td>\n",
       "      <td>31.17</td>\n",
       "    </tr>\n",
       "    <tr>\n",
       "      <th>company_type_startup_earlystage</th>\n",
       "      <td>5894</td>\n",
       "      <td>31.17</td>\n",
       "    </tr>\n",
       "    <tr>\n",
       "      <th>company_type_Other</th>\n",
       "      <td>5894</td>\n",
       "      <td>31.17</td>\n",
       "    </tr>\n",
       "    <tr>\n",
       "      <th>company_type_public_sector</th>\n",
       "      <td>5894</td>\n",
       "      <td>31.17</td>\n",
       "    </tr>\n",
       "    <tr>\n",
       "      <th>company_type_NGO</th>\n",
       "      <td>5894</td>\n",
       "      <td>31.17</td>\n",
       "    </tr>\n",
       "  </tbody>\n",
       "</table>\n",
       "</div>"
      ],
      "text/plain": [
       "                                   Total NA   % NA\n",
       "gender_Male                            4300  22.74\n",
       "gender_nan                             4300  22.74\n",
       "gender_Female                          4300  22.74\n",
       "gender_Other                           4300  22.74\n",
       "enrolled_university_no_enrollment       271   1.43\n",
       "enrolled_university_full_time           271   1.43\n",
       "enrolled_university_nan                 271   1.43\n",
       "enrolled_university_part_time           271   1.43\n",
       "major_STEM                             2572  13.60\n",
       "major_Business Degree                  2572  13.60\n",
       "major_nan                              2572  13.60\n",
       "major_Arts                             2572  13.60\n",
       "major_Humanities                       2572  13.60\n",
       "major_No Major                         2572  13.60\n",
       "major_Other                            2572  13.60\n",
       "company_type_nan                       5894  31.17\n",
       "company_type_private_limited           5894  31.17\n",
       "company_type_startup_funded            5894  31.17\n",
       "company_type_startup_earlystage        5894  31.17\n",
       "company_type_Other                     5894  31.17\n",
       "company_type_public_sector             5894  31.17\n",
       "company_type_NGO                       5894  31.17"
      ]
     },
     "execution_count": 33,
     "metadata": {},
     "output_type": "execute_result"
    }
   ],
   "source": [
    "# Number of NAs in each column\n",
    "\n",
    "perc_na = round(train_df[cat_cols2].isna().sum() * 100 / len(train_df[cat_cols2]), 2)\n",
    "\n",
    "pd.DataFrame({'Total NA':train_df[cat_cols2].isna().sum(), '% NA':perc_na})"
   ]
  },
  {
   "cell_type": "code",
   "execution_count": 55,
   "id": "a7d67c53",
   "metadata": {},
   "outputs": [],
   "source": [
    "gender_cols = ['gender_Male', 'gender_Female', 'gender_Other']\n",
    "enrolled_cols = ['enrolled_university_no_enrollment', 'enrolled_university_full_time', 'enrolled_university_part_time']\n",
    "major_cols = ['major_STEM', 'major_Business Degree', 'major_Arts', 'major_Humanities', 'major_No Major', 'major_Other']\n",
    "company = ['company_type_private_limited', 'company_type_startup_funded', 'company_type_startup_earlystage', 'company_type_Other',\n",
    "           'company_type_public_sector', 'company_type_NGO']"
   ]
  },
  {
   "cell_type": "code",
   "execution_count": 35,
   "id": "7b297fea",
   "metadata": {},
   "outputs": [
    {
     "data": {
      "text/plain": [
       "['gender_Male',\n",
       " 'gender_Female',\n",
       " 'gender_Other',\n",
       " 'enrolled_university_no_enrollment',\n",
       " 'enrolled_university_full_time',\n",
       " 'enrolled_university_part_time',\n",
       " 'major_STEM',\n",
       " 'major_Business Degree',\n",
       " 'major_Arts',\n",
       " 'major_Humanities',\n",
       " 'major_No Major',\n",
       " 'major_Other',\n",
       " 'company_type_private_limited',\n",
       " 'company_type_startup_funded',\n",
       " 'company_type_startup_earlystage',\n",
       " 'company_type_Other',\n",
       " 'company_type_public_sector',\n",
       " 'company_type_NGO']"
      ]
     },
     "execution_count": 35,
     "metadata": {},
     "output_type": "execute_result"
    }
   ],
   "source": [
    "nan_cols = ['gender_nan', 'enrolled_university_nan', 'major_nan', 'company_type_nan']\n",
    "\n",
    "# Remove NaN columns from catcols2\n",
    "[cat_cols2.remove(i) for i in nan_cols]\n",
    "\n",
    "# Remove NaN cols from df\n",
    "train_df.drop(columns=nan_cols, inplace=True)\n",
    "test_df.drop(columns=nan_cols, inplace=True)\n",
    "\n",
    "cat_cols2"
   ]
  },
  {
   "cell_type": "code",
   "execution_count": 36,
   "id": "975e1f44",
   "metadata": {},
   "outputs": [],
   "source": [
    "KNN_imputer = KNNImputer(n_neighbors=1)\n",
    "\n",
    "KNN_imputer.fit(train_df[cat_cols2])\n",
    "\n",
    "train_df[cat_cols2] = KNN_imputer.transform(train_df[cat_cols2])\n",
    "test_df[cat_cols2] = KNN_imputer.transform(test_df[cat_cols2])"
   ]
  },
  {
   "cell_type": "code",
   "execution_count": 37,
   "id": "bd5d9427",
   "metadata": {
    "scrolled": true
   },
   "outputs": [
    {
     "data": {
      "text/plain": [
       "gender_Male                          0\n",
       "gender_Female                        0\n",
       "gender_Other                         0\n",
       "enrolled_university_no_enrollment    0\n",
       "enrolled_university_full_time        0\n",
       "enrolled_university_part_time        0\n",
       "major_STEM                           0\n",
       "major_Business Degree                0\n",
       "major_Arts                           0\n",
       "major_Humanities                     0\n",
       "major_No Major                       0\n",
       "major_Other                          0\n",
       "company_type_private_limited         0\n",
       "company_type_startup_funded          0\n",
       "company_type_startup_earlystage      0\n",
       "company_type_Other                   0\n",
       "company_type_public_sector           0\n",
       "company_type_NGO                     0\n",
       "dtype: int64"
      ]
     },
     "execution_count": 37,
     "metadata": {},
     "output_type": "execute_result"
    }
   ],
   "source": [
    "train_df[cat_cols2].isna().sum()"
   ]
  },
  {
   "cell_type": "code",
   "execution_count": 38,
   "id": "a1153398",
   "metadata": {},
   "outputs": [
    {
     "data": {
      "text/html": [
       "<div>\n",
       "<style scoped>\n",
       "    .dataframe tbody tr th:only-of-type {\n",
       "        vertical-align: middle;\n",
       "    }\n",
       "\n",
       "    .dataframe tbody tr th {\n",
       "        vertical-align: top;\n",
       "    }\n",
       "\n",
       "    .dataframe thead th {\n",
       "        text-align: right;\n",
       "    }\n",
       "</style>\n",
       "<table border=\"1\" class=\"dataframe\">\n",
       "  <thead>\n",
       "    <tr style=\"text-align: right;\">\n",
       "      <th></th>\n",
       "      <th>gender_Male</th>\n",
       "      <th>gender_Female</th>\n",
       "      <th>gender_Other</th>\n",
       "      <th>enrolled_university_no_enrollment</th>\n",
       "      <th>enrolled_university_full_time</th>\n",
       "      <th>enrolled_university_part_time</th>\n",
       "      <th>major_STEM</th>\n",
       "      <th>major_Business Degree</th>\n",
       "      <th>major_Arts</th>\n",
       "      <th>major_Humanities</th>\n",
       "      <th>major_No Major</th>\n",
       "      <th>major_Other</th>\n",
       "      <th>company_type_private_limited</th>\n",
       "      <th>company_type_startup_funded</th>\n",
       "      <th>company_type_startup_earlystage</th>\n",
       "      <th>company_type_Other</th>\n",
       "      <th>company_type_public_sector</th>\n",
       "      <th>company_type_NGO</th>\n",
       "    </tr>\n",
       "  </thead>\n",
       "  <tbody>\n",
       "    <tr>\n",
       "      <th>0</th>\n",
       "      <td>1.0</td>\n",
       "      <td>0.0</td>\n",
       "      <td>0.0</td>\n",
       "      <td>1.0</td>\n",
       "      <td>0.0</td>\n",
       "      <td>0.0</td>\n",
       "      <td>1.0</td>\n",
       "      <td>0.0</td>\n",
       "      <td>0.0</td>\n",
       "      <td>0.0</td>\n",
       "      <td>0.0</td>\n",
       "      <td>0.0</td>\n",
       "      <td>1.0</td>\n",
       "      <td>0.0</td>\n",
       "      <td>0.0</td>\n",
       "      <td>0.0</td>\n",
       "      <td>0.0</td>\n",
       "      <td>0.0</td>\n",
       "    </tr>\n",
       "    <tr>\n",
       "      <th>1</th>\n",
       "      <td>1.0</td>\n",
       "      <td>0.0</td>\n",
       "      <td>0.0</td>\n",
       "      <td>1.0</td>\n",
       "      <td>0.0</td>\n",
       "      <td>0.0</td>\n",
       "      <td>1.0</td>\n",
       "      <td>0.0</td>\n",
       "      <td>0.0</td>\n",
       "      <td>0.0</td>\n",
       "      <td>0.0</td>\n",
       "      <td>0.0</td>\n",
       "      <td>1.0</td>\n",
       "      <td>0.0</td>\n",
       "      <td>0.0</td>\n",
       "      <td>0.0</td>\n",
       "      <td>0.0</td>\n",
       "      <td>0.0</td>\n",
       "    </tr>\n",
       "    <tr>\n",
       "      <th>2</th>\n",
       "      <td>0.0</td>\n",
       "      <td>1.0</td>\n",
       "      <td>0.0</td>\n",
       "      <td>0.0</td>\n",
       "      <td>1.0</td>\n",
       "      <td>0.0</td>\n",
       "      <td>1.0</td>\n",
       "      <td>0.0</td>\n",
       "      <td>0.0</td>\n",
       "      <td>0.0</td>\n",
       "      <td>0.0</td>\n",
       "      <td>0.0</td>\n",
       "      <td>0.0</td>\n",
       "      <td>0.0</td>\n",
       "      <td>0.0</td>\n",
       "      <td>0.0</td>\n",
       "      <td>1.0</td>\n",
       "      <td>0.0</td>\n",
       "    </tr>\n",
       "    <tr>\n",
       "      <th>3</th>\n",
       "      <td>1.0</td>\n",
       "      <td>0.0</td>\n",
       "      <td>0.0</td>\n",
       "      <td>1.0</td>\n",
       "      <td>0.0</td>\n",
       "      <td>0.0</td>\n",
       "      <td>0.0</td>\n",
       "      <td>1.0</td>\n",
       "      <td>0.0</td>\n",
       "      <td>0.0</td>\n",
       "      <td>0.0</td>\n",
       "      <td>0.0</td>\n",
       "      <td>1.0</td>\n",
       "      <td>0.0</td>\n",
       "      <td>0.0</td>\n",
       "      <td>0.0</td>\n",
       "      <td>0.0</td>\n",
       "      <td>0.0</td>\n",
       "    </tr>\n",
       "    <tr>\n",
       "      <th>4</th>\n",
       "      <td>1.0</td>\n",
       "      <td>0.0</td>\n",
       "      <td>0.0</td>\n",
       "      <td>1.0</td>\n",
       "      <td>0.0</td>\n",
       "      <td>0.0</td>\n",
       "      <td>1.0</td>\n",
       "      <td>0.0</td>\n",
       "      <td>0.0</td>\n",
       "      <td>0.0</td>\n",
       "      <td>0.0</td>\n",
       "      <td>0.0</td>\n",
       "      <td>0.0</td>\n",
       "      <td>1.0</td>\n",
       "      <td>0.0</td>\n",
       "      <td>0.0</td>\n",
       "      <td>0.0</td>\n",
       "      <td>0.0</td>\n",
       "    </tr>\n",
       "  </tbody>\n",
       "</table>\n",
       "</div>"
      ],
      "text/plain": [
       "   gender_Male  gender_Female  gender_Other  \\\n",
       "0          1.0            0.0           0.0   \n",
       "1          1.0            0.0           0.0   \n",
       "2          0.0            1.0           0.0   \n",
       "3          1.0            0.0           0.0   \n",
       "4          1.0            0.0           0.0   \n",
       "\n",
       "   enrolled_university_no_enrollment  enrolled_university_full_time  \\\n",
       "0                                1.0                            0.0   \n",
       "1                                1.0                            0.0   \n",
       "2                                0.0                            1.0   \n",
       "3                                1.0                            0.0   \n",
       "4                                1.0                            0.0   \n",
       "\n",
       "   enrolled_university_part_time  major_STEM  major_Business Degree  \\\n",
       "0                            0.0         1.0                    0.0   \n",
       "1                            0.0         1.0                    0.0   \n",
       "2                            0.0         1.0                    0.0   \n",
       "3                            0.0         0.0                    1.0   \n",
       "4                            0.0         1.0                    0.0   \n",
       "\n",
       "   major_Arts  major_Humanities  major_No Major  major_Other  \\\n",
       "0         0.0               0.0             0.0          0.0   \n",
       "1         0.0               0.0             0.0          0.0   \n",
       "2         0.0               0.0             0.0          0.0   \n",
       "3         0.0               0.0             0.0          0.0   \n",
       "4         0.0               0.0             0.0          0.0   \n",
       "\n",
       "   company_type_private_limited  company_type_startup_funded  \\\n",
       "0                           1.0                          0.0   \n",
       "1                           1.0                          0.0   \n",
       "2                           0.0                          0.0   \n",
       "3                           1.0                          0.0   \n",
       "4                           0.0                          1.0   \n",
       "\n",
       "   company_type_startup_earlystage  company_type_Other  \\\n",
       "0                              0.0                 0.0   \n",
       "1                              0.0                 0.0   \n",
       "2                              0.0                 0.0   \n",
       "3                              0.0                 0.0   \n",
       "4                              0.0                 0.0   \n",
       "\n",
       "   company_type_public_sector  company_type_NGO  \n",
       "0                         0.0               0.0  \n",
       "1                         0.0               0.0  \n",
       "2                         1.0               0.0  \n",
       "3                         0.0               0.0  \n",
       "4                         0.0               0.0  "
      ]
     },
     "execution_count": 38,
     "metadata": {},
     "output_type": "execute_result"
    }
   ],
   "source": [
    "# Convert cat cols to int\n",
    "\n",
    "train_df[cat_cols2] = round(train_df[cat_cols2], 0)\n",
    "test_df[cat_cols2] = round(test_df[cat_cols2], 0)\n",
    "\n",
    "train_df[cat_cols2].head()"
   ]
  },
  {
   "cell_type": "code",
   "execution_count": 39,
   "id": "3208ac7f",
   "metadata": {},
   "outputs": [
    {
     "data": {
      "text/plain": [
       "gender_Male                          int64\n",
       "gender_Female                        int64\n",
       "gender_Other                         int64\n",
       "enrolled_university_no_enrollment    int64\n",
       "enrolled_university_full_time        int64\n",
       "enrolled_university_part_time        int64\n",
       "major_STEM                           int64\n",
       "major_Business Degree                int64\n",
       "major_Arts                           int64\n",
       "major_Humanities                     int64\n",
       "major_No Major                       int64\n",
       "major_Other                          int64\n",
       "company_type_private_limited         int64\n",
       "company_type_startup_funded          int64\n",
       "company_type_startup_earlystage      int64\n",
       "company_type_Other                   int64\n",
       "company_type_public_sector           int64\n",
       "company_type_NGO                     int64\n",
       "dtype: object"
      ]
     },
     "execution_count": 39,
     "metadata": {},
     "output_type": "execute_result"
    }
   ],
   "source": [
    "train_df[cat_cols2] = train_df[cat_cols2].astype('int64')\n",
    "test_df[cat_cols2] = test_df[cat_cols2].astype('int64')\n",
    "\n",
    "train_df[cat_cols2].dtypes"
   ]
  },
  {
   "cell_type": "code",
   "execution_count": 40,
   "id": "31b43eba",
   "metadata": {},
   "outputs": [
    {
     "data": {
      "text/plain": [
       "gender_Male  gender_Female  gender_Other\n",
       "1            0              0               16330\n",
       "0            1              0                2378\n",
       "             0              1                 200\n",
       "dtype: int64"
      ]
     },
     "execution_count": 40,
     "metadata": {},
     "output_type": "execute_result"
    }
   ],
   "source": [
    "train_df[gender_cols].value_counts()"
   ]
  },
  {
   "cell_type": "code",
   "execution_count": 41,
   "id": "0eb468eb",
   "metadata": {},
   "outputs": [
    {
     "data": {
      "text/plain": [
       "STEM               16104\n",
       "Humanities           749\n",
       "Other                421\n",
       "Business Degree      364\n",
       "Arts                 270\n",
       "No Major             245\n",
       "Name: major, dtype: int64"
      ]
     },
     "execution_count": 41,
     "metadata": {},
     "output_type": "execute_result"
    }
   ],
   "source": [
    "df['major'].value_counts()"
   ]
  },
  {
   "cell_type": "code",
   "execution_count": 42,
   "id": "688b81b9",
   "metadata": {
    "scrolled": false
   },
   "outputs": [
    {
     "data": {
      "text/plain": [
       "major_STEM  major_Business Degree  major_Arts  major_Humanities  major_No Major  major_Other\n",
       "1           0                      0           0                 0               0              16942\n",
       "0           0                      0           1                 0               0                669\n",
       "            1                      0           0                 0               0                432\n",
       "            0                      0           0                 0               1                381\n",
       "                                   1           0                 0               0                261\n",
       "                                   0           0                 1               0                223\n",
       "dtype: int64"
      ]
     },
     "execution_count": 42,
     "metadata": {},
     "output_type": "execute_result"
    }
   ],
   "source": [
    "train_df[major_cols].value_counts()"
   ]
  },
  {
   "cell_type": "code",
   "execution_count": 51,
   "id": "7e87f3bb",
   "metadata": {},
   "outputs": [
    {
     "data": {
      "text/plain": [
       "private_limited       10955\n",
       "startup_funded         1098\n",
       "public_sector          1081\n",
       "startup_earlystage      668\n",
       "NGO                     574\n",
       "Other                   133\n",
       "Name: company_type, dtype: int64"
      ]
     },
     "execution_count": 51,
     "metadata": {},
     "output_type": "execute_result"
    }
   ],
   "source": [
    "df['company_type'].value_counts()"
   ]
  },
  {
   "cell_type": "code",
   "execution_count": 60,
   "id": "3b5f536e",
   "metadata": {},
   "outputs": [
    {
     "data": {
      "text/html": [
       "<div>\n",
       "<style scoped>\n",
       "    .dataframe tbody tr th:only-of-type {\n",
       "        vertical-align: middle;\n",
       "    }\n",
       "\n",
       "    .dataframe tbody tr th {\n",
       "        vertical-align: top;\n",
       "    }\n",
       "\n",
       "    .dataframe thead th {\n",
       "        text-align: right;\n",
       "    }\n",
       "</style>\n",
       "<table border=\"1\" class=\"dataframe\">\n",
       "  <thead>\n",
       "    <tr style=\"text-align: right;\">\n",
       "      <th></th>\n",
       "      <th></th>\n",
       "      <th></th>\n",
       "      <th></th>\n",
       "      <th></th>\n",
       "      <th></th>\n",
       "      <th>0</th>\n",
       "    </tr>\n",
       "    <tr>\n",
       "      <th>company_type_private_limited</th>\n",
       "      <th>company_type_startup_funded</th>\n",
       "      <th>company_type_startup_earlystage</th>\n",
       "      <th>company_type_Other</th>\n",
       "      <th>company_type_public_sector</th>\n",
       "      <th>company_type_NGO</th>\n",
       "      <th></th>\n",
       "    </tr>\n",
       "  </thead>\n",
       "  <tbody>\n",
       "    <tr>\n",
       "      <th>1</th>\n",
       "      <th>0</th>\n",
       "      <th>0</th>\n",
       "      <th>0</th>\n",
       "      <th>0</th>\n",
       "      <th>0</th>\n",
       "      <td>14629</td>\n",
       "    </tr>\n",
       "    <tr>\n",
       "      <th rowspan=\"5\" valign=\"top\">0</th>\n",
       "      <th>0</th>\n",
       "      <th>0</th>\n",
       "      <th>0</th>\n",
       "      <th>1</th>\n",
       "      <th>0</th>\n",
       "      <td>1644</td>\n",
       "    </tr>\n",
       "    <tr>\n",
       "      <th>1</th>\n",
       "      <th>0</th>\n",
       "      <th>0</th>\n",
       "      <th>0</th>\n",
       "      <th>0</th>\n",
       "      <td>1357</td>\n",
       "    </tr>\n",
       "    <tr>\n",
       "      <th rowspan=\"3\" valign=\"top\">0</th>\n",
       "      <th>1</th>\n",
       "      <th>0</th>\n",
       "      <th>0</th>\n",
       "      <th>0</th>\n",
       "      <td>603</td>\n",
       "    </tr>\n",
       "    <tr>\n",
       "      <th rowspan=\"2\" valign=\"top\">0</th>\n",
       "      <th>0</th>\n",
       "      <th>0</th>\n",
       "      <th>1</th>\n",
       "      <td>535</td>\n",
       "    </tr>\n",
       "    <tr>\n",
       "      <th>1</th>\n",
       "      <th>0</th>\n",
       "      <th>0</th>\n",
       "      <td>140</td>\n",
       "    </tr>\n",
       "  </tbody>\n",
       "</table>\n",
       "</div>"
      ],
      "text/plain": [
       "                                                                                                                                                             0\n",
       "company_type_private_limited company_type_startup_funded company_type_startup_earlystage company_type_Other company_type_public_sector company_type_NGO       \n",
       "1                            0                           0                               0                  0                          0                 14629\n",
       "0                            0                           0                               0                  1                          0                  1644\n",
       "                             1                           0                               0                  0                          0                  1357\n",
       "                             0                           1                               0                  0                          0                   603\n",
       "                                                         0                               0                  0                          1                   535\n",
       "                                                                                         1                  0                          0                   140"
      ]
     },
     "execution_count": 60,
     "metadata": {},
     "output_type": "execute_result"
    }
   ],
   "source": [
    "pd.DataFrame(train_df[company].value_counts())"
   ]
  },
  {
   "cell_type": "markdown",
   "id": "107e87a1",
   "metadata": {},
   "source": [
    "This distribution doesn't seem to follow the original exactly after KNN imputation."
   ]
  },
  {
   "cell_type": "code",
   "execution_count": 43,
   "id": "87a318f0",
   "metadata": {},
   "outputs": [
    {
     "data": {
      "text/plain": [
       "(enrollee_id                          0\n",
       " city_development_index               0\n",
       " gender_Male                          0\n",
       " gender_Female                        0\n",
       " gender_Other                         0\n",
       " relevent_experience                  0\n",
       " enrolled_university_no_enrollment    0\n",
       " enrolled_university_full_time        0\n",
       " enrolled_university_part_time        0\n",
       " education_level                      0\n",
       " major_STEM                           0\n",
       " major_Business Degree                0\n",
       " major_Arts                           0\n",
       " major_Humanities                     0\n",
       " major_No Major                       0\n",
       " major_Other                          0\n",
       " company_size                         0\n",
       " company_type_private_limited         0\n",
       " company_type_startup_funded          0\n",
       " company_type_startup_earlystage      0\n",
       " company_type_Other                   0\n",
       " company_type_public_sector           0\n",
       " company_type_NGO                     0\n",
       " last_new_job                         0\n",
       " training_hours                       0\n",
       " target                               0\n",
       " exp_range                            0\n",
       " city_group                           0\n",
       " dtype: int64,\n",
       " enrollee_id                             0\n",
       " city_development_index                  0\n",
       " gender_Male                             0\n",
       " gender_Female                           0\n",
       " gender_Other                            0\n",
       " relevent_experience                     0\n",
       " enrolled_university_no_enrollment       0\n",
       " enrolled_university_full_time           0\n",
       " enrolled_university_part_time           0\n",
       " education_level                         0\n",
       " major_STEM                              0\n",
       " major_Business Degree                   0\n",
       " major_Arts                              0\n",
       " major_Humanities                        0\n",
       " major_No Major                          0\n",
       " major_Other                             0\n",
       " company_size                            0\n",
       " company_type_private_limited            0\n",
       " company_type_startup_funded             0\n",
       " company_type_startup_earlystage         0\n",
       " company_type_Other                      0\n",
       " company_type_public_sector              0\n",
       " company_type_NGO                        0\n",
       " last_new_job                            0\n",
       " training_hours                          0\n",
       " target                               2129\n",
       " exp_range                               0\n",
       " city_group                              0\n",
       " dtype: int64)"
      ]
     },
     "execution_count": 43,
     "metadata": {},
     "output_type": "execute_result"
    }
   ],
   "source": [
    "train_df.isna().sum(), test_df.isna().sum()"
   ]
  },
  {
   "cell_type": "code",
   "execution_count": 46,
   "id": "734bd3b8",
   "metadata": {
    "scrolled": false
   },
   "outputs": [
    {
     "data": {
      "image/png": "[encoded data removed]",
      "text/plain": [
       "<Figure size 2160x2160 with 2 Axes>"
      ]
     },
     "metadata": {
      "needs_background": "light"
     },
     "output_type": "display_data"
    }
   ],
   "source": [
    "# Check for multicollinearity again, now that all columns are numerical and imputed\n",
    "\n",
    "plt.figure(figsize=(30,30))\n",
    "sns.heatmap(train_df.corr(), annot=True, cmap='YlGnBu', mask=np.triu(train_df.corr()));"
   ]
  },
  {
   "cell_type": "markdown",
   "id": "79598d79",
   "metadata": {},
   "source": [
    "There seems to be some multicollinearity between one-hot encoded columns. For correlation coefficients above |.60|, one column will be dropped.\n",
    "\n",
    "These are:\n",
    "- gender_female * gender_male\n",
    "- enrolled_full_time * no_enrollment"
   ]
  },
  {
   "cell_type": "code",
   "execution_count": 47,
   "id": "da15a31a",
   "metadata": {},
   "outputs": [],
   "source": [
    "train_df.drop(columns=['gender_Male', 'enrolled_university_no_enrollment'], inplace=True)\n",
    "test_df.drop(columns=['gender_Male', 'enrolled_university_no_enrollment'], inplace=True)"
   ]
  },
  {
   "cell_type": "markdown",
   "id": "82124852",
   "metadata": {},
   "source": [
    "# III. Save Train/Test Data"
   ]
  },
  {
   "cell_type": "code",
   "execution_count": 48,
   "id": "0b7e30c3",
   "metadata": {
    "scrolled": true
   },
   "outputs": [],
   "source": [
    "# Merge train datasets for model training\n",
    "\n",
    "#df_train = X_train.copy()\n",
    "#df_train['target'] = y_train\n",
    "#train_df.shape"
   ]
  },
  {
   "cell_type": "code",
   "execution_count": 49,
   "id": "08ac1046",
   "metadata": {},
   "outputs": [
    {
     "data": {
      "text/plain": [
       "((18908, 26), (2129, 26))"
      ]
     },
     "execution_count": 49,
     "metadata": {},
     "output_type": "execute_result"
    }
   ],
   "source": [
    "train_df.shape, test_df.shape"
   ]
  },
  {
   "cell_type": "code",
   "execution_count": 50,
   "id": "e9360f5a",
   "metadata": {},
   "outputs": [],
   "source": [
    "train_df.to_csv('../data/Train_Final.csv')\n",
    "test_df.to_csv('../data/Test_Final.csv')"
   ]
  }
 ],
 "metadata": {
  "kernelspec": {
   "display_name": "Python 3 (ipykernel)",
   "language": "python",
   "name": "python3"
  },
  "language_info": {
   "codemirror_mode": {
    "name": "ipython",
    "version": 3
   },
   "file_extension": ".py",
   "mimetype": "text/x-python",
   "name": "python",
   "nbconvert_exporter": "python",
   "pygments_lexer": "ipython3",
   "version": "3.8.12"
  }
 },
 "nbformat": 4,
 "nbformat_minor": 5
}
