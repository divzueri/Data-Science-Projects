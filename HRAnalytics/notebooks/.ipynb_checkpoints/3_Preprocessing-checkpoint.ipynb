{
 "cells": [
  {
   "cell_type": "code",
   "execution_count": 10,
   "id": "54a44609",
   "metadata": {},
   "outputs": [],
   "source": [
    "import pandas as pd\n",
    "import numpy as np\n",
    "\n",
    "import matplotlib.pyplot as plt\n",
    "import seaborn as sns\n",
    "\n",
    "from sklearn.model_selection import train_test_split\n",
    "from sklearn.preprocessing import OrdinalEncoder, OneHotEncoder, StandardScaler\n",
    "from sklearn.compose import ColumnTransformer, make_column_selector\n",
    "from sklearn.pipeline import make_pipeline\n",
    "from sklearn.impute import KNNImputer\n",
    "\n",
    "import category_encoders as ce"
   ]
  },
  {
   "cell_type": "code",
   "execution_count": 11,
   "id": "d5fc98b7",
   "metadata": {},
   "outputs": [
    {
     "data": {
      "text/html": [
       "<div>\n",
       "<style scoped>\n",
       "    .dataframe tbody tr th:only-of-type {\n",
       "        vertical-align: middle;\n",
       "    }\n",
       "\n",
       "    .dataframe tbody tr th {\n",
       "        vertical-align: top;\n",
       "    }\n",
       "\n",
       "    .dataframe thead th {\n",
       "        text-align: right;\n",
       "    }\n",
       "</style>\n",
       "<table border=\"1\" class=\"dataframe\">\n",
       "  <thead>\n",
       "    <tr style=\"text-align: right;\">\n",
       "      <th></th>\n",
       "      <th>enrollee_id</th>\n",
       "      <th>city_development_index</th>\n",
       "      <th>gender</th>\n",
       "      <th>relevent_experience</th>\n",
       "      <th>enrolled_university</th>\n",
       "      <th>education_level</th>\n",
       "      <th>major</th>\n",
       "      <th>company_size</th>\n",
       "      <th>company_type</th>\n",
       "      <th>last_new_job</th>\n",
       "      <th>training_hours</th>\n",
       "      <th>target</th>\n",
       "      <th>exp_range</th>\n",
       "      <th>city_group</th>\n",
       "    </tr>\n",
       "  </thead>\n",
       "  <tbody>\n",
       "    <tr>\n",
       "      <th>0</th>\n",
       "      <td>8949</td>\n",
       "      <td>0.920</td>\n",
       "      <td>Male</td>\n",
       "      <td>1</td>\n",
       "      <td>no_enrollment</td>\n",
       "      <td>Graduate</td>\n",
       "      <td>STEM</td>\n",
       "      <td>NaN</td>\n",
       "      <td>NaN</td>\n",
       "      <td>1</td>\n",
       "      <td>36</td>\n",
       "      <td>1.0</td>\n",
       "      <td>&gt;20</td>\n",
       "      <td>city_103</td>\n",
       "    </tr>\n",
       "    <tr>\n",
       "      <th>1</th>\n",
       "      <td>29725</td>\n",
       "      <td>0.776</td>\n",
       "      <td>Male</td>\n",
       "      <td>0</td>\n",
       "      <td>no_enrollment</td>\n",
       "      <td>Graduate</td>\n",
       "      <td>STEM</td>\n",
       "      <td>50-99</td>\n",
       "      <td>private_limited</td>\n",
       "      <td>&gt;4</td>\n",
       "      <td>47</td>\n",
       "      <td>0.0</td>\n",
       "      <td>11-15</td>\n",
       "      <td>other</td>\n",
       "    </tr>\n",
       "    <tr>\n",
       "      <th>2</th>\n",
       "      <td>11561</td>\n",
       "      <td>0.624</td>\n",
       "      <td>NaN</td>\n",
       "      <td>0</td>\n",
       "      <td>full_time</td>\n",
       "      <td>Graduate</td>\n",
       "      <td>STEM</td>\n",
       "      <td>NaN</td>\n",
       "      <td>NaN</td>\n",
       "      <td>never</td>\n",
       "      <td>83</td>\n",
       "      <td>0.0</td>\n",
       "      <td>2-5</td>\n",
       "      <td>city_21</td>\n",
       "    </tr>\n",
       "    <tr>\n",
       "      <th>3</th>\n",
       "      <td>33241</td>\n",
       "      <td>0.789</td>\n",
       "      <td>NaN</td>\n",
       "      <td>0</td>\n",
       "      <td>NaN</td>\n",
       "      <td>Graduate</td>\n",
       "      <td>Business Degree</td>\n",
       "      <td>NaN</td>\n",
       "      <td>private_limited</td>\n",
       "      <td>never</td>\n",
       "      <td>52</td>\n",
       "      <td>1.0</td>\n",
       "      <td>&lt;=1</td>\n",
       "      <td>other</td>\n",
       "    </tr>\n",
       "    <tr>\n",
       "      <th>4</th>\n",
       "      <td>666</td>\n",
       "      <td>0.767</td>\n",
       "      <td>Male</td>\n",
       "      <td>1</td>\n",
       "      <td>no_enrollment</td>\n",
       "      <td>Masters</td>\n",
       "      <td>STEM</td>\n",
       "      <td>50-99</td>\n",
       "      <td>startup_funded</td>\n",
       "      <td>4</td>\n",
       "      <td>8</td>\n",
       "      <td>0.0</td>\n",
       "      <td>&gt;20</td>\n",
       "      <td>other</td>\n",
       "    </tr>\n",
       "  </tbody>\n",
       "</table>\n",
       "</div>"
      ],
      "text/plain": [
       "   enrollee_id  city_development_index gender  relevent_experience  \\\n",
       "0         8949                   0.920   Male                    1   \n",
       "1        29725                   0.776   Male                    0   \n",
       "2        11561                   0.624    NaN                    0   \n",
       "3        33241                   0.789    NaN                    0   \n",
       "4          666                   0.767   Male                    1   \n",
       "\n",
       "  enrolled_university education_level            major company_size  \\\n",
       "0       no_enrollment        Graduate             STEM          NaN   \n",
       "1       no_enrollment        Graduate             STEM        50-99   \n",
       "2           full_time        Graduate             STEM          NaN   \n",
       "3                 NaN        Graduate  Business Degree          NaN   \n",
       "4       no_enrollment         Masters             STEM        50-99   \n",
       "\n",
       "      company_type last_new_job  training_hours  target exp_range city_group  \n",
       "0              NaN            1              36     1.0       >20   city_103  \n",
       "1  private_limited           >4              47     0.0     11-15      other  \n",
       "2              NaN        never              83     0.0       2-5    city_21  \n",
       "3  private_limited        never              52     1.0       <=1      other  \n",
       "4   startup_funded            4               8     0.0       >20      other  "
      ]
     },
     "execution_count": 11,
     "metadata": {},
     "output_type": "execute_result"
    }
   ],
   "source": [
    "df = pd.read_csv('../data/df_clean_nulls2.csv', index_col=0).drop(columns='city')\n",
    "df.head()"
   ]
  },
  {
   "cell_type": "code",
   "execution_count": 12,
   "id": "28ed346a",
   "metadata": {},
   "outputs": [
    {
     "data": {
      "text/plain": [
       "(20409, 14)"
      ]
     },
     "execution_count": 12,
     "metadata": {},
     "output_type": "execute_result"
    }
   ],
   "source": [
    "df.shape"
   ]
  },
  {
   "cell_type": "code",
   "execution_count": 13,
   "id": "e6ee3489",
   "metadata": {},
   "outputs": [],
   "source": [
    "pd.options.mode.chained_assignment = None"
   ]
  },
  {
   "cell_type": "markdown",
   "id": "702609d0",
   "metadata": {},
   "source": [
    "# I. Categorical Imputing"
   ]
  },
  {
   "cell_type": "code",
   "execution_count": 14,
   "id": "e6b670cb",
   "metadata": {},
   "outputs": [
    {
     "data": {
      "text/html": [
       "<div>\n",
       "<style scoped>\n",
       "    .dataframe tbody tr th:only-of-type {\n",
       "        vertical-align: middle;\n",
       "    }\n",
       "\n",
       "    .dataframe tbody tr th {\n",
       "        vertical-align: top;\n",
       "    }\n",
       "\n",
       "    .dataframe thead th {\n",
       "        text-align: right;\n",
       "    }\n",
       "</style>\n",
       "<table border=\"1\" class=\"dataframe\">\n",
       "  <thead>\n",
       "    <tr style=\"text-align: right;\">\n",
       "      <th></th>\n",
       "      <th>Total NA</th>\n",
       "      <th>% NA</th>\n",
       "    </tr>\n",
       "  </thead>\n",
       "  <tbody>\n",
       "    <tr>\n",
       "      <th>enrollee_id</th>\n",
       "      <td>0</td>\n",
       "      <td>0.00</td>\n",
       "    </tr>\n",
       "    <tr>\n",
       "      <th>city_development_index</th>\n",
       "      <td>0</td>\n",
       "      <td>0.00</td>\n",
       "    </tr>\n",
       "    <tr>\n",
       "      <th>gender</th>\n",
       "      <td>4332</td>\n",
       "      <td>21.23</td>\n",
       "    </tr>\n",
       "    <tr>\n",
       "      <th>relevent_experience</th>\n",
       "      <td>0</td>\n",
       "      <td>0.00</td>\n",
       "    </tr>\n",
       "    <tr>\n",
       "      <th>enrolled_university</th>\n",
       "      <td>235</td>\n",
       "      <td>1.15</td>\n",
       "    </tr>\n",
       "    <tr>\n",
       "      <th>education_level</th>\n",
       "      <td>199</td>\n",
       "      <td>0.98</td>\n",
       "    </tr>\n",
       "    <tr>\n",
       "      <th>major</th>\n",
       "      <td>2376</td>\n",
       "      <td>11.64</td>\n",
       "    </tr>\n",
       "    <tr>\n",
       "      <th>company_size</th>\n",
       "      <td>5717</td>\n",
       "      <td>28.01</td>\n",
       "    </tr>\n",
       "    <tr>\n",
       "      <th>company_type</th>\n",
       "      <td>5924</td>\n",
       "      <td>29.03</td>\n",
       "    </tr>\n",
       "    <tr>\n",
       "      <th>last_new_job</th>\n",
       "      <td>268</td>\n",
       "      <td>1.31</td>\n",
       "    </tr>\n",
       "    <tr>\n",
       "      <th>training_hours</th>\n",
       "      <td>0</td>\n",
       "      <td>0.00</td>\n",
       "    </tr>\n",
       "    <tr>\n",
       "      <th>target</th>\n",
       "      <td>2129</td>\n",
       "      <td>10.43</td>\n",
       "    </tr>\n",
       "    <tr>\n",
       "      <th>exp_range</th>\n",
       "      <td>38</td>\n",
       "      <td>0.19</td>\n",
       "    </tr>\n",
       "    <tr>\n",
       "      <th>city_group</th>\n",
       "      <td>0</td>\n",
       "      <td>0.00</td>\n",
       "    </tr>\n",
       "  </tbody>\n",
       "</table>\n",
       "</div>"
      ],
      "text/plain": [
       "                        Total NA   % NA\n",
       "enrollee_id                    0   0.00\n",
       "city_development_index         0   0.00\n",
       "gender                      4332  21.23\n",
       "relevent_experience            0   0.00\n",
       "enrolled_university          235   1.15\n",
       "education_level              199   0.98\n",
       "major                       2376  11.64\n",
       "company_size                5717  28.01\n",
       "company_type                5924  29.03\n",
       "last_new_job                 268   1.31\n",
       "training_hours                 0   0.00\n",
       "target                      2129  10.43\n",
       "exp_range                     38   0.19\n",
       "city_group                     0   0.00"
      ]
     },
     "execution_count": 14,
     "metadata": {},
     "output_type": "execute_result"
    }
   ],
   "source": [
    "perc_na = round(df.isna().sum() * 100 / len(df), 2)\n",
    "\n",
    "pd.DataFrame({'Total NA':df.isna().sum(), '% NA':perc_na})"
   ]
  },
  {
   "cell_type": "markdown",
   "id": "e4464738",
   "metadata": {},
   "source": [
    "### a) Gender"
   ]
  },
  {
   "cell_type": "markdown",
   "id": "99f78f0d",
   "metadata": {},
   "source": [
    "About one fifth of all gender responses are missing. These can be imputed as a new category, 'Unknown'."
   ]
  },
  {
   "cell_type": "code",
   "execution_count": 15,
   "id": "8c146262",
   "metadata": {},
   "outputs": [
    {
     "data": {
      "text/plain": [
       "Male       14503\n",
       "Unknown     4332\n",
       "Female      1368\n",
       "Other        206\n",
       "Name: gender, dtype: int64"
      ]
     },
     "execution_count": 15,
     "metadata": {},
     "output_type": "execute_result"
    }
   ],
   "source": [
    "df['gender'].fillna('Unknown', inplace=True)\n",
    "df['gender'].value_counts()"
   ]
  },
  {
   "cell_type": "markdown",
   "id": "dc3d6849",
   "metadata": {},
   "source": [
    "### b) Company Size and Type"
   ]
  },
  {
   "cell_type": "markdown",
   "id": "e6611dca",
   "metadata": {},
   "source": [
    "As noted in the EDA notebook, the company size and type columns are missing nearly 30% of values. It is highly likely that candidates with missing company size and type information have either never had a job or are currently unemployed. Missing values will be imputed separately:\n",
    "\n",
    "- 'N/A' for candidates who have never had a job\n",
    "- 'Unknown' for all other missing values."
   ]
  },
  {
   "cell_type": "code",
   "execution_count": 16,
   "id": "6716fd8d",
   "metadata": {},
   "outputs": [],
   "source": [
    "# Impute company size and type for applicants who've never had a previous job\n",
    "df['company_size'] = np.where(df['last_new_job']=='never', 'N/A', df['company_size'])\n",
    "df['company_type'] = np.where(df['last_new_job']=='never', 'N/A', df['company_type'])\n",
    "\n",
    "# As there are still many missing values for these columns, impute all missing with 'unknown', as they can represent\n",
    "# candidates who are currently unemployed\n",
    "df['company_size'] = np.where(df['company_size'].isna(), 'Unknown', df['company_size'])\n",
    "df['company_type'] = np.where(df['company_type'].isna(), 'Unknown', df['company_type'])"
   ]
  },
  {
   "cell_type": "code",
   "execution_count": 17,
   "id": "4a1c6016",
   "metadata": {},
   "outputs": [
    {
     "data": {
      "text/plain": [
       "company_size  company_type   \n",
       "Unknown       Unknown            3807\n",
       "N/A           N/A                2296\n",
       "50-99         private_limited    2278\n",
       "100-499       private_limited    1992\n",
       "10000+        private_limited    1819\n",
       "dtype: int64"
      ]
     },
     "execution_count": 17,
     "metadata": {},
     "output_type": "execute_result"
    }
   ],
   "source": [
    "df[['company_size', 'company_type']].value_counts().head()"
   ]
  },
  {
   "cell_type": "markdown",
   "id": "68906c25",
   "metadata": {},
   "source": [
    "### c) Major"
   ]
  },
  {
   "cell_type": "markdown",
   "id": "9898d5b7",
   "metadata": {},
   "source": [
    "Additionally, missing values of major may be the result of some candidates not having attended college."
   ]
  },
  {
   "cell_type": "code",
   "execution_count": 18,
   "id": "a772c1db",
   "metadata": {},
   "outputs": [
    {
     "data": {
      "text/plain": [
       "High School       1891\n",
       "Primary School     267\n",
       "Graduate            14\n",
       "Masters              5\n",
       "Name: education_level, dtype: int64"
      ]
     },
     "execution_count": 18,
     "metadata": {},
     "output_type": "execute_result"
    }
   ],
   "source": [
    "# Education levels across missing values of major\n",
    "df.loc[df['major'].isna()]['education_level'].value_counts()"
   ]
  },
  {
   "cell_type": "code",
   "execution_count": 19,
   "id": "f5908323",
   "metadata": {},
   "outputs": [
    {
     "data": {
      "text/plain": [
       "STEM               15994\n",
       "N/A                 2158\n",
       "Humanities           745\n",
       "Other                419\n",
       "Business Degree      363\n",
       "Arts                 269\n",
       "No Major             243\n",
       "Name: major, dtype: int64"
      ]
     },
     "execution_count": 19,
     "metadata": {},
     "output_type": "execute_result"
    }
   ],
   "source": [
    "# Fill in 'N/A' for high school and primary school level candidates\n",
    "df['major'] = np.where(df['education_level'].isin(['High School', 'Primary School']), 'N/A', df['major'])\n",
    "df['major'].value_counts()"
   ]
  },
  {
   "cell_type": "markdown",
   "id": "4767086d",
   "metadata": {},
   "source": [
    "### d) Visualize Changes"
   ]
  },
  {
   "cell_type": "code",
   "execution_count": 20,
   "id": "93d16781",
   "metadata": {},
   "outputs": [],
   "source": [
    "def cat_bar(cols, idx, y, data, figsize=(20,30)):\n",
    "    \"\"\"Plot bar graphs that: a) compare mean values of a target to different levels of a column\n",
    "    b) compare different levels of a column to different levels of a target\"\"\"\n",
    "    fig, axes = plt.subplots(len(cols),2, figsize=figsize)\n",
    "    fig.subplots_adjust(wspace=0.2, hspace=0.5)\n",
    "    \n",
    "    for i, col in enumerate(zip(cols,idx)):\n",
    "        ax = axes.flatten()[i]\n",
    "        \n",
    "        # Percentage pos plot\n",
    "        plot1 = sns.barplot(x=col[0], y=y, data=data, order=col[1], ax=axes[i,0])\n",
    "        plot1.set_xticklabels(plot1.get_xticklabels(), rotation=30)\n",
    "        \n",
    "        # Grouped bar plot\n",
    "        bar_df = data.groupby([col[0], y]).size().reset_index().pivot(\n",
    "            columns=y, index=col[0], values=0).reindex(col[1])\n",
    "        bar_df.plot(kind='bar', rot=30, stacked=True, ax=axes[i,1],\n",
    "                    title='Group counts based on target value')"
   ]
  },
  {
   "cell_type": "code",
   "execution_count": 21,
   "id": "f40eaf6c",
   "metadata": {},
   "outputs": [
    {
     "data": {
      "image/png": "[encoded data removed]",
      "text/plain": [
       "<Figure size 1080x1440 with 8 Axes>"
      ]
     },
     "metadata": {
      "needs_background": "light"
     },
     "output_type": "display_data"
    }
   ],
   "source": [
    "imp_cols = ['gender', 'company_size', 'company_type', 'major']\n",
    "\n",
    "# For reindexing cols\n",
    "gender = ['Male', 'Female', 'Other', 'Unknown']\n",
    "comp_sz = ['<10','10-49','50-99','100-499','500-999','1000-4999','5000-9999','10000+', 'N/A', 'Unknown']\n",
    "comp_type = ['private_limited', 'public_sector', 'startup_funded', 'startup_earlystage', 'NGO', 'Other', 'N/A', 'Unknown']\n",
    "major = ['STEM', 'Humanities', 'Business Degree', 'Arts', 'No Major', 'Other', 'Unknown']\n",
    "\n",
    "imp_idx = [gender, comp_sz, comp_type, major]\n",
    "\n",
    "cat_bar(imp_cols, imp_idx, 'target', df, figsize=(15,20))"
   ]
  },
  {
   "cell_type": "markdown",
   "id": "b12966f8",
   "metadata": {},
   "source": [
    "# II. Train Test Split"
   ]
  },
  {
   "cell_type": "markdown",
   "id": "dbc83403",
   "metadata": {},
   "source": [
    "First, I'll separate the pre-defined train and test sets. This test set does not include the target feature, and therefore cannot be used for training or validation."
   ]
  },
  {
   "cell_type": "code",
   "execution_count": 22,
   "id": "0517ee8f",
   "metadata": {},
   "outputs": [
    {
     "data": {
      "text/plain": [
       "((18280, 14), (2129, 14))"
      ]
     },
     "execution_count": 22,
     "metadata": {},
     "output_type": "execute_result"
    }
   ],
   "source": [
    "# Separate pre-defined train and tests set\n",
    "\n",
    "main_df = df.loc[df['target'].notna()]\n",
    "final_eval_df = df.loc[df['target'].isna()]\n",
    "\n",
    "main_df.shape, final_eval_df.shape"
   ]
  },
  {
   "cell_type": "code",
   "execution_count": 23,
   "id": "f817027d",
   "metadata": {},
   "outputs": [
    {
     "data": {
      "text/plain": [
       "((13710, 14), (4570, 14))"
      ]
     },
     "execution_count": 23,
     "metadata": {},
     "output_type": "execute_result"
    }
   ],
   "source": [
    "# Split into test/train\n",
    "\n",
    "train, test = train_test_split(main_df, random_state=0)\n",
    "train.shape, test.shape"
   ]
  },
  {
   "cell_type": "markdown",
   "id": "23c9cc72",
   "metadata": {},
   "source": [
    "# III. Encoding Categorical Columns"
   ]
  },
  {
   "cell_type": "code",
   "execution_count": 24,
   "id": "b01209be",
   "metadata": {},
   "outputs": [
    {
     "data": {
      "text/plain": [
       "gender                 object\n",
       "enrolled_university    object\n",
       "education_level        object\n",
       "major                  object\n",
       "company_size           object\n",
       "company_type           object\n",
       "last_new_job           object\n",
       "exp_range              object\n",
       "city_group             object\n",
       "dtype: object"
      ]
     },
     "execution_count": 24,
     "metadata": {},
     "output_type": "execute_result"
    }
   ],
   "source": [
    "train.dtypes[train.dtypes=='object']"
   ]
  },
  {
   "cell_type": "markdown",
   "id": "61029932",
   "metadata": {},
   "source": [
    "### a) Ordinal Columns"
   ]
  },
  {
   "cell_type": "code",
   "execution_count": 25,
   "id": "829d3806",
   "metadata": {},
   "outputs": [],
   "source": [
    "ord_cols = ['education_level', 'company_size', 'last_new_job', 'exp_range']"
   ]
  },
  {
   "cell_type": "code",
   "execution_count": 26,
   "id": "2893b88f",
   "metadata": {},
   "outputs": [
    {
     "data": {
      "text/plain": [
       "Unknown      2797\n",
       "50-99        2206\n",
       "100-499      1811\n",
       "N/A          1540\n",
       "10000+       1406\n",
       "10-49        1091\n",
       "1000-4999     954\n",
       "<10           902\n",
       "500-999       603\n",
       "5000-9999     400\n",
       "Name: company_size, dtype: int64"
      ]
     },
     "execution_count": 26,
     "metadata": {},
     "output_type": "execute_result"
    }
   ],
   "source": [
    "train['company_size'].value_counts()"
   ]
  },
  {
   "cell_type": "code",
   "execution_count": 27,
   "id": "9fada081",
   "metadata": {},
   "outputs": [],
   "source": [
    "ord_map = [\n",
    "    {'col': 'education_level',\n",
    "    'mapping': {'Primary School':0, 'High School':1, 'Graduate':2, 'Masters':3, 'Phd':4}},\n",
    "    {'col': 'company_size',\n",
    "     'mapping': {'N/A':0, 'Unknown':1, '<10':2, '10-49':3, '50-99':4, '100-499':5,\n",
    "                 '500-999':6, '1000-4999':7, '5000-9999':8, '10000+':9}},\n",
    "    {'col': 'last_new_job',\n",
    "     'mapping': {'never': 0, '1': 1, '2': 2, '3':3, '4':4, '>4':5}},\n",
    "    {'col': 'exp_range', \n",
    "     'mapping': {'<=1':0, '2-5':1, '6-10':2, '11-15':3, '16-20':4,'>20':5}}\n",
    "]"
   ]
  },
  {
   "cell_type": "code",
   "execution_count": 28,
   "id": "2c5b63fd",
   "metadata": {},
   "outputs": [],
   "source": [
    "ord_encoder = ce.OrdinalEncoder(\n",
    "    cols=ord_cols, mapping=ord_map, return_df=True,\n",
    "    handle_unknown='return_nan', handle_missing='return_nan'\n",
    ")\n",
    "\n",
    "ord_encoder.fit(train)\n",
    "\n",
    "train = ord_encoder.transform(train)\n",
    "test = ord_encoder.transform(test)\n",
    "final_eval_df = ord_encoder.transform(final_eval_df)"
   ]
  },
  {
   "cell_type": "code",
   "execution_count": 29,
   "id": "95a8da9d",
   "metadata": {},
   "outputs": [
    {
     "data": {
      "text/plain": [
       "((13710, 14), (4570, 14), (2129, 14))"
      ]
     },
     "execution_count": 29,
     "metadata": {},
     "output_type": "execute_result"
    }
   ],
   "source": [
    "train.shape, test.shape, final_eval_df.shape"
   ]
  },
  {
   "cell_type": "code",
   "execution_count": 30,
   "id": "27a3a5bb",
   "metadata": {},
   "outputs": [
    {
     "data": {
      "text/html": [
       "<div>\n",
       "<style scoped>\n",
       "    .dataframe tbody tr th:only-of-type {\n",
       "        vertical-align: middle;\n",
       "    }\n",
       "\n",
       "    .dataframe tbody tr th {\n",
       "        vertical-align: top;\n",
       "    }\n",
       "\n",
       "    .dataframe thead th {\n",
       "        text-align: right;\n",
       "    }\n",
       "</style>\n",
       "<table border=\"1\" class=\"dataframe\">\n",
       "  <thead>\n",
       "    <tr style=\"text-align: right;\">\n",
       "      <th></th>\n",
       "      <th>education_level</th>\n",
       "      <th>company_size</th>\n",
       "      <th>last_new_job</th>\n",
       "      <th>exp_range</th>\n",
       "    </tr>\n",
       "  </thead>\n",
       "  <tbody>\n",
       "    <tr>\n",
       "      <th>2913</th>\n",
       "      <td>Masters</td>\n",
       "      <td>10-49</td>\n",
       "      <td>1</td>\n",
       "      <td>2-5</td>\n",
       "    </tr>\n",
       "    <tr>\n",
       "      <th>13038</th>\n",
       "      <td>Masters</td>\n",
       "      <td>10000+</td>\n",
       "      <td>2</td>\n",
       "      <td>6-10</td>\n",
       "    </tr>\n",
       "    <tr>\n",
       "      <th>13226</th>\n",
       "      <td>Graduate</td>\n",
       "      <td>10-49</td>\n",
       "      <td>1</td>\n",
       "      <td>2-5</td>\n",
       "    </tr>\n",
       "    <tr>\n",
       "      <th>10167</th>\n",
       "      <td>Primary School</td>\n",
       "      <td>N/A</td>\n",
       "      <td>never</td>\n",
       "      <td>&lt;=1</td>\n",
       "    </tr>\n",
       "    <tr>\n",
       "      <th>16867</th>\n",
       "      <td>Graduate</td>\n",
       "      <td>50-99</td>\n",
       "      <td>4</td>\n",
       "      <td>&gt;20</td>\n",
       "    </tr>\n",
       "  </tbody>\n",
       "</table>\n",
       "</div>"
      ],
      "text/plain": [
       "      education_level company_size last_new_job exp_range\n",
       "2913          Masters        10-49            1       2-5\n",
       "13038         Masters       10000+            2      6-10\n",
       "13226        Graduate        10-49            1       2-5\n",
       "10167  Primary School          N/A        never       <=1\n",
       "16867        Graduate        50-99            4       >20"
      ]
     },
     "execution_count": 30,
     "metadata": {},
     "output_type": "execute_result"
    }
   ],
   "source": [
    "# Original df\n",
    "\n",
    "main_df[ord_cols].loc[[2913, 13038, 13226, 10167, 16867]]"
   ]
  },
  {
   "cell_type": "code",
   "execution_count": 31,
   "id": "8043e5df",
   "metadata": {
    "scrolled": true
   },
   "outputs": [
    {
     "data": {
      "text/html": [
       "<div>\n",
       "<style scoped>\n",
       "    .dataframe tbody tr th:only-of-type {\n",
       "        vertical-align: middle;\n",
       "    }\n",
       "\n",
       "    .dataframe tbody tr th {\n",
       "        vertical-align: top;\n",
       "    }\n",
       "\n",
       "    .dataframe thead th {\n",
       "        text-align: right;\n",
       "    }\n",
       "</style>\n",
       "<table border=\"1\" class=\"dataframe\">\n",
       "  <thead>\n",
       "    <tr style=\"text-align: right;\">\n",
       "      <th></th>\n",
       "      <th>education_level</th>\n",
       "      <th>company_size</th>\n",
       "      <th>last_new_job</th>\n",
       "      <th>exp_range</th>\n",
       "    </tr>\n",
       "  </thead>\n",
       "  <tbody>\n",
       "    <tr>\n",
       "      <th>15092</th>\n",
       "      <td>3.0</td>\n",
       "      <td>1.0</td>\n",
       "      <td>1.0</td>\n",
       "      <td>4.0</td>\n",
       "    </tr>\n",
       "    <tr>\n",
       "      <th>16142</th>\n",
       "      <td>2.0</td>\n",
       "      <td>4.0</td>\n",
       "      <td>5.0</td>\n",
       "      <td>3.0</td>\n",
       "    </tr>\n",
       "    <tr>\n",
       "      <th>12707</th>\n",
       "      <td>2.0</td>\n",
       "      <td>5.0</td>\n",
       "      <td>1.0</td>\n",
       "      <td>1.0</td>\n",
       "    </tr>\n",
       "    <tr>\n",
       "      <th>134</th>\n",
       "      <td>1.0</td>\n",
       "      <td>0.0</td>\n",
       "      <td>0.0</td>\n",
       "      <td>1.0</td>\n",
       "    </tr>\n",
       "    <tr>\n",
       "      <th>9522</th>\n",
       "      <td>2.0</td>\n",
       "      <td>4.0</td>\n",
       "      <td>1.0</td>\n",
       "      <td>1.0</td>\n",
       "    </tr>\n",
       "  </tbody>\n",
       "</table>\n",
       "</div>"
      ],
      "text/plain": [
       "       education_level  company_size  last_new_job  exp_range\n",
       "15092              3.0           1.0           1.0        4.0\n",
       "16142              2.0           4.0           5.0        3.0\n",
       "12707              2.0           5.0           1.0        1.0\n",
       "134                1.0           0.0           0.0        1.0\n",
       "9522               2.0           4.0           1.0        1.0"
      ]
     },
     "execution_count": 31,
     "metadata": {},
     "output_type": "execute_result"
    }
   ],
   "source": [
    "# Encoded df\n",
    "\n",
    "train[ord_cols].head()"
   ]
  },
  {
   "cell_type": "code",
   "execution_count": 32,
   "id": "3cd76460",
   "metadata": {
    "scrolled": true
   },
   "outputs": [
    {
     "data": {
      "text/plain": [
       "education_level    float64\n",
       "company_size       float64\n",
       "last_new_job       float64\n",
       "exp_range          float64\n",
       "dtype: object"
      ]
     },
     "execution_count": 32,
     "metadata": {},
     "output_type": "execute_result"
    }
   ],
   "source": [
    "train[ord_cols].dtypes"
   ]
  },
  {
   "cell_type": "markdown",
   "id": "0e851e43",
   "metadata": {},
   "source": [
    "Looks good. After imputing missing values, these columns will be converted to int."
   ]
  },
  {
   "cell_type": "markdown",
   "id": "212d474d",
   "metadata": {},
   "source": [
    "### b) One-Hot Encode Columns"
   ]
  },
  {
   "cell_type": "code",
   "execution_count": 33,
   "id": "c770b150",
   "metadata": {},
   "outputs": [],
   "source": [
    "cat_cols = ['gender', 'city_group', 'enrolled_university', 'major', 'company_type']"
   ]
  },
  {
   "cell_type": "code",
   "execution_count": 34,
   "id": "26d94e86",
   "metadata": {},
   "outputs": [],
   "source": [
    "oh_encoder = ce.OneHotEncoder(cols=cat_cols, return_df=True, use_cat_names=True,\n",
    "                           handle_unknown='return_nan', handle_missing='return_nan')\n",
    "\n",
    "oh_encoder.fit(train)\n",
    "\n",
    "train = oh_encoder.transform(train)\n",
    "test = oh_encoder.transform(test)\n",
    "final_eval_df = oh_encoder.transform(final_eval_df)"
   ]
  },
  {
   "cell_type": "code",
   "execution_count": 35,
   "id": "9a9a7976",
   "metadata": {},
   "outputs": [
    {
     "data": {
      "text/plain": [
       "((13710, 53), (4570, 53), (2129, 53))"
      ]
     },
     "execution_count": 35,
     "metadata": {},
     "output_type": "execute_result"
    }
   ],
   "source": [
    "train.shape, test.shape, final_eval_df.shape"
   ]
  },
  {
   "cell_type": "code",
   "execution_count": 36,
   "id": "b2ba1d5f",
   "metadata": {},
   "outputs": [
    {
     "data": {
      "text/plain": [
       "['gender_Male',\n",
       " 'gender_Unknown',\n",
       " 'gender_Female',\n",
       " 'gender_Other',\n",
       " 'gender_nan',\n",
       " 'city_group_other',\n",
       " 'city_group_city_16',\n",
       " 'city_group_city_102',\n",
       " 'city_group_city_21',\n",
       " 'city_group_city_160',\n",
       " 'city_group_city_114',\n",
       " 'city_group_city_103',\n",
       " 'city_group_city_136',\n",
       " 'city_group_city_100',\n",
       " 'city_group_city_75',\n",
       " 'city_group_city_104',\n",
       " 'city_group_city_67',\n",
       " 'city_group_city_71',\n",
       " 'city_group_city_73',\n",
       " 'city_group_city_61',\n",
       " 'city_group_city_28',\n",
       " 'city_group_city_11',\n",
       " 'city_group_nan',\n",
       " 'enrolled_university_part_time',\n",
       " 'enrolled_university_no_enrollment',\n",
       " 'enrolled_university_full_time',\n",
       " 'enrolled_university_nan',\n",
       " 'major_STEM',\n",
       " 'major_Arts',\n",
       " 'major_N/A',\n",
       " 'major_Humanities',\n",
       " 'major_Business Degree',\n",
       " 'major_No Major',\n",
       " 'major_nan',\n",
       " 'major_Other',\n",
       " 'company_type_Unknown',\n",
       " 'company_type_private_limited',\n",
       " 'company_type_N/A',\n",
       " 'company_type_startup_funded',\n",
       " 'company_type_NGO',\n",
       " 'company_type_public_sector',\n",
       " 'company_type_startup_earlystage',\n",
       " 'company_type_Other',\n",
       " 'company_type_nan']"
      ]
     },
     "execution_count": 36,
     "metadata": {},
     "output_type": "execute_result"
    }
   ],
   "source": [
    "# Create new list of cat_cols\n",
    "\n",
    "cat_cols2 = []\n",
    "for i in cat_cols:\n",
    "    for col_name in train.columns:\n",
    "        if i in col_name:\n",
    "            cat_cols2.append(col_name)\n",
    "cat_cols2"
   ]
  },
  {
   "cell_type": "code",
   "execution_count": 37,
   "id": "ca426610",
   "metadata": {},
   "outputs": [
    {
     "data": {
      "text/html": [
       "<div>\n",
       "<style scoped>\n",
       "    .dataframe tbody tr th:only-of-type {\n",
       "        vertical-align: middle;\n",
       "    }\n",
       "\n",
       "    .dataframe tbody tr th {\n",
       "        vertical-align: top;\n",
       "    }\n",
       "\n",
       "    .dataframe thead th {\n",
       "        text-align: right;\n",
       "    }\n",
       "</style>\n",
       "<table border=\"1\" class=\"dataframe\">\n",
       "  <thead>\n",
       "    <tr style=\"text-align: right;\">\n",
       "      <th></th>\n",
       "      <th>gender</th>\n",
       "      <th>city_group</th>\n",
       "      <th>enrolled_university</th>\n",
       "      <th>major</th>\n",
       "      <th>company_type</th>\n",
       "    </tr>\n",
       "  </thead>\n",
       "  <tbody>\n",
       "    <tr>\n",
       "      <th>0</th>\n",
       "      <td>Male</td>\n",
       "      <td>city_103</td>\n",
       "      <td>no_enrollment</td>\n",
       "      <td>STEM</td>\n",
       "      <td>Unknown</td>\n",
       "    </tr>\n",
       "    <tr>\n",
       "      <th>1</th>\n",
       "      <td>Male</td>\n",
       "      <td>other</td>\n",
       "      <td>no_enrollment</td>\n",
       "      <td>STEM</td>\n",
       "      <td>private_limited</td>\n",
       "    </tr>\n",
       "    <tr>\n",
       "      <th>2</th>\n",
       "      <td>Unknown</td>\n",
       "      <td>city_21</td>\n",
       "      <td>full_time</td>\n",
       "      <td>STEM</td>\n",
       "      <td>N/A</td>\n",
       "    </tr>\n",
       "    <tr>\n",
       "      <th>3</th>\n",
       "      <td>Unknown</td>\n",
       "      <td>other</td>\n",
       "      <td>NaN</td>\n",
       "      <td>Business Degree</td>\n",
       "      <td>N/A</td>\n",
       "    </tr>\n",
       "    <tr>\n",
       "      <th>4</th>\n",
       "      <td>Male</td>\n",
       "      <td>other</td>\n",
       "      <td>no_enrollment</td>\n",
       "      <td>STEM</td>\n",
       "      <td>startup_funded</td>\n",
       "    </tr>\n",
       "  </tbody>\n",
       "</table>\n",
       "</div>"
      ],
      "text/plain": [
       "    gender city_group enrolled_university            major     company_type\n",
       "0     Male   city_103       no_enrollment             STEM          Unknown\n",
       "1     Male      other       no_enrollment             STEM  private_limited\n",
       "2  Unknown    city_21           full_time             STEM              N/A\n",
       "3  Unknown      other                 NaN  Business Degree              N/A\n",
       "4     Male      other       no_enrollment             STEM   startup_funded"
      ]
     },
     "execution_count": 37,
     "metadata": {},
     "output_type": "execute_result"
    }
   ],
   "source": [
    "# Original df\n",
    "\n",
    "main_df[cat_cols].head()"
   ]
  },
  {
   "cell_type": "code",
   "execution_count": 38,
   "id": "28594042",
   "metadata": {
    "scrolled": true
   },
   "outputs": [
    {
     "data": {
      "text/html": [
       "<div>\n",
       "<style scoped>\n",
       "    .dataframe tbody tr th:only-of-type {\n",
       "        vertical-align: middle;\n",
       "    }\n",
       "\n",
       "    .dataframe tbody tr th {\n",
       "        vertical-align: top;\n",
       "    }\n",
       "\n",
       "    .dataframe thead th {\n",
       "        text-align: right;\n",
       "    }\n",
       "</style>\n",
       "<table border=\"1\" class=\"dataframe\">\n",
       "  <thead>\n",
       "    <tr style=\"text-align: right;\">\n",
       "      <th></th>\n",
       "      <th>gender_Male</th>\n",
       "      <th>gender_Unknown</th>\n",
       "      <th>gender_Female</th>\n",
       "      <th>gender_Other</th>\n",
       "      <th>gender_nan</th>\n",
       "      <th>city_group_other</th>\n",
       "      <th>city_group_city_16</th>\n",
       "      <th>city_group_city_102</th>\n",
       "      <th>city_group_city_21</th>\n",
       "      <th>city_group_city_160</th>\n",
       "      <th>...</th>\n",
       "      <th>major_Other</th>\n",
       "      <th>company_type_Unknown</th>\n",
       "      <th>company_type_private_limited</th>\n",
       "      <th>company_type_N/A</th>\n",
       "      <th>company_type_startup_funded</th>\n",
       "      <th>company_type_NGO</th>\n",
       "      <th>company_type_public_sector</th>\n",
       "      <th>company_type_startup_earlystage</th>\n",
       "      <th>company_type_Other</th>\n",
       "      <th>company_type_nan</th>\n",
       "    </tr>\n",
       "  </thead>\n",
       "  <tbody>\n",
       "    <tr>\n",
       "      <th>15092</th>\n",
       "      <td>1.0</td>\n",
       "      <td>0.0</td>\n",
       "      <td>0.0</td>\n",
       "      <td>0.0</td>\n",
       "      <td>0.0</td>\n",
       "      <td>1.0</td>\n",
       "      <td>0.0</td>\n",
       "      <td>0.0</td>\n",
       "      <td>0.0</td>\n",
       "      <td>0.0</td>\n",
       "      <td>...</td>\n",
       "      <td>0.0</td>\n",
       "      <td>1.0</td>\n",
       "      <td>0.0</td>\n",
       "      <td>0.0</td>\n",
       "      <td>0.0</td>\n",
       "      <td>0.0</td>\n",
       "      <td>0.0</td>\n",
       "      <td>0.0</td>\n",
       "      <td>0.0</td>\n",
       "      <td>0.0</td>\n",
       "    </tr>\n",
       "    <tr>\n",
       "      <th>16142</th>\n",
       "      <td>1.0</td>\n",
       "      <td>0.0</td>\n",
       "      <td>0.0</td>\n",
       "      <td>0.0</td>\n",
       "      <td>0.0</td>\n",
       "      <td>0.0</td>\n",
       "      <td>1.0</td>\n",
       "      <td>0.0</td>\n",
       "      <td>0.0</td>\n",
       "      <td>0.0</td>\n",
       "      <td>...</td>\n",
       "      <td>0.0</td>\n",
       "      <td>0.0</td>\n",
       "      <td>1.0</td>\n",
       "      <td>0.0</td>\n",
       "      <td>0.0</td>\n",
       "      <td>0.0</td>\n",
       "      <td>0.0</td>\n",
       "      <td>0.0</td>\n",
       "      <td>0.0</td>\n",
       "      <td>0.0</td>\n",
       "    </tr>\n",
       "    <tr>\n",
       "      <th>12707</th>\n",
       "      <td>1.0</td>\n",
       "      <td>0.0</td>\n",
       "      <td>0.0</td>\n",
       "      <td>0.0</td>\n",
       "      <td>0.0</td>\n",
       "      <td>1.0</td>\n",
       "      <td>0.0</td>\n",
       "      <td>0.0</td>\n",
       "      <td>0.0</td>\n",
       "      <td>0.0</td>\n",
       "      <td>...</td>\n",
       "      <td>0.0</td>\n",
       "      <td>0.0</td>\n",
       "      <td>1.0</td>\n",
       "      <td>0.0</td>\n",
       "      <td>0.0</td>\n",
       "      <td>0.0</td>\n",
       "      <td>0.0</td>\n",
       "      <td>0.0</td>\n",
       "      <td>0.0</td>\n",
       "      <td>0.0</td>\n",
       "    </tr>\n",
       "    <tr>\n",
       "      <th>134</th>\n",
       "      <td>1.0</td>\n",
       "      <td>0.0</td>\n",
       "      <td>0.0</td>\n",
       "      <td>0.0</td>\n",
       "      <td>0.0</td>\n",
       "      <td>0.0</td>\n",
       "      <td>0.0</td>\n",
       "      <td>1.0</td>\n",
       "      <td>0.0</td>\n",
       "      <td>0.0</td>\n",
       "      <td>...</td>\n",
       "      <td>0.0</td>\n",
       "      <td>0.0</td>\n",
       "      <td>0.0</td>\n",
       "      <td>1.0</td>\n",
       "      <td>0.0</td>\n",
       "      <td>0.0</td>\n",
       "      <td>0.0</td>\n",
       "      <td>0.0</td>\n",
       "      <td>0.0</td>\n",
       "      <td>0.0</td>\n",
       "    </tr>\n",
       "    <tr>\n",
       "      <th>9522</th>\n",
       "      <td>1.0</td>\n",
       "      <td>0.0</td>\n",
       "      <td>0.0</td>\n",
       "      <td>0.0</td>\n",
       "      <td>0.0</td>\n",
       "      <td>0.0</td>\n",
       "      <td>0.0</td>\n",
       "      <td>0.0</td>\n",
       "      <td>1.0</td>\n",
       "      <td>0.0</td>\n",
       "      <td>...</td>\n",
       "      <td>0.0</td>\n",
       "      <td>0.0</td>\n",
       "      <td>1.0</td>\n",
       "      <td>0.0</td>\n",
       "      <td>0.0</td>\n",
       "      <td>0.0</td>\n",
       "      <td>0.0</td>\n",
       "      <td>0.0</td>\n",
       "      <td>0.0</td>\n",
       "      <td>0.0</td>\n",
       "    </tr>\n",
       "  </tbody>\n",
       "</table>\n",
       "<p>5 rows × 44 columns</p>\n",
       "</div>"
      ],
      "text/plain": [
       "       gender_Male  gender_Unknown  gender_Female  gender_Other  gender_nan  \\\n",
       "15092          1.0             0.0            0.0           0.0         0.0   \n",
       "16142          1.0             0.0            0.0           0.0         0.0   \n",
       "12707          1.0             0.0            0.0           0.0         0.0   \n",
       "134            1.0             0.0            0.0           0.0         0.0   \n",
       "9522           1.0             0.0            0.0           0.0         0.0   \n",
       "\n",
       "       city_group_other  city_group_city_16  city_group_city_102  \\\n",
       "15092               1.0                 0.0                  0.0   \n",
       "16142               0.0                 1.0                  0.0   \n",
       "12707               1.0                 0.0                  0.0   \n",
       "134                 0.0                 0.0                  1.0   \n",
       "9522                0.0                 0.0                  0.0   \n",
       "\n",
       "       city_group_city_21  city_group_city_160  ...  major_Other  \\\n",
       "15092                 0.0                  0.0  ...          0.0   \n",
       "16142                 0.0                  0.0  ...          0.0   \n",
       "12707                 0.0                  0.0  ...          0.0   \n",
       "134                   0.0                  0.0  ...          0.0   \n",
       "9522                  1.0                  0.0  ...          0.0   \n",
       "\n",
       "       company_type_Unknown  company_type_private_limited  company_type_N/A  \\\n",
       "15092                   1.0                           0.0               0.0   \n",
       "16142                   0.0                           1.0               0.0   \n",
       "12707                   0.0                           1.0               0.0   \n",
       "134                     0.0                           0.0               1.0   \n",
       "9522                    0.0                           1.0               0.0   \n",
       "\n",
       "       company_type_startup_funded  company_type_NGO  \\\n",
       "15092                          0.0               0.0   \n",
       "16142                          0.0               0.0   \n",
       "12707                          0.0               0.0   \n",
       "134                            0.0               0.0   \n",
       "9522                           0.0               0.0   \n",
       "\n",
       "       company_type_public_sector  company_type_startup_earlystage  \\\n",
       "15092                         0.0                              0.0   \n",
       "16142                         0.0                              0.0   \n",
       "12707                         0.0                              0.0   \n",
       "134                           0.0                              0.0   \n",
       "9522                          0.0                              0.0   \n",
       "\n",
       "       company_type_Other  company_type_nan  \n",
       "15092                 0.0               0.0  \n",
       "16142                 0.0               0.0  \n",
       "12707                 0.0               0.0  \n",
       "134                   0.0               0.0  \n",
       "9522                  0.0               0.0  \n",
       "\n",
       "[5 rows x 44 columns]"
      ]
     },
     "execution_count": 38,
     "metadata": {},
     "output_type": "execute_result"
    }
   ],
   "source": [
    "# After encoding\n",
    "\n",
    "train[cat_cols2].head()"
   ]
  },
  {
   "cell_type": "markdown",
   "id": "69c33c83",
   "metadata": {},
   "source": [
    "### c) Ensure all column dtypes are correct"
   ]
  },
  {
   "cell_type": "code",
   "execution_count": 39,
   "id": "fa44d8db",
   "metadata": {},
   "outputs": [
    {
     "data": {
      "text/plain": [
       "Series([], dtype: float64)"
      ]
     },
     "execution_count": 39,
     "metadata": {},
     "output_type": "execute_result"
    }
   ],
   "source": [
    "train.select_dtypes(exclude='number').sum()"
   ]
  },
  {
   "cell_type": "markdown",
   "id": "b6ed72ec",
   "metadata": {},
   "source": [
    "# IV. Imputing Remaining Nulls with KNN"
   ]
  },
  {
   "cell_type": "markdown",
   "id": "d7c471cb",
   "metadata": {},
   "source": [
    "The remaining missing values will be imputed with a KNN imputer."
   ]
  },
  {
   "cell_type": "markdown",
   "id": "3b76a40c",
   "metadata": {},
   "source": [
    "### a) Ordinal Columns"
   ]
  },
  {
   "cell_type": "code",
   "execution_count": 41,
   "id": "816a4e26",
   "metadata": {},
   "outputs": [
    {
     "data": {
      "text/html": [
       "<div>\n",
       "<style scoped>\n",
       "    .dataframe tbody tr th:only-of-type {\n",
       "        vertical-align: middle;\n",
       "    }\n",
       "\n",
       "    .dataframe tbody tr th {\n",
       "        vertical-align: top;\n",
       "    }\n",
       "\n",
       "    .dataframe thead th {\n",
       "        text-align: right;\n",
       "    }\n",
       "</style>\n",
       "<table border=\"1\" class=\"dataframe\">\n",
       "  <thead>\n",
       "    <tr style=\"text-align: right;\">\n",
       "      <th></th>\n",
       "      <th>Total NA</th>\n",
       "      <th>% NA</th>\n",
       "    </tr>\n",
       "  </thead>\n",
       "  <tbody>\n",
       "    <tr>\n",
       "      <th>education_level</th>\n",
       "      <td>116</td>\n",
       "      <td>0.85</td>\n",
       "    </tr>\n",
       "    <tr>\n",
       "      <th>company_size</th>\n",
       "      <td>0</td>\n",
       "      <td>0.00</td>\n",
       "    </tr>\n",
       "    <tr>\n",
       "      <th>last_new_job</th>\n",
       "      <td>163</td>\n",
       "      <td>1.19</td>\n",
       "    </tr>\n",
       "    <tr>\n",
       "      <th>exp_range</th>\n",
       "      <td>26</td>\n",
       "      <td>0.19</td>\n",
       "    </tr>\n",
       "  </tbody>\n",
       "</table>\n",
       "</div>"
      ],
      "text/plain": [
       "                 Total NA  % NA\n",
       "education_level       116  0.85\n",
       "company_size            0  0.00\n",
       "last_new_job          163  1.19\n",
       "exp_range              26  0.19"
      ]
     },
     "execution_count": 41,
     "metadata": {},
     "output_type": "execute_result"
    }
   ],
   "source": [
    "# Number of NAs in each column\n",
    "\n",
    "perc_na = round(train[ord_cols].isna().sum() * 100 / len(train[ord_cols]), 2)\n",
    "\n",
    "pd.DataFrame({'Total NA':train[ord_cols].isna().sum(), '% NA':perc_na})"
   ]
  },
  {
   "cell_type": "code",
   "execution_count": 42,
   "id": "3cac03c9",
   "metadata": {},
   "outputs": [
    {
     "data": {
      "text/html": [
       "<div>\n",
       "<style scoped>\n",
       "    .dataframe tbody tr th:only-of-type {\n",
       "        vertical-align: middle;\n",
       "    }\n",
       "\n",
       "    .dataframe tbody tr th {\n",
       "        vertical-align: top;\n",
       "    }\n",
       "\n",
       "    .dataframe thead th {\n",
       "        text-align: right;\n",
       "    }\n",
       "</style>\n",
       "<table border=\"1\" class=\"dataframe\">\n",
       "  <thead>\n",
       "    <tr style=\"text-align: right;\">\n",
       "      <th></th>\n",
       "      <th>Total NA</th>\n",
       "      <th>% NA</th>\n",
       "    </tr>\n",
       "  </thead>\n",
       "  <tbody>\n",
       "    <tr>\n",
       "      <th>education_level</th>\n",
       "      <td>31</td>\n",
       "      <td>0.68</td>\n",
       "    </tr>\n",
       "    <tr>\n",
       "      <th>company_size</th>\n",
       "      <td>0</td>\n",
       "      <td>0.00</td>\n",
       "    </tr>\n",
       "    <tr>\n",
       "      <th>last_new_job</th>\n",
       "      <td>65</td>\n",
       "      <td>1.42</td>\n",
       "    </tr>\n",
       "    <tr>\n",
       "      <th>exp_range</th>\n",
       "      <td>7</td>\n",
       "      <td>0.15</td>\n",
       "    </tr>\n",
       "  </tbody>\n",
       "</table>\n",
       "</div>"
      ],
      "text/plain": [
       "                 Total NA  % NA\n",
       "education_level        31  0.68\n",
       "company_size            0  0.00\n",
       "last_new_job           65  1.42\n",
       "exp_range               7  0.15"
      ]
     },
     "execution_count": 42,
     "metadata": {},
     "output_type": "execute_result"
    }
   ],
   "source": [
    "# Number of NAs in each column\n",
    "\n",
    "perc_na = round(test[ord_cols].isna().sum() * 100 / len(test[ord_cols]), 2)\n",
    "\n",
    "pd.DataFrame({'Total NA':test[ord_cols].isna().sum(), '% NA':perc_na})"
   ]
  },
  {
   "cell_type": "code",
   "execution_count": 44,
   "id": "dfdb96f5",
   "metadata": {},
   "outputs": [],
   "source": [
    "KNN_ord = KNNImputer()\n",
    "\n",
    "KNN_ord.fit(train[ord_cols])\n",
    "\n",
    "train[ord_cols] = KNN_ord.transform(train[ord_cols])\n",
    "test[ord_cols] = KNN_ord.transform(test[ord_cols])\n",
    "final_eval_df[ord_cols] = KNN_ord.transform(final_eval_df[ord_cols])"
   ]
  },
  {
   "cell_type": "code",
   "execution_count": 45,
   "id": "b3c517aa",
   "metadata": {},
   "outputs": [
    {
     "data": {
      "text/plain": [
       "education_level    0\n",
       "company_size       0\n",
       "last_new_job       0\n",
       "exp_range          0\n",
       "dtype: int64"
      ]
     },
     "execution_count": 45,
     "metadata": {},
     "output_type": "execute_result"
    }
   ],
   "source": [
    "train[ord_cols].isna().sum()"
   ]
  },
  {
   "cell_type": "code",
   "execution_count": 46,
   "id": "bffa15ca",
   "metadata": {},
   "outputs": [
    {
     "data": {
      "text/html": [
       "<div>\n",
       "<style scoped>\n",
       "    .dataframe tbody tr th:only-of-type {\n",
       "        vertical-align: middle;\n",
       "    }\n",
       "\n",
       "    .dataframe tbody tr th {\n",
       "        vertical-align: top;\n",
       "    }\n",
       "\n",
       "    .dataframe thead th {\n",
       "        text-align: right;\n",
       "    }\n",
       "</style>\n",
       "<table border=\"1\" class=\"dataframe\">\n",
       "  <thead>\n",
       "    <tr style=\"text-align: right;\">\n",
       "      <th></th>\n",
       "      <th>education_level</th>\n",
       "      <th>company_size</th>\n",
       "      <th>last_new_job</th>\n",
       "      <th>exp_range</th>\n",
       "    </tr>\n",
       "  </thead>\n",
       "  <tbody>\n",
       "    <tr>\n",
       "      <th>15092</th>\n",
       "      <td>3.0</td>\n",
       "      <td>1.0</td>\n",
       "      <td>1.0</td>\n",
       "      <td>4.0</td>\n",
       "    </tr>\n",
       "    <tr>\n",
       "      <th>16142</th>\n",
       "      <td>2.0</td>\n",
       "      <td>4.0</td>\n",
       "      <td>5.0</td>\n",
       "      <td>3.0</td>\n",
       "    </tr>\n",
       "    <tr>\n",
       "      <th>12707</th>\n",
       "      <td>2.0</td>\n",
       "      <td>5.0</td>\n",
       "      <td>1.0</td>\n",
       "      <td>1.0</td>\n",
       "    </tr>\n",
       "    <tr>\n",
       "      <th>134</th>\n",
       "      <td>1.0</td>\n",
       "      <td>0.0</td>\n",
       "      <td>0.0</td>\n",
       "      <td>1.0</td>\n",
       "    </tr>\n",
       "    <tr>\n",
       "      <th>9522</th>\n",
       "      <td>2.0</td>\n",
       "      <td>4.0</td>\n",
       "      <td>1.0</td>\n",
       "      <td>1.0</td>\n",
       "    </tr>\n",
       "  </tbody>\n",
       "</table>\n",
       "</div>"
      ],
      "text/plain": [
       "       education_level  company_size  last_new_job  exp_range\n",
       "15092              3.0           1.0           1.0        4.0\n",
       "16142              2.0           4.0           5.0        3.0\n",
       "12707              2.0           5.0           1.0        1.0\n",
       "134                1.0           0.0           0.0        1.0\n",
       "9522               2.0           4.0           1.0        1.0"
      ]
     },
     "execution_count": 46,
     "metadata": {},
     "output_type": "execute_result"
    }
   ],
   "source": [
    "# Convert ord cols to int\n",
    "\n",
    "train[ord_cols] = round(train[ord_cols], 0)\n",
    "test[ord_cols] = round(test[ord_cols], 0)\n",
    "final_eval_df[ord_cols] = round(final_eval_df[ord_cols], 0)\n",
    "\n",
    "train[ord_cols].head()"
   ]
  },
  {
   "cell_type": "markdown",
   "id": "715e6110",
   "metadata": {},
   "source": [
    "The distributions don't seem to have changed."
   ]
  },
  {
   "cell_type": "code",
   "execution_count": 47,
   "id": "392d620a",
   "metadata": {},
   "outputs": [],
   "source": [
    "# Convert ord cols to int\n",
    "\n",
    "train[ord_cols] = train[ord_cols].astype('int64')\n",
    "test[ord_cols] = test[ord_cols].astype('int64')\n",
    "final_eval_df[ord_cols] = final_eval_df[ord_cols].astype('int64')"
   ]
  },
  {
   "cell_type": "markdown",
   "id": "f0c8d730",
   "metadata": {},
   "source": [
    "### b) One-Hot Columns"
   ]
  },
  {
   "cell_type": "code",
   "execution_count": 49,
   "id": "315447a9",
   "metadata": {
    "scrolled": false
   },
   "outputs": [
    {
     "data": {
      "text/html": [
       "<div>\n",
       "<style scoped>\n",
       "    .dataframe tbody tr th:only-of-type {\n",
       "        vertical-align: middle;\n",
       "    }\n",
       "\n",
       "    .dataframe tbody tr th {\n",
       "        vertical-align: top;\n",
       "    }\n",
       "\n",
       "    .dataframe thead th {\n",
       "        text-align: right;\n",
       "    }\n",
       "</style>\n",
       "<table border=\"1\" class=\"dataframe\">\n",
       "  <thead>\n",
       "    <tr style=\"text-align: right;\">\n",
       "      <th></th>\n",
       "      <th>Total NA</th>\n",
       "      <th>% NA</th>\n",
       "    </tr>\n",
       "  </thead>\n",
       "  <tbody>\n",
       "    <tr>\n",
       "      <th>gender_Male</th>\n",
       "      <td>0</td>\n",
       "      <td>0.00</td>\n",
       "    </tr>\n",
       "    <tr>\n",
       "      <th>gender_Unknown</th>\n",
       "      <td>0</td>\n",
       "      <td>0.00</td>\n",
       "    </tr>\n",
       "    <tr>\n",
       "      <th>gender_Female</th>\n",
       "      <td>0</td>\n",
       "      <td>0.00</td>\n",
       "    </tr>\n",
       "    <tr>\n",
       "      <th>gender_Other</th>\n",
       "      <td>0</td>\n",
       "      <td>0.00</td>\n",
       "    </tr>\n",
       "    <tr>\n",
       "      <th>gender_nan</th>\n",
       "      <td>0</td>\n",
       "      <td>0.00</td>\n",
       "    </tr>\n",
       "    <tr>\n",
       "      <th>city_group_other</th>\n",
       "      <td>0</td>\n",
       "      <td>0.00</td>\n",
       "    </tr>\n",
       "    <tr>\n",
       "      <th>city_group_city_16</th>\n",
       "      <td>0</td>\n",
       "      <td>0.00</td>\n",
       "    </tr>\n",
       "    <tr>\n",
       "      <th>city_group_city_102</th>\n",
       "      <td>0</td>\n",
       "      <td>0.00</td>\n",
       "    </tr>\n",
       "    <tr>\n",
       "      <th>city_group_city_21</th>\n",
       "      <td>0</td>\n",
       "      <td>0.00</td>\n",
       "    </tr>\n",
       "    <tr>\n",
       "      <th>city_group_city_160</th>\n",
       "      <td>0</td>\n",
       "      <td>0.00</td>\n",
       "    </tr>\n",
       "    <tr>\n",
       "      <th>city_group_city_114</th>\n",
       "      <td>0</td>\n",
       "      <td>0.00</td>\n",
       "    </tr>\n",
       "    <tr>\n",
       "      <th>city_group_city_103</th>\n",
       "      <td>0</td>\n",
       "      <td>0.00</td>\n",
       "    </tr>\n",
       "    <tr>\n",
       "      <th>city_group_city_136</th>\n",
       "      <td>0</td>\n",
       "      <td>0.00</td>\n",
       "    </tr>\n",
       "    <tr>\n",
       "      <th>city_group_city_100</th>\n",
       "      <td>0</td>\n",
       "      <td>0.00</td>\n",
       "    </tr>\n",
       "    <tr>\n",
       "      <th>city_group_city_75</th>\n",
       "      <td>0</td>\n",
       "      <td>0.00</td>\n",
       "    </tr>\n",
       "    <tr>\n",
       "      <th>city_group_city_104</th>\n",
       "      <td>0</td>\n",
       "      <td>0.00</td>\n",
       "    </tr>\n",
       "    <tr>\n",
       "      <th>city_group_city_67</th>\n",
       "      <td>0</td>\n",
       "      <td>0.00</td>\n",
       "    </tr>\n",
       "    <tr>\n",
       "      <th>city_group_city_71</th>\n",
       "      <td>0</td>\n",
       "      <td>0.00</td>\n",
       "    </tr>\n",
       "    <tr>\n",
       "      <th>city_group_city_73</th>\n",
       "      <td>0</td>\n",
       "      <td>0.00</td>\n",
       "    </tr>\n",
       "    <tr>\n",
       "      <th>city_group_city_61</th>\n",
       "      <td>0</td>\n",
       "      <td>0.00</td>\n",
       "    </tr>\n",
       "    <tr>\n",
       "      <th>city_group_city_28</th>\n",
       "      <td>0</td>\n",
       "      <td>0.00</td>\n",
       "    </tr>\n",
       "    <tr>\n",
       "      <th>city_group_city_11</th>\n",
       "      <td>0</td>\n",
       "      <td>0.00</td>\n",
       "    </tr>\n",
       "    <tr>\n",
       "      <th>city_group_nan</th>\n",
       "      <td>0</td>\n",
       "      <td>0.00</td>\n",
       "    </tr>\n",
       "    <tr>\n",
       "      <th>enrolled_university_part_time</th>\n",
       "      <td>153</td>\n",
       "      <td>1.12</td>\n",
       "    </tr>\n",
       "    <tr>\n",
       "      <th>enrolled_university_no_enrollment</th>\n",
       "      <td>153</td>\n",
       "      <td>1.12</td>\n",
       "    </tr>\n",
       "    <tr>\n",
       "      <th>enrolled_university_full_time</th>\n",
       "      <td>153</td>\n",
       "      <td>1.12</td>\n",
       "    </tr>\n",
       "    <tr>\n",
       "      <th>enrolled_university_nan</th>\n",
       "      <td>153</td>\n",
       "      <td>1.12</td>\n",
       "    </tr>\n",
       "    <tr>\n",
       "      <th>major_STEM</th>\n",
       "      <td>127</td>\n",
       "      <td>0.93</td>\n",
       "    </tr>\n",
       "    <tr>\n",
       "      <th>major_Arts</th>\n",
       "      <td>127</td>\n",
       "      <td>0.93</td>\n",
       "    </tr>\n",
       "    <tr>\n",
       "      <th>major_N/A</th>\n",
       "      <td>127</td>\n",
       "      <td>0.93</td>\n",
       "    </tr>\n",
       "    <tr>\n",
       "      <th>major_Humanities</th>\n",
       "      <td>127</td>\n",
       "      <td>0.93</td>\n",
       "    </tr>\n",
       "    <tr>\n",
       "      <th>major_Business Degree</th>\n",
       "      <td>127</td>\n",
       "      <td>0.93</td>\n",
       "    </tr>\n",
       "    <tr>\n",
       "      <th>major_No Major</th>\n",
       "      <td>127</td>\n",
       "      <td>0.93</td>\n",
       "    </tr>\n",
       "    <tr>\n",
       "      <th>major_nan</th>\n",
       "      <td>127</td>\n",
       "      <td>0.93</td>\n",
       "    </tr>\n",
       "    <tr>\n",
       "      <th>major_Other</th>\n",
       "      <td>127</td>\n",
       "      <td>0.93</td>\n",
       "    </tr>\n",
       "    <tr>\n",
       "      <th>company_type_Unknown</th>\n",
       "      <td>0</td>\n",
       "      <td>0.00</td>\n",
       "    </tr>\n",
       "    <tr>\n",
       "      <th>company_type_private_limited</th>\n",
       "      <td>0</td>\n",
       "      <td>0.00</td>\n",
       "    </tr>\n",
       "    <tr>\n",
       "      <th>company_type_N/A</th>\n",
       "      <td>0</td>\n",
       "      <td>0.00</td>\n",
       "    </tr>\n",
       "    <tr>\n",
       "      <th>company_type_startup_funded</th>\n",
       "      <td>0</td>\n",
       "      <td>0.00</td>\n",
       "    </tr>\n",
       "    <tr>\n",
       "      <th>company_type_NGO</th>\n",
       "      <td>0</td>\n",
       "      <td>0.00</td>\n",
       "    </tr>\n",
       "    <tr>\n",
       "      <th>company_type_public_sector</th>\n",
       "      <td>0</td>\n",
       "      <td>0.00</td>\n",
       "    </tr>\n",
       "    <tr>\n",
       "      <th>company_type_startup_earlystage</th>\n",
       "      <td>0</td>\n",
       "      <td>0.00</td>\n",
       "    </tr>\n",
       "    <tr>\n",
       "      <th>company_type_Other</th>\n",
       "      <td>0</td>\n",
       "      <td>0.00</td>\n",
       "    </tr>\n",
       "    <tr>\n",
       "      <th>company_type_nan</th>\n",
       "      <td>0</td>\n",
       "      <td>0.00</td>\n",
       "    </tr>\n",
       "  </tbody>\n",
       "</table>\n",
       "</div>"
      ],
      "text/plain": [
       "                                   Total NA  % NA\n",
       "gender_Male                               0  0.00\n",
       "gender_Unknown                            0  0.00\n",
       "gender_Female                             0  0.00\n",
       "gender_Other                              0  0.00\n",
       "gender_nan                                0  0.00\n",
       "city_group_other                          0  0.00\n",
       "city_group_city_16                        0  0.00\n",
       "city_group_city_102                       0  0.00\n",
       "city_group_city_21                        0  0.00\n",
       "city_group_city_160                       0  0.00\n",
       "city_group_city_114                       0  0.00\n",
       "city_group_city_103                       0  0.00\n",
       "city_group_city_136                       0  0.00\n",
       "city_group_city_100                       0  0.00\n",
       "city_group_city_75                        0  0.00\n",
       "city_group_city_104                       0  0.00\n",
       "city_group_city_67                        0  0.00\n",
       "city_group_city_71                        0  0.00\n",
       "city_group_city_73                        0  0.00\n",
       "city_group_city_61                        0  0.00\n",
       "city_group_city_28                        0  0.00\n",
       "city_group_city_11                        0  0.00\n",
       "city_group_nan                            0  0.00\n",
       "enrolled_university_part_time           153  1.12\n",
       "enrolled_university_no_enrollment       153  1.12\n",
       "enrolled_university_full_time           153  1.12\n",
       "enrolled_university_nan                 153  1.12\n",
       "major_STEM                              127  0.93\n",
       "major_Arts                              127  0.93\n",
       "major_N/A                               127  0.93\n",
       "major_Humanities                        127  0.93\n",
       "major_Business Degree                   127  0.93\n",
       "major_No Major                          127  0.93\n",
       "major_nan                               127  0.93\n",
       "major_Other                             127  0.93\n",
       "company_type_Unknown                      0  0.00\n",
       "company_type_private_limited              0  0.00\n",
       "company_type_N/A                          0  0.00\n",
       "company_type_startup_funded               0  0.00\n",
       "company_type_NGO                          0  0.00\n",
       "company_type_public_sector                0  0.00\n",
       "company_type_startup_earlystage           0  0.00\n",
       "company_type_Other                        0  0.00\n",
       "company_type_nan                          0  0.00"
      ]
     },
     "execution_count": 49,
     "metadata": {},
     "output_type": "execute_result"
    }
   ],
   "source": [
    "# Number of NAs in each column\n",
    "\n",
    "perc_na = round(train[cat_cols2].isna().sum() * 100 / len(train[cat_cols2]), 2)\n",
    "\n",
    "pd.DataFrame({'Total NA':train[cat_cols2].isna().sum(), '% NA':perc_na})"
   ]
  },
  {
   "cell_type": "code",
   "execution_count": 58,
   "id": "a7d67c53",
   "metadata": {},
   "outputs": [],
   "source": [
    "gender_cols = ['gender_Male', 'gender_Female', 'gender_Other', 'gender_Unknown']\n",
    "enrolled_cols = ['enrolled_university_no_enrollment', 'enrolled_university_full_time', 'enrolled_university_part_time']\n",
    "major_cols = ['major_STEM', 'major_Business Degree', 'major_Arts', 'major_Humanities',\n",
    "              'major_No Major', 'major_Other', 'major_N/A']\n",
    "company = ['company_type_private_limited', 'company_type_startup_funded', 'company_type_startup_earlystage', \n",
    "           'company_type_Other', 'company_type_public_sector', 'company_type_NGO', 'company_type_Unknown', \n",
    "           'company_type_N/A']"
   ]
  },
  {
   "cell_type": "code",
   "execution_count": 51,
   "id": "7b297fea",
   "metadata": {},
   "outputs": [
    {
     "data": {
      "text/plain": [
       "['gender_Male',\n",
       " 'gender_Unknown',\n",
       " 'gender_Female',\n",
       " 'gender_Other',\n",
       " 'city_group_other',\n",
       " 'city_group_city_16',\n",
       " 'city_group_city_102',\n",
       " 'city_group_city_21',\n",
       " 'city_group_city_160',\n",
       " 'city_group_city_114',\n",
       " 'city_group_city_103',\n",
       " 'city_group_city_136',\n",
       " 'city_group_city_100',\n",
       " 'city_group_city_75',\n",
       " 'city_group_city_104',\n",
       " 'city_group_city_67',\n",
       " 'city_group_city_71',\n",
       " 'city_group_city_73',\n",
       " 'city_group_city_61',\n",
       " 'city_group_city_28',\n",
       " 'city_group_city_11',\n",
       " 'enrolled_university_part_time',\n",
       " 'enrolled_university_no_enrollment',\n",
       " 'enrolled_university_full_time',\n",
       " 'major_STEM',\n",
       " 'major_Arts',\n",
       " 'major_N/A',\n",
       " 'major_Humanities',\n",
       " 'major_Business Degree',\n",
       " 'major_No Major',\n",
       " 'major_Other',\n",
       " 'company_type_Unknown',\n",
       " 'company_type_private_limited',\n",
       " 'company_type_N/A',\n",
       " 'company_type_startup_funded',\n",
       " 'company_type_NGO',\n",
       " 'company_type_public_sector',\n",
       " 'company_type_startup_earlystage',\n",
       " 'company_type_Other']"
      ]
     },
     "execution_count": 51,
     "metadata": {},
     "output_type": "execute_result"
    }
   ],
   "source": [
    "nan_cols = ['gender_nan', 'city_group_nan', 'enrolled_university_nan', 'major_nan', 'company_type_nan']\n",
    "\n",
    "# Remove NaN columns from catcols2\n",
    "[cat_cols2.remove(i) for i in nan_cols]\n",
    "\n",
    "# Remove NaN cols from df\n",
    "train.drop(columns=nan_cols, inplace=True)\n",
    "test.drop(columns=nan_cols, inplace=True)\n",
    "final_eval_df.drop(columns=nan_cols, inplace=True)"
   ]
  },
  {
   "cell_type": "code",
   "execution_count": 52,
   "id": "975e1f44",
   "metadata": {},
   "outputs": [],
   "source": [
    "KNN_imputer = KNNImputer(n_neighbors=1)\n",
    "\n",
    "KNN_imputer.fit(train[cat_cols2])\n",
    "\n",
    "train[cat_cols2] = KNN_imputer.transform(train[cat_cols2])\n",
    "test[cat_cols2] = KNN_imputer.transform(test[cat_cols2])\n",
    "final_eval_df[cat_cols2] = KNN_imputer.transform(final_eval_df[cat_cols2])"
   ]
  },
  {
   "cell_type": "code",
   "execution_count": 53,
   "id": "bd5d9427",
   "metadata": {
    "scrolled": false
   },
   "outputs": [
    {
     "data": {
      "text/plain": [
       "gender_Male                          0\n",
       "gender_Unknown                       0\n",
       "gender_Female                        0\n",
       "gender_Other                         0\n",
       "city_group_other                     0\n",
       "city_group_city_16                   0\n",
       "city_group_city_102                  0\n",
       "city_group_city_21                   0\n",
       "city_group_city_160                  0\n",
       "city_group_city_114                  0\n",
       "city_group_city_103                  0\n",
       "city_group_city_136                  0\n",
       "city_group_city_100                  0\n",
       "city_group_city_75                   0\n",
       "city_group_city_104                  0\n",
       "city_group_city_67                   0\n",
       "city_group_city_71                   0\n",
       "city_group_city_73                   0\n",
       "city_group_city_61                   0\n",
       "city_group_city_28                   0\n",
       "city_group_city_11                   0\n",
       "enrolled_university_part_time        0\n",
       "enrolled_university_no_enrollment    0\n",
       "enrolled_university_full_time        0\n",
       "major_STEM                           0\n",
       "major_Arts                           0\n",
       "major_N/A                            0\n",
       "major_Humanities                     0\n",
       "major_Business Degree                0\n",
       "major_No Major                       0\n",
       "major_Other                          0\n",
       "company_type_Unknown                 0\n",
       "company_type_private_limited         0\n",
       "company_type_N/A                     0\n",
       "company_type_startup_funded          0\n",
       "company_type_NGO                     0\n",
       "company_type_public_sector           0\n",
       "company_type_startup_earlystage      0\n",
       "company_type_Other                   0\n",
       "dtype: int64"
      ]
     },
     "execution_count": 53,
     "metadata": {},
     "output_type": "execute_result"
    }
   ],
   "source": [
    "train[cat_cols2].isna().sum()"
   ]
  },
  {
   "cell_type": "code",
   "execution_count": 54,
   "id": "a1153398",
   "metadata": {},
   "outputs": [
    {
     "data": {
      "text/html": [
       "<div>\n",
       "<style scoped>\n",
       "    .dataframe tbody tr th:only-of-type {\n",
       "        vertical-align: middle;\n",
       "    }\n",
       "\n",
       "    .dataframe tbody tr th {\n",
       "        vertical-align: top;\n",
       "    }\n",
       "\n",
       "    .dataframe thead th {\n",
       "        text-align: right;\n",
       "    }\n",
       "</style>\n",
       "<table border=\"1\" class=\"dataframe\">\n",
       "  <thead>\n",
       "    <tr style=\"text-align: right;\">\n",
       "      <th></th>\n",
       "      <th>gender_Male</th>\n",
       "      <th>gender_Unknown</th>\n",
       "      <th>gender_Female</th>\n",
       "      <th>gender_Other</th>\n",
       "      <th>city_group_other</th>\n",
       "      <th>city_group_city_16</th>\n",
       "      <th>city_group_city_102</th>\n",
       "      <th>city_group_city_21</th>\n",
       "      <th>city_group_city_160</th>\n",
       "      <th>city_group_city_114</th>\n",
       "      <th>...</th>\n",
       "      <th>major_No Major</th>\n",
       "      <th>major_Other</th>\n",
       "      <th>company_type_Unknown</th>\n",
       "      <th>company_type_private_limited</th>\n",
       "      <th>company_type_N/A</th>\n",
       "      <th>company_type_startup_funded</th>\n",
       "      <th>company_type_NGO</th>\n",
       "      <th>company_type_public_sector</th>\n",
       "      <th>company_type_startup_earlystage</th>\n",
       "      <th>company_type_Other</th>\n",
       "    </tr>\n",
       "  </thead>\n",
       "  <tbody>\n",
       "    <tr>\n",
       "      <th>15092</th>\n",
       "      <td>1.0</td>\n",
       "      <td>0.0</td>\n",
       "      <td>0.0</td>\n",
       "      <td>0.0</td>\n",
       "      <td>1.0</td>\n",
       "      <td>0.0</td>\n",
       "      <td>0.0</td>\n",
       "      <td>0.0</td>\n",
       "      <td>0.0</td>\n",
       "      <td>0.0</td>\n",
       "      <td>...</td>\n",
       "      <td>0.0</td>\n",
       "      <td>0.0</td>\n",
       "      <td>1.0</td>\n",
       "      <td>0.0</td>\n",
       "      <td>0.0</td>\n",
       "      <td>0.0</td>\n",
       "      <td>0.0</td>\n",
       "      <td>0.0</td>\n",
       "      <td>0.0</td>\n",
       "      <td>0.0</td>\n",
       "    </tr>\n",
       "    <tr>\n",
       "      <th>16142</th>\n",
       "      <td>1.0</td>\n",
       "      <td>0.0</td>\n",
       "      <td>0.0</td>\n",
       "      <td>0.0</td>\n",
       "      <td>0.0</td>\n",
       "      <td>1.0</td>\n",
       "      <td>0.0</td>\n",
       "      <td>0.0</td>\n",
       "      <td>0.0</td>\n",
       "      <td>0.0</td>\n",
       "      <td>...</td>\n",
       "      <td>0.0</td>\n",
       "      <td>0.0</td>\n",
       "      <td>0.0</td>\n",
       "      <td>1.0</td>\n",
       "      <td>0.0</td>\n",
       "      <td>0.0</td>\n",
       "      <td>0.0</td>\n",
       "      <td>0.0</td>\n",
       "      <td>0.0</td>\n",
       "      <td>0.0</td>\n",
       "    </tr>\n",
       "    <tr>\n",
       "      <th>12707</th>\n",
       "      <td>1.0</td>\n",
       "      <td>0.0</td>\n",
       "      <td>0.0</td>\n",
       "      <td>0.0</td>\n",
       "      <td>1.0</td>\n",
       "      <td>0.0</td>\n",
       "      <td>0.0</td>\n",
       "      <td>0.0</td>\n",
       "      <td>0.0</td>\n",
       "      <td>0.0</td>\n",
       "      <td>...</td>\n",
       "      <td>0.0</td>\n",
       "      <td>0.0</td>\n",
       "      <td>0.0</td>\n",
       "      <td>1.0</td>\n",
       "      <td>0.0</td>\n",
       "      <td>0.0</td>\n",
       "      <td>0.0</td>\n",
       "      <td>0.0</td>\n",
       "      <td>0.0</td>\n",
       "      <td>0.0</td>\n",
       "    </tr>\n",
       "    <tr>\n",
       "      <th>134</th>\n",
       "      <td>1.0</td>\n",
       "      <td>0.0</td>\n",
       "      <td>0.0</td>\n",
       "      <td>0.0</td>\n",
       "      <td>0.0</td>\n",
       "      <td>0.0</td>\n",
       "      <td>1.0</td>\n",
       "      <td>0.0</td>\n",
       "      <td>0.0</td>\n",
       "      <td>0.0</td>\n",
       "      <td>...</td>\n",
       "      <td>0.0</td>\n",
       "      <td>0.0</td>\n",
       "      <td>0.0</td>\n",
       "      <td>0.0</td>\n",
       "      <td>1.0</td>\n",
       "      <td>0.0</td>\n",
       "      <td>0.0</td>\n",
       "      <td>0.0</td>\n",
       "      <td>0.0</td>\n",
       "      <td>0.0</td>\n",
       "    </tr>\n",
       "    <tr>\n",
       "      <th>9522</th>\n",
       "      <td>1.0</td>\n",
       "      <td>0.0</td>\n",
       "      <td>0.0</td>\n",
       "      <td>0.0</td>\n",
       "      <td>0.0</td>\n",
       "      <td>0.0</td>\n",
       "      <td>0.0</td>\n",
       "      <td>1.0</td>\n",
       "      <td>0.0</td>\n",
       "      <td>0.0</td>\n",
       "      <td>...</td>\n",
       "      <td>0.0</td>\n",
       "      <td>0.0</td>\n",
       "      <td>0.0</td>\n",
       "      <td>1.0</td>\n",
       "      <td>0.0</td>\n",
       "      <td>0.0</td>\n",
       "      <td>0.0</td>\n",
       "      <td>0.0</td>\n",
       "      <td>0.0</td>\n",
       "      <td>0.0</td>\n",
       "    </tr>\n",
       "  </tbody>\n",
       "</table>\n",
       "<p>5 rows × 39 columns</p>\n",
       "</div>"
      ],
      "text/plain": [
       "       gender_Male  gender_Unknown  gender_Female  gender_Other  \\\n",
       "15092          1.0             0.0            0.0           0.0   \n",
       "16142          1.0             0.0            0.0           0.0   \n",
       "12707          1.0             0.0            0.0           0.0   \n",
       "134            1.0             0.0            0.0           0.0   \n",
       "9522           1.0             0.0            0.0           0.0   \n",
       "\n",
       "       city_group_other  city_group_city_16  city_group_city_102  \\\n",
       "15092               1.0                 0.0                  0.0   \n",
       "16142               0.0                 1.0                  0.0   \n",
       "12707               1.0                 0.0                  0.0   \n",
       "134                 0.0                 0.0                  1.0   \n",
       "9522                0.0                 0.0                  0.0   \n",
       "\n",
       "       city_group_city_21  city_group_city_160  city_group_city_114  ...  \\\n",
       "15092                 0.0                  0.0                  0.0  ...   \n",
       "16142                 0.0                  0.0                  0.0  ...   \n",
       "12707                 0.0                  0.0                  0.0  ...   \n",
       "134                   0.0                  0.0                  0.0  ...   \n",
       "9522                  1.0                  0.0                  0.0  ...   \n",
       "\n",
       "       major_No Major  major_Other  company_type_Unknown  \\\n",
       "15092             0.0          0.0                   1.0   \n",
       "16142             0.0          0.0                   0.0   \n",
       "12707             0.0          0.0                   0.0   \n",
       "134               0.0          0.0                   0.0   \n",
       "9522              0.0          0.0                   0.0   \n",
       "\n",
       "       company_type_private_limited  company_type_N/A  \\\n",
       "15092                           0.0               0.0   \n",
       "16142                           1.0               0.0   \n",
       "12707                           1.0               0.0   \n",
       "134                             0.0               1.0   \n",
       "9522                            1.0               0.0   \n",
       "\n",
       "       company_type_startup_funded  company_type_NGO  \\\n",
       "15092                          0.0               0.0   \n",
       "16142                          0.0               0.0   \n",
       "12707                          0.0               0.0   \n",
       "134                            0.0               0.0   \n",
       "9522                           0.0               0.0   \n",
       "\n",
       "       company_type_public_sector  company_type_startup_earlystage  \\\n",
       "15092                         0.0                              0.0   \n",
       "16142                         0.0                              0.0   \n",
       "12707                         0.0                              0.0   \n",
       "134                           0.0                              0.0   \n",
       "9522                          0.0                              0.0   \n",
       "\n",
       "       company_type_Other  \n",
       "15092                 0.0  \n",
       "16142                 0.0  \n",
       "12707                 0.0  \n",
       "134                   0.0  \n",
       "9522                  0.0  \n",
       "\n",
       "[5 rows x 39 columns]"
      ]
     },
     "execution_count": 54,
     "metadata": {},
     "output_type": "execute_result"
    }
   ],
   "source": [
    "# Convert cat cols to int\n",
    "\n",
    "train[cat_cols2] = round(train[cat_cols2], 0)\n",
    "test[cat_cols2] = round(test[cat_cols2], 0)\n",
    "final_eval_df[cat_cols2] = round(final_eval_df[cat_cols2], 0)\n",
    "\n",
    "train[cat_cols2].head()"
   ]
  },
  {
   "cell_type": "code",
   "execution_count": 59,
   "id": "3208ac7f",
   "metadata": {},
   "outputs": [],
   "source": [
    "train[cat_cols2] = train[cat_cols2].astype('int64')\n",
    "test[cat_cols2] = test[cat_cols2].astype('int64')\n",
    "final_eval_df[cat_cols2] = final_eval_df[cat_cols2].astype('int64')"
   ]
  },
  {
   "cell_type": "code",
   "execution_count": 56,
   "id": "0eb468eb",
   "metadata": {},
   "outputs": [
    {
     "data": {
      "text/plain": [
       "STEM               14373\n",
       "N/A                 1900\n",
       "Humanities           665\n",
       "Other                379\n",
       "Business Degree      326\n",
       "Arts                 252\n",
       "No Major             221\n",
       "Name: major, dtype: int64"
      ]
     },
     "execution_count": 56,
     "metadata": {},
     "output_type": "execute_result"
    }
   ],
   "source": [
    "main_df['major'].value_counts()"
   ]
  },
  {
   "cell_type": "code",
   "execution_count": 60,
   "id": "688b81b9",
   "metadata": {
    "scrolled": false
   },
   "outputs": [
    {
     "data": {
      "text/plain": [
       "major_STEM  major_Business Degree  major_Arts  major_Humanities  major_No Major  major_Other  major_N/A\n",
       "1           0                      0           0                 0               0            0            10837\n",
       "0           0                      0           0                 0               0            1             1453\n",
       "                                               1                 0               0            0              507\n",
       "                                               0                 0               1            0              287\n",
       "            1                      0           0                 0               0            0              247\n",
       "            0                      1           0                 0               0            0              207\n",
       "                                   0           0                 1               0            0              172\n",
       "dtype: int64"
      ]
     },
     "execution_count": 60,
     "metadata": {},
     "output_type": "execute_result"
    }
   ],
   "source": [
    "train[major_cols].value_counts()"
   ]
  },
  {
   "cell_type": "code",
   "execution_count": 61,
   "id": "7e87f3bb",
   "metadata": {},
   "outputs": [
    {
     "data": {
      "text/plain": [
       "private_limited       9109\n",
       "Unknown               4095\n",
       "N/A                   2038\n",
       "startup_funded         980\n",
       "public_sector          902\n",
       "startup_earlystage     547\n",
       "NGO                    497\n",
       "Other                  112\n",
       "Name: company_type, dtype: int64"
      ]
     },
     "execution_count": 61,
     "metadata": {},
     "output_type": "execute_result"
    }
   ],
   "source": [
    "main_df['company_type'].value_counts()"
   ]
  },
  {
   "cell_type": "code",
   "execution_count": 62,
   "id": "3b5f536e",
   "metadata": {},
   "outputs": [
    {
     "data": {
      "text/html": [
       "<div>\n",
       "<style scoped>\n",
       "    .dataframe tbody tr th:only-of-type {\n",
       "        vertical-align: middle;\n",
       "    }\n",
       "\n",
       "    .dataframe tbody tr th {\n",
       "        vertical-align: top;\n",
       "    }\n",
       "\n",
       "    .dataframe thead th {\n",
       "        text-align: right;\n",
       "    }\n",
       "</style>\n",
       "<table border=\"1\" class=\"dataframe\">\n",
       "  <thead>\n",
       "    <tr style=\"text-align: right;\">\n",
       "      <th></th>\n",
       "      <th></th>\n",
       "      <th></th>\n",
       "      <th></th>\n",
       "      <th></th>\n",
       "      <th></th>\n",
       "      <th></th>\n",
       "      <th></th>\n",
       "      <th>0</th>\n",
       "    </tr>\n",
       "    <tr>\n",
       "      <th>company_type_private_limited</th>\n",
       "      <th>company_type_startup_funded</th>\n",
       "      <th>company_type_startup_earlystage</th>\n",
       "      <th>company_type_Other</th>\n",
       "      <th>company_type_public_sector</th>\n",
       "      <th>company_type_NGO</th>\n",
       "      <th>company_type_Unknown</th>\n",
       "      <th>company_type_N/A</th>\n",
       "      <th></th>\n",
       "    </tr>\n",
       "  </thead>\n",
       "  <tbody>\n",
       "    <tr>\n",
       "      <th>1</th>\n",
       "      <th>0</th>\n",
       "      <th>0</th>\n",
       "      <th>0</th>\n",
       "      <th>0</th>\n",
       "      <th>0</th>\n",
       "      <th>0</th>\n",
       "      <th>0</th>\n",
       "      <td>6801</td>\n",
       "    </tr>\n",
       "    <tr>\n",
       "      <th rowspan=\"7\" valign=\"top\">0</th>\n",
       "      <th rowspan=\"2\" valign=\"top\">0</th>\n",
       "      <th rowspan=\"2\" valign=\"top\">0</th>\n",
       "      <th rowspan=\"2\" valign=\"top\">0</th>\n",
       "      <th rowspan=\"2\" valign=\"top\">0</th>\n",
       "      <th rowspan=\"2\" valign=\"top\">0</th>\n",
       "      <th>1</th>\n",
       "      <th>0</th>\n",
       "      <td>3078</td>\n",
       "    </tr>\n",
       "    <tr>\n",
       "      <th>0</th>\n",
       "      <th>1</th>\n",
       "      <td>1540</td>\n",
       "    </tr>\n",
       "    <tr>\n",
       "      <th>1</th>\n",
       "      <th>0</th>\n",
       "      <th>0</th>\n",
       "      <th>0</th>\n",
       "      <th>0</th>\n",
       "      <th>0</th>\n",
       "      <th>0</th>\n",
       "      <td>737</td>\n",
       "    </tr>\n",
       "    <tr>\n",
       "      <th rowspan=\"4\" valign=\"top\">0</th>\n",
       "      <th>0</th>\n",
       "      <th>0</th>\n",
       "      <th>1</th>\n",
       "      <th>0</th>\n",
       "      <th>0</th>\n",
       "      <th>0</th>\n",
       "      <td>680</td>\n",
       "    </tr>\n",
       "    <tr>\n",
       "      <th>1</th>\n",
       "      <th>0</th>\n",
       "      <th>0</th>\n",
       "      <th>0</th>\n",
       "      <th>0</th>\n",
       "      <th>0</th>\n",
       "      <td>412</td>\n",
       "    </tr>\n",
       "    <tr>\n",
       "      <th rowspan=\"2\" valign=\"top\">0</th>\n",
       "      <th>0</th>\n",
       "      <th>0</th>\n",
       "      <th>1</th>\n",
       "      <th>0</th>\n",
       "      <th>0</th>\n",
       "      <td>387</td>\n",
       "    </tr>\n",
       "    <tr>\n",
       "      <th>1</th>\n",
       "      <th>0</th>\n",
       "      <th>0</th>\n",
       "      <th>0</th>\n",
       "      <th>0</th>\n",
       "      <td>75</td>\n",
       "    </tr>\n",
       "  </tbody>\n",
       "</table>\n",
       "</div>"
      ],
      "text/plain": [
       "                                                                                                                                                                                                  0\n",
       "company_type_private_limited company_type_startup_funded company_type_startup_earlystage company_type_Other company_type_public_sector company_type_NGO company_type_Unknown company_type_N/A      \n",
       "1                            0                           0                               0                  0                          0                0                    0                 6801\n",
       "0                            0                           0                               0                  0                          0                1                    0                 3078\n",
       "                                                                                                                                                        0                    1                 1540\n",
       "                             1                           0                               0                  0                          0                0                    0                  737\n",
       "                             0                           0                               0                  1                          0                0                    0                  680\n",
       "                                                         1                               0                  0                          0                0                    0                  412\n",
       "                                                         0                               0                  0                          1                0                    0                  387\n",
       "                                                                                         1                  0                          0                0                    0                   75"
      ]
     },
     "execution_count": 62,
     "metadata": {},
     "output_type": "execute_result"
    }
   ],
   "source": [
    "pd.DataFrame(train[company].value_counts())"
   ]
  },
  {
   "cell_type": "markdown",
   "id": "107e87a1",
   "metadata": {},
   "source": [
    "This distribution seems to follow the original prior to imputation"
   ]
  },
  {
   "cell_type": "code",
   "execution_count": 63,
   "id": "87a318f0",
   "metadata": {},
   "outputs": [
    {
     "data": {
      "text/plain": [
       "(enrollee_id                          0\n",
       " city_development_index               0\n",
       " gender_Male                          0\n",
       " gender_Unknown                       0\n",
       " gender_Female                        0\n",
       " gender_Other                         0\n",
       " relevent_experience                  0\n",
       " enrolled_university_part_time        0\n",
       " enrolled_university_no_enrollment    0\n",
       " enrolled_university_full_time        0\n",
       " education_level                      0\n",
       " major_STEM                           0\n",
       " major_Arts                           0\n",
       " major_N/A                            0\n",
       " major_Humanities                     0\n",
       " major_Business Degree                0\n",
       " major_No Major                       0\n",
       " major_Other                          0\n",
       " company_size                         0\n",
       " company_type_Unknown                 0\n",
       " company_type_private_limited         0\n",
       " company_type_N/A                     0\n",
       " company_type_startup_funded          0\n",
       " company_type_NGO                     0\n",
       " company_type_public_sector           0\n",
       " company_type_startup_earlystage      0\n",
       " company_type_Other                   0\n",
       " last_new_job                         0\n",
       " training_hours                       0\n",
       " target                               0\n",
       " exp_range                            0\n",
       " city_group_other                     0\n",
       " city_group_city_16                   0\n",
       " city_group_city_102                  0\n",
       " city_group_city_21                   0\n",
       " city_group_city_160                  0\n",
       " city_group_city_114                  0\n",
       " city_group_city_103                  0\n",
       " city_group_city_136                  0\n",
       " city_group_city_100                  0\n",
       " city_group_city_75                   0\n",
       " city_group_city_104                  0\n",
       " city_group_city_67                   0\n",
       " city_group_city_71                   0\n",
       " city_group_city_73                   0\n",
       " city_group_city_61                   0\n",
       " city_group_city_28                   0\n",
       " city_group_city_11                   0\n",
       " dtype: int64,\n",
       " enrollee_id                          0\n",
       " city_development_index               0\n",
       " gender_Male                          0\n",
       " gender_Unknown                       0\n",
       " gender_Female                        0\n",
       " gender_Other                         0\n",
       " relevent_experience                  0\n",
       " enrolled_university_part_time        0\n",
       " enrolled_university_no_enrollment    0\n",
       " enrolled_university_full_time        0\n",
       " education_level                      0\n",
       " major_STEM                           0\n",
       " major_Arts                           0\n",
       " major_N/A                            0\n",
       " major_Humanities                     0\n",
       " major_Business Degree                0\n",
       " major_No Major                       0\n",
       " major_Other                          0\n",
       " company_size                         0\n",
       " company_type_Unknown                 0\n",
       " company_type_private_limited         0\n",
       " company_type_N/A                     0\n",
       " company_type_startup_funded          0\n",
       " company_type_NGO                     0\n",
       " company_type_public_sector           0\n",
       " company_type_startup_earlystage      0\n",
       " company_type_Other                   0\n",
       " last_new_job                         0\n",
       " training_hours                       0\n",
       " target                               0\n",
       " exp_range                            0\n",
       " city_group_other                     0\n",
       " city_group_city_16                   0\n",
       " city_group_city_102                  0\n",
       " city_group_city_21                   0\n",
       " city_group_city_160                  0\n",
       " city_group_city_114                  0\n",
       " city_group_city_103                  0\n",
       " city_group_city_136                  0\n",
       " city_group_city_100                  0\n",
       " city_group_city_75                   0\n",
       " city_group_city_104                  0\n",
       " city_group_city_67                   0\n",
       " city_group_city_71                   0\n",
       " city_group_city_73                   0\n",
       " city_group_city_61                   0\n",
       " city_group_city_28                   0\n",
       " city_group_city_11                   0\n",
       " dtype: int64)"
      ]
     },
     "execution_count": 63,
     "metadata": {},
     "output_type": "execute_result"
    }
   ],
   "source": [
    "train.isna().sum(), test.isna().sum()"
   ]
  },
  {
   "cell_type": "markdown",
   "id": "dc06a9ca",
   "metadata": {},
   "source": [
    "# V. Check Correlations Between Encoded Features"
   ]
  },
  {
   "cell_type": "code",
   "execution_count": 64,
   "id": "61b8a682",
   "metadata": {},
   "outputs": [
    {
     "data": {
      "image/png": "[encoded data removed]",
      "text/plain": [
       "<Figure size 2160x2160 with 2 Axes>"
      ]
     },
     "metadata": {
      "needs_background": "light"
     },
     "output_type": "display_data"
    }
   ],
   "source": [
    "# Mask to only annotate correlations greater than abs .6\n",
    "mask = (train.corr()>=.6) | (train.corr()<=-.5)\n",
    "annotations = np.array(round(train.corr(), 2)[mask].astype(str))\n",
    "annotations[np.isnan(train.corr()[mask])] = \"\"\n",
    "\n",
    "matrix = np.triu(train.corr())\n",
    "\n",
    "# Plot\n",
    "plt.figure(figsize=(30,30))\n",
    "x = sns.heatmap(train.corr(), annot=annotations, cmap='YlGnBu', vmin=-1, vmax=1, fmt='', mask=matrix);\n",
    "x.set_title('Correlation between numeric and encoded categorical values (corr >= |.6| are labeled)');"
   ]
  },
  {
   "cell_type": "markdown",
   "id": "79598d79",
   "metadata": {},
   "source": [
    "There seems to be some multicollinearity between one-hot encoded columns. For correlation coefficients above |.60|, one column will be dropped.\n",
    "\n",
    "These are:\n",
    "- gender_Uknown * gender_male\n",
    "- enrolled_full_time * no_enrollment\n",
    "- Major N/A and education_level + major_STEM\n",
    "- city_21 and CDI"
   ]
  },
  {
   "cell_type": "code",
   "execution_count": 69,
   "id": "da15a31a",
   "metadata": {},
   "outputs": [],
   "source": [
    "train.drop(columns=['gender_Unknown', 'enrolled_university_no_enrollment', 'major_N/A', 'city_group_city_21'], inplace=True)\n",
    "test.drop(columns=['gender_Unknown', 'enrolled_university_no_enrollment', 'major_N/A', 'city_group_city_21'], inplace=True)\n",
    "final_eval_df.drop(columns=['gender_Unknown', 'enrolled_university_no_enrollment', 'major_N/A', 'city_group_city_21'], inplace=True)"
   ]
  },
  {
   "cell_type": "markdown",
   "id": "1e0a6ee6",
   "metadata": {},
   "source": [
    "# VI. Save Train, Test, and Final Eval Data"
   ]
  },
  {
   "cell_type": "code",
   "execution_count": 71,
   "id": "08ac1046",
   "metadata": {},
   "outputs": [
    {
     "data": {
      "text/plain": [
       "((13710, 44), (4570, 44))"
      ]
     },
     "execution_count": 71,
     "metadata": {},
     "output_type": "execute_result"
    }
   ],
   "source": [
    "train.shape, test.shape"
   ]
  },
  {
   "cell_type": "code",
   "execution_count": 72,
   "id": "e9360f5a",
   "metadata": {},
   "outputs": [],
   "source": [
    "train.to_csv('../data/Train.csv')\n",
    "test.to_csv('../data/Test.csv')"
   ]
  },
  {
   "cell_type": "code",
   "execution_count": 73,
   "id": "e56ef4d1",
   "metadata": {},
   "outputs": [
    {
     "data": {
      "text/plain": [
       "(2129, 44)"
      ]
     },
     "execution_count": 73,
     "metadata": {},
     "output_type": "execute_result"
    }
   ],
   "source": [
    "final_eval_df.shape"
   ]
  },
  {
   "cell_type": "code",
   "execution_count": 74,
   "id": "0bde9822",
   "metadata": {},
   "outputs": [],
   "source": [
    "final_eval_df.to_csv('../data/Final_Eval.csv')"
   ]
  }
 ],
 "metadata": {
  "kernelspec": {
   "display_name": "Python 3 (ipykernel)",
   "language": "python",
   "name": "python3"
  },
  "language_info": {
   "codemirror_mode": {
    "name": "ipython",
    "version": 3
   },
   "file_extension": ".py",
   "mimetype": "text/x-python",
   "name": "python",
   "nbconvert_exporter": "python",
   "pygments_lexer": "ipython3",
   "version": "3.8.12"
  }
 },
 "nbformat": 4,
 "nbformat_minor": 5
}
