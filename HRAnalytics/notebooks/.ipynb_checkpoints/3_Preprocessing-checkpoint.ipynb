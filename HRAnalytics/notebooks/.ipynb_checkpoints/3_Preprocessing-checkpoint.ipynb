{
 "cells": [
  {
   "cell_type": "code",
   "execution_count": 1,
   "id": "54a44609",
   "metadata": {},
   "outputs": [],
   "source": [
    "import pandas as pd\n",
    "import numpy as np\n",
    "\n",
    "import matplotlib.pyplot as plt\n",
    "import seaborn as sns"
   ]
  },
  {
   "cell_type": "code",
   "execution_count": 6,
   "id": "d5fc98b7",
   "metadata": {},
   "outputs": [
    {
     "data": {
      "text/html": [
       "<div>\n",
       "<style scoped>\n",
       "    .dataframe tbody tr th:only-of-type {\n",
       "        vertical-align: middle;\n",
       "    }\n",
       "\n",
       "    .dataframe tbody tr th {\n",
       "        vertical-align: top;\n",
       "    }\n",
       "\n",
       "    .dataframe thead th {\n",
       "        text-align: right;\n",
       "    }\n",
       "</style>\n",
       "<table border=\"1\" class=\"dataframe\">\n",
       "  <thead>\n",
       "    <tr style=\"text-align: right;\">\n",
       "      <th></th>\n",
       "      <th>enrollee_id</th>\n",
       "      <th>city</th>\n",
       "      <th>city_development_index</th>\n",
       "      <th>gender_Male</th>\n",
       "      <th>gender_Female</th>\n",
       "      <th>gender_Other</th>\n",
       "      <th>relevent_experience</th>\n",
       "      <th>enrolled_university_no_enrollment</th>\n",
       "      <th>enrolled_university_full_time</th>\n",
       "      <th>enrolled_university_part_time</th>\n",
       "      <th>...</th>\n",
       "      <th>company_size</th>\n",
       "      <th>company_type_private_limited</th>\n",
       "      <th>company_type_startup_funded</th>\n",
       "      <th>company_type_startup_earlystage</th>\n",
       "      <th>company_type_Other</th>\n",
       "      <th>company_type_public_sector</th>\n",
       "      <th>company_type_NGO</th>\n",
       "      <th>last_new_job</th>\n",
       "      <th>training_hours</th>\n",
       "      <th>target</th>\n",
       "    </tr>\n",
       "  </thead>\n",
       "  <tbody>\n",
       "    <tr>\n",
       "      <th>0</th>\n",
       "      <td>8949</td>\n",
       "      <td>city_103</td>\n",
       "      <td>0.920</td>\n",
       "      <td>1.0</td>\n",
       "      <td>0.0</td>\n",
       "      <td>0.0</td>\n",
       "      <td>1</td>\n",
       "      <td>1.0</td>\n",
       "      <td>0.0</td>\n",
       "      <td>0.0</td>\n",
       "      <td>...</td>\n",
       "      <td>3.0</td>\n",
       "      <td>1.0</td>\n",
       "      <td>0.0</td>\n",
       "      <td>0.0</td>\n",
       "      <td>0.0</td>\n",
       "      <td>0.0</td>\n",
       "      <td>0.0</td>\n",
       "      <td>1.0</td>\n",
       "      <td>36</td>\n",
       "      <td>1.0</td>\n",
       "    </tr>\n",
       "    <tr>\n",
       "      <th>1</th>\n",
       "      <td>29725</td>\n",
       "      <td>city_40</td>\n",
       "      <td>0.776</td>\n",
       "      <td>1.0</td>\n",
       "      <td>0.0</td>\n",
       "      <td>0.0</td>\n",
       "      <td>0</td>\n",
       "      <td>1.0</td>\n",
       "      <td>0.0</td>\n",
       "      <td>0.0</td>\n",
       "      <td>...</td>\n",
       "      <td>2.0</td>\n",
       "      <td>1.0</td>\n",
       "      <td>0.0</td>\n",
       "      <td>0.0</td>\n",
       "      <td>0.0</td>\n",
       "      <td>0.0</td>\n",
       "      <td>0.0</td>\n",
       "      <td>5.0</td>\n",
       "      <td>47</td>\n",
       "      <td>0.0</td>\n",
       "    </tr>\n",
       "    <tr>\n",
       "      <th>2</th>\n",
       "      <td>11561</td>\n",
       "      <td>city_21</td>\n",
       "      <td>0.624</td>\n",
       "      <td>0.0</td>\n",
       "      <td>1.0</td>\n",
       "      <td>0.0</td>\n",
       "      <td>0</td>\n",
       "      <td>0.0</td>\n",
       "      <td>1.0</td>\n",
       "      <td>0.0</td>\n",
       "      <td>...</td>\n",
       "      <td>3.0</td>\n",
       "      <td>0.0</td>\n",
       "      <td>0.0</td>\n",
       "      <td>1.0</td>\n",
       "      <td>0.0</td>\n",
       "      <td>0.0</td>\n",
       "      <td>0.0</td>\n",
       "      <td>0.0</td>\n",
       "      <td>83</td>\n",
       "      <td>0.0</td>\n",
       "    </tr>\n",
       "    <tr>\n",
       "      <th>3</th>\n",
       "      <td>33241</td>\n",
       "      <td>city_115</td>\n",
       "      <td>0.789</td>\n",
       "      <td>1.0</td>\n",
       "      <td>0.0</td>\n",
       "      <td>0.0</td>\n",
       "      <td>0</td>\n",
       "      <td>1.0</td>\n",
       "      <td>0.0</td>\n",
       "      <td>0.0</td>\n",
       "      <td>...</td>\n",
       "      <td>1.0</td>\n",
       "      <td>1.0</td>\n",
       "      <td>0.0</td>\n",
       "      <td>0.0</td>\n",
       "      <td>0.0</td>\n",
       "      <td>0.0</td>\n",
       "      <td>0.0</td>\n",
       "      <td>0.0</td>\n",
       "      <td>52</td>\n",
       "      <td>1.0</td>\n",
       "    </tr>\n",
       "    <tr>\n",
       "      <th>4</th>\n",
       "      <td>666</td>\n",
       "      <td>city_162</td>\n",
       "      <td>0.767</td>\n",
       "      <td>1.0</td>\n",
       "      <td>0.0</td>\n",
       "      <td>0.0</td>\n",
       "      <td>1</td>\n",
       "      <td>1.0</td>\n",
       "      <td>0.0</td>\n",
       "      <td>0.0</td>\n",
       "      <td>...</td>\n",
       "      <td>2.0</td>\n",
       "      <td>0.0</td>\n",
       "      <td>1.0</td>\n",
       "      <td>0.0</td>\n",
       "      <td>0.0</td>\n",
       "      <td>0.0</td>\n",
       "      <td>0.0</td>\n",
       "      <td>4.0</td>\n",
       "      <td>8</td>\n",
       "      <td>0.0</td>\n",
       "    </tr>\n",
       "  </tbody>\n",
       "</table>\n",
       "<p>5 rows × 32 columns</p>\n",
       "</div>"
      ],
      "text/plain": [
       "   enrollee_id      city  city_development_index  gender_Male  gender_Female  \\\n",
       "0         8949  city_103                   0.920          1.0            0.0   \n",
       "1        29725   city_40                   0.776          1.0            0.0   \n",
       "2        11561   city_21                   0.624          0.0            1.0   \n",
       "3        33241  city_115                   0.789          1.0            0.0   \n",
       "4          666  city_162                   0.767          1.0            0.0   \n",
       "\n",
       "   gender_Other  relevent_experience  enrolled_university_no_enrollment  \\\n",
       "0           0.0                    1                                1.0   \n",
       "1           0.0                    0                                1.0   \n",
       "2           0.0                    0                                0.0   \n",
       "3           0.0                    0                                1.0   \n",
       "4           0.0                    1                                1.0   \n",
       "\n",
       "   enrolled_university_full_time  enrolled_university_part_time  ...  \\\n",
       "0                            0.0                            0.0  ...   \n",
       "1                            0.0                            0.0  ...   \n",
       "2                            1.0                            0.0  ...   \n",
       "3                            0.0                            0.0  ...   \n",
       "4                            0.0                            0.0  ...   \n",
       "\n",
       "   company_size  company_type_private_limited  company_type_startup_funded  \\\n",
       "0           3.0                           1.0                          0.0   \n",
       "1           2.0                           1.0                          0.0   \n",
       "2           3.0                           0.0                          0.0   \n",
       "3           1.0                           1.0                          0.0   \n",
       "4           2.0                           0.0                          1.0   \n",
       "\n",
       "   company_type_startup_earlystage  company_type_Other  \\\n",
       "0                              0.0                 0.0   \n",
       "1                              0.0                 0.0   \n",
       "2                              1.0                 0.0   \n",
       "3                              0.0                 0.0   \n",
       "4                              0.0                 0.0   \n",
       "\n",
       "   company_type_public_sector  company_type_NGO  last_new_job  training_hours  \\\n",
       "0                         0.0               0.0           1.0              36   \n",
       "1                         0.0               0.0           5.0              47   \n",
       "2                         0.0               0.0           0.0              83   \n",
       "3                         0.0               0.0           0.0              52   \n",
       "4                         0.0               0.0           4.0               8   \n",
       "\n",
       "   target  \n",
       "0     1.0  \n",
       "1     0.0  \n",
       "2     0.0  \n",
       "3     1.0  \n",
       "4     0.0  \n",
       "\n",
       "[5 rows x 32 columns]"
      ]
     },
     "execution_count": 6,
     "metadata": {},
     "output_type": "execute_result"
    }
   ],
   "source": [
    "df = pd.read_csv('../data/HRAnalytics_clean.csv', index_col=0)\n",
    "df.head()"
   ]
  },
  {
   "cell_type": "code",
   "execution_count": 7,
   "id": "28ed346a",
   "metadata": {},
   "outputs": [
    {
     "data": {
      "text/plain": [
       "(21287, 32)"
      ]
     },
     "execution_count": 7,
     "metadata": {},
     "output_type": "execute_result"
    }
   ],
   "source": [
    "df.shape"
   ]
  },
  {
   "cell_type": "code",
   "execution_count": null,
   "id": "9d3b8a2a",
   "metadata": {},
   "outputs": [],
   "source": []
  },
  {
   "cell_type": "code",
   "execution_count": null,
   "id": "e0d4d1ca",
   "metadata": {},
   "outputs": [],
   "source": []
  },
  {
   "cell_type": "markdown",
   "id": "23c9cc72",
   "metadata": {},
   "source": [
    "# I. Encoding Categorical Columns"
   ]
  },
  {
   "cell_type": "code",
   "execution_count": null,
   "id": "b01209be",
   "metadata": {},
   "outputs": [],
   "source": [
    "df.dtypes[df.dtypes=='object']"
   ]
  },
  {
   "cell_type": "markdown",
   "id": "61029932",
   "metadata": {},
   "source": [
    "### a) Ordinal Columns"
   ]
  },
  {
   "cell_type": "code",
   "execution_count": null,
   "id": "829d3806",
   "metadata": {},
   "outputs": [],
   "source": [
    "ord_cols = ['experience', 'company_size', 'last_new_job']"
   ]
  },
  {
   "cell_type": "code",
   "execution_count": null,
   "id": "7a899882",
   "metadata": {},
   "outputs": [],
   "source": [
    "df[ord_cols].head()"
   ]
  },
  {
   "cell_type": "code",
   "execution_count": null,
   "id": "9fada081",
   "metadata": {},
   "outputs": [],
   "source": [
    "ord_map = [\n",
    "    {'col': 'experience', \n",
    "     'mapping': {'<1':0, '1-5':1, '6-10':2, '11-15':3, '16-20':4,'>20':5}},\n",
    "    {'col': 'company_size',\n",
    "     'mapping': {'<10': 0, '10-49': 1, '50-99': 2, '100-499':3, '500-999':4, '1000-4999':5, '5000-9999':6, '10000+':7}},\n",
    "    {'col': 'last_new_job',\n",
    "     'mapping': {'never': 0, '1': 1, '2': 2, '3':3, '4':4, '>4':5}}\n",
    "]"
   ]
  },
  {
   "cell_type": "code",
   "execution_count": null,
   "id": "2c5b63fd",
   "metadata": {},
   "outputs": [],
   "source": [
    "ord_encoder = ce.OrdinalEncoder(\n",
    "    cols=ord_cols, mapping=ord_map, return_df=True,\n",
    "    handle_unknown='return_nan', handle_missing='return_nan'\n",
    ")\n",
    "\n",
    "df = ord_encoder.fit_transform(df)"
   ]
  },
  {
   "cell_type": "code",
   "execution_count": null,
   "id": "8043e5df",
   "metadata": {},
   "outputs": [],
   "source": [
    "df[ord_cols].head()"
   ]
  },
  {
   "cell_type": "code",
   "execution_count": null,
   "id": "3cd76460",
   "metadata": {},
   "outputs": [],
   "source": [
    "df[ord_cols].dtypes"
   ]
  },
  {
   "cell_type": "markdown",
   "id": "0e851e43",
   "metadata": {},
   "source": [
    "After imputing missing values, these columns will be converted to int"
   ]
  },
  {
   "cell_type": "markdown",
   "id": "212d474d",
   "metadata": {},
   "source": [
    "### b) One-Hot Encode Columns"
   ]
  },
  {
   "cell_type": "code",
   "execution_count": null,
   "id": "c770b150",
   "metadata": {},
   "outputs": [],
   "source": [
    "cat_cols = ['gender', 'enrolled_university', 'education_level', 'major', 'company_type']"
   ]
  },
  {
   "cell_type": "code",
   "execution_count": null,
   "id": "26d94e86",
   "metadata": {},
   "outputs": [],
   "source": [
    "oh_encoder = ce.OneHotEncoder(cols=cat_cols, return_df=True, use_cat_names=True,\n",
    "                           handle_unknown='return_nan', handle_missing='return_nan')\n",
    "\n",
    "df = oh_encoder.fit_transform(df)"
   ]
  },
  {
   "cell_type": "code",
   "execution_count": null,
   "id": "b2ba1d5f",
   "metadata": {},
   "outputs": [],
   "source": [
    "cat_cols2 = []\n",
    "for i in cat_cols:\n",
    "    for col_name in df.columns:\n",
    "        if i in col_name:\n",
    "            cat_cols2.append(col_name)\n",
    "df[cat_cols2].head()"
   ]
  },
  {
   "cell_type": "markdown",
   "id": "69c33c83",
   "metadata": {},
   "source": [
    "### c) Ensure all column dtypes are correct"
   ]
  },
  {
   "cell_type": "code",
   "execution_count": null,
   "id": "fa44d8db",
   "metadata": {},
   "outputs": [],
   "source": [
    "df.dtypes"
   ]
  },
  {
   "cell_type": "markdown",
   "id": "b6ed72ec",
   "metadata": {},
   "source": [
    "# II. Imputing Missing Values"
   ]
  },
  {
   "cell_type": "code",
   "execution_count": null,
   "id": "1ac19746",
   "metadata": {},
   "outputs": [],
   "source": [
    "df.isna().sum()"
   ]
  },
  {
   "cell_type": "markdown",
   "id": "3b76a40c",
   "metadata": {},
   "source": [
    "### a) Ordinal Columns"
   ]
  },
  {
   "cell_type": "code",
   "execution_count": null,
   "id": "816a4e26",
   "metadata": {},
   "outputs": [],
   "source": [
    "# Number of NAs in each column\n",
    "\n",
    "perc_na = round(df[ord_cols].isna().sum() * 100 / len(df[ord_cols]), 2)\n",
    "\n",
    "pd.DataFrame({'Total NA':df[ord_cols].isna().sum(), '% NA':perc_na})"
   ]
  },
  {
   "cell_type": "code",
   "execution_count": null,
   "id": "dfdb96f5",
   "metadata": {},
   "outputs": [],
   "source": [
    "KNN_imputer = KNNImputer()\n",
    "\n",
    "df[ord_cols] = KNN_imputer.fit_transform(df[ord_cols])\n",
    "df[ord_cols].head()"
   ]
  },
  {
   "cell_type": "code",
   "execution_count": null,
   "id": "bffa15ca",
   "metadata": {},
   "outputs": [],
   "source": [
    "# Convert ord cols to int\n",
    "df[ord_cols] = round(df[ord_cols], 0)\n",
    "df[ord_cols].head()"
   ]
  },
  {
   "cell_type": "code",
   "execution_count": null,
   "id": "5cb23afa",
   "metadata": {},
   "outputs": [],
   "source": [
    "df['experience'].value_counts()"
   ]
  },
  {
   "cell_type": "code",
   "execution_count": null,
   "id": "8d898f8c",
   "metadata": {},
   "outputs": [],
   "source": [
    "df['company_size'].value_counts()"
   ]
  },
  {
   "cell_type": "code",
   "execution_count": 1,
   "id": "8c34e7d3",
   "metadata": {},
   "outputs": [
    {
     "ename": "NameError",
     "evalue": "name 'df' is not defined",
     "output_type": "error",
     "traceback": [
      "\u001b[1;31m---------------------------------------------------------------------------\u001b[0m",
      "\u001b[1;31mNameError\u001b[0m                                 Traceback (most recent call last)",
      "\u001b[1;32m~\\AppData\\Local\\Temp/ipykernel_32940/2498077547.py\u001b[0m in \u001b[0;36m<module>\u001b[1;34m\u001b[0m\n\u001b[1;32m----> 1\u001b[1;33m \u001b[0mdf\u001b[0m\u001b[1;33m[\u001b[0m\u001b[1;34m'last_new_job'\u001b[0m\u001b[1;33m]\u001b[0m\u001b[1;33m.\u001b[0m\u001b[0mvalue_counts\u001b[0m\u001b[1;33m(\u001b[0m\u001b[1;33m)\u001b[0m\u001b[1;33m\u001b[0m\u001b[1;33m\u001b[0m\u001b[0m\n\u001b[0m",
      "\u001b[1;31mNameError\u001b[0m: name 'df' is not defined"
     ]
    }
   ],
   "source": [
    "df['last_new_job'].value_counts()"
   ]
  },
  {
   "cell_type": "markdown",
   "id": "715e6110",
   "metadata": {},
   "source": []
  },
  {
   "cell_type": "markdown",
   "id": "f0c8d730",
   "metadata": {},
   "source": [
    "### b) One-Hot Columns"
   ]
  },
  {
   "cell_type": "code",
   "execution_count": null,
   "id": "315447a9",
   "metadata": {},
   "outputs": [],
   "source": [
    "# Number of NAs in each column\n",
    "\n",
    "perc_na = round(df[cat_cols2].isna().sum() * 100 / len(df[cat_cols2]), 2)\n",
    "\n",
    "pd.DataFrame({'Total NA':df[cat_cols2].isna().sum(), '% NA':perc_na})"
   ]
  },
  {
   "cell_type": "code",
   "execution_count": null,
   "id": "7b297fea",
   "metadata": {},
   "outputs": [],
   "source": [
    "nan_cols = ['gender_nan', 'enrolled_university_nan', 'education_level_nan', 'major_nan', 'company_type_nan']\n",
    "\n",
    "# Remove NaN cols from df\n",
    "df.drop(columns=nan_cols, inplace=True)\n",
    "df.head()"
   ]
  },
  {
   "cell_type": "code",
   "execution_count": null,
   "id": "1510f032",
   "metadata": {},
   "outputs": [],
   "source": [
    "# Remove NaN columns from catcols2\n",
    "[cat_cols2.remove(i) for i in nan_cols]\n",
    "cat_cols2"
   ]
  },
  {
   "cell_type": "code",
   "execution_count": null,
   "id": "bd1801cf",
   "metadata": {},
   "outputs": [],
   "source": [
    "gender_cols = ['gender_Male', 'gender_Female', 'gender_Other']\n",
    "enrolled_cols = ['enrolled_university_no_enrollment', 'enrolled_university_full_time', 'enrolled_university_part_time']\n",
    "ed_level_cols = ['education_level_Graduate', 'education_level_Masters', 'education_level_High School',\n",
    "                 'education_level_Phd', 'education_level_Primary School']\n",
    "major_cols = ['major_STEM', 'major_Business Degree', 'major_Arts', 'major_Humanities', 'major_No Major', 'major_Other']\n",
    "company = ['company_type_Pvt Ltd', 'company_type_Funded Startup', 'company_type_Early Stage Startup', 'company_type_Other',\n",
    "           'company_type_Public Sector', 'company_type_NGO']"
   ]
  },
  {
   "cell_type": "code",
   "execution_count": null,
   "id": "975e1f44",
   "metadata": {},
   "outputs": [],
   "source": [
    "KNN_imputer = KNNImputer(n_neighbors=1)\n",
    "\n",
    "df[cat_cols2] = KNN_imputer.fit_transform(df[cat_cols2])\n",
    "df[cat_cols2].head()"
   ]
  },
  {
   "cell_type": "code",
   "execution_count": null,
   "id": "a1153398",
   "metadata": {},
   "outputs": [],
   "source": [
    "# Convert ord cols to int\n",
    "df[cat_cols2] = round(df[cat_cols2], 0)\n",
    "df[cat_cols2].head()"
   ]
  },
  {
   "cell_type": "code",
   "execution_count": null,
   "id": "31b43eba",
   "metadata": {},
   "outputs": [],
   "source": [
    "df[gender_cols].value_counts()"
   ]
  },
  {
   "cell_type": "code",
   "execution_count": null,
   "id": "688b81b9",
   "metadata": {},
   "outputs": [],
   "source": [
    "df[major_cols].value_counts()"
   ]
  },
  {
   "cell_type": "markdown",
   "id": "6c7b056c",
   "metadata": {},
   "source": []
  },
  {
   "cell_type": "code",
   "execution_count": null,
   "id": "67cbeba3",
   "metadata": {},
   "outputs": [],
   "source": [
    "df.isna().sum()"
   ]
  },
  {
   "cell_type": "markdown",
   "id": "e6442297",
   "metadata": {},
   "source": []
  },
  {
   "cell_type": "code",
   "execution_count": null,
   "id": "1b63309c",
   "metadata": {},
   "outputs": [],
   "source": []
  },
  {
   "cell_type": "code",
   "execution_count": null,
   "id": "7c689618",
   "metadata": {},
   "outputs": [],
   "source": []
  },
  {
   "cell_type": "code",
   "execution_count": null,
   "id": "734bd3b8",
   "metadata": {},
   "outputs": [],
   "source": []
  },
  {
   "cell_type": "code",
   "execution_count": null,
   "id": "b05003e9",
   "metadata": {},
   "outputs": [],
   "source": []
  }
 ],
 "metadata": {
  "kernelspec": {
   "display_name": "Python 3 (ipykernel)",
   "language": "python",
   "name": "python3"
  },
  "language_info": {
   "codemirror_mode": {
    "name": "ipython",
    "version": 3
   },
   "file_extension": ".py",
   "mimetype": "text/x-python",
   "name": "python",
   "nbconvert_exporter": "python",
   "pygments_lexer": "ipython3",
   "version": "3.8.12"
  }
 },
 "nbformat": 4,
 "nbformat_minor": 5
}
