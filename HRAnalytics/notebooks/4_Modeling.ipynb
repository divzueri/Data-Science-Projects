{
 "cells": [
  {
   "cell_type": "code",
   "execution_count": 1,
   "id": "3f657561",
   "metadata": {},
   "outputs": [],
   "source": [
    "import pandas as pd\n",
    "import numpy as np\n",
    "import matplotlib.pyplot as plt\n",
    "\n",
    "from sklearn.model_selection import cross_validate, RandomizedSearchCV, GridSearchCV\n",
    "from sklearn.preprocessing import StandardScaler\n",
    "from sklearn.pipeline import Pipeline\n",
    "\n",
    "from sklearn.model_selection import cross_val_score\n",
    "\n",
    "from sklearn.metrics import accuracy_score, f1_score, precision_recall_curve, auc, log_loss\n",
    "from sklearn.metrics import classification_report, confusion_matrix, plot_confusion_matrix, roc_curve"
   ]
  },
  {
   "cell_type": "markdown",
   "id": "c9b8503a",
   "metadata": {},
   "source": [
    "Since the pre-designated test dataset does not have include values for the target feature, the train dataset will be split further into a train/test set."
   ]
  },
  {
   "cell_type": "code",
   "execution_count": 2,
   "id": "b0d289fd",
   "metadata": {},
   "outputs": [
    {
     "data": {
      "text/plain": [
       "((13710, 41), (4570, 41))"
      ]
     },
     "execution_count": 2,
     "metadata": {},
     "output_type": "execute_result"
    }
   ],
   "source": [
    "train = pd.read_csv('../data/Train.csv', index_col=0)\n",
    "test = pd.read_csv('../data/Test.csv', index_col=0)\n",
    "\n",
    "train.shape, test.shape"
   ]
  },
  {
   "cell_type": "code",
   "execution_count": 3,
   "id": "cfb92b6d",
   "metadata": {
    "scrolled": false
   },
   "outputs": [
    {
     "data": {
      "text/plain": [
       "enrollee_id                          int64\n",
       "city_development_index             float64\n",
       "gender_Female                        int64\n",
       "gender_Other                         int64\n",
       "relevent_experience                  int64\n",
       "enrolled_university_part_time        int64\n",
       "enrolled_university_full_time        int64\n",
       "education_level                      int64\n",
       "major_STEM                           int64\n",
       "major_Arts                           int64\n",
       "major_Humanities                     int64\n",
       "major_Business Degree                int64\n",
       "major_No Major                       int64\n",
       "major_Other                          int64\n",
       "company_size                         int64\n",
       "company_type_private_limited         int64\n",
       "company_type_NGO                     int64\n",
       "company_type_startup_funded          int64\n",
       "company_type_public_sector           int64\n",
       "company_type_startup_earlystage      int64\n",
       "company_type_Other                   int64\n",
       "last_new_job                         int64\n",
       "training_hours                       int64\n",
       "target                             float64\n",
       "exp_range                            int64\n",
       "city_group_other                     int64\n",
       "city_group_city_16                   int64\n",
       "city_group_city_102                  int64\n",
       "city_group_city_160                  int64\n",
       "city_group_city_114                  int64\n",
       "city_group_city_103                  int64\n",
       "city_group_city_136                  int64\n",
       "city_group_city_100                  int64\n",
       "city_group_city_75                   int64\n",
       "city_group_city_104                  int64\n",
       "city_group_city_67                   int64\n",
       "city_group_city_71                   int64\n",
       "city_group_city_73                   int64\n",
       "city_group_city_61                   int64\n",
       "city_group_city_28                   int64\n",
       "city_group_city_11                   int64\n",
       "dtype: object"
      ]
     },
     "execution_count": 3,
     "metadata": {},
     "output_type": "execute_result"
    }
   ],
   "source": [
    "train.dtypes"
   ]
  },
  {
   "cell_type": "code",
   "execution_count": 4,
   "id": "185c23ef",
   "metadata": {},
   "outputs": [],
   "source": [
    "train['target'] = train['target'].astype('int64')\n",
    "test['target'] = test['target'].astype('int64')"
   ]
  },
  {
   "cell_type": "code",
   "execution_count": 5,
   "id": "7dbef4f4",
   "metadata": {},
   "outputs": [
    {
     "data": {
      "text/plain": [
       "((13710, 39), (13710,), (4570, 39), (4570,))"
      ]
     },
     "execution_count": 5,
     "metadata": {},
     "output_type": "execute_result"
    }
   ],
   "source": [
    "# Split into test/train\n",
    "\n",
    "X_train, y_train = train.drop(columns=['target', 'enrollee_id']), train.target\n",
    "X_test, y_test = test.drop(columns=['target', 'enrollee_id']), test.target\n",
    "\n",
    "X_train.shape, y_train.shape, X_test.shape, y_test.shape"
   ]
  },
  {
   "cell_type": "code",
   "execution_count": 6,
   "id": "2867f103",
   "metadata": {},
   "outputs": [],
   "source": [
    "# Scale Data\n",
    "\n",
    "scaler = StandardScaler()\n",
    "\n",
    "scaler.fit(X_train)\n",
    "\n",
    "X_train_scaled = scaler.transform(X_train)\n",
    "X_test_scaled = scaler.transform(X_test)"
   ]
  },
  {
   "cell_type": "markdown",
   "id": "29c0a83f",
   "metadata": {},
   "source": [
    "# 0. Baseline Model"
   ]
  },
  {
   "cell_type": "code",
   "execution_count": 7,
   "id": "1ca8c4e7",
   "metadata": {},
   "outputs": [
    {
     "data": {
      "text/html": [
       "<div>\n",
       "<style scoped>\n",
       "    .dataframe tbody tr th:only-of-type {\n",
       "        vertical-align: middle;\n",
       "    }\n",
       "\n",
       "    .dataframe tbody tr th {\n",
       "        vertical-align: top;\n",
       "    }\n",
       "\n",
       "    .dataframe thead th {\n",
       "        text-align: right;\n",
       "    }\n",
       "</style>\n",
       "<table border=\"1\" class=\"dataframe\">\n",
       "  <thead>\n",
       "    <tr style=\"text-align: right;\">\n",
       "      <th></th>\n",
       "      <th>Counts</th>\n",
       "      <th>%</th>\n",
       "    </tr>\n",
       "  </thead>\n",
       "  <tbody>\n",
       "    <tr>\n",
       "      <th>0</th>\n",
       "      <td>10322</td>\n",
       "      <td>0.752881</td>\n",
       "    </tr>\n",
       "    <tr>\n",
       "      <th>1</th>\n",
       "      <td>3388</td>\n",
       "      <td>0.247119</td>\n",
       "    </tr>\n",
       "  </tbody>\n",
       "</table>\n",
       "</div>"
      ],
      "text/plain": [
       "   Counts         %\n",
       "0   10322  0.752881\n",
       "1    3388  0.247119"
      ]
     },
     "execution_count": 7,
     "metadata": {},
     "output_type": "execute_result"
    }
   ],
   "source": [
    "pd.DataFrame({\n",
    "    'Counts':y_train.value_counts(),\n",
    "    '%':y_train.value_counts()/len(y_train)\n",
    "})"
   ]
  },
  {
   "cell_type": "markdown",
   "id": "6e1e1389",
   "metadata": {},
   "source": [
    "As the majority response is 0 (most candidates are not looking for a job change), a baseline ZeroR classifier will be used as a basis of comparison for other models."
   ]
  },
  {
   "cell_type": "code",
   "execution_count": 8,
   "id": "c7910fa6",
   "metadata": {
    "scrolled": true
   },
   "outputs": [
    {
     "name": "stdout",
     "output_type": "stream",
     "text": [
      "              precision    recall  f1-score   support\n",
      "\n",
      "           0    1.00000   0.75274   0.85893      4570\n",
      "           1    0.00000   0.00000   0.00000         0\n",
      "\n",
      "    accuracy                        0.75274      4570\n",
      "   macro avg    0.50000   0.37637   0.42946      4570\n",
      "weighted avg    1.00000   0.75274   0.85893      4570\n",
      "\n"
     ]
    }
   ],
   "source": [
    "# Create a y_pred that is a series of 0s\n",
    "\n",
    "from sklearn.dummy import DummyClassifier\n",
    "\n",
    "dummy = DummyClassifier(strategy='most_frequent')\n",
    "dummy.fit(X_train_scaled, y_train)\n",
    "y_pred = dummy.predict(X_test_scaled)\n",
    "\n",
    "print(classification_report(y_pred, y_test, zero_division=0, digits=5))"
   ]
  },
  {
   "cell_type": "code",
   "execution_count": 9,
   "id": "5b97b725",
   "metadata": {},
   "outputs": [
    {
     "data": {
      "image/png": "[encoded data removed]",
      "text/plain": [
       "<Figure size 432x288 with 2 Axes>"
      ]
     },
     "metadata": {
      "needs_background": "light"
     },
     "output_type": "display_data"
    }
   ],
   "source": [
    "plot_confusion_matrix(dummy, X_test_scaled, y_test);"
   ]
  },
  {
   "cell_type": "markdown",
   "id": "db51a0a0",
   "metadata": {},
   "source": [
    "Baseline accuracy is 0.7527"
   ]
  },
  {
   "cell_type": "markdown",
   "id": "210c3dc3",
   "metadata": {},
   "source": [
    "# I. Logistic Regression"
   ]
  },
  {
   "cell_type": "code",
   "execution_count": 10,
   "id": "da679a7f",
   "metadata": {},
   "outputs": [],
   "source": [
    "from sklearn.linear_model import LogisticRegression"
   ]
  },
  {
   "cell_type": "code",
   "execution_count": 11,
   "id": "dc538bc7",
   "metadata": {},
   "outputs": [
    {
     "name": "stdout",
     "output_type": "stream",
     "text": [
      "              precision    recall  f1-score   support\n",
      "\n",
      "           0     0.8144    0.9084    0.8589      3440\n",
      "           1     0.5703    0.3699    0.4487      1130\n",
      "\n",
      "    accuracy                         0.7753      4570\n",
      "   macro avg     0.6923    0.6392    0.6538      4570\n",
      "weighted avg     0.7541    0.7753    0.7575      4570\n",
      "\n"
     ]
    }
   ],
   "source": [
    "LR = LogisticRegression(random_state=0)\n",
    "\n",
    "LR.fit(X_train_scaled, y_train)\n",
    "y_pred = LR.predict(X_test_scaled)\n",
    "\n",
    "print(classification_report(y_test, y_pred, digits=4))"
   ]
  },
  {
   "cell_type": "code",
   "execution_count": 12,
   "id": "fb14cb90",
   "metadata": {
    "scrolled": true
   },
   "outputs": [
    {
     "data": {
      "image/png": "[encoded data removed]",
      "text/plain": [
       "<Figure size 432x288 with 2 Axes>"
      ]
     },
     "metadata": {
      "needs_background": "light"
     },
     "output_type": "display_data"
    }
   ],
   "source": [
    "plot_confusion_matrix(LR, X_test_scaled, y_test);"
   ]
  },
  {
   "cell_type": "markdown",
   "id": "b0e35910",
   "metadata": {},
   "source": [
    "This model performs somewhat better than the baseline. Next, I'll try to optimize performance with Grid Search cross validation"
   ]
  },
  {
   "cell_type": "code",
   "execution_count": 13,
   "id": "4f763b27",
   "metadata": {},
   "outputs": [
    {
     "name": "stdout",
     "output_type": "stream",
     "text": [
      "{0: 0.1, 1: 0.9}    41.684902\n",
      "{0: 0.2, 1: 0.8}    66.411379\n",
      "{0: 0.3, 1: 0.7}    75.842451\n",
      "{0: 0.4, 1: 0.6}    77.549234\n",
      "{0: 0.5, 1: 0.5}    77.527352\n",
      "dtype: float64\n"
     ]
    },
    {
     "data": {
      "image/png": "[encoded data removed]",
      "text/plain": [
       "<Figure size 720x360 with 1 Axes>"
      ]
     },
     "metadata": {
      "needs_background": "light"
     },
     "output_type": "display_data"
    },
    {
     "name": "stdout",
     "output_type": "stream",
     "text": [
      "Wall time: 391 ms\n"
     ]
    }
   ],
   "source": [
    "%%time\n",
    "\n",
    "# Print accuracy along different proportions of class weights\n",
    "\n",
    "class_weight = [{0: 0.1, 1: 0.9}, {0: 0.2, 1: 0.8}, {0: 0.3, 1: 0.7}, {0: 0.4, 1: 0.6}, {0: 0.5, 1: 0.5}]\n",
    "\n",
    "acc = []\n",
    "\n",
    "for i in class_weight:\n",
    "    lm = LogisticRegression(class_weight=i, random_state=0)\n",
    "    lm.fit(X_train_scaled, y_train)\n",
    "    acc.append(accuracy_score(y_test, lm.predict(X_test_scaled)) * 100)\n",
    "acc = pd.Series(acc, index=class_weight)\n",
    "\n",
    "print(acc)\n",
    "    \n",
    "# Plot\n",
    "plt.figure(figsize = (10,5))\n",
    "plt.title('Graph to show the accuracy of the LogReg model over different proportions of class weights')\n",
    "plt.xlabel('Class Weights')\n",
    "plt.ylabel('Accuracy score')\n",
    "acc.plot.line()\n",
    "plt.show()"
   ]
  },
  {
   "cell_type": "code",
   "execution_count": 14,
   "id": "493caa59",
   "metadata": {},
   "outputs": [],
   "source": [
    "# Make pipeline\n",
    "LR_pipeline = Pipeline([('scaler', StandardScaler()), ('LR', LogisticRegression())])\n",
    "\n",
    "# Define parameters\n",
    "params_LR = {\n",
    "    'LR__C': [0.001, 0.1, 1, 10, 100],\n",
    "    'LR__penalty': ['l2', 'l1',],\n",
    "    'LR__solver': ['liblinear', 'saga'],\n",
    "    'LR__class_weight': class_weight\n",
    "}"
   ]
  },
  {
   "cell_type": "code",
   "execution_count": 15,
   "id": "0fbdf8d4",
   "metadata": {},
   "outputs": [
    {
     "name": "stdout",
     "output_type": "stream",
     "text": [
      "Fitting 5 folds for each of 100 candidates, totalling 500 fits\n",
      "Wall time: 29.8 s\n"
     ]
    },
    {
     "data": {
      "text/plain": [
       "GridSearchCV(cv=5,\n",
       "             estimator=Pipeline(steps=[('scaler', StandardScaler()),\n",
       "                                       ('LR', LogisticRegression())]),\n",
       "             n_jobs=-1,\n",
       "             param_grid={'LR__C': [0.001, 0.1, 1, 10, 100],\n",
       "                         'LR__class_weight': [{0: 0.1, 1: 0.9},\n",
       "                                              {0: 0.2, 1: 0.8},\n",
       "                                              {0: 0.3, 1: 0.7},\n",
       "                                              {0: 0.4, 1: 0.6},\n",
       "                                              {0: 0.5, 1: 0.5}],\n",
       "                         'LR__penalty': ['l2', 'l1'],\n",
       "                         'LR__solver': ['liblinear', 'saga']},\n",
       "             scoring='accuracy', verbose=10)"
      ]
     },
     "execution_count": 15,
     "metadata": {},
     "output_type": "execute_result"
    }
   ],
   "source": [
    "%%time\n",
    "\n",
    "gridcv_LR = GridSearchCV(LR_pipeline, param_grid=params_LR, cv=5, scoring='accuracy', verbose=10, n_jobs=-1)\n",
    "gridcv_LR.fit(X_train, y_train)"
   ]
  },
  {
   "cell_type": "code",
   "execution_count": 16,
   "id": "cb3d4408",
   "metadata": {},
   "outputs": [
    {
     "data": {
      "text/plain": [
       "(Pipeline(steps=[('scaler', StandardScaler()),\n",
       "                 ('LR',\n",
       "                  LogisticRegression(C=0.1, class_weight={0: 0.4, 1: 0.6},\n",
       "                                     solver='saga'))]),\n",
       " {'LR__C': 0.1,\n",
       "  'LR__class_weight': {0: 0.4, 1: 0.6},\n",
       "  'LR__penalty': 'l2',\n",
       "  'LR__solver': 'saga'},\n",
       " 0.7835886214442013)"
      ]
     },
     "execution_count": 16,
     "metadata": {},
     "output_type": "execute_result"
    }
   ],
   "source": [
    "gridcv_LR.best_estimator_, gridcv_LR.best_params_, gridcv_LR.best_score_"
   ]
  },
  {
   "cell_type": "code",
   "execution_count": 17,
   "id": "9a9dd9a1",
   "metadata": {},
   "outputs": [
    {
     "name": "stdout",
     "output_type": "stream",
     "text": [
      "              precision    recall  f1-score   support\n",
      "\n",
      "           0     0.8296    0.8820    0.8550      3440\n",
      "           1     0.5553    0.4487    0.4963      1130\n",
      "\n",
      "    accuracy                         0.7748      4570\n",
      "   macro avg     0.6925    0.6653    0.6757      4570\n",
      "weighted avg     0.7618    0.7748    0.7663      4570\n",
      "\n"
     ]
    }
   ],
   "source": [
    "LR_best = gridcv_LR.best_estimator_\n",
    "\n",
    "y_pred = LR_best.predict(X_test)\n",
    "\n",
    "print(classification_report(y_test, y_pred, digits=4))"
   ]
  },
  {
   "cell_type": "code",
   "execution_count": 18,
   "id": "52b6654f",
   "metadata": {},
   "outputs": [
    {
     "data": {
      "image/png": "[encoded data removed]",
      "text/plain": [
       "<Figure size 432x288 with 2 Axes>"
      ]
     },
     "metadata": {
      "needs_background": "light"
     },
     "output_type": "display_data"
    }
   ],
   "source": [
    "plot_confusion_matrix(LR_best, X_test, y_test);"
   ]
  },
  {
   "cell_type": "markdown",
   "id": "a4f5fdc8",
   "metadata": {},
   "source": [
    "The optimized logistic regression model performs about the same as the one with default settings."
   ]
  },
  {
   "cell_type": "code",
   "execution_count": 19,
   "id": "3b4b28f3",
   "metadata": {},
   "outputs": [
    {
     "data": {
      "image/png": "[encoded data removed]",
      "text/plain": [
       "<Figure size 1080x360 with 1 Axes>"
      ]
     },
     "metadata": {
      "needs_background": "light"
     },
     "output_type": "display_data"
    }
   ],
   "source": [
    "# Plot feature importance\n",
    "\n",
    "importance = LR_best.named_steps.LR.coef_[0]\n",
    "feat_imp = pd.Series(importance, index=X_train.columns).sort_values(ascending=False)\n",
    "\n",
    "fig, ax = plt.subplots(figsize=(15,5))\n",
    "feat_imp.plot.bar(ax=ax)\n",
    "\n",
    "ax.set_title(\"Feature importances\")\n",
    "ax.set_ylabel(\"Coefficient of features in decision function\")\n",
    "plt.xticks(rotation=90);"
   ]
  },
  {
   "cell_type": "markdown",
   "id": "96bd0d9b",
   "metadata": {},
   "source": [
    "It seems nearly a third of the features have close to 0 impact in the model, though present enrollment and gender female/other seem to be strong predictors of a positive case"
   ]
  },
  {
   "cell_type": "markdown",
   "id": "27a9b07d",
   "metadata": {},
   "source": [
    "--------------------------------------------------------------------"
   ]
  },
  {
   "cell_type": "markdown",
   "id": "f7120381",
   "metadata": {},
   "source": [
    "# II. Random Forest Classifier"
   ]
  },
  {
   "cell_type": "code",
   "execution_count": 20,
   "id": "581943e3",
   "metadata": {},
   "outputs": [
    {
     "name": "stdout",
     "output_type": "stream",
     "text": [
      "              precision    recall  f1-score   support\n",
      "\n",
      "           0     0.8099    0.8767    0.8420      3440\n",
      "           1     0.4988    0.3735    0.4271      1130\n",
      "\n",
      "    accuracy                         0.7523      4570\n",
      "   macro avg     0.6543    0.6251    0.6346      4570\n",
      "weighted avg     0.7330    0.7523    0.7394      4570\n",
      "\n"
     ]
    }
   ],
   "source": [
    "from sklearn.ensemble import RandomForestClassifier\n",
    "\n",
    "RF = RandomForestClassifier(random_state=0)\n",
    "\n",
    "RF.fit(X_train_scaled, y_train)\n",
    "y_pred = RF.predict(X_test_scaled)\n",
    "\n",
    "print(classification_report(y_test, y_pred, digits=4))"
   ]
  },
  {
   "cell_type": "markdown",
   "id": "329e118c",
   "metadata": {},
   "source": [
    "The default RF model performs slightly worse than the LogReg models."
   ]
  },
  {
   "cell_type": "code",
   "execution_count": 21,
   "id": "7beeb1ac",
   "metadata": {
    "scrolled": false
   },
   "outputs": [
    {
     "name": "stdout",
     "output_type": "stream",
     "text": [
      "{0: 0.1, 1: 0.9}    75.382932\n",
      "{0: 0.2, 1: 0.8}    75.273523\n",
      "{0: 0.3, 1: 0.7}    75.207877\n",
      "{0: 0.4, 1: 0.6}    75.579869\n",
      "{0: 0.5, 1: 0.5}    75.229759\n",
      "dtype: float64\n"
     ]
    },
    {
     "data": {
      "image/png": "[encoded data removed]",
      "text/plain": [
       "<Figure size 720x360 with 1 Axes>"
      ]
     },
     "metadata": {
      "needs_background": "light"
     },
     "output_type": "display_data"
    },
    {
     "name": "stdout",
     "output_type": "stream",
     "text": [
      "Wall time: 7.25 s\n"
     ]
    }
   ],
   "source": [
    "%%time\n",
    "\n",
    "# Print accuracy along different proportions of class weights\n",
    "\n",
    "class_weight = [{0: 0.1, 1: 0.9}, {0: 0.2, 1: 0.8}, {0: 0.3, 1: 0.7}, {0: 0.4, 1: 0.6}, {0: 0.5, 1: 0.5}]\n",
    "\n",
    "acc = []\n",
    "\n",
    "for i in class_weight:\n",
    "    clf = RandomForestClassifier(class_weight=i, random_state=0)\n",
    "    clf.fit(X_train_scaled, y_train)\n",
    "    acc.append(accuracy_score(y_test, clf.predict(X_test_scaled)) * 100)\n",
    "acc = pd.Series(acc, index=class_weight)\n",
    "\n",
    "print(acc)\n",
    "    \n",
    "# Plot\n",
    "plt.figure(figsize = (10,5))\n",
    "plt.title('Graph to show the accuracy of the RF model over different proportions of class weights')\n",
    "plt.xlabel('Class Weights')\n",
    "plt.ylabel('Accuracy score')\n",
    "acc.plot.line()\n",
    "plt.show()"
   ]
  },
  {
   "cell_type": "markdown",
   "id": "2dfe48d8",
   "metadata": {},
   "source": [
    "It seems slightly under unbalanced (0.4 : 0.6) is optimal."
   ]
  },
  {
   "cell_type": "code",
   "execution_count": 22,
   "id": "e41ae5cf",
   "metadata": {},
   "outputs": [
    {
     "data": {
      "text/plain": [
       "(35, 50)"
      ]
     },
     "execution_count": 22,
     "metadata": {},
     "output_type": "execute_result"
    }
   ],
   "source": [
    "# Get a sense of the range of depths on default RF model\n",
    "\n",
    "RF_depths = []\n",
    "\n",
    "for i in range(len(RF.estimators_)):\n",
    "    RF_depths.append(RF.estimators_[i].tree_.max_depth)\n",
    "    \n",
    "min(RF_depths), max(RF_depths)"
   ]
  },
  {
   "cell_type": "markdown",
   "id": "26158cf5",
   "metadata": {},
   "source": [
    "We can limit hyperparameter search to about this range of max depth."
   ]
  },
  {
   "cell_type": "code",
   "execution_count": 23,
   "id": "fa3ab9e6",
   "metadata": {},
   "outputs": [],
   "source": [
    "# Make pipeline\n",
    "RF_pipeline = Pipeline([('scaler', StandardScaler()), ('RF', RandomForestClassifier())])\n",
    "\n",
    "# Define param grid\n",
    "class_weight = [{0: 0.1, 1: 0.9}, {0: 0.2, 1: 0.8}, {0: 0.3, 1: 0.7}, {0: 0.4, 1: 0.6}, {0: 0.5, 1: 0.5}]\n",
    "\n",
    "params_RF = {\n",
    "    'RF__n_estimators': [int(x) for x in np.linspace(start=100,stop=500,num=5)],\n",
    "    'RF__max_depth': [10, 15, 20, 30, 50, 60], \n",
    "    #'RF__max_features': ['sqrt', 'log2', None], \n",
    "    #'RF__criterion': ['gini', 'entropy'],\n",
    "    'RF__class_weight': class_weight\n",
    "}"
   ]
  },
  {
   "cell_type": "code",
   "execution_count": 24,
   "id": "b26c7b44",
   "metadata": {},
   "outputs": [
    {
     "name": "stdout",
     "output_type": "stream",
     "text": [
      "Fitting 5 folds for each of 150 candidates, totalling 750 fits\n",
      "Wall time: 9min 50s\n"
     ]
    },
    {
     "data": {
      "text/plain": [
       "GridSearchCV(cv=5,\n",
       "             estimator=Pipeline(steps=[('scaler', StandardScaler()),\n",
       "                                       ('RF', RandomForestClassifier())]),\n",
       "             n_jobs=-1,\n",
       "             param_grid={'RF__class_weight': [{0: 0.1, 1: 0.9},\n",
       "                                              {0: 0.2, 1: 0.8},\n",
       "                                              {0: 0.3, 1: 0.7},\n",
       "                                              {0: 0.4, 1: 0.6},\n",
       "                                              {0: 0.5, 1: 0.5}],\n",
       "                         'RF__max_depth': [10, 15, 20, 30, 50, 60],\n",
       "                         'RF__n_estimators': [100, 200, 300, 400, 500]},\n",
       "             scoring='accuracy', verbose=2)"
      ]
     },
     "execution_count": 24,
     "metadata": {},
     "output_type": "execute_result"
    }
   ],
   "source": [
    "%%time\n",
    "\n",
    "RF_gridcv = GridSearchCV(RF_pipeline, params_RF, cv=5, scoring='accuracy', verbose=2, n_jobs=-1)\n",
    "RF_gridcv.fit(X_train, y_train)"
   ]
  },
  {
   "cell_type": "code",
   "execution_count": 25,
   "id": "1c6acf32",
   "metadata": {},
   "outputs": [
    {
     "data": {
      "text/plain": [
       "(Pipeline(steps=[('scaler', StandardScaler()),\n",
       "                 ('RF',\n",
       "                  RandomForestClassifier(class_weight={0: 0.4, 1: 0.6},\n",
       "                                         max_depth=10, n_estimators=200))]),\n",
       " {'RF__class_weight': {0: 0.4, 1: 0.6},\n",
       "  'RF__max_depth': 10,\n",
       "  'RF__n_estimators': 200},\n",
       " 0.788402625820569)"
      ]
     },
     "execution_count": 25,
     "metadata": {},
     "output_type": "execute_result"
    }
   ],
   "source": [
    "RF_gridcv.best_estimator_, RF_gridcv.best_params_, RF_gridcv.best_score_"
   ]
  },
  {
   "cell_type": "code",
   "execution_count": 26,
   "id": "fc5e6211",
   "metadata": {},
   "outputs": [
    {
     "name": "stdout",
     "output_type": "stream",
     "text": [
      "              precision    recall  f1-score   support\n",
      "\n",
      "           0     0.8428    0.8776    0.8599      3440\n",
      "           1     0.5739    0.5018    0.5354      1130\n",
      "\n",
      "    accuracy                         0.7847      4570\n",
      "   macro avg     0.7084    0.6897    0.6976      4570\n",
      "weighted avg     0.7763    0.7847    0.7796      4570\n",
      "\n"
     ]
    }
   ],
   "source": [
    "RF_best = RF_gridcv.best_estimator_\n",
    "\n",
    "y_pred = RF_best.predict(X_test)\n",
    "\n",
    "print(classification_report(y_test, y_pred, digits=4))"
   ]
  },
  {
   "cell_type": "code",
   "execution_count": 27,
   "id": "72f18af6",
   "metadata": {},
   "outputs": [
    {
     "data": {
      "image/png": "[encoded data removed]",
      "text/plain": [
       "<Figure size 432x288 with 2 Axes>"
      ]
     },
     "metadata": {
      "needs_background": "light"
     },
     "output_type": "display_data"
    }
   ],
   "source": [
    "plot_confusion_matrix(RF_best, X_test, y_test);"
   ]
  },
  {
   "cell_type": "markdown",
   "id": "0caf1cb8",
   "metadata": {},
   "source": [
    "The tuned model is definitely better than the default RF!"
   ]
  },
  {
   "cell_type": "code",
   "execution_count": 28,
   "id": "3a64afb5",
   "metadata": {},
   "outputs": [
    {
     "data": {
      "image/png": "[encoded data removed]",
      "text/plain": [
       "<Figure size 1080x360 with 1 Axes>"
      ]
     },
     "metadata": {
      "needs_background": "light"
     },
     "output_type": "display_data"
    }
   ],
   "source": [
    "# Viewing feature importances\n",
    "\n",
    "importance = RF_best.named_steps.RF.feature_importances_\n",
    "forest_imp = pd.Series(importance, index=X_train.columns).sort_values(ascending=False)\n",
    "std = np.std([tree.feature_importances_ for tree in RF_best.named_steps.RF.estimators_], axis=0)\n",
    "\n",
    "# Plot\n",
    "fig, ax = plt.subplots(figsize=(15,5))\n",
    "\n",
    "forest_imp.plot.bar(yerr=std, ax=ax)\n",
    "\n",
    "ax.set_title(\"Feature importances\")\n",
    "ax.set_ylabel(\"Mean decrease in impurity\")\n",
    "plt.xticks(rotation=90);"
   ]
  },
  {
   "cell_type": "markdown",
   "id": "3d196649",
   "metadata": {},
   "source": [
    "--------------------------------------------------------------------------"
   ]
  },
  {
   "cell_type": "markdown",
   "id": "f4dfd783",
   "metadata": {},
   "source": [
    "# III. Support Vector Machine"
   ]
  },
  {
   "cell_type": "markdown",
   "id": "39beba94",
   "metadata": {},
   "source": [
    "### a) Linear SVC"
   ]
  },
  {
   "cell_type": "code",
   "execution_count": 29,
   "id": "88037c91",
   "metadata": {},
   "outputs": [],
   "source": [
    "from sklearn.svm import LinearSVC"
   ]
  },
  {
   "cell_type": "code",
   "execution_count": 30,
   "id": "11d763bb",
   "metadata": {},
   "outputs": [],
   "source": [
    "# Define param grid\n",
    "class_weight = [{0: 0.1, 1: 0.9}, {0: 0.2, 1: 0.8}, {0: 0.3, 1: 0.7}, {0: 0.4, 1: 0.6}, {0: 0.5, 1: 0.5}]\n",
    "\n",
    "params_SVC_lin = {\n",
    "    'SVC_Linear__C': [0.01, 0.1, 1, 10, 100, 1000],\n",
    "    'SVC_Linear__class_weight': class_weight,\n",
    "    'SVC_Linear__max_iter': [int(x) for x in np.linspace(start=100,stop=500,num=5)],\n",
    "    #'SVC_Linear__dual': [False]\n",
    "}"
   ]
  },
  {
   "cell_type": "code",
   "execution_count": 31,
   "id": "b47d89e0",
   "metadata": {},
   "outputs": [
    {
     "name": "stdout",
     "output_type": "stream",
     "text": [
      "Fitting 5 folds for each of 150 candidates, totalling 750 fits\n",
      "Wall time: 21.6 s\n"
     ]
    },
    {
     "data": {
      "text/plain": [
       "GridSearchCV(cv=5,\n",
       "             estimator=Pipeline(steps=[('scaler', StandardScaler()),\n",
       "                                       ('SVC_Linear',\n",
       "                                        LinearSVC(dual=False,\n",
       "                                                  random_state=0))]),\n",
       "             n_jobs=-1,\n",
       "             param_grid={'SVC_Linear__C': [0.01, 0.1, 1, 10, 100, 1000],\n",
       "                         'SVC_Linear__class_weight': [{0: 0.1, 1: 0.9},\n",
       "                                                      {0: 0.2, 1: 0.8},\n",
       "                                                      {0: 0.3, 1: 0.7},\n",
       "                                                      {0: 0.4, 1: 0.6},\n",
       "                                                      {0: 0.5, 1: 0.5}],\n",
       "                         'SVC_Linear__max_iter': [100, 200, 300, 400, 500]},\n",
       "             scoring='accuracy', verbose=2)"
      ]
     },
     "execution_count": 31,
     "metadata": {},
     "output_type": "execute_result"
    }
   ],
   "source": [
    "%%time\n",
    "\n",
    "# Grid search for optimal hyperparameters\n",
    "\n",
    "SVC_linear = Pipeline([('scaler', StandardScaler()), ('SVC_Linear', LinearSVC(dual=False, random_state=0))])\n",
    "\n",
    "SVC_lin_gridcv = GridSearchCV(SVC_linear, params_SVC_lin, cv=5, scoring='accuracy', verbose=2, n_jobs=-1)\n",
    "SVC_lin_gridcv.fit(X_train, y_train)"
   ]
  },
  {
   "cell_type": "code",
   "execution_count": 32,
   "id": "f0ddea8b",
   "metadata": {},
   "outputs": [
    {
     "data": {
      "text/plain": [
       "(Pipeline(steps=[('scaler', StandardScaler()),\n",
       "                 ('SVC_Linear',\n",
       "                  LinearSVC(C=0.01, class_weight={0: 0.4, 1: 0.6}, dual=False,\n",
       "                            max_iter=100, random_state=0))]),\n",
       " {'SVC_Linear__C': 0.01,\n",
       "  'SVC_Linear__class_weight': {0: 0.4, 1: 0.6},\n",
       "  'SVC_Linear__max_iter': 100},\n",
       " 0.7844638949671772)"
      ]
     },
     "execution_count": 32,
     "metadata": {},
     "output_type": "execute_result"
    }
   ],
   "source": [
    "SVC_lin_gridcv.best_estimator_, SVC_lin_gridcv.best_params_, SVC_lin_gridcv.best_score_"
   ]
  },
  {
   "cell_type": "code",
   "execution_count": 33,
   "id": "5401c9d7",
   "metadata": {},
   "outputs": [
    {
     "name": "stdout",
     "output_type": "stream",
     "text": [
      "              precision    recall  f1-score   support\n",
      "\n",
      "           0     0.8283    0.8860    0.8562      3440\n",
      "           1     0.5596    0.4407    0.4931      1130\n",
      "\n",
      "    accuracy                         0.7759      4570\n",
      "   macro avg     0.6939    0.6634    0.6746      4570\n",
      "weighted avg     0.7618    0.7759    0.7664      4570\n",
      "\n"
     ]
    }
   ],
   "source": [
    "SVC_linear_best = SVC_lin_gridcv.best_estimator_\n",
    "\n",
    "y_pred = SVC_linear_best.predict(X_test)\n",
    "\n",
    "print(classification_report(y_test, y_pred, digits=4))"
   ]
  },
  {
   "cell_type": "code",
   "execution_count": 34,
   "id": "78343f71",
   "metadata": {},
   "outputs": [
    {
     "data": {
      "image/png": "[encoded data removed]",
      "text/plain": [
       "<Figure size 1080x360 with 1 Axes>"
      ]
     },
     "metadata": {
      "needs_background": "light"
     },
     "output_type": "display_data"
    }
   ],
   "source": [
    "# Plot feature importance\n",
    "\n",
    "importance = SVC_linear_best.named_steps.SVC_Linear.coef_[0]\n",
    "feat_imp = pd.Series(importance, index=X_train.columns).sort_values(ascending=False)\n",
    "\n",
    "fig, ax = plt.subplots(figsize=(15,5))\n",
    "feat_imp.plot.bar(ax=ax)\n",
    "\n",
    "ax.set_title(\"Feature importances (Absolute Value)\")\n",
    "ax.set_ylabel(\"Coefficient of features in decision function\")\n",
    "plt.xticks(rotation=90);"
   ]
  },
  {
   "cell_type": "markdown",
   "id": "719e0418",
   "metadata": {},
   "source": [
    "City groups seem to be the most influential predictors"
   ]
  },
  {
   "cell_type": "markdown",
   "id": "e6b8cbc7",
   "metadata": {},
   "source": [
    "### b) SVC (nonlinear kernels)"
   ]
  },
  {
   "cell_type": "code",
   "execution_count": 35,
   "id": "983576be",
   "metadata": {},
   "outputs": [],
   "source": [
    "from sklearn.svm import SVC"
   ]
  },
  {
   "cell_type": "code",
   "execution_count": 36,
   "id": "21fe2de4",
   "metadata": {},
   "outputs": [
    {
     "name": "stdout",
     "output_type": "stream",
     "text": [
      "0.01     75.273523\n",
      "0.10     77.702407\n",
      "0.50     77.964989\n",
      "1.00     77.943107\n",
      "2.00     77.921225\n",
      "5.00     77.768053\n",
      "10.00    77.680525\n",
      "dtype: float64\n"
     ]
    },
    {
     "data": {
      "image/png": "[encoded data removed]",
      "text/plain": [
       "<Figure size 720x360 with 1 Axes>"
      ]
     },
     "metadata": {
      "needs_background": "light"
     },
     "output_type": "display_data"
    },
    {
     "name": "stdout",
     "output_type": "stream",
     "text": [
      "Wall time: 1min 29s\n"
     ]
    }
   ],
   "source": [
    "%%time\n",
    "\n",
    "# Print accuracy along different values of c\n",
    "c_range = [0.001, 0.01, 0.1, 0.5, 1, 2, 5, 10]\n",
    "acc = []\n",
    "\n",
    "for i in c_range:\n",
    "    svc = SVC(C=i, random_state=0)\n",
    "    svc.fit(X_train_scaled, y_train)\n",
    "    acc.append(accuracy_score(y_test, svc.predict(X_test_scaled)) * 100)\n",
    "acc = pd.Series(acc, index=c_range)\n",
    "\n",
    "print(acc)\n",
    "    \n",
    "# Plot\n",
    "plt.figure(figsize = (10,5))\n",
    "plt.title('Graph to show the accuracy of the SVC model over values of C')\n",
    "plt.xlabel('Value of C')\n",
    "plt.ylabel('Accuracy score')\n",
    "acc.plot.line()\n",
    "plt.show()"
   ]
  },
  {
   "cell_type": "markdown",
   "id": "583b6184",
   "metadata": {},
   "source": [
    "It appears the optimal value of c is 0.5, though accuracy doesn't vary by much."
   ]
  },
  {
   "cell_type": "markdown",
   "id": "ff8682c8",
   "metadata": {},
   "source": [
    "#### RBF Kernel"
   ]
  },
  {
   "cell_type": "code",
   "execution_count": 37,
   "id": "28f9d13c",
   "metadata": {},
   "outputs": [],
   "source": [
    "# Make pipeline\n",
    "SVC_nonlinear = Pipeline([('scaler', StandardScaler()), ('SVC', SVC(random_state=0))])\n",
    "\n",
    "# Define param grid\n",
    "class_weight = [{0: 0.3, 1: 0.7}, {0: 0.4, 1: 0.6}, {0: 0.5, 1: 0.5}]\n",
    "\n",
    "params_SVC_rbf = {\n",
    "    'SVC__kernel': ['rbf'], \n",
    "    'SVC__C': [0.1, 0.5, 1, 2, 5],\n",
    "    'SVC__gamma': [.0001, .001, .01, 1, 10],\n",
    "    'SVC__class_weight': class_weight\n",
    "}"
   ]
  },
  {
   "cell_type": "code",
   "execution_count": 38,
   "id": "185664d1",
   "metadata": {},
   "outputs": [
    {
     "name": "stdout",
     "output_type": "stream",
     "text": [
      "Fitting 5 folds for each of 75 candidates, totalling 375 fits\n",
      "Wall time: 28min 49s\n"
     ]
    },
    {
     "data": {
      "text/plain": [
       "GridSearchCV(cv=5,\n",
       "             estimator=Pipeline(steps=[('scaler', StandardScaler()),\n",
       "                                       ('SVC', SVC(random_state=0))]),\n",
       "             n_jobs=-1,\n",
       "             param_grid={'SVC__C': [0.1, 0.5, 1, 2, 5],\n",
       "                         'SVC__class_weight': [{0: 0.3, 1: 0.7},\n",
       "                                               {0: 0.4, 1: 0.6},\n",
       "                                               {0: 0.5, 1: 0.5}],\n",
       "                         'SVC__gamma': [0.0001, 0.001, 0.01, 1, 10],\n",
       "                         'SVC__kernel': ['rbf']},\n",
       "             scoring='accuracy', verbose=2)"
      ]
     },
     "execution_count": 38,
     "metadata": {},
     "output_type": "execute_result"
    }
   ],
   "source": [
    "%%time\n",
    "\n",
    "# Grid search\n",
    "SVC_rbf_gridcv = GridSearchCV(SVC_nonlinear, params_SVC_rbf, cv=5, scoring='accuracy', verbose=2, n_jobs=-1)\n",
    "SVC_rbf_gridcv.fit(X_train, y_train)"
   ]
  },
  {
   "cell_type": "code",
   "execution_count": 39,
   "id": "cf0a0959",
   "metadata": {},
   "outputs": [
    {
     "data": {
      "text/plain": [
       "(Pipeline(steps=[('scaler', StandardScaler()),\n",
       "                 ('SVC',\n",
       "                  SVC(C=2, class_weight={0: 0.4, 1: 0.6}, gamma=0.001,\n",
       "                      random_state=0))]),\n",
       " {'SVC__C': 2,\n",
       "  'SVC__class_weight': {0: 0.4, 1: 0.6},\n",
       "  'SVC__gamma': 0.001,\n",
       "  'SVC__kernel': 'rbf'},\n",
       " 0.7850474106491612)"
      ]
     },
     "execution_count": 39,
     "metadata": {},
     "output_type": "execute_result"
    }
   ],
   "source": [
    "SVC_rbf_gridcv.best_estimator_, SVC_rbf_gridcv.best_params_, SVC_rbf_gridcv.best_score_"
   ]
  },
  {
   "cell_type": "code",
   "execution_count": 40,
   "id": "14609cd4",
   "metadata": {},
   "outputs": [
    {
     "name": "stdout",
     "output_type": "stream",
     "text": [
      "              precision    recall  f1-score   support\n",
      "\n",
      "           0     0.8263    0.8977    0.8605      3440\n",
      "           1     0.5774    0.4257    0.4901      1130\n",
      "\n",
      "    accuracy                         0.7810      4570\n",
      "   macro avg     0.7019    0.6617    0.6753      4570\n",
      "weighted avg     0.7648    0.7810    0.7689      4570\n",
      "\n"
     ]
    }
   ],
   "source": [
    "SVC_rbf_best = SVC_rbf_gridcv.best_estimator_\n",
    "\n",
    "y_pred = SVC_rbf_best.predict(X_test)\n",
    "\n",
    "print(classification_report(y_test, y_pred, digits=4))"
   ]
  },
  {
   "cell_type": "code",
   "execution_count": 41,
   "id": "97c4d030",
   "metadata": {},
   "outputs": [
    {
     "name": "stdout",
     "output_type": "stream",
     "text": [
      "Wall time: 0 ns\n"
     ]
    }
   ],
   "source": [
    "%%time\n",
    "\n",
    "# Define param grid\n",
    "params_SVC_poly = {\n",
    "    'SVC__kernel': ['poly'], \n",
    "    'SVC__C': [0.001, 0.01, 1],\n",
    "    'SVC__gamma': [.0001, .001, .01, 1, 10],\n",
    "    'SVC__class_weight': [{0: 0.3, 1: 0.7}, {0: 0.4, 1: 0.6}, {0: 0.5, 1: 0.5}],\n",
    "    'SVC__degree': [1, 2, 3] #When kernel = poly\n",
    "}\n",
    "\n",
    "# Grid search\n",
    "SVC_poly_randcv = RandomizedSearchCV(SVC_nonlinear, params_SVC_poly, cv=5, scoring='accuracy',\n",
    "                                     n_iter=70, verbose=2, n_jobs=1)\n",
    "#SVC_poly_randcv.fit(X_train, y_train)"
   ]
  },
  {
   "cell_type": "markdown",
   "id": "6e891d81",
   "metadata": {},
   "source": [
    "----------------------------------------------------------------------"
   ]
  },
  {
   "cell_type": "markdown",
   "id": "571d4025",
   "metadata": {},
   "source": [
    "# IV. XGBoost Model"
   ]
  },
  {
   "cell_type": "code",
   "execution_count": 42,
   "id": "49eacb19",
   "metadata": {},
   "outputs": [
    {
     "name": "stdout",
     "output_type": "stream",
     "text": [
      "              precision    recall  f1-score   support\n",
      "\n",
      "           0     0.8204    0.8831    0.8506      3440\n",
      "           1     0.5363    0.4115    0.4657      1130\n",
      "\n",
      "    accuracy                         0.7665      4570\n",
      "   macro avg     0.6784    0.6473    0.6582      4570\n",
      "weighted avg     0.7502    0.7665    0.7554      4570\n",
      "\n",
      "Wall time: 634 ms\n"
     ]
    }
   ],
   "source": [
    "%%time\n",
    "\n",
    "import xgboost as xgb\n",
    "\n",
    "XGB = xgb.XGBClassifier(objective='binary:logistic', use_label_encoder=False, random_state=0, eval_metric='error')\n",
    "\n",
    "XGB.fit(X_train_scaled, y_train)\n",
    "y_pred = XGB.predict(X_test_scaled)\n",
    "\n",
    "print(classification_report(y_test, y_pred, digits=4))"
   ]
  },
  {
   "cell_type": "code",
   "execution_count": 43,
   "id": "deb740f2",
   "metadata": {
    "scrolled": true
   },
   "outputs": [
    {
     "data": {
      "image/png": "[encoded data removed]",
      "text/plain": [
       "<Figure size 432x288 with 2 Axes>"
      ]
     },
     "metadata": {
      "needs_background": "light"
     },
     "output_type": "display_data"
    }
   ],
   "source": [
    "plot_confusion_matrix(XGB, X_test_scaled, y_test);"
   ]
  },
  {
   "cell_type": "markdown",
   "id": "df5818e1",
   "metadata": {},
   "source": [
    "The default xgb model performs only slightly better than the baseline dummy model."
   ]
  },
  {
   "cell_type": "code",
   "execution_count": null,
   "id": "27ea8d92",
   "metadata": {},
   "outputs": [],
   "source": []
  },
  {
   "cell_type": "code",
   "execution_count": null,
   "id": "a5558b6e",
   "metadata": {},
   "outputs": [],
   "source": []
  },
  {
   "cell_type": "code",
   "execution_count": null,
   "id": "37891f16",
   "metadata": {},
   "outputs": [],
   "source": []
  },
  {
   "cell_type": "code",
   "execution_count": null,
   "id": "05da0416",
   "metadata": {},
   "outputs": [],
   "source": []
  },
  {
   "cell_type": "code",
   "execution_count": null,
   "id": "3eeb1178",
   "metadata": {},
   "outputs": [],
   "source": []
  },
  {
   "cell_type": "code",
   "execution_count": null,
   "id": "1ed32d05",
   "metadata": {},
   "outputs": [],
   "source": []
  },
  {
   "cell_type": "markdown",
   "id": "61be84cf",
   "metadata": {},
   "source": [
    "----------------------------------------------------"
   ]
  },
  {
   "cell_type": "markdown",
   "id": "f38d4786",
   "metadata": {},
   "source": [
    "# V. Select Best Model"
   ]
  },
  {
   "cell_type": "code",
   "execution_count": 44,
   "id": "2fb1e531",
   "metadata": {},
   "outputs": [],
   "source": [
    "models = [\n",
    "    ('Dummy (Baseline)', dummy),\n",
    "    ('LogReg', LR),\n",
    "    ('LogReg_best', LR_best), \n",
    "    ('RandomForest', RF),\n",
    "    ('RandomForest_best', RF_best),\n",
    "    ('SVC_Linear', SVC_linear_best),\n",
    "    ('SVC_RBF', SVC_rbf_best),\n",
    "    #('SVC_Poly', SVC_poly_best),\n",
    "    ('XGB', XGB),\n",
    "    #('XGB_best', GB_best)\n",
    "]\n",
    "\n",
    "scoring = ['precision', 'recall', 'accuracy', 'f1', 'roc_auc']"
   ]
  },
  {
   "cell_type": "code",
   "execution_count": 45,
   "id": "ab617e51",
   "metadata": {},
   "outputs": [
    {
     "name": "stdout",
     "output_type": "stream",
     "text": [
      "Wall time: 7min 39s\n"
     ]
    }
   ],
   "source": [
    "%%time\n",
    "%%capture --no-display\n",
    "\n",
    "results= {}\n",
    "for name, model in models:\n",
    "    results[name] = {}\n",
    "    for i in scoring:        \n",
    "        scores = cross_validate(model, X_train, y_train, scoring=i, cv=5, return_train_score=True)\n",
    "        results[name][i] = scores"
   ]
  },
  {
   "cell_type": "code",
   "execution_count": 46,
   "id": "3f5b5e57",
   "metadata": {},
   "outputs": [],
   "source": [
    "Precision_Train = []\n",
    "Precision_Test = []\n",
    "Recall_Train = []\n",
    "Recall_Test = []\n",
    "Accuracy_Train = []\n",
    "Accuracy_Test = []\n",
    "F1_Train = []\n",
    "F1_Test = []\n",
    "AUC_Train = []\n",
    "AUC_Test = []\n",
    "\n",
    "for model in results.keys():\n",
    "    # Precision\n",
    "    pr_train_mean = results[model]['precision']['train_score'].mean()*100\n",
    "    pr_test_mean = results[model]['precision']['test_score'].mean()*100\n",
    "    Precision_Train.append(round(pr_train_mean, 2))\n",
    "    Precision_Test.append(round(pr_test_mean, 2))\n",
    "    \n",
    "    # Recall\n",
    "    rec_train_mean = results[model]['recall']['train_score'].mean()*100\n",
    "    rec_test_mean = results[model]['recall']['test_score'].mean()*100\n",
    "    Recall_Train.append(round(rec_train_mean, 2))\n",
    "    Recall_Test.append(round(rec_test_mean, 2))\n",
    "    \n",
    "    # Accuracy\n",
    "    acc_train_mean = results[model]['accuracy']['train_score'].mean()*100\n",
    "    acc_test_mean = results[model]['accuracy']['test_score'].mean()*100\n",
    "    Accuracy_Train.append(round(acc_train_mean, 2))\n",
    "    Accuracy_Test.append(round(acc_test_mean, 2))\n",
    "    \n",
    "    # F1\n",
    "    f1_train_mean = results[model]['f1']['train_score'].mean()*100\n",
    "    f1_test_mean = results[model]['f1']['test_score'].mean()*100\n",
    "    F1_Train.append(round(f1_train_mean, 2))\n",
    "    F1_Test.append(round(f1_test_mean, 2))\n",
    "    \n",
    "    # AUC\n",
    "    auc_train_mean = results[model]['roc_auc']['train_score'].mean()\n",
    "    auc_test_mean = results[model]['roc_auc']['test_score'].mean()\n",
    "    AUC_Train.append(round(auc_train_mean, 4))\n",
    "    AUC_Test.append(round(auc_test_mean, 4))\n",
    "    \n",
    "# Save model names and parameters as list\n",
    "names = []\n",
    "steps = []\n",
    "for name, model in models:\n",
    "    names.append(str(name))\n",
    "    if hasattr(model, 'named_steps'):\n",
    "        steps.append(str(list(model.named_steps.values())[1]))\n",
    "    else:\n",
    "        steps.append(model)"
   ]
  },
  {
   "cell_type": "code",
   "execution_count": 47,
   "id": "148cc240",
   "metadata": {},
   "outputs": [
    {
     "data": {
      "text/html": [
       "<div>\n",
       "<style scoped>\n",
       "    .dataframe tbody tr th:only-of-type {\n",
       "        vertical-align: middle;\n",
       "    }\n",
       "\n",
       "    .dataframe tbody tr th {\n",
       "        vertical-align: top;\n",
       "    }\n",
       "\n",
       "    .dataframe thead th {\n",
       "        text-align: right;\n",
       "    }\n",
       "</style>\n",
       "<table border=\"1\" class=\"dataframe\">\n",
       "  <thead>\n",
       "    <tr style=\"text-align: right;\">\n",
       "      <th></th>\n",
       "      <th>Model</th>\n",
       "      <th>Precision_Test</th>\n",
       "      <th>Recall_Test</th>\n",
       "      <th>Acc_Train</th>\n",
       "      <th>Acc_Test</th>\n",
       "      <th>F1_Test</th>\n",
       "      <th>AUC_Test</th>\n",
       "    </tr>\n",
       "  </thead>\n",
       "  <tbody>\n",
       "    <tr>\n",
       "      <th>0</th>\n",
       "      <td>Dummy (Baseline)</td>\n",
       "      <td>0.00</td>\n",
       "      <td>0.00</td>\n",
       "      <td>75.29</td>\n",
       "      <td>75.29</td>\n",
       "      <td>0.00</td>\n",
       "      <td>0.5000</td>\n",
       "    </tr>\n",
       "    <tr>\n",
       "      <th>1</th>\n",
       "      <td>LogReg</td>\n",
       "      <td>60.25</td>\n",
       "      <td>24.91</td>\n",
       "      <td>77.36</td>\n",
       "      <td>77.40</td>\n",
       "      <td>34.96</td>\n",
       "      <td>0.7441</td>\n",
       "    </tr>\n",
       "    <tr>\n",
       "      <th>2</th>\n",
       "      <td>LogReg_best</td>\n",
       "      <td>58.03</td>\n",
       "      <td>44.92</td>\n",
       "      <td>78.35</td>\n",
       "      <td>78.36</td>\n",
       "      <td>50.65</td>\n",
       "      <td>0.7551</td>\n",
       "    </tr>\n",
       "    <tr>\n",
       "      <th>3</th>\n",
       "      <td>RandomForest</td>\n",
       "      <td>54.08</td>\n",
       "      <td>38.75</td>\n",
       "      <td>99.70</td>\n",
       "      <td>76.75</td>\n",
       "      <td>45.12</td>\n",
       "      <td>0.7498</td>\n",
       "    </tr>\n",
       "    <tr>\n",
       "      <th>4</th>\n",
       "      <td>RandomForest_best</td>\n",
       "      <td>58.51</td>\n",
       "      <td>47.99</td>\n",
       "      <td>80.76</td>\n",
       "      <td>78.92</td>\n",
       "      <td>52.79</td>\n",
       "      <td>0.7799</td>\n",
       "    </tr>\n",
       "    <tr>\n",
       "      <th>5</th>\n",
       "      <td>SVC_Linear</td>\n",
       "      <td>58.42</td>\n",
       "      <td>44.45</td>\n",
       "      <td>78.50</td>\n",
       "      <td>78.45</td>\n",
       "      <td>50.48</td>\n",
       "      <td>0.7551</td>\n",
       "    </tr>\n",
       "    <tr>\n",
       "      <th>6</th>\n",
       "      <td>SVC_RBF</td>\n",
       "      <td>59.28</td>\n",
       "      <td>41.71</td>\n",
       "      <td>78.50</td>\n",
       "      <td>78.50</td>\n",
       "      <td>48.96</td>\n",
       "      <td>0.7350</td>\n",
       "    </tr>\n",
       "    <tr>\n",
       "      <th>7</th>\n",
       "      <td>XGB</td>\n",
       "      <td>55.65</td>\n",
       "      <td>40.94</td>\n",
       "      <td>87.03</td>\n",
       "      <td>77.35</td>\n",
       "      <td>47.16</td>\n",
       "      <td>0.7710</td>\n",
       "    </tr>\n",
       "  </tbody>\n",
       "</table>\n",
       "</div>"
      ],
      "text/plain": [
       "               Model  Precision_Test  Recall_Test  Acc_Train  Acc_Test  \\\n",
       "0   Dummy (Baseline)            0.00         0.00      75.29     75.29   \n",
       "1             LogReg           60.25        24.91      77.36     77.40   \n",
       "2        LogReg_best           58.03        44.92      78.35     78.36   \n",
       "3       RandomForest           54.08        38.75      99.70     76.75   \n",
       "4  RandomForest_best           58.51        47.99      80.76     78.92   \n",
       "5         SVC_Linear           58.42        44.45      78.50     78.45   \n",
       "6            SVC_RBF           59.28        41.71      78.50     78.50   \n",
       "7                XGB           55.65        40.94      87.03     77.35   \n",
       "\n",
       "   F1_Test  AUC_Test  \n",
       "0     0.00    0.5000  \n",
       "1    34.96    0.7441  \n",
       "2    50.65    0.7551  \n",
       "3    45.12    0.7498  \n",
       "4    52.79    0.7799  \n",
       "5    50.48    0.7551  \n",
       "6    48.96    0.7350  \n",
       "7    47.16    0.7710  "
      ]
     },
     "execution_count": 47,
     "metadata": {},
     "output_type": "execute_result"
    }
   ],
   "source": [
    "#pd.options.display.max_colwidth = 100\n",
    "\n",
    "model_compare = pd.DataFrame(\n",
    "    {'Model': names,\n",
    "#     'Precision_Train': Precision_Train,\n",
    "     'Precision_Test': Precision_Test,\n",
    "#     'Recall_Train': Recall_Train,\n",
    "     'Recall_Test': Recall_Test,\n",
    "     'Acc_Train': Accuracy_Train,\n",
    "     'Acc_Test': Accuracy_Test,\n",
    "#     'F1_Train': F1_Train,\n",
    "     'F1_Test': F1_Test,\n",
    "#     'AUC_Train': AUC_Train,\n",
    "     'AUC_Test': AUC_Test,\n",
    "     #'Parameters': steps\n",
    "    }\n",
    ")\n",
    "\n",
    "model_compare"
   ]
  },
  {
   "cell_type": "markdown",
   "id": "13a30428",
   "metadata": {},
   "source": []
  }
 ],
 "metadata": {
  "kernelspec": {
   "display_name": "Python 3 (ipykernel)",
   "language": "python",
   "name": "python3"
  },
  "language_info": {
   "codemirror_mode": {
    "name": "ipython",
    "version": 3
   },
   "file_extension": ".py",
   "mimetype": "text/x-python",
   "name": "python",
   "nbconvert_exporter": "python",
   "pygments_lexer": "ipython3",
   "version": "3.8.12"
  }
 },
 "nbformat": 4,
 "nbformat_minor": 5
}
