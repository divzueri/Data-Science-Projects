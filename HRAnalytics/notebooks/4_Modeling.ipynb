{
 "cells": [
  {
   "cell_type": "code",
   "execution_count": 24,
   "id": "3f657561",
   "metadata": {},
   "outputs": [],
   "source": [
    "import pandas as pd\n",
    "import numpy as np\n",
    "\n",
    "from sklearn.model_selection import train_test_split\n",
    "\n",
    "from sklearn.linear_model import LogisticRegression\n",
    "from sklearn.ensemble import RandomForestClassifier, GradientBoostingClassifier\n",
    "\n",
    "from sklearn.metrics import accuracy_score"
   ]
  },
  {
   "cell_type": "markdown",
   "id": "1793a3b5",
   "metadata": {},
   "source": [
    "Since the pre-designated test dataset does not have include values for the target feature, the train dataset will be split further into a train/test set."
   ]
  },
  {
   "cell_type": "code",
   "execution_count": 26,
   "id": "b0d289fd",
   "metadata": {},
   "outputs": [
    {
     "data": {
      "text/plain": [
       "(19084, 28)"
      ]
     },
     "execution_count": 26,
     "metadata": {},
     "output_type": "execute_result"
    }
   ],
   "source": [
    "train_df = pd.read_csv('../data/Train_Final.csv', index_col=0)\n",
    "\n",
    "train_df.shape"
   ]
  },
  {
   "cell_type": "code",
   "execution_count": 27,
   "id": "cfb92b6d",
   "metadata": {},
   "outputs": [
    {
     "data": {
      "text/plain": [
       "enrollee_id                            int64\n",
       "city_development_index               float64\n",
       "gender_Male                            int64\n",
       "gender_Female                          int64\n",
       "gender_Other                           int64\n",
       "relevent_experience                    int64\n",
       "enrolled_university_no_enrollment      int64\n",
       "enrolled_university_full_time          int64\n",
       "enrolled_university_part_time          int64\n",
       "education_level                        int64\n",
       "major_STEM                             int64\n",
       "major_Business Degree                  int64\n",
       "major_Arts                             int64\n",
       "major_Humanities                       int64\n",
       "major_No Major                         int64\n",
       "major_Other                            int64\n",
       "company_size                           int64\n",
       "company_type_private_limited           int64\n",
       "company_type_startup_funded            int64\n",
       "company_type_startup_earlystage        int64\n",
       "company_type_Other                     int64\n",
       "company_type_public_sector             int64\n",
       "company_type_NGO                       int64\n",
       "last_new_job                           int64\n",
       "training_hours                         int64\n",
       "exp_range                              int64\n",
       "city_group                             int64\n",
       "target                               float64\n",
       "dtype: object"
      ]
     },
     "execution_count": 27,
     "metadata": {},
     "output_type": "execute_result"
    }
   ],
   "source": [
    "train_df.dtypes"
   ]
  },
  {
   "cell_type": "code",
   "execution_count": 28,
   "id": "232c0ced",
   "metadata": {},
   "outputs": [],
   "source": [
    "train_df['target'] = train_df['target'].astype('int64')"
   ]
  },
  {
   "cell_type": "code",
   "execution_count": 29,
   "id": "aeecbe7b",
   "metadata": {},
   "outputs": [
    {
     "data": {
      "text/plain": [
       "((14313, 27), (14313,), (4771, 27), (4771,))"
      ]
     },
     "execution_count": 29,
     "metadata": {},
     "output_type": "execute_result"
    }
   ],
   "source": [
    "# Split into test/train\n",
    "\n",
    "X = train_df.drop(columns='target')\n",
    "y = train_df.target\n",
    "\n",
    "X_train, X_test, y_train, y_test = train_test_split(X, y, random_state=0)\n",
    "\n",
    "X_train.shape, y_train.shape, X_test.shape, y_test.shape"
   ]
  },
  {
   "cell_type": "markdown",
   "id": "1d7334ec",
   "metadata": {},
   "source": [
    "# I. Logistic Regression"
   ]
  },
  {
   "cell_type": "code",
   "execution_count": 30,
   "id": "ba6004be",
   "metadata": {},
   "outputs": [
    {
     "name": "stdout",
     "output_type": "stream",
     "text": [
      "0.7591699853280235\n"
     ]
    }
   ],
   "source": [
    "clf = LogisticRegression()\n",
    "\n",
    "clf.fit(X_train, y_train)\n",
    "\n",
    "print(accuracy_score(clf.predict(X_test), y_test))"
   ]
  },
  {
   "cell_type": "markdown",
   "id": "cfd42ce7",
   "metadata": {},
   "source": [
    "# II. Random Forest Classifier"
   ]
  },
  {
   "cell_type": "code",
   "execution_count": 31,
   "id": "9f9b33f7",
   "metadata": {},
   "outputs": [
    {
     "name": "stdout",
     "output_type": "stream",
     "text": [
      "0.7759379584992664\n"
     ]
    }
   ],
   "source": [
    "clf = RandomForestClassifier(random_state=0)\n",
    "\n",
    "clf.fit(X_train, y_train)\n",
    "\n",
    "print(accuracy_score(clf.predict(X_test), y_test))"
   ]
  },
  {
   "cell_type": "markdown",
   "id": "4266ee2d",
   "metadata": {},
   "source": [
    "# III. Gradient Boost Classifier"
   ]
  },
  {
   "cell_type": "code",
   "execution_count": 32,
   "id": "1a0da3af",
   "metadata": {},
   "outputs": [
    {
     "name": "stdout",
     "output_type": "stream",
     "text": [
      "0.7866275413959337\n"
     ]
    }
   ],
   "source": [
    "clf = GradientBoostingClassifier()\n",
    "\n",
    "clf.fit(X_train, y_train)\n",
    "\n",
    "print(accuracy_score(clf.predict(X_test), y_test))"
   ]
  },
  {
   "cell_type": "code",
   "execution_count": null,
   "id": "f873b638",
   "metadata": {},
   "outputs": [],
   "source": []
  },
  {
   "cell_type": "code",
   "execution_count": null,
   "id": "56f0f178",
   "metadata": {},
   "outputs": [],
   "source": []
  },
  {
   "cell_type": "code",
   "execution_count": null,
   "id": "21f758fd",
   "metadata": {},
   "outputs": [],
   "source": []
  }
 ],
 "metadata": {
  "kernelspec": {
   "display_name": "Python 3 (ipykernel)",
   "language": "python",
   "name": "python3"
  },
  "language_info": {
   "codemirror_mode": {
    "name": "ipython",
    "version": 3
   },
   "file_extension": ".py",
   "mimetype": "text/x-python",
   "name": "python",
   "nbconvert_exporter": "python",
   "pygments_lexer": "ipython3",
   "version": "3.8.12"
  }
 },
 "nbformat": 4,
 "nbformat_minor": 5
}
