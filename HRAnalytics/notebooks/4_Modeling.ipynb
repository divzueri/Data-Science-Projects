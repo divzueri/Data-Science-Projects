{
 "cells": [
  {
   "cell_type": "code",
   "execution_count": 1,
   "id": "a4ec8b26",
   "metadata": {},
   "outputs": [],
   "source": [
    "#conda install xgboost"
   ]
  },
  {
   "cell_type": "code",
   "execution_count": 21,
   "id": "3f657561",
   "metadata": {},
   "outputs": [],
   "source": [
    "import pandas as pd\n",
    "import numpy as np\n",
    "\n",
    "from sklearn.model_selection import train_test_split, cross_validate, RandomizedSearchCV, GridSearchCV\n",
    "from sklearn.preprocessing import StandardScaler\n",
    "\n",
    "from sklearn.dummy import DummyClassifier\n",
    "from sklearn.linear_model import LogisticRegression\n",
    "from sklearn.ensemble import RandomForestClassifier, GradientBoostingClassifier\n",
    "import xgboost as xgb\n",
    "\n",
    "from sklearn.metrics import accuracy_score, f1_score, precision_recall_curve, auc, log_loss\n",
    "from sklearn.metrics import classification_report, confusion_matrix, plot_confusion_matrix, roc_curve"
   ]
  },
  {
   "cell_type": "markdown",
   "id": "c9b8503a",
   "metadata": {},
   "source": [
    "Since the pre-designated test dataset does not have include values for the target feature, the train dataset will be split further into a train/test set."
   ]
  },
  {
   "cell_type": "code",
   "execution_count": 2,
   "id": "b0d289fd",
   "metadata": {},
   "outputs": [
    {
     "data": {
      "text/plain": [
       "(18908, 26)"
      ]
     },
     "execution_count": 2,
     "metadata": {},
     "output_type": "execute_result"
    }
   ],
   "source": [
    "train_df = pd.read_csv('../data/Train_Final.csv', index_col=0)\n",
    "\n",
    "train_df.shape"
   ]
  },
  {
   "cell_type": "code",
   "execution_count": 3,
   "id": "cfb92b6d",
   "metadata": {
    "scrolled": false
   },
   "outputs": [
    {
     "data": {
      "text/plain": [
       "enrollee_id                          int64\n",
       "city_development_index             float64\n",
       "gender_Female                        int64\n",
       "gender_Other                         int64\n",
       "relevent_experience                  int64\n",
       "enrolled_university_full_time        int64\n",
       "enrolled_university_part_time        int64\n",
       "education_level                      int64\n",
       "major_STEM                           int64\n",
       "major_Business Degree                int64\n",
       "major_Arts                           int64\n",
       "major_Humanities                     int64\n",
       "major_No Major                       int64\n",
       "major_Other                          int64\n",
       "company_size                         int64\n",
       "company_type_private_limited         int64\n",
       "company_type_startup_funded          int64\n",
       "company_type_startup_earlystage      int64\n",
       "company_type_Other                   int64\n",
       "company_type_public_sector           int64\n",
       "company_type_NGO                     int64\n",
       "last_new_job                         int64\n",
       "training_hours                       int64\n",
       "target                             float64\n",
       "exp_range                            int64\n",
       "city_group                           int64\n",
       "dtype: object"
      ]
     },
     "execution_count": 3,
     "metadata": {},
     "output_type": "execute_result"
    }
   ],
   "source": [
    "train_df.dtypes"
   ]
  },
  {
   "cell_type": "code",
   "execution_count": 4,
   "id": "185c23ef",
   "metadata": {},
   "outputs": [],
   "source": [
    "train_df['target'] = train_df['target'].astype('int64')"
   ]
  },
  {
   "cell_type": "code",
   "execution_count": 5,
   "id": "7dbef4f4",
   "metadata": {},
   "outputs": [
    {
     "data": {
      "text/plain": [
       "((14181, 25), (14181,), (4727, 25), (4727,))"
      ]
     },
     "execution_count": 5,
     "metadata": {},
     "output_type": "execute_result"
    }
   ],
   "source": [
    "# Split into test/train\n",
    "\n",
    "X = train_df.drop(columns='target')\n",
    "y = train_df.target\n",
    "\n",
    "X_train, X_test, y_train, y_test = train_test_split(X, y, random_state=0)\n",
    "\n",
    "X_train.shape, y_train.shape, X_test.shape, y_test.shape"
   ]
  },
  {
   "cell_type": "code",
   "execution_count": 6,
   "id": "2867f103",
   "metadata": {},
   "outputs": [],
   "source": [
    "# Scale Data\n",
    "\n",
    "scaler = StandardScaler()\n",
    "\n",
    "scaler.fit(X_train)\n",
    "\n",
    "X_train_scaled = scaler.transform(X_train)\n",
    "X_test_scaled = scaler.transform(X_test)"
   ]
  },
  {
   "cell_type": "markdown",
   "id": "29c0a83f",
   "metadata": {},
   "source": [
    "# 0. Baseline Model"
   ]
  },
  {
   "cell_type": "code",
   "execution_count": 7,
   "id": "1ca8c4e7",
   "metadata": {},
   "outputs": [
    {
     "data": {
      "text/plain": [
       "0    10663\n",
       "1     3518\n",
       "Name: target, dtype: int64"
      ]
     },
     "execution_count": 7,
     "metadata": {},
     "output_type": "execute_result"
    }
   ],
   "source": [
    "y_train.value_counts()"
   ]
  },
  {
   "cell_type": "markdown",
   "id": "6e1e1389",
   "metadata": {},
   "source": [
    "As the majority response is 0 (most candidates are not looking for a job change), a baseline ZeroR classifier will be used as a basis of comparison for other models."
   ]
  },
  {
   "cell_type": "code",
   "execution_count": 8,
   "id": "c7910fa6",
   "metadata": {
    "scrolled": true
   },
   "outputs": [
    {
     "name": "stdout",
     "output_type": "stream",
     "text": [
      "              precision    recall  f1-score   support\n",
      "\n",
      "           0       1.00      0.75      0.85      4727\n",
      "           1       0.00      0.00      0.00         0\n",
      "\n",
      "    accuracy                           0.75      4727\n",
      "   macro avg       0.50      0.37      0.43      4727\n",
      "weighted avg       1.00      0.75      0.85      4727\n",
      "\n"
     ]
    }
   ],
   "source": [
    "# Create a y_pred that is a series of 0's\n",
    "\n",
    "dummy = DummyClassifier(strategy='most_frequent')\n",
    "dummy.fit(X_train_scaled, y_train)\n",
    "y_pred = dummy.predict(X_test_scaled)\n",
    "\n",
    "print(classification_report(y_pred, y_test, zero_division=0))"
   ]
  },
  {
   "cell_type": "code",
   "execution_count": 9,
   "id": "5b97b725",
   "metadata": {},
   "outputs": [
    {
     "data": {
      "image/png": "[encoded data removed]",
      "text/plain": [
       "<Figure size 432x288 with 2 Axes>"
      ]
     },
     "metadata": {
      "needs_background": "light"
     },
     "output_type": "display_data"
    }
   ],
   "source": [
    "plot_confusion_matrix(dummy, X_test_scaled, y_test);"
   ]
  },
  {
   "cell_type": "markdown",
   "id": "db51a0a0",
   "metadata": {},
   "source": [
    "Baseline accuracy is 0.76"
   ]
  },
  {
   "cell_type": "markdown",
   "id": "210c3dc3",
   "metadata": {},
   "source": [
    "# I. Logistic Regression"
   ]
  },
  {
   "cell_type": "code",
   "execution_count": 10,
   "id": "dc538bc7",
   "metadata": {},
   "outputs": [
    {
     "name": "stdout",
     "output_type": "stream",
     "text": [
      "              precision    recall  f1-score   support\n",
      "\n",
      "           0       0.80      0.92      0.86      3527\n",
      "           1       0.59      0.32      0.42      1200\n",
      "\n",
      "    accuracy                           0.77      4727\n",
      "   macro avg       0.70      0.62      0.64      4727\n",
      "weighted avg       0.75      0.77      0.75      4727\n",
      "\n"
     ]
    }
   ],
   "source": [
    "LR = LogisticRegression(random_state=0)\n",
    "\n",
    "LR.fit(X_train_scaled, y_train)\n",
    "y_pred = LR.predict(X_test_scaled)\n",
    "\n",
    "print(classification_report(y_test, y_pred))"
   ]
  },
  {
   "cell_type": "code",
   "execution_count": 11,
   "id": "fb14cb90",
   "metadata": {
    "scrolled": true
   },
   "outputs": [
    {
     "data": {
      "image/png": "[encoded data removed]",
      "text/plain": [
       "<Figure size 432x288 with 2 Axes>"
      ]
     },
     "metadata": {
      "needs_background": "light"
     },
     "output_type": "display_data"
    }
   ],
   "source": [
    "plot_confusion_matrix(LR, X_test_scaled, y_test);"
   ]
  },
  {
   "cell_type": "markdown",
   "id": "b0e35910",
   "metadata": {},
   "source": [
    "This model does not perform much better than the baseline."
   ]
  },
  {
   "cell_type": "code",
   "execution_count": 12,
   "id": "ca72077b",
   "metadata": {},
   "outputs": [],
   "source": [
    "c_range = [0.001, 0.1, 1, 10, 100]\n",
    "penalty = ['l2', 'l1']\n",
    "solver = ['liblinear']\n",
    "\n",
    "params_LR = {'C':c_range, 'penalty':penalty, 'solver':solver}"
   ]
  },
  {
   "cell_type": "code",
   "execution_count": 13,
   "id": "0fbdf8d4",
   "metadata": {},
   "outputs": [
    {
     "data": {
      "text/plain": [
       "GridSearchCV(cv=5, estimator=LogisticRegression(random_state=0), n_jobs=-1,\n",
       "             param_grid={'C': [0.001, 0.1, 1, 10, 100], 'penalty': ['l2', 'l1'],\n",
       "                         'solver': ['liblinear']},\n",
       "             refit='accuracy', scoring=['accuracy', 'roc_auc', 'neg_log_loss'])"
      ]
     },
     "execution_count": 13,
     "metadata": {},
     "output_type": "execute_result"
    }
   ],
   "source": [
    "scoring= ['accuracy', 'roc_auc', 'neg_log_loss']\n",
    "\n",
    "gridcv_LR = GridSearchCV(LR, param_grid=params_LR, cv=5, scoring=scoring, refit='accuracy', n_jobs=-1)\n",
    "gridcv_LR.fit(X_train, y_train)"
   ]
  },
  {
   "cell_type": "code",
   "execution_count": 14,
   "id": "cb3d4408",
   "metadata": {},
   "outputs": [
    {
     "data": {
      "text/plain": [
       "(LogisticRegression(C=10, penalty='l1', random_state=0, solver='liblinear'),\n",
       " {'C': 10, 'penalty': 'l1', 'solver': 'liblinear'},\n",
       " 0.7761789480435093)"
      ]
     },
     "execution_count": 14,
     "metadata": {},
     "output_type": "execute_result"
    }
   ],
   "source": [
    "gridcv_LR.best_estimator_, gridcv_LR.best_params_, gridcv_LR.best_score_"
   ]
  },
  {
   "cell_type": "markdown",
   "id": "f7120381",
   "metadata": {},
   "source": [
    "# II. Random Forest Classifier"
   ]
  },
  {
   "cell_type": "code",
   "execution_count": 15,
   "id": "581943e3",
   "metadata": {},
   "outputs": [
    {
     "name": "stdout",
     "output_type": "stream",
     "text": [
      "              precision    recall  f1-score   support\n",
      "\n",
      "           0       0.81      0.90      0.85      3527\n",
      "           1       0.56      0.37      0.45      1200\n",
      "\n",
      "    accuracy                           0.77      4727\n",
      "   macro avg       0.69      0.64      0.65      4727\n",
      "weighted avg       0.75      0.77      0.75      4727\n",
      "\n"
     ]
    }
   ],
   "source": [
    "RF = RandomForestClassifier(random_state=0)\n",
    "\n",
    "RF.fit(X_train_scaled, y_train)\n",
    "y_pred = RF.predict(X_test_scaled)\n",
    "\n",
    "print(classification_report(y_test, y_pred))"
   ]
  },
  {
   "cell_type": "code",
   "execution_count": 17,
   "id": "ab210a5f",
   "metadata": {},
   "outputs": [
    {
     "data": {
      "image/png": "[encoded data removed]",
      "text/plain": [
       "<Figure size 432x288 with 2 Axes>"
      ]
     },
     "metadata": {
      "needs_background": "light"
     },
     "output_type": "display_data"
    }
   ],
   "source": [
    "plot_confusion_matrix(RF, X_test_scaled, y_test);"
   ]
  },
  {
   "cell_type": "markdown",
   "id": "f4dfd783",
   "metadata": {},
   "source": [
    "# III. Gradient Boost Classifier"
   ]
  },
  {
   "cell_type": "code",
   "execution_count": 18,
   "id": "49a45e1a",
   "metadata": {},
   "outputs": [
    {
     "name": "stdout",
     "output_type": "stream",
     "text": [
      "              precision    recall  f1-score   support\n",
      "\n",
      "           0       0.82      0.90      0.86      3527\n",
      "           1       0.58      0.42      0.49      1200\n",
      "\n",
      "    accuracy                           0.78      4727\n",
      "   macro avg       0.70      0.66      0.67      4727\n",
      "weighted avg       0.76      0.78      0.76      4727\n",
      "\n"
     ]
    }
   ],
   "source": [
    "GB = GradientBoostingClassifier(random_state=0)\n",
    "\n",
    "GB.fit(X_train_scaled, y_train)\n",
    "y_pred = GB.predict(X_test_scaled)\n",
    "\n",
    "print(classification_report(y_test, y_pred))"
   ]
  },
  {
   "cell_type": "code",
   "execution_count": 19,
   "id": "a1ceea81",
   "metadata": {},
   "outputs": [
    {
     "data": {
      "image/png": "[encoded data removed]",
      "text/plain": [
       "<Figure size 432x288 with 2 Axes>"
      ]
     },
     "metadata": {
      "needs_background": "light"
     },
     "output_type": "display_data"
    }
   ],
   "source": [
    "plot_confusion_matrix(GB, X_test_scaled, y_test);"
   ]
  },
  {
   "cell_type": "markdown",
   "id": "571d4025",
   "metadata": {},
   "source": [
    "# IV. XGBoost Model"
   ]
  },
  {
   "cell_type": "code",
   "execution_count": 29,
   "id": "49eacb19",
   "metadata": {},
   "outputs": [
    {
     "name": "stderr",
     "output_type": "stream",
     "text": [
      "C:\\Users\\divzu\\anaconda3\\lib\\site-packages\\xgboost\\sklearn.py:1224: UserWarning: The use of label encoder in XGBClassifier is deprecated and will be removed in a future release. To remove this warning, do the following: 1) Pass option use_label_encoder=False when constructing XGBClassifier object; and 2) Encode your labels (y) as integers starting with 0, i.e. 0, 1, 2, ..., [num_class - 1].\n",
      "  warnings.warn(label_encoder_deprecation_msg, UserWarning)\n"
     ]
    },
    {
     "name": "stdout",
     "output_type": "stream",
     "text": [
      "[20:16:21] WARNING: ..\\src\\learner.cc:1115: Starting in XGBoost 1.3.0, the default evaluation metric used with the objective 'binary:logistic' was changed from 'error' to 'logloss'. Explicitly set eval_metric if you'd like to restore the old behavior.\n",
      "              precision    recall  f1-score   support\n",
      "\n",
      "           0       0.81      0.90      0.85      3527\n",
      "           1       0.57      0.39      0.46      1200\n",
      "\n",
      "    accuracy                           0.77      4727\n",
      "   macro avg       0.69      0.64      0.66      4727\n",
      "weighted avg       0.75      0.77      0.75      4727\n",
      "\n"
     ]
    }
   ],
   "source": [
    "XGB = xgb.XGBClassifier(objective='binary:logistic', random_state=0)\n",
    "\n",
    "XGB.fit(X_train_scaled, y_train)\n",
    "y_pred = XGB.predict(X_test_scaled)\n",
    "\n",
    "print(classification_report(y_test, y_pred))"
   ]
  },
  {
   "cell_type": "code",
   "execution_count": 30,
   "id": "deb740f2",
   "metadata": {},
   "outputs": [
    {
     "data": {
      "image/png": "[encoded data removed]",
      "text/plain": [
       "<Figure size 432x288 with 2 Axes>"
      ]
     },
     "metadata": {
      "needs_background": "light"
     },
     "output_type": "display_data"
    }
   ],
   "source": [
    "plot_confusion_matrix(XGB, X_test_scaled, y_test);"
   ]
  }
 ],
 "metadata": {
  "kernelspec": {
   "display_name": "Python 3 (ipykernel)",
   "language": "python",
   "name": "python3"
  },
  "language_info": {
   "codemirror_mode": {
    "name": "ipython",
    "version": 3
   },
   "file_extension": ".py",
   "mimetype": "text/x-python",
   "name": "python",
   "nbconvert_exporter": "python",
   "pygments_lexer": "ipython3",
   "version": "3.8.12"
  }
 },
 "nbformat": 4,
 "nbformat_minor": 5
}
